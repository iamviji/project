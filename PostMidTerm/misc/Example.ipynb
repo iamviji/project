{
  "nbformat": 4,
  "nbformat_minor": 0,
  "metadata": {
    "colab": {
      "name": "Example.ipynb",
      "provenance": [],
      "collapsed_sections": [],
      "authorship_tag": "ABX9TyMfg+M7CZ29Q2PJqJ0E1HN3",
      "include_colab_link": true
    },
    "kernelspec": {
      "name": "python3",
      "display_name": "Python 3"
    }
  },
  "cells": [
    {
      "cell_type": "markdown",
      "metadata": {
        "id": "view-in-github",
        "colab_type": "text"
      },
      "source": [
        "<a href=\"https://colab.research.google.com/github/iamviji/project/blob/master/PostMidTerm/misc/Example.ipynb\" target=\"_parent\"><img src=\"https://colab.research.google.com/assets/colab-badge.svg\" alt=\"Open In Colab\"/></a>"
      ]
    },
    {
      "cell_type": "code",
      "metadata": {
        "colab": {
          "base_uri": "https://localhost:8080/"
        },
        "id": "nwbRwA-AJoBg",
        "outputId": "3913f92f-0c09-41a5-830e-61dc87f9beb6"
      },
      "source": [
        "#import Example\r\n",
        "!rm -rf project\r\n",
        "!git clone https://github.com/iamviji/project.git\r\n",
        "\r\n"
      ],
      "execution_count": 7,
      "outputs": [
        {
          "output_type": "stream",
          "text": [
            "Cloning into 'project'...\n",
            "remote: Enumerating objects: 275, done.\u001b[K\n",
            "remote: Counting objects: 100% (275/275), done.\u001b[K\n",
            "remote: Compressing objects: 100% (267/267), done.\u001b[K\n",
            "remote: Total 787 (delta 168), reused 10 (delta 6), pack-reused 512\u001b[K\n",
            "Receiving objects: 100% (787/787), 74.17 MiB | 24.18 MiB/s, done.\n",
            "Resolving deltas: 100% (426/426), done.\n"
          ],
          "name": "stdout"
        }
      ]
    },
    {
      "cell_type": "code",
      "metadata": {
        "colab": {
          "base_uri": "https://localhost:8080/"
        },
        "id": "YcdQ6EjjJ79j",
        "outputId": "0205b4b9-5c7c-431b-9099-8603c7783573"
      },
      "source": [
        "import sys\r\n",
        "sys.path.insert(1, 'project')\r\n",
        "import util\r\n",
        "#!cd project; ls -l\r\n",
        "a = 10\r\n",
        "util.Hello(a)"
      ],
      "execution_count": 6,
      "outputs": [
        {
          "output_type": "stream",
          "text": [
            "Utility 10\n"
          ],
          "name": "stdout"
        }
      ]
    }
  ]
}