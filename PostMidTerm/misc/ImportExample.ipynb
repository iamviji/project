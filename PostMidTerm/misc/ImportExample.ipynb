{
  "nbformat": 4,
  "nbformat_minor": 0,
  "metadata": {
    "colab": {
      "name": "ImportExample.ipynb",
      "provenance": [],
      "authorship_tag": "ABX9TyPjp5pAl4h7xroapjuDD085",
      "include_colab_link": true
    },
    "kernelspec": {
      "name": "python3",
      "display_name": "Python 3"
    }
  },
  "cells": [
    {
      "cell_type": "markdown",
      "metadata": {
        "id": "view-in-github",
        "colab_type": "text"
      },
      "source": [
        "<a href=\"https://colab.research.google.com/github/iamviji/project/blob/master/PostMidTerm/misc/ImportExample.ipynb\" target=\"_parent\"><img src=\"https://colab.research.google.com/assets/colab-badge.svg\" alt=\"Open In Colab\"/></a>"
      ]
    },
    {
      "cell_type": "code",
      "metadata": {
        "colab": {
          "base_uri": "https://localhost:8080/"
        },
        "id": "2cdkTSrRrwDC",
        "outputId": "47d7cc31-ed82-45d7-cc1c-6e0a86320f48"
      },
      "source": [
        "!rm -rf project\r\n",
        "!git clone https://github.com/iamviji/project.git\r\n"
      ],
      "execution_count": 6,
      "outputs": [
        {
          "output_type": "stream",
          "text": [
            "Cloning into 'project'...\n",
            "remote: Enumerating objects: 188, done.\u001b[K\n",
            "remote: Counting objects: 100% (188/188), done.\u001b[K\n",
            "remote: Compressing objects: 100% (183/183), done.\u001b[K\n",
            "remote: Total 1010 (delta 106), reused 11 (delta 5), pack-reused 822\u001b[K\n",
            "Receiving objects: 100% (1010/1010), 91.21 MiB | 29.19 MiB/s, done.\n",
            "Resolving deltas: 100% (558/558), done.\n"
          ],
          "name": "stdout"
        }
      ]
    },
    {
      "cell_type": "code",
      "metadata": {
        "colab": {
          "base_uri": "https://localhost:8080/"
        },
        "id": "NNo8HyNete-H",
        "outputId": "f6f5ed88-3862-44b6-e33a-30d32e841067"
      },
      "source": [
        "import sys\r\n",
        "sys.path.append('./project')\r\n",
        "import util\r\n",
        "import imp\r\n",
        "imp.reload(util)\r\n"
      ],
      "execution_count": 10,
      "outputs": [
        {
          "output_type": "execute_result",
          "data": {
            "text/plain": [
              "<module 'util' from './project/util.py'>"
            ]
          },
          "metadata": {
            "tags": []
          },
          "execution_count": 10
        }
      ]
    },
    {
      "cell_type": "code",
      "metadata": {
        "colab": {
          "base_uri": "https://localhost:8080/"
        },
        "id": "DNoo-cyMtktN",
        "outputId": "d34fa657-8d79-4c11-b052-ae1e42e374af"
      },
      "source": [
        "util.Hello (100)\r\n",
        "!cat project/util.py"
      ],
      "execution_count": 11,
      "outputs": [
        {
          "output_type": "stream",
          "text": [
            "Utility1 100\n",
            "def Hello(arg):\n",
            "    print (\"Utility1\", arg)\n",
            "\n",
            "def get_onehot_ber_bler_of_model (snr_list, encoder, decoder, input_onehot, input_size, channel_size, verbose=1):\n",
            "    print (\"get_onehot_ber_bler_of_model\")\n",
            "    bler_per_iter_dl_tensor  = numpy.array(())\n",
            "    encoded_message = encoder.predict (input_onehot)\n",
            "    for snr in snr_list:\n",
            "        total_bit_error = 0\n",
            "        total_msg_error = 0\n",
            "        sigma = ConvSnr2Sigma (snr)\n",
            "        noised_message = encoded_message + numpy.random.normal(0, sigma, encoded_message.shape)\n",
            "        for i in range (input_size):\n",
            "            noised_message[i] = encoded_message[i] + numpy.random.normal(0, sigma, [1,2*channel_size])\n",
            "        decoded_message = decoder.predict(noised_message)\n",
            "        for i in range (input_size):\n",
            "            if (numpy.argmax(input_onehot[i]) != numpy.argmax(decoded_message[i])):\n",
            "                total_msg_error = total_msg_error + 1\n",
            "        bler = float(total_msg_error)/input_size\n",
            "        print('SNR: {:04.3f}:\\n -> BER: {:03.2f}'.format(snr,bler))\n",
            "        bler_per_iter_dl_tensor = numpy.append(bler_per_iter_dl_tensor, bler)\n",
            "    return bler_per_iter_dl_tensor\n",
            "\n",
            "def get1_onehot_ber_bler_of_model (snr_list, encoder, decoder, input_onehot, input_size, channel_size, verbose=1):\n",
            "    print (\"get_onehot_ber_bler_of_model\")\n",
            "    bler_per_iter_dl_tensor  = numpy.array(())\n",
            "    encoded_message = encoder.predict (input_onehot)\n",
            "    for snr in snr_list:\n",
            "        total_bit_error = 0\n",
            "        total_msg_error = 0\n",
            "        sigma = ConvSnr2Sigma (snr)\n",
            "        noised_message = encoded_message + numpy.random.normal(0, sigma, encoded_message.shape)\n",
            "        for i in range (input_size):\n",
            "            noised_message[i] = encoded_message[i] + numpy.random.normal(0, sigma, [1,2*channel_size])\n",
            "        decoded_message = decoder.predict(noised_message)\n",
            "        for i in range (input_size):\n",
            "            if (numpy.argmax(input_onehot[i]) != numpy.argmax(decoded_message[i])):\n",
            "                total_msg_error = total_msg_error + 1\n",
            "        bler = float(total_msg_error)/input_size\n",
            "        print('SNR: {:04.3f}:\\n -> BER: {:03.2f}'.format(snr,bler))\n",
            "        bler_per_iter_dl_tensor = numpy.append(bler_per_iter_dl_tensor, bler)\n",
            "    return bler_per_iter_dl_tensor\n"
          ],
          "name": "stdout"
        }
      ]
    }
  ]
}