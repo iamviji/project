{
  "nbformat": 4,
  "nbformat_minor": 0,
  "metadata": {
    "colab": {
      "name": "TensorFlowBasic.ipynb",
      "provenance": [],
      "collapsed_sections": [],
      "include_colab_link": true
    },
    "kernelspec": {
      "name": "python3",
      "display_name": "Python 3"
    }
  },
  "cells": [
    {
      "cell_type": "markdown",
      "metadata": {
        "id": "view-in-github",
        "colab_type": "text"
      },
      "source": [
        "<a href=\"https://colab.research.google.com/github/iamviji/project/blob/master/PostMidTerm/TensorFlowBasic.ipynb\" target=\"_parent\"><img src=\"https://colab.research.google.com/assets/colab-badge.svg\" alt=\"Open In Colab\"/></a>"
      ]
    },
    {
      "cell_type": "code",
      "metadata": {
        "colab": {
          "base_uri": "https://localhost:8080/"
        },
        "id": "wUa7spj2eIa-",
        "outputId": "6db9e1ff-2c54-4c7f-978f-29b68d27bf6f"
      },
      "source": [
        "# importing the library \n",
        "import tensorflow as tf \n",
        "  \n",
        "# Initializing the input tensor \n",
        "a = tf.constant([[1, 2], [3, 4]], dtype = tf.float64) \n",
        "  \n",
        "# Printing the input tensor \n",
        "print('Input: ', a) \n",
        "  \n",
        "# Calculating result \n",
        "res = tf.math.reduce_mean(a, axis = 1) \n",
        "# Printing the result \n",
        "print('Result: ', res) \n",
        "\n",
        "# Calculating result \n",
        "res = tf.math.reduce_mean(a, axis = 0) \n",
        "# Printing the result \n",
        "print('Result: ', res) \n",
        "\n",
        "\n",
        "# Calculating result \n",
        "res = tf.math.reduce_mean(a) \n",
        "# Printing the result \n",
        "print('Result: ', res) "
      ],
      "execution_count": null,
      "outputs": [
        {
          "output_type": "stream",
          "text": [
            "Input:  Tensor(\"Const_3:0\", shape=(2, 2), dtype=float64)\n",
            "Result:  Tensor(\"Mean:0\", shape=(2,), dtype=float64)\n",
            "Result:  Tensor(\"Mean_1:0\", shape=(2,), dtype=float64)\n",
            "Result:  Tensor(\"Mean_2:0\", shape=(), dtype=float64)\n"
          ],
          "name": "stdout"
        }
      ]
    },
    {
      "cell_type": "code",
      "metadata": {
        "colab": {
          "base_uri": "https://localhost:8080/"
        },
        "id": "blHz7SwWkhe4",
        "outputId": "e85870b8-187c-48a2-e9a7-553c11cdae22"
      },
      "source": [
        "# importing the library \n",
        "import tensorflow as tf \n",
        "  \n",
        "# Initializing the input tensor \n",
        "a = tf.constant([[1, 2], [3, 4]], dtype = tf.float64) \n",
        "  \n",
        "# Printing the input tensor \n",
        "print('Input: ', a) \n",
        "  \n",
        "# Calculating result \n",
        "res = tf.math.reduce_sum(a, axis = 1) \n",
        "# Printing the result \n",
        "print('Result: ', res) \n",
        "# Calculating result \n",
        "res = tf.math.reduce_sum(a, axis = 0) \n",
        "# Printing the result \n",
        "print('Result: ', res) \n",
        "# Calculating result \n",
        "res = tf.math.reduce_sum(a) \n",
        "# Printing the result \n",
        "print('Result: ', res) "
      ],
      "execution_count": null,
      "outputs": [
        {
          "output_type": "stream",
          "text": [
            "Input:  Tensor(\"Const_5:0\", shape=(2, 2), dtype=float64)\n",
            "Result:  Tensor(\"Sum_2:0\", shape=(2,), dtype=float64)\n",
            "Result:  Tensor(\"Sum_3:0\", shape=(2,), dtype=float64)\n",
            "Result:  Tensor(\"Sum_4:0\", shape=(), dtype=float64)\n"
          ],
          "name": "stdout"
        }
      ]
    },
    {
      "cell_type": "code",
      "metadata": {
        "colab": {
          "base_uri": "https://localhost:8080/"
        },
        "id": "jlsbvXJf2NB3",
        "outputId": "10472905-83ed-4c0f-81c9-850555ccbf04"
      },
      "source": [
        "from keras import backend as K\r\n",
        "import numpy\r\n",
        "print(K.l2_normalize(a,axis=1))\r\n",
        "print (1/numpy.sqrt(5))"
      ],
      "execution_count": null,
      "outputs": [
        {
          "output_type": "stream",
          "text": [
            "tf.Tensor(\n",
            "[[0.4472136  0.89442719]\n",
            " [0.6        0.8       ]], shape=(2, 2), dtype=float64)\n",
            "0.4472135954999579\n"
          ],
          "name": "stdout"
        }
      ]
    },
    {
      "cell_type": "code",
      "metadata": {
        "colab": {
          "base_uri": "https://localhost:8080/",
          "height": 282
        },
        "id": "3sRFrWfIqeJL",
        "outputId": "6afb0a30-0c41-4e6e-f33d-f67d1196bcec"
      },
      "source": [
        "# importing the library \r\n",
        "import tensorflow as tf \r\n",
        "  \r\n",
        "a = tf.constant([[1, 2], [3, 4]], dtype = tf.float64) \r\n",
        "print('Input: ', a) \r\n",
        "\r\n",
        "res = tf.square(a)\r\n",
        "print('tf.square(a): ', res) \r\n",
        "\r\n",
        "res = tf.reduce_sum (res)\r\n",
        "print('tf.reduce_sum(a): ', res) \r\n",
        "\r\n",
        "res = tf.sqrt (res)\r\n",
        "print('tf.sqrt: ', res) \r\n",
        "#x  = tf.math.reciprocal (res)*tf.sqrt(2)\r\n",
        "res1 = tf.expand_dims(x, 1)\r\n",
        "print(\"res1\", res1)"
      ],
      "execution_count": null,
      "outputs": [
        {
          "output_type": "stream",
          "text": [
            "Input:  Tensor(\"Const_7:0\", shape=(2, 2), dtype=float64)\n",
            "tf.square(a):  Tensor(\"Square:0\", shape=(2, 2), dtype=float64)\n",
            "tf.reduce_sum(a):  Tensor(\"Sum_5:0\", shape=(), dtype=float64)\n",
            "tf.sqrt:  Tensor(\"Sqrt:0\", shape=(), dtype=float64)\n"
          ],
          "name": "stdout"
        },
        {
          "output_type": "error",
          "ename": "NameError",
          "evalue": "ignored",
          "traceback": [
            "\u001b[0;31m---------------------------------------------------------------------------\u001b[0m",
            "\u001b[0;31mNameError\u001b[0m                                 Traceback (most recent call last)",
            "\u001b[0;32m<ipython-input-9-de3220ce66b6>\u001b[0m in \u001b[0;36m<module>\u001b[0;34m()\u001b[0m\n\u001b[1;32m     14\u001b[0m \u001b[0mprint\u001b[0m\u001b[0;34m(\u001b[0m\u001b[0;34m'tf.sqrt: '\u001b[0m\u001b[0;34m,\u001b[0m \u001b[0mres\u001b[0m\u001b[0;34m)\u001b[0m\u001b[0;34m\u001b[0m\u001b[0;34m\u001b[0m\u001b[0m\n\u001b[1;32m     15\u001b[0m \u001b[0;31m#x  = tf.math.reciprocal (res)*tf.sqrt(2)\u001b[0m\u001b[0;34m\u001b[0m\u001b[0;34m\u001b[0m\u001b[0;34m\u001b[0m\u001b[0m\n\u001b[0;32m---> 16\u001b[0;31m \u001b[0mres1\u001b[0m \u001b[0;34m=\u001b[0m \u001b[0mtf\u001b[0m\u001b[0;34m.\u001b[0m\u001b[0mexpand_dims\u001b[0m\u001b[0;34m(\u001b[0m\u001b[0mx\u001b[0m\u001b[0;34m,\u001b[0m \u001b[0;36m1\u001b[0m\u001b[0;34m)\u001b[0m\u001b[0;34m\u001b[0m\u001b[0;34m\u001b[0m\u001b[0m\n\u001b[0m\u001b[1;32m     17\u001b[0m \u001b[0mprint\u001b[0m\u001b[0;34m(\u001b[0m\u001b[0;34m\"res1\"\u001b[0m\u001b[0;34m,\u001b[0m \u001b[0mres1\u001b[0m\u001b[0;34m)\u001b[0m\u001b[0;34m\u001b[0m\u001b[0;34m\u001b[0m\u001b[0m\n",
            "\u001b[0;31mNameError\u001b[0m: name 'x' is not defined"
          ]
        }
      ]
    },
    {
      "cell_type": "code",
      "metadata": {
        "id": "7drlvyI03pNW",
        "colab": {
          "base_uri": "https://localhost:8080/"
        },
        "outputId": "6fa98c4f-5f53-49b2-9f75-0e849d30a7c2"
      },
      "source": [
        " \r\n",
        "a = tf.constant([[1, 2], [3, 4]], dtype = tf.float64) \r\n",
        "print('Input: ', a)\r\n",
        "print (tf.reduce_sum(tf.square(a), axis=1)) \r\n",
        "x = tf.sqrt(tf.reduce_sum(tf.square(a), axis=1))\r\n",
        "print (\"xxx\")\r\n",
        "print (x)\r\n",
        "x = tf.reshape (x, (-1,1))\r\n",
        "print (\"xxx1\")\r\n",
        "print (x)\r\n",
        "print (\"xxx2\")\r\n",
        "print(a / x)\r\n"
      ],
      "execution_count": null,
      "outputs": [
        {
          "output_type": "stream",
          "text": [
            "Input:  Tensor(\"Const_9:0\", shape=(2, 2), dtype=float64)\n",
            "Tensor(\"Sum_6:0\", shape=(2,), dtype=float64)\n",
            "xxx\n",
            "Tensor(\"Sqrt_1:0\", shape=(2,), dtype=float64)\n",
            "xxx1\n",
            "Tensor(\"Reshape:0\", shape=(2, 1), dtype=float64)\n",
            "xxx2\n",
            "Tensor(\"truediv:0\", shape=(2, 2), dtype=float64)\n"
          ],
          "name": "stdout"
        }
      ]
    },
    {
      "cell_type": "code",
      "metadata": {
        "id": "sOCLgeUtWSRe",
        "colab": {
          "base_uri": "https://localhost:8080/"
        },
        "outputId": "eb820676-da56-4a12-9ac9-1a888b5669f1"
      },
      "source": [
        "a = tf.constant([[1, 0, 1], [0, 1, 0]], dtype = tf.float64) \r\n",
        "b = tf.constant([[0, 1, 1], [1, 0, 1]], dtype = tf.float64) \r\n",
        "print('Input: ', a-b)\r\n",
        "print(tf.reduce_sum(tf.square(a-b), axis=1))\r\n",
        "print (tf.reduce_mean(tf.sqrt(tf.reduce_sum(tf.square(a-b), axis=1)))) \r\n",
        "#x = tf.sqrt(tf.reduce_sum(tf.square(a), axis=1))\r\n",
        "##print (\"xxx\")\r\n",
        "#print(x)"
      ],
      "execution_count": null,
      "outputs": [
        {
          "output_type": "stream",
          "text": [
            "Input:  Tensor(\"sub:0\", shape=(2, 3), dtype=float64)\n",
            "Tensor(\"Sum_8:0\", shape=(2,), dtype=float64)\n",
            "Tensor(\"Mean_3:0\", shape=(), dtype=float64)\n"
          ],
          "name": "stdout"
        }
      ]
    },
    {
      "cell_type": "code",
      "metadata": {
        "colab": {
          "base_uri": "https://localhost:8080/"
        },
        "id": "Mgr-yx4W4fDv",
        "outputId": "854b165e-31c6-47ec-e7f5-d600970e4eca"
      },
      "source": [
        "import tensorflow.compat.v1 as tf\r\n",
        "tf.disable_v2_behavior ()\r\n",
        "\r\n",
        "binary_string = tf.constant([1, 0, 0])\r\n",
        "\r\n",
        "result = tf.reduce_sum(\r\n",
        "    tf.cast(tf.reverse(tensor=binary_string, axis=[0]), dtype=tf.int64)\r\n",
        "    * 2 ** tf.range(tf.cast(tf.size(binary_string), dtype=tf.int64)))\r\n",
        "\r\n",
        "with tf.Session():\r\n",
        "    print(result.eval())"
      ],
      "execution_count": null,
      "outputs": [
        {
          "output_type": "stream",
          "text": [
            "4\n"
          ],
          "name": "stdout"
        }
      ]
    },
    {
      "cell_type": "code",
      "metadata": {
        "colab": {
          "base_uri": "https://localhost:8080/"
        },
        "id": "6cHyxcSN7KHP",
        "outputId": "e50ee565-be4c-447f-b788-7a16c8fbce79"
      },
      "source": [
        "binary_string = numpy.random.randint(2, size=(1,100))\r\n",
        "import tensorflow.compat.v1 as tf\r\n",
        "tf.disable_v2_behavior ()\r\n",
        "\r\n",
        "\r\n",
        "\r\n",
        "result = tf.reduce_sum(\r\n",
        "    tf.cast(tf.reverse(tensor=binary_string, axis=[0]), dtype=tf.int64)\r\n",
        "    * 2 ** tf.range(tf.cast(tf.size(binary_string), dtype=tf.int64)))\r\n",
        "\r\n",
        "with tf.Session():\r\n",
        "    print(result.eval())"
      ],
      "execution_count": null,
      "outputs": [
        {
          "output_type": "stream",
          "text": [
            "5012952667607683667\n"
          ],
          "name": "stdout"
        }
      ]
    },
    {
      "cell_type": "code",
      "metadata": {
        "colab": {
          "base_uri": "https://localhost:8080/"
        },
        "id": "KJiTaGXQaZnF",
        "outputId": "2ae3c470-a85d-4033-bbec-ebd53e16ecf2"
      },
      "source": [
        "def GetBerBler (input_message_binary1, input_message_binary2):\r\n",
        "  diff = abs(input_message_binary1 - input_message_binary2)\r\n",
        "  field_sum = np.sum (diff, axis=1)\r\n",
        "  field_sum = np.reshape (field_sum, (-1,1))\r\n",
        "  ber = np.sum(field_sum)/(input_message_binary1.shape[0]*input_message_binary1.shape[1])\r\n",
        "  field_non_zero_count = np.count_nonzero(field_sum != 0, axis=1)\r\n",
        "  bler = np.sum(field_non_zero_count)/field_non_zero_count.shape[0]\r\n",
        "  return ber, bler\r\n",
        "import numpy as np\r\n",
        "x = np.array([[1,0,0],[1,1,1], [0,1,0]])\r\n",
        "y = np.array([[1,1,0],[1,1,1], [0,0,1]])\r\n",
        "print (GetBerBler(x,y))\r\n",
        "inx = x\r\n",
        "print (x)\r\n",
        "x =np.sum (x, axis=1)\r\n",
        "x = np.reshape (x, (-1,1))\r\n",
        "print (x)\r\n",
        "ber = np.sum(x)/(inx.shape[0]*inx.shape[1])\r\n",
        "print (\"ber:\",ber)\r\n",
        "y = np.count_nonzero(x != 0, axis=1)\r\n",
        "bler = np.sum(y)/y.shape[0]\r\n",
        "#y = np.reshape (y, (-1,1))\r\n",
        "print (y)\r\n",
        "print (\"bler:\",bler)\r\n",
        "\r\n",
        "\r\n"
      ],
      "execution_count": 134,
      "outputs": [
        {
          "output_type": "stream",
          "text": [
            "(0.3333333333333333, 0.6666666666666666)\n",
            "[[1 0 0]\n",
            " [1 1 1]\n",
            " [0 1 0]]\n",
            "[[1]\n",
            " [3]\n",
            " [1]]\n",
            "ber: 0.5555555555555556\n",
            "[1 1 1]\n",
            "bler: 1.0\n"
          ],
          "name": "stdout"
        }
      ]
    },
    {
      "cell_type": "code",
      "metadata": {
        "id": "UYBaAW16eVXN"
      },
      "source": [
        "import numpy as np\r\n",
        "xx = [0,1,2]\r\n",
        "x = np.array([[1,0,0],[0,1,0], [0,0,1]])\r\n"
      ],
      "execution_count": 53,
      "outputs": []
    },
    {
      "cell_type": "code",
      "metadata": {
        "colab": {
          "base_uri": "https://localhost:8080/"
        },
        "id": "ZQlPhh6mf_g8",
        "outputId": "177f2f42-2541-46b5-cbc3-ab4b391d5d61"
      },
      "source": [
        "import numpy\r\n",
        "input_message_length = 4\r\n",
        "training_input_message = numpy.random.randint(2**input_message_length, size=(1,5))\r\n",
        "training_input_message_one_hot = numpy.zeros((training_input_message.size, 2**input_message_length))\r\n",
        "print (numpy.arange(training_input_message.size))\r\n",
        "training_input_message_one_hot[numpy.arange(training_input_message.size),training_input_message] = 1\r\n",
        "print (training_input_message)\r\n",
        "print (training_input_message_one_hot)"
      ],
      "execution_count": 85,
      "outputs": [
        {
          "output_type": "stream",
          "text": [
            "[0 1 2 3 4]\n",
            "[[ 8  8 13  4  0]]\n",
            "[[0. 0. 0. 0. 0. 0. 0. 0. 1. 0. 0. 0. 0. 0. 0. 0.]\n",
            " [0. 0. 0. 0. 0. 0. 0. 0. 1. 0. 0. 0. 0. 0. 0. 0.]\n",
            " [0. 0. 0. 0. 0. 0. 0. 0. 0. 0. 0. 0. 0. 1. 0. 0.]\n",
            " [0. 0. 0. 0. 1. 0. 0. 0. 0. 0. 0. 0. 0. 0. 0. 0.]\n",
            " [1. 0. 0. 0. 0. 0. 0. 0. 0. 0. 0. 0. 0. 0. 0. 0.]]\n"
          ],
          "name": "stdout"
        }
      ]
    },
    {
      "cell_type": "code",
      "metadata": {
        "colab": {
          "base_uri": "https://localhost:8080/",
          "height": 180
        },
        "id": "_hZ2DbpMhuPQ",
        "outputId": "8c6c108d-a98b-4bf0-a84e-ffba2f47c591"
      },
      "source": [
        "y = [2,4]\r\n",
        "[int(x) for x in list('{0:0b}'.format(102))]"
      ],
      "execution_count": 74,
      "outputs": [
        {
          "output_type": "error",
          "ename": "TypeError",
          "evalue": "ignored",
          "traceback": [
            "\u001b[0;31m---------------------------------------------------------------------------\u001b[0m",
            "\u001b[0;31mTypeError\u001b[0m                                 Traceback (most recent call last)",
            "\u001b[0;32m<ipython-input-74-26544a22dc2d>\u001b[0m in \u001b[0;36m<module>\u001b[0;34m()\u001b[0m\n\u001b[1;32m      1\u001b[0m \u001b[0my\u001b[0m \u001b[0;34m=\u001b[0m \u001b[0;34m[\u001b[0m\u001b[0;36m2\u001b[0m\u001b[0;34m,\u001b[0m\u001b[0;36m4\u001b[0m\u001b[0;34m]\u001b[0m\u001b[0;34m\u001b[0m\u001b[0;34m\u001b[0m\u001b[0m\n\u001b[0;32m----> 2\u001b[0;31m \u001b[0;34m[\u001b[0m\u001b[0mint\u001b[0m\u001b[0;34m(\u001b[0m\u001b[0mx\u001b[0m\u001b[0;34m)\u001b[0m \u001b[0;32mfor\u001b[0m \u001b[0mx\u001b[0m \u001b[0;32min\u001b[0m \u001b[0mlist\u001b[0m\u001b[0;34m(\u001b[0m\u001b[0;34m'{0:0b}'\u001b[0m\u001b[0;34m.\u001b[0m\u001b[0mformat\u001b[0m\u001b[0;34m(\u001b[0m\u001b[0my\u001b[0m\u001b[0;34m)\u001b[0m\u001b[0;34m)\u001b[0m\u001b[0;34m]\u001b[0m\u001b[0;34m\u001b[0m\u001b[0;34m\u001b[0m\u001b[0m\n\u001b[0m",
            "\u001b[0;31mTypeError\u001b[0m: unsupported format string passed to list.__format__"
          ]
        }
      ]
    },
    {
      "cell_type": "code",
      "metadata": {
        "colab": {
          "base_uri": "https://localhost:8080/",
          "height": 231
        },
        "id": "XySrup-ej0yq",
        "outputId": "bd9d9ce9-f7ad-4b0f-ac0a-32fbfaaf1557"
      },
      "source": [
        "\r\n",
        "inx = [1,2,3,4,5]\r\n",
        "xxx = [for i in range(len(inx)) for x in list('{0:0b}'.format(inx[i]))]\r\n",
        "Dnum = 10\r\n",
        "print (list('{0:0b}'.format(Dnum)))\r\n",
        "print ('{0:0b}'.format(Dnum))\r\n",
        "binnum = [int(i) for i in list('{0:0b}'.format(Dnum))]\r\n",
        "print (binnum)"
      ],
      "execution_count": 82,
      "outputs": [
        {
          "output_type": "error",
          "ename": "TypeError",
          "evalue": "ignored",
          "traceback": [
            "\u001b[0;31m---------------------------------------------------------------------------\u001b[0m",
            "\u001b[0;31mTypeError\u001b[0m                                 Traceback (most recent call last)",
            "\u001b[0;32m<ipython-input-82-a70b1690468d>\u001b[0m in \u001b[0;36m<module>\u001b[0;34m()\u001b[0m\n\u001b[1;32m      1\u001b[0m \u001b[0minx\u001b[0m \u001b[0;34m=\u001b[0m \u001b[0;34m[\u001b[0m\u001b[0;36m1\u001b[0m\u001b[0;34m,\u001b[0m\u001b[0;36m2\u001b[0m\u001b[0;34m,\u001b[0m\u001b[0;36m3\u001b[0m\u001b[0;34m,\u001b[0m\u001b[0;36m4\u001b[0m\u001b[0;34m,\u001b[0m\u001b[0;36m5\u001b[0m\u001b[0;34m]\u001b[0m\u001b[0;34m\u001b[0m\u001b[0;34m\u001b[0m\u001b[0m\n\u001b[1;32m      2\u001b[0m \u001b[0mDnum\u001b[0m \u001b[0;34m=\u001b[0m \u001b[0;36m10\u001b[0m\u001b[0;34m\u001b[0m\u001b[0;34m\u001b[0m\u001b[0m\n\u001b[0;32m----> 3\u001b[0;31m \u001b[0mprint\u001b[0m \u001b[0;34m(\u001b[0m\u001b[0mlist\u001b[0m\u001b[0;34m(\u001b[0m\u001b[0;34m'{0:0b}'\u001b[0m\u001b[0;34m.\u001b[0m\u001b[0mformat\u001b[0m\u001b[0;34m(\u001b[0m\u001b[0minx\u001b[0m\u001b[0;34m)\u001b[0m\u001b[0;34m)\u001b[0m\u001b[0;34m)\u001b[0m\u001b[0;34m\u001b[0m\u001b[0;34m\u001b[0m\u001b[0m\n\u001b[0m\u001b[1;32m      4\u001b[0m \u001b[0mprint\u001b[0m \u001b[0;34m(\u001b[0m\u001b[0;34m'{0:0b}'\u001b[0m\u001b[0;34m.\u001b[0m\u001b[0mformat\u001b[0m\u001b[0;34m(\u001b[0m\u001b[0mDnum\u001b[0m\u001b[0;34m)\u001b[0m\u001b[0;34m)\u001b[0m\u001b[0;34m\u001b[0m\u001b[0;34m\u001b[0m\u001b[0m\n\u001b[1;32m      5\u001b[0m \u001b[0mbinnum\u001b[0m \u001b[0;34m=\u001b[0m \u001b[0;34m[\u001b[0m\u001b[0mint\u001b[0m\u001b[0;34m(\u001b[0m\u001b[0mi\u001b[0m\u001b[0;34m)\u001b[0m \u001b[0;32mfor\u001b[0m \u001b[0mi\u001b[0m \u001b[0;32min\u001b[0m \u001b[0mlist\u001b[0m\u001b[0;34m(\u001b[0m\u001b[0;34m'{0:0b}'\u001b[0m\u001b[0;34m.\u001b[0m\u001b[0mformat\u001b[0m\u001b[0;34m(\u001b[0m\u001b[0mDnum\u001b[0m\u001b[0;34m)\u001b[0m\u001b[0;34m)\u001b[0m\u001b[0;34m]\u001b[0m\u001b[0;34m\u001b[0m\u001b[0;34m\u001b[0m\u001b[0m\n",
            "\u001b[0;31mTypeError\u001b[0m: unsupported format string passed to list.__format__"
          ]
        }
      ]
    },
    {
      "cell_type": "code",
      "metadata": {
        "colab": {
          "base_uri": "https://localhost:8080/"
        },
        "id": "JyFhFPmnpnnc",
        "outputId": "2de98f51-6015-4d67-a0b4-b09f1c0b3822"
      },
      "source": [
        "def conv_to_binary_from_decimal (decimal,input_message_size, input_message_length):\r\n",
        "  binary = numpy.random.randint(1, size=(input_message_size,input_message_length))\r\n",
        "  for i in range (input_message_size):\r\n",
        "    bin = [int(x) for x in list('{0:0b}'.format(decimal[0][i]))]\r\n",
        "    #print(bin)\r\n",
        "    for j in range (len(bin)):\r\n",
        "      offset = input_message_length - len(bin)\r\n",
        "      #print (\"x\",offset)\r\n",
        "      binary [i][j+offset] = bin [j]\r\n",
        "  return binary\r\n",
        "\r\n",
        "print (training_input_message)\r\n",
        "print (input_message)\r\n",
        "conv_to_binary_from_decimal (training_input_message,5,4)\r\n"
      ],
      "execution_count": 116,
      "outputs": [
        {
          "output_type": "stream",
          "text": [
            "[[ 8  8 13  4  0]]\n",
            "[[1 0 0 0]\n",
            " [1 0 0 0]\n",
            " [1 1 0 1]\n",
            " [0 1 0 0]\n",
            " [0 0 0 0]]\n",
            "[1, 0, 0, 0]\n",
            "x 0\n",
            "x 0\n",
            "x 0\n",
            "x 0\n",
            "[1, 0, 0, 0]\n",
            "x 0\n",
            "x 0\n",
            "x 0\n",
            "x 0\n",
            "[1, 1, 0, 1]\n",
            "x 0\n",
            "x 0\n",
            "x 0\n",
            "x 0\n",
            "[1, 0, 0]\n",
            "x 1\n",
            "x 1\n",
            "x 1\n",
            "[0]\n",
            "x 3\n"
          ],
          "name": "stdout"
        },
        {
          "output_type": "execute_result",
          "data": {
            "text/plain": [
              "array([[1, 0, 0, 0],\n",
              "       [1, 0, 0, 0],\n",
              "       [1, 1, 0, 1],\n",
              "       [0, 1, 0, 0],\n",
              "       [0, 0, 0, 0]])"
            ]
          },
          "metadata": {
            "tags": []
          },
          "execution_count": 116
        }
      ]
    }
  ]
}