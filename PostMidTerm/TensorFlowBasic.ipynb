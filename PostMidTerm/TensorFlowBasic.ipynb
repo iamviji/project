{
  "nbformat": 4,
  "nbformat_minor": 0,
  "metadata": {
    "colab": {
      "name": "TensorFlowBasic.ipynb",
      "provenance": [],
      "collapsed_sections": [],
      "authorship_tag": "ABX9TyN/yB3eRcIFyrxoawUgP1Et",
      "include_colab_link": true
    },
    "kernelspec": {
      "name": "python3",
      "display_name": "Python 3"
    }
  },
  "cells": [
    {
      "cell_type": "markdown",
      "metadata": {
        "id": "view-in-github",
        "colab_type": "text"
      },
      "source": [
        "<a href=\"https://colab.research.google.com/github/iamviji/project/blob/master/PostMidTerm/TensorFlowBasic.ipynb\" target=\"_parent\"><img src=\"https://colab.research.google.com/assets/colab-badge.svg\" alt=\"Open In Colab\"/></a>"
      ]
    },
    {
      "cell_type": "code",
      "metadata": {
        "colab": {
          "base_uri": "https://localhost:8080/"
        },
        "id": "wUa7spj2eIa-",
        "outputId": "5e6af596-06dd-4c1e-a3b0-eb2db38a95f8"
      },
      "source": [
        "# importing the library \n",
        "import tensorflow as tf \n",
        "  \n",
        "# Initializing the input tensor \n",
        "a = tf.constant([[1, 2], [3, 4]], dtype = tf.float64) \n",
        "  \n",
        "# Printing the input tensor \n",
        "print('Input: ', a) \n",
        "  \n",
        "# Calculating result \n",
        "res = tf.math.reduce_mean(a, axis = 1) \n",
        "# Printing the result \n",
        "print('Result: ', res) \n",
        "\n",
        "# Calculating result \n",
        "res = tf.math.reduce_mean(a, axis = 0) \n",
        "# Printing the result \n",
        "print('Result: ', res) \n",
        "\n",
        "\n",
        "# Calculating result \n",
        "res = tf.math.reduce_mean(a) \n",
        "# Printing the result \n",
        "print('Result: ', res) "
      ],
      "execution_count": null,
      "outputs": [
        {
          "output_type": "stream",
          "text": [
            "Input:  tf.Tensor(\n",
            "[[1. 2.]\n",
            " [3. 4.]], shape=(2, 2), dtype=float64)\n",
            "Result:  tf.Tensor([1.5 3.5], shape=(2,), dtype=float64)\n",
            "Result:  tf.Tensor([2. 3.], shape=(2,), dtype=float64)\n",
            "Result:  tf.Tensor(2.5, shape=(), dtype=float64)\n"
          ],
          "name": "stdout"
        }
      ]
    },
    {
      "cell_type": "code",
      "metadata": {
        "colab": {
          "base_uri": "https://localhost:8080/"
        },
        "id": "blHz7SwWkhe4",
        "outputId": "4f310f46-4399-49dc-f8f4-a998b319afcf"
      },
      "source": [
        "# importing the library \n",
        "import tensorflow as tf \n",
        "  \n",
        "# Initializing the input tensor \n",
        "a = tf.constant([[1, 2], [3, 4]], dtype = tf.float64) \n",
        "  \n",
        "# Printing the input tensor \n",
        "print('Input: ', a) \n",
        "  \n",
        "# Calculating result \n",
        "res = tf.math.reduce_sum(a, axis = 1) \n",
        "# Printing the result \n",
        "print('Result: ', res) \n",
        "# Calculating result \n",
        "res = tf.math.reduce_sum(a, axis = 0) \n",
        "# Printing the result \n",
        "print('Result: ', res) \n",
        "# Calculating result \n",
        "res = tf.math.reduce_sum(a) \n",
        "# Printing the result \n",
        "print('Result: ', res) "
      ],
      "execution_count": null,
      "outputs": [
        {
          "output_type": "stream",
          "text": [
            "Input:  tf.Tensor(\n",
            "[[1. 2.]\n",
            " [3. 4.]], shape=(2, 2), dtype=float64)\n",
            "Result:  tf.Tensor([3. 7.], shape=(2,), dtype=float64)\n",
            "Result:  tf.Tensor([4. 6.], shape=(2,), dtype=float64)\n",
            "Result:  tf.Tensor(10.0, shape=(), dtype=float64)\n"
          ],
          "name": "stdout"
        }
      ]
    },
    {
      "cell_type": "code",
      "metadata": {
        "colab": {
          "base_uri": "https://localhost:8080/"
        },
        "id": "jlsbvXJf2NB3",
        "outputId": "10472905-83ed-4c0f-81c9-850555ccbf04"
      },
      "source": [
        "from keras import backend as K\r\n",
        "import numpy\r\n",
        "print(K.l2_normalize(a,axis=1))\r\n",
        "print (1/numpy.sqrt(5))"
      ],
      "execution_count": null,
      "outputs": [
        {
          "output_type": "stream",
          "text": [
            "tf.Tensor(\n",
            "[[0.4472136  0.89442719]\n",
            " [0.6        0.8       ]], shape=(2, 2), dtype=float64)\n",
            "0.4472135954999579\n"
          ],
          "name": "stdout"
        }
      ]
    },
    {
      "cell_type": "code",
      "metadata": {
        "colab": {
          "base_uri": "https://localhost:8080/",
          "height": 371
        },
        "id": "3sRFrWfIqeJL",
        "outputId": "07595074-ad95-4cb6-dc1b-71c08adad238"
      },
      "source": [
        "# importing the library \r\n",
        "import tensorflow as tf \r\n",
        "  \r\n",
        "a = tf.constant([[1, 2], [3, 4]], dtype = tf.float64) \r\n",
        "print('Input: ', a) \r\n",
        "\r\n",
        "res = tf.square(a)\r\n",
        "print('tf.square(a): ', res) \r\n",
        "\r\n",
        "res = tf.reduce_sum (res)\r\n",
        "print('tf.reduce_sum(a): ', res) \r\n",
        "\r\n",
        "res = tf.sqrt (res)\r\n",
        "print('tf.sqrt: ', res) \r\n",
        "#x  = tf.math.reciprocal (res)*tf.sqrt(2)\r\n",
        "res1 = tf.expand_dims(x, 1)\r\n",
        "print(\"res1\", res1)"
      ],
      "execution_count": null,
      "outputs": [
        {
          "output_type": "stream",
          "text": [
            "Input:  tf.Tensor(\n",
            "[[1. 2.]\n",
            " [3. 4.]], shape=(2, 2), dtype=float64)\n",
            "tf.square(a):  tf.Tensor(\n",
            "[[ 1.  4.]\n",
            " [ 9. 16.]], shape=(2, 2), dtype=float64)\n",
            "tf.reduce_sum(a):  tf.Tensor(30.0, shape=(), dtype=float64)\n",
            "tf.sqrt:  tf.Tensor(5.477225575051661, shape=(), dtype=float64)\n"
          ],
          "name": "stdout"
        },
        {
          "output_type": "error",
          "ename": "NameError",
          "evalue": "ignored",
          "traceback": [
            "\u001b[0;31m---------------------------------------------------------------------------\u001b[0m",
            "\u001b[0;31mNameError\u001b[0m                                 Traceback (most recent call last)",
            "\u001b[0;32m<ipython-input-4-de3220ce66b6>\u001b[0m in \u001b[0;36m<module>\u001b[0;34m()\u001b[0m\n\u001b[1;32m     14\u001b[0m \u001b[0mprint\u001b[0m\u001b[0;34m(\u001b[0m\u001b[0;34m'tf.sqrt: '\u001b[0m\u001b[0;34m,\u001b[0m \u001b[0mres\u001b[0m\u001b[0;34m)\u001b[0m\u001b[0;34m\u001b[0m\u001b[0;34m\u001b[0m\u001b[0m\n\u001b[1;32m     15\u001b[0m \u001b[0;31m#x  = tf.math.reciprocal (res)*tf.sqrt(2)\u001b[0m\u001b[0;34m\u001b[0m\u001b[0;34m\u001b[0m\u001b[0;34m\u001b[0m\u001b[0m\n\u001b[0;32m---> 16\u001b[0;31m \u001b[0mres1\u001b[0m \u001b[0;34m=\u001b[0m \u001b[0mtf\u001b[0m\u001b[0;34m.\u001b[0m\u001b[0mexpand_dims\u001b[0m\u001b[0;34m(\u001b[0m\u001b[0mx\u001b[0m\u001b[0;34m,\u001b[0m \u001b[0;36m1\u001b[0m\u001b[0;34m)\u001b[0m\u001b[0;34m\u001b[0m\u001b[0;34m\u001b[0m\u001b[0m\n\u001b[0m\u001b[1;32m     17\u001b[0m \u001b[0mprint\u001b[0m\u001b[0;34m(\u001b[0m\u001b[0;34m\"res1\"\u001b[0m\u001b[0;34m,\u001b[0m \u001b[0mres1\u001b[0m\u001b[0;34m)\u001b[0m\u001b[0;34m\u001b[0m\u001b[0;34m\u001b[0m\u001b[0m\n",
            "\u001b[0;31mNameError\u001b[0m: name 'x' is not defined"
          ]
        }
      ]
    },
    {
      "cell_type": "code",
      "metadata": {
        "id": "7drlvyI03pNW"
      },
      "source": [
        " \r\n",
        "a = tf.constant([[1, 2], [3, 4]], dtype = tf.float64) \r\n",
        "print('Input: ', a)\r\n",
        "print (tf.reduce_sum(tf.square(a), axis=1)) \r\n",
        "x = tf.sqrt(tf.reduce_sum(tf.square(a), axis=1))\r\n",
        "print (\"xxx\")\r\n",
        "print (x)\r\n",
        "x = tf.reshape (x, (-1,1))\r\n",
        "print (\"xxx1\")\r\n",
        "print (x)\r\n",
        "print (\"xxx2\")\r\n",
        "print(a / x)\r\n"
      ],
      "execution_count": null,
      "outputs": []
    },
    {
      "cell_type": "code",
      "metadata": {
        "id": "sOCLgeUtWSRe"
      },
      "source": [
        "a = tf.constant([[1, 0, 1], [0, 1, 0]], dtype = tf.float64) \r\n",
        "b = tf.constant([[0, 1, 1], [1, 0, 1]], dtype = tf.float64) \r\n",
        "print('Input: ', a-b)\r\n",
        "print(tf.reduce_sum(tf.square(a-b), axis=1))\r\n",
        "print (tf.reduce_mean(tf.sqrt(tf.reduce_sum(tf.square(a-b), axis=1)))) \r\n",
        "#x = tf.sqrt(tf.reduce_sum(tf.square(a), axis=1))\r\n",
        "##print (\"xxx\")\r\n",
        "#print(x)"
      ],
      "execution_count": null,
      "outputs": []
    },
    {
      "cell_type": "code",
      "metadata": {
        "colab": {
          "base_uri": "https://localhost:8080/"
        },
        "id": "Mgr-yx4W4fDv",
        "outputId": "4755d121-b89e-412e-904c-d465b978b03c"
      },
      "source": [
        "import tensorflow.compat.v1 as tf\r\n",
        "tf.disable_v2_behavior ()\r\n",
        "\r\n",
        "binary_string = tf.constant([1, 0, 0])\r\n",
        "\r\n",
        "result = tf.reduce_sum(\r\n",
        "    tf.cast(tf.reverse(tensor=binary_string, axis=[0]), dtype=tf.int64)\r\n",
        "    * 2 ** tf.range(tf.cast(tf.size(binary_string), dtype=tf.int64)))\r\n",
        "\r\n",
        "with tf.Session():\r\n",
        "    print(result.eval())"
      ],
      "execution_count": null,
      "outputs": [
        {
          "output_type": "stream",
          "text": [
            "4\n"
          ],
          "name": "stdout"
        }
      ]
    },
    {
      "cell_type": "code",
      "metadata": {
        "colab": {
          "base_uri": "https://localhost:8080/"
        },
        "id": "6cHyxcSN7KHP",
        "outputId": "18dfd692-1d56-47c7-8db8-e15aca4ecd02"
      },
      "source": [
        "binary_string = numpy.random.randint(2, size=(1,100))\r\n",
        "import tensorflow.compat.v1 as tf\r\n",
        "tf.disable_v2_behavior ()\r\n",
        "\r\n",
        "\r\n",
        "\r\n",
        "result = tf.reduce_sum(\r\n",
        "    tf.cast(tf.reverse(tensor=binary_string, axis=[0]), dtype=tf.int64)\r\n",
        "    * 2 ** tf.range(tf.cast(tf.size(binary_string), dtype=tf.int64)))\r\n",
        "\r\n",
        "with tf.Session():\r\n",
        "    print(result.eval())"
      ],
      "execution_count": null,
      "outputs": [
        {
          "output_type": "stream",
          "text": [
            "3858548623156079398\n"
          ],
          "name": "stdout"
        }
      ]
    }
  ]
}