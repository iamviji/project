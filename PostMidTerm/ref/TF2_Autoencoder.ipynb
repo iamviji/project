{
  "nbformat": 4,
  "nbformat_minor": 0,
  "metadata": {
    "kernelspec": {
      "display_name": "Python 3",
      "language": "python",
      "name": "python3"
    },
    "language_info": {
      "codemirror_mode": {
        "name": "ipython",
        "version": 3
      },
      "file_extension": ".py",
      "mimetype": "text/x-python",
      "name": "python",
      "nbconvert_exporter": "python",
      "pygments_lexer": "ipython3",
      "version": "3.6.8"
    },
    "colab": {
      "name": "TF2_Autoencoder.ipynb",
      "provenance": [],
      "include_colab_link": true
    }
  },
  "cells": [
    {
      "cell_type": "markdown",
      "metadata": {
        "id": "view-in-github",
        "colab_type": "text"
      },
      "source": [
        "<a href=\"https://colab.research.google.com/github/iamviji/project/blob/master/PostMidTerm/ref/TF2_Autoencoder.ipynb\" target=\"_parent\"><img src=\"https://colab.research.google.com/assets/colab-badge.svg\" alt=\"Open In Colab\"/></a>"
      ]
    },
    {
      "cell_type": "code",
      "metadata": {
        "id": "_fwfeVuSUGlR"
      },
      "source": [
        "import sys\n",
        "assert sys.version_info >= (3, 5)\n",
        "import numpy as np\n",
        "%matplotlib inline\n",
        "import matplotlib as mpl\n",
        "import matplotlib.pyplot as plt\n",
        "mpl.rc('axes', labelsize=14)\n",
        "mpl.rc('xtick', labelsize=12)\n",
        "mpl.rc('ytick', labelsize=12)\n",
        "import tensorflow as tf\n",
        "from tensorflow import keras\n",
        "from sklearn.preprocessing import OneHotEncoder\n",
        "import pandas as pd\n",
        "from scipy import special\n",
        "\n",
        "np.random.seed(42)\n",
        "tf.random.set_seed(42)"
      ],
      "execution_count": null,
      "outputs": []
    },
    {
      "cell_type": "code",
      "metadata": {
        "id": "ag3tDNwBUGlX"
      },
      "source": [
        "# Parameters\n",
        "SAMPLE_SIZE = 100000\n",
        "k = 4\n",
        "n = 1 # complex channel uses\n",
        "M = 2**k\n",
        "TRAINING_SNR_PER_BIT = 7"
      ],
      "execution_count": null,
      "outputs": []
    },
    {
      "cell_type": "code",
      "metadata": {
        "id": "hYg8z71NUGlY"
      },
      "source": [
        "# Generate Training Data\n",
        "x = tf.random.uniform(shape=[SAMPLE_SIZE], minval=0, maxval=M, dtype=tf.int64)\n",
        "input_msg = tf.one_hot(x, M)"
      ],
      "execution_count": null,
      "outputs": []
    },
    {
      "cell_type": "code",
      "metadata": {
        "id": "0cVpnKStUGlY"
      },
      "source": [
        "def EbNo_to_noise(ebnodb):\n",
        "    '''Transform EbNo[dB] to noise power'''\n",
        "    ebno = 10**(ebnodb/10)\n",
        "    noise_std = 1/np.sqrt(2*(k/n)*ebno)\n",
        "    return noise_std"
      ],
      "execution_count": null,
      "outputs": []
    },
    {
      "cell_type": "code",
      "metadata": {
        "id": "1YL3YkU2UGlY"
      },
      "source": [
        "noise_std = EbNo_to_noise(TRAINING_SNR_PER_BIT)\n",
        "\n",
        "# Some custom functions / layers without weights\n",
        "norm_layer = keras.layers.Lambda(lambda x: tf.divide(x,tf.sqrt(2*tf.reduce_mean(tf.square(x)))))\n",
        "shape_layer = keras.layers.Lambda(lambda x: tf.reshape(x, shape=[-1,2,n]))\n",
        "shape_layer2 = keras.layers.Lambda(lambda x: tf.reshape(x, shape=[-1,2*n]))\n",
        "channel_layer = keras.layers.Lambda(lambda x: \n",
        "                    x + tf.random.normal(tf.shape(x), mean=0.0, stddev=noise_std))\n",
        "\n",
        "encoder = keras.models.Sequential([\n",
        "keras.layers.InputLayer(input_shape=[16]),\n",
        "keras.layers.Dense(M, activation=\"relu\"),\n",
        "keras.layers.Dense(2*n, activation=None),\n",
        "shape_layer,\n",
        "norm_layer])\n",
        "\n",
        "channel = keras.models.Sequential([channel_layer])\n",
        "\n",
        "decoder = keras.models.Sequential([keras.layers.InputLayer(input_shape=[2,n]),\n",
        "shape_layer2,\n",
        "keras.layers.Dense(M, activation=\"relu\"),\n",
        "keras.layers.Dense(M, activation=\"softmax\")\n",
        "])\n",
        "\n",
        "autoencoder = keras.models.Sequential([encoder, channel, decoder])"
      ],
      "execution_count": null,
      "outputs": []
    },
    {
      "cell_type": "code",
      "metadata": {
        "id": "4p3EgVf-UGlY"
      },
      "source": [
        "def B_Ber(input_msg, msg):\n",
        "    '''Calculate the Batch Bit Error Rate'''\n",
        "    pred_error = tf.not_equal(tf.argmax(msg, 1), tf.argmax(input_msg, 1))\n",
        "    bber = tf.reduce_mean(tf.cast(pred_error, tf.float32))\n",
        "    return bber"
      ],
      "execution_count": null,
      "outputs": []
    },
    {
      "cell_type": "code",
      "metadata": {
        "id": "dlDHnHJEUGlY"
      },
      "source": [
        "autoencoder.compile(loss=\"categorical_crossentropy\", optimizer=\"Nadam\", metrics=[B_Ber])"
      ],
      "execution_count": null,
      "outputs": []
    },
    {
      "cell_type": "code",
      "metadata": {
        "colab": {
          "base_uri": "https://localhost:8080/"
        },
        "id": "zR_DzkkxUGlc",
        "outputId": "334f88a2-f6ab-43a7-929c-cb9110ae4f9f"
      },
      "source": [
        "history = autoencoder.fit(input_msg, input_msg, epochs=5, batch_size=100)"
      ],
      "execution_count": null,
      "outputs": [
        {
          "output_type": "stream",
          "text": [
            "Epoch 1/5\n",
            "1000/1000 [==============================] - 1s 1ms/step - loss: 1.4634 - B_Ber: 0.4318\n",
            "Epoch 2/5\n",
            "1000/1000 [==============================] - 2s 2ms/step - loss: 0.5581 - B_Ber: 0.1249\n",
            "Epoch 3/5\n",
            "1000/1000 [==============================] - 1s 1ms/step - loss: 0.3064 - B_Ber: 0.0822\n",
            "Epoch 4/5\n",
            "1000/1000 [==============================] - 1s 1ms/step - loss: 0.2346 - B_Ber: 0.0746\n",
            "Epoch 5/5\n",
            "1000/1000 [==============================] - 2s 2ms/step - loss: 0.2121 - B_Ber: 0.0715\n"
          ],
          "name": "stdout"
        }
      ]
    },
    {
      "cell_type": "code",
      "metadata": {
        "colab": {
          "base_uri": "https://localhost:8080/",
          "height": 328
        },
        "id": "IGblB6lcUGli",
        "outputId": "e1bae54c-09a2-4709-def8-fb6453b11677"
      },
      "source": [
        "pd.DataFrame(history.history).plot(figsize=(8, 5)) \n",
        "plt.grid(True)\n",
        "plt.gca().set_ylim(0, 1)\n",
        "plt.show()"
      ],
      "execution_count": null,
      "outputs": [
        {
          "output_type": "display_data",
          "data": {
            "image/png": "[encoded data removed]",
            "text/plain": [
              "<Figure size 576x360 with 1 Axes>"
            ]
          },
          "metadata": {
            "tags": [],
            "needs_background": "light"
          }
        }
      ]
    },
    {
      "cell_type": "code",
      "metadata": {
        "id": "ZZJBKHrCUGlj"
      },
      "source": [
        "# Test coding\n",
        "inp = np.eye(16, dtype=int)\n",
        "coding = encoder.predict(inp)"
      ],
      "execution_count": null,
      "outputs": []
    },
    {
      "cell_type": "code",
      "metadata": {
        "colab": {
          "base_uri": "https://localhost:8080/",
          "height": 295
        },
        "id": "C-YsdAPbUGlj",
        "outputId": "17b5cf82-aa9c-4524-f29b-d8bb56d7af75"
      },
      "source": [
        "# for n=1 data\n",
        "fig = plt.figure(figsize=(4,4))\n",
        "plt.plot(coding[:,0], coding[:, 1], \"b.\")\n",
        "plt.xlabel(\"$x_1$\", fontsize=18)\n",
        "plt.ylabel(\"$x_2$\", fontsize=18, rotation=0)\n",
        "plt.grid(True)\n",
        "plt.gca().set_ylim(-2, 2)\n",
        "plt.gca().set_xlim(-2, 2)\n",
        "plt.show()"
      ],
      "execution_count": null,
      "outputs": [
        {
          "output_type": "display_data",
          "data": {
            "image/png": "[encoded data removed]",
            "text/plain": [
              "<Figure size 288x288 with 1 Axes>"
            ]
          },
          "metadata": {
            "tags": [],
            "needs_background": "light"
          }
        }
      ]
    },
    {
      "cell_type": "code",
      "metadata": {
        "id": "4mA1W4MkUGlk"
      },
      "source": [
        "# test msg sequence\n",
        "test_msg = np.random.randint(M, size=150000)\n",
        "one_hot_encoder = OneHotEncoder(sparse=False, categories=[range(M)])\n",
        "data_one_h = one_hot_encoder.fit_transform(test_msg.reshape(-1,1))"
      ],
      "execution_count": null,
      "outputs": []
    },
    {
      "cell_type": "code",
      "metadata": {
        "id": "I8c9CZPtUGlk"
      },
      "source": [
        "def Test_AE(data):\n",
        "    '''Calculate Bit Error for varying SNRs'''\n",
        "    snr_range = np.linspace(0, 15, 30)\n",
        "    bber_vec = [None] * len(snr_range)\n",
        "        \n",
        "    for db in range(len(snr_range)):           \n",
        "        noise_std = EbNo_to_noise(snr_range[db])\n",
        "        code_word = encoder.predict(data)\n",
        "        rcvd_word = code_word + tf.random.normal(tf.shape(code_word), mean=0.0, stddev=noise_std)\n",
        "        dcoded_msg = decoder.predict(rcvd_word)\n",
        "        bber_vec[db] = B_Ber(data, dcoded_msg)     \n",
        "    return (snr_range, bber_vec) "
      ],
      "execution_count": null,
      "outputs": []
    },
    {
      "cell_type": "code",
      "metadata": {
        "id": "_KMkSPqAUGlk"
      },
      "source": [
        "bber_data = Test_AE(data_one_h)"
      ],
      "execution_count": null,
      "outputs": []
    },
    {
      "cell_type": "code",
      "metadata": {
        "id": "RR0ONmawUGlk"
      },
      "source": [
        "# Approximate 16 QAM Error\n",
        "def SIXT_QAM_sim(ebno):\n",
        "    return (3.0/2)*special.erfc(np.sqrt((4.0/10)*10.**(ebno/10)))"
      ],
      "execution_count": null,
      "outputs": []
    },
    {
      "cell_type": "code",
      "metadata": {
        "colab": {
          "base_uri": "https://localhost:8080/",
          "height": 352
        },
        "id": "OCXv2uuhUGlk",
        "outputId": "53af27cf-7e9e-4ac7-b62d-da33835f37bc"
      },
      "source": [
        "fig = plt.figure(figsize=(8, 5))\n",
        "# Plot Autoencoder\n",
        "plt.semilogy(bber_data[0], bber_data[1], 'o-')\n",
        "# Plot approx 16 QAM\n",
        "ebnodbs = np.linspace(0,15,16)\n",
        "plt.semilogy(ebnodbs, SIXT_QAM_sim(ebnodbs), '^-');\n",
        "\n",
        "plt.gca().set_ylim(1e-5, 1)\n",
        "plt.gca().set_xlim(0, 15)\n",
        "plt.ylabel(\"Batch Bit Error Rate\", fontsize=18, rotation=90)\n",
        "plt.xlabel(\"Eb/No [dB]\", fontsize=18)\n",
        "plt.legend(['Autoencoder', '16QAM'], prop={'size': 16}, loc='upper right');\n",
        "plt.grid(True, which=\"both\")"
      ],
      "execution_count": null,
      "outputs": [
        {
          "output_type": "display_data",
          "data": {
            "image/png": "[encoded data removed]",
            "text/plain": [
              "<Figure size 576x360 with 1 Axes>"
            ]
          },
          "metadata": {
            "tags": [],
            "needs_background": "light"
          }
        }
      ]
    },
    {
      "cell_type": "code",
      "metadata": {
        "id": "PFFughENUGlk"
      },
      "source": [
        ""
      ],
      "execution_count": null,
      "outputs": []
    }
  ]
}