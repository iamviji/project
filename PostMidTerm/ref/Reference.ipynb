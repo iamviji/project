{
  "nbformat": 4,
  "nbformat_minor": 0,
  "metadata": {
    "colab": {
      "name": "Reference.ipynb",
      "provenance": [],
      "collapsed_sections": [],
      "authorship_tag": "ABX9TyMS+RDhJse015vc79wR7ltk",
      "include_colab_link": true
    },
    "kernelspec": {
      "name": "python3",
      "display_name": "Python 3"
    }
  },
  "cells": [
    {
      "cell_type": "markdown",
      "metadata": {
        "id": "view-in-github",
        "colab_type": "text"
      },
      "source": [
        "<a href=\"https://colab.research.google.com/github/iamviji/project/blob/master/PostMidTerm/ref/Reference.ipynb\" target=\"_parent\"><img src=\"https://colab.research.google.com/assets/colab-badge.svg\" alt=\"Open In Colab\"/></a>"
      ]
    },
    {
      "cell_type": "markdown",
      "metadata": {
        "id": "tll88HiOqEcA"
      },
      "source": [
        "AE Com\r\n",
        "\r\n",
        "https://github.com/vidits-kth/py-radio-autoencoder?utm_source=catalyzex.com\r\n",
        "\r\n",
        "https://github.com/Fritschek/Communication-via-Autoencoder-TF2\r\n",
        "\r\n",
        "https://github.com/immortal3/AutoEncoder-Based-Communication-System\r\n",
        "\r\n",
        "\r\n",
        "Advanced AE Com\r\n",
        "\r\n",
        "RTN : https://github.com/jcbooth2/autoencoder_for_physical_layer \r\n",
        "\r\n",
        "An End-to-End Block Autoencoder For Physical Layer Based On Neural Networks\r\n",
        "\r\n",
        "\r\n",
        "Advanced???\r\n",
        "https://github.com/IIT-Lab/meta-autoencoder\r\n",
        "\r\n"
      ]
    },
    {
      "cell_type": "markdown",
      "metadata": {
        "id": "RvGUHp6f4L4q"
      },
      "source": [
        "BER Analysis\r\n",
        "\r\n",
        "https://github.com/v-i-s-h/dl-vi-comm/blob/master/AWGN/analysis_bler.ipynb\r\n",
        "\r\n",
        "\r\n",
        "Check Uncoded for formula of variance \r\n",
        "https://github.com/IIT-Lab/py-itpp/blob/master/examples/bler_over_awgn_channel.py"
      ]
    },
    {
      "cell_type": "markdown",
      "metadata": {
        "id": "eeS9jXsNzLCh"
      },
      "source": [
        "GAN\r\n",
        "\r\n",
        "https://github.com/v-i-s-h/dl-vi-comm?utm_source=catalyzex.com\r\n",
        "\r\n",
        "https://github.com/IIT-Lab/End2End_GAN/blob/master/End2EndConvAWGN.py\r\n",
        "https://github.com/IIT-Lab/Autoencoder_communication_system_WGAN_Channel-estimation\r\n",
        "\r\n",
        "https://github.com/eriklindernoren/Keras-GAN/blob/master/wgan/wgan.py\r\n",
        "\r\n",
        "https://github.com/mdelrosa/wireless-ml/blob/master/code/fading-vgan/fading-vgan.ipynb\r\n",
        "\r\n"
      ]
    },
    {
      "cell_type": "markdown",
      "metadata": {
        "id": "p0Bw95YG167v"
      },
      "source": [
        "CNN\r\n",
        "\r\n",
        "https://github.com/IIT-Lab/Deepcom-1\r\n",
        "\r\n",
        "https://github.com/ZhangKaiyao/Deepcom\r\n",
        "\r\n",
        "https://github.com/IIT-Lab/Communication-using-CNN\r\n",
        "\r\n",
        "https://github.com/IIT-Lab/deepcom\r\n",
        "\r\n",
        "https://github.com/IIT-Lab/Deepcode\r\n",
        "\r\n",
        "https://github.com/IIT-Lab/Communication-using-CNN"
      ]
    },
    {
      "cell_type": "markdown",
      "metadata": {
        "id": "QDFixR41X1GE"
      },
      "source": [
        "Model Based AE\r\n",
        "\r\n",
        "https://github.com/yihanjiang/turboae?utm_source=catalyzex.com"
      ]
    },
    {
      "cell_type": "markdown",
      "metadata": {
        "id": "s6iGy3gB4cX_"
      },
      "source": [
        "Without Channel Model\r\n",
        "\r\n",
        "https://github.com/IIT-Lab/End-to-End-Learning-of-Communications-Systems-Without-a-Channel-Model\r\n",
        "\r\n",
        "https://github.com/Aithu-Snehith/End-to-End-Learning-of-Communications-Systems-Without-a-Channel-Model\r\n",
        "\r\n",
        "\r\n",
        "https://github.com/IIT-Lab/ML_WirelessComm/blob/master/src/main.ipynb\r\n",
        "\r\n",
        "\r\n",
        "https://github.com/IIT-Lab/Deep-Reinforcement-Learning-Hands-On\r\n",
        "\r\n",
        "https://github.com/IIT-Lab/meta-autoencoder-without-channel-model\r\n",
        "\r\n",
        "\r\n",
        "https://github.com/IIT-Lab/meta-autoencoder\r\n",
        "\r\n",
        "https://github.com/kclip/meta-autoencoder-without-channel-model?utm_source=catalyzex.com\r\n",
        "\r\n"
      ]
    },
    {
      "cell_type": "markdown",
      "metadata": {
        "id": "XcZ8q0gxYUiA"
      },
      "source": [
        "AE Com Fiber\r\n",
        "\r\n",
        "https://github.com/henkwymeersch/AutoencoderFiber\r\n"
      ]
    },
    {
      "cell_type": "markdown",
      "metadata": {
        "id": "Ts_qp0US3Qii"
      },
      "source": [
        "ML\r\n",
        "\r\n",
        "https://github.com/IIT-Lab/radioml\r\n",
        "\r\n",
        "https://github.com/IIT-Lab/ML_WirelessComm\r\n",
        "\r\n",
        "https://github.com/AravindGanesh/ML_WirelessComm/blob/master/src/main.ipynb\r\n",
        "\r\n",
        "\r\n"
      ]
    },
    {
      "cell_type": "markdown",
      "metadata": {
        "id": "1LkHk7-64Tmo"
      },
      "source": [
        "LTE\r\n",
        "\r\n",
        "https://github.com/IIT-Lab/TD-LTE\r\n",
        "\r\n",
        "https://github.com/IIT-Lab/Deep_learning_for_wireless\r\n",
        "\r\n",
        "https://github.com/IIT-Lab/pyltesim\r\n",
        "\r\n",
        "https://github.com/IIT-Lab/Paper-with-Code-of-Wireless-communication-Based-on-DL\r\n",
        "\r\n",
        "CloudRAN\r\n",
        "https://github.com/IIT-Lab/phd-project/blob/master/Ericsson%20Cloud-RAN%20for%20MCI%20-%2014%20Jan%202017.pdf\r\n"
      ]
    },
    {
      "cell_type": "markdown",
      "metadata": {
        "id": "4_0ipDCV5B7Z"
      },
      "source": [
        "Simulation:\r\n",
        "\r\n",
        "https://github.com/IIT-Lab/py-itpp\r\n",
        "\r\n",
        "https://github.com/IIT-Lab/CommPy\r\n",
        "\r\n",
        "https://github.com/IIT-Lab/claude\r\n",
        "\r\n",
        "https://gitlab.com/godlike-machine-learning/graphical-models/belief-propagation/-/blob/master/ldpc.py\r\n",
        "\r\n",
        "\r\n"
      ]
    },
    {
      "cell_type": "markdown",
      "metadata": {
        "id": "UV_Sa1mr5Fl5"
      },
      "source": [
        "\r\n",
        "Collection :\r\n",
        "\r\n",
        "\r\n",
        "https://github.com/IIT-Lab/github_repository_collection\r\n",
        "\r\n",
        "https://github.com/IIT-Lab/ns3-mmwave\r\n",
        "\r\n",
        "https://github.com/IIT-Lab/Deepcode\r\n",
        "\r\n",
        "\r\n",
        "\r\n"
      ]
    },
    {
      "cell_type": "markdown",
      "metadata": {
        "id": "j1BqX6PGefhX"
      },
      "source": [
        "Papers:\r\n",
        "\r\n",
        "https://github.com/mdelrosa/wireless-ml/tree/master/Papers"
      ]
    },
    {
      "cell_type": "markdown",
      "metadata": {
        "id": "x6jApQVueqh_"
      },
      "source": [
        "TODO : Code\r\n",
        "\r\n",
        "Backpropagating Through the Air: Deep Learning at Physical Layer Without Channel Models\r\n",
        "\r\n"
      ]
    }
  ]
}