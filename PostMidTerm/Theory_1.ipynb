{
  "nbformat": 4,
  "nbformat_minor": 0,
  "metadata": {
    "colab": {
      "name": "Theory-1.ipynb",
      "provenance": [],
      "collapsed_sections": [],
      "include_colab_link": true
    },
    "kernelspec": {
      "name": "python3",
      "display_name": "Python 3"
    }
  },
  "cells": [
    {
      "cell_type": "markdown",
      "metadata": {
        "id": "view-in-github",
        "colab_type": "text"
      },
      "source": [
        "<a href=\"https://colab.research.google.com/github/iamviji/project/blob/master/PostMidTerm/Theory_1.ipynb\" target=\"_parent\"><img src=\"https://colab.research.google.com/assets/colab-badge.svg\" alt=\"Open In Colab\"/></a>"
      ]
    },
    {
      "cell_type": "code",
      "metadata": {
        "colab": {
          "base_uri": "https://localhost:8080/"
        },
        "id": "JhA53stPuyG0",
        "outputId": "a6e98218-ce8d-469c-ee81-d9cefd6cf82b"
      },
      "source": [
        "import math\n",
        "print (math.sin(math.pi/4))\n"
      ],
      "execution_count": 12,
      "outputs": [
        {
          "output_type": "stream",
          "text": [
            "0.7071067811865475\n"
          ],
          "name": "stdout"
        }
      ]
    },
    {
      "cell_type": "code",
      "metadata": {
        "id": "nga1w8Rzs_WZ",
        "colab": {
          "base_uri": "https://localhost:8080/"
        },
        "outputId": "e3d8b485-472e-4dc7-f5b5-d82abc924633"
      },
      "source": [
        "\n",
        "from numpy import sqrt\n",
        "from numpy.random import rand, randn\n",
        "import matplotlib.pyplot as plt\n",
        "  \n",
        "N = 5000000\n",
        "EbNodB_range = range(0,30)\n",
        "itr = len(EbNodB_range)\n",
        "ber1 = [None]*itr\n",
        "#R = math.log2(2)*math.sin(math.pi/2)\n",
        "R = 1/math.log2(2)*math.sin(math.pi/2)\n",
        "\n",
        "print (\"R=\",R)\n",
        "for n in range (0, itr): \n",
        " \n",
        "    EbNodB = EbNodB_range[n]   \n",
        "    EbNo=10.0**(EbNodB/10.0) \n",
        "    x = 2 * (rand(N) >= 0.5) - 1\n",
        "    #print (x)\n",
        "    noise_std = 1/(sqrt(2*R*EbNo)) # 1/sqrt(2 x R x EbNo)\n",
        "    y = x + noise_std * randn(N)\n",
        "    y_d = 2 * (y >= 0) - 1\n",
        "    errors = (x != y_d).sum()\n",
        "    ber1[n] = 1.0 * errors / N\n",
        "    \n",
        "    print (\"EbNodB:\", EbNodB)\n",
        "    print (\"Error bits:\", errors)\n",
        "    print (\"Error probability:\", ber1[n])\n",
        "        \n"
      ],
      "execution_count": 38,
      "outputs": [
        {
          "output_type": "stream",
          "text": [
            "R= 1.0\n",
            "EbNodB: 0\n",
            "Error bits: 393281\n",
            "Error probability: 0.0786562\n",
            "EbNodB: 1\n",
            "Error bits: 281709\n",
            "Error probability: 0.0563418\n",
            "EbNodB: 2\n",
            "Error bits: 187358\n",
            "Error probability: 0.0374716\n",
            "EbNodB: 3\n",
            "Error bits: 114562\n",
            "Error probability: 0.0229124\n",
            "EbNodB: 4\n",
            "Error bits: 62633\n",
            "Error probability: 0.0125266\n",
            "EbNodB: 5\n",
            "Error bits: 29823\n",
            "Error probability: 0.0059646\n",
            "EbNodB: 6\n",
            "Error bits: 11951\n",
            "Error probability: 0.0023902\n",
            "EbNodB: 7\n",
            "Error bits: 3904\n",
            "Error probability: 0.0007808\n",
            "EbNodB: 8\n",
            "Error bits: 983\n",
            "Error probability: 0.0001966\n",
            "EbNodB: 9\n",
            "Error bits: 161\n",
            "Error probability: 3.22e-05\n",
            "EbNodB: 10\n",
            "Error bits: 10\n",
            "Error probability: 2e-06\n",
            "EbNodB: 11\n",
            "Error bits: 1\n",
            "Error probability: 2e-07\n",
            "EbNodB: 12\n",
            "Error bits: 0\n",
            "Error probability: 0.0\n",
            "EbNodB: 13\n",
            "Error bits: 0\n",
            "Error probability: 0.0\n",
            "EbNodB: 14\n",
            "Error bits: 0\n",
            "Error probability: 0.0\n",
            "EbNodB: 15\n",
            "Error bits: 0\n",
            "Error probability: 0.0\n",
            "EbNodB: 16\n",
            "Error bits: 0\n",
            "Error probability: 0.0\n",
            "EbNodB: 17\n",
            "Error bits: 0\n",
            "Error probability: 0.0\n",
            "EbNodB: 18\n",
            "Error bits: 0\n",
            "Error probability: 0.0\n",
            "EbNodB: 19\n",
            "Error bits: 0\n",
            "Error probability: 0.0\n",
            "EbNodB: 20\n",
            "Error bits: 0\n",
            "Error probability: 0.0\n",
            "EbNodB: 21\n",
            "Error bits: 0\n",
            "Error probability: 0.0\n",
            "EbNodB: 22\n",
            "Error bits: 0\n",
            "Error probability: 0.0\n",
            "EbNodB: 23\n",
            "Error bits: 0\n",
            "Error probability: 0.0\n",
            "EbNodB: 24\n",
            "Error bits: 0\n",
            "Error probability: 0.0\n",
            "EbNodB: 25\n",
            "Error bits: 0\n",
            "Error probability: 0.0\n",
            "EbNodB: 26\n",
            "Error bits: 0\n",
            "Error probability: 0.0\n",
            "EbNodB: 27\n",
            "Error bits: 0\n",
            "Error probability: 0.0\n",
            "EbNodB: 28\n",
            "Error bits: 0\n",
            "Error probability: 0.0\n",
            "EbNodB: 29\n",
            "Error bits: 0\n",
            "Error probability: 0.0\n"
          ],
          "name": "stdout"
        }
      ]
    },
    {
      "cell_type": "code",
      "metadata": {
        "id": "D-dpH17uz5lV",
        "colab": {
          "base_uri": "https://localhost:8080/",
          "height": 311
        },
        "outputId": "1c89188b-ff74-4330-dd4b-5ff73bfb73db"
      },
      "source": [
        "plt.plot(EbNodB_range, ber1, 'bo', EbNodB_range, ber1, 'k')\n",
        "plt.axis([0, 10, 1e-6, 0.1])\n",
        "plt.xscale('linear')\n",
        "plt.yscale('log')\n",
        "plt.xlabel('EbNo(dB)')\n",
        "plt.ylabel('BER')\n",
        "plt.grid(True)\n",
        "plt.title('BPSK Modulation')\n",
        "plt.show()\n",
        "print (ber1)"
      ],
      "execution_count": 39,
      "outputs": [
        {
          "output_type": "display_data",
          "data": {
            "image/png": "[encoded data removed]",
            "text/plain": [
              "<Figure size 432x288 with 1 Axes>"
            ]
          },
          "metadata": {
            "tags": [],
            "needs_background": "light"
          }
        },
        {
          "output_type": "stream",
          "text": [
            "[0.0786562, 0.0563418, 0.0374716, 0.0229124, 0.0125266, 0.0059646, 0.0023902, 0.0007808, 0.0001966, 3.22e-05, 2e-06, 2e-07, 0.0, 0.0, 0.0, 0.0, 0.0, 0.0, 0.0, 0.0, 0.0, 0.0, 0.0, 0.0, 0.0, 0.0, 0.0, 0.0, 0.0, 0.0]\n"
          ],
          "name": "stdout"
        }
      ]
    },
    {
      "cell_type": "code",
      "metadata": {
        "id": "Pny7wCHun0YJ"
      },
      "source": [
        ""
      ],
      "execution_count": 14,
      "outputs": []
    },
    {
      "cell_type": "code",
      "metadata": {
        "id": "Pb7oxtJ9tnZt",
        "colab": {
          "base_uri": "https://localhost:8080/"
        },
        "outputId": "3b5948a4-3011-4d88-b160-75a8511650f3"
      },
      "source": [
        "from numpy import sqrt\n",
        "from numpy.random import rand, randn\n",
        "import matplotlib.pyplot as plt\n",
        "  \n",
        "N = 5000000\n",
        "EbNodB_range = range(0,30)\n",
        "itr = len(EbNodB_range)\n",
        "ber2 = [None]*itr\n",
        "R = 1/math.log2(4)*math.sin(math.pi/4)\n",
        "print (\"R=\",R)\n",
        "for n in range (0, itr): \n",
        " \n",
        "    EbNodB = EbNodB_range[n]   \n",
        "    EbNo=10.0**(EbNodB/10.0)\n",
        "    x = 2 * (rand(N) >= 0.5) - 1\n",
        "    noise_std = 1/sqrt(2*R*EbNo)\n",
        "    y = x + noise_std * randn(N)\n",
        "    y_d = 2 * (y >= 0) - 1\n",
        "    errors = (x != y_d).sum()\n",
        "    ber2[n] = 1.0 * errors / N\n",
        "    \n",
        "    print (\"EbNodB:\", EbNodB)\n",
        "    print (\"Error bits:\", errors)\n",
        "    print (\"Error probability:\", ber2[n])\n",
        "        \n"
      ],
      "execution_count": 41,
      "outputs": [
        {
          "output_type": "stream",
          "text": [
            "R= 0.35355339059327373\n",
            "EbNodB: 0\n",
            "Error bits: 1000700\n",
            "Error probability: 0.20014\n",
            "EbNodB: 1\n",
            "Error bits: 863456\n",
            "Error probability: 0.1726912\n",
            "EbNodB: 2\n",
            "Error bits: 724572\n",
            "Error probability: 0.1449144\n",
            "EbNodB: 3\n",
            "Error bits: 587677\n",
            "Error probability: 0.1175354\n",
            "EbNodB: 4\n",
            "Error bits: 457491\n",
            "Error probability: 0.0914982\n",
            "EbNodB: 5\n",
            "Error bits: 336860\n",
            "Error probability: 0.067372\n",
            "EbNodB: 6\n",
            "Error bits: 232702\n",
            "Error probability: 0.0465404\n",
            "EbNodB: 7\n",
            "Error bits: 149980\n",
            "Error probability: 0.029996\n",
            "EbNodB: 8\n",
            "Error bits: 86095\n",
            "Error probability: 0.017219\n",
            "EbNodB: 9\n",
            "Error bits: 44485\n",
            "Error probability: 0.008897\n",
            "EbNodB: 10\n",
            "Error bits: 19548\n",
            "Error probability: 0.0039096\n",
            "EbNodB: 11\n",
            "Error bits: 7215\n",
            "Error probability: 0.001443\n",
            "EbNodB: 12\n",
            "Error bits: 2051\n",
            "Error probability: 0.0004102\n",
            "EbNodB: 13\n",
            "Error bits: 432\n",
            "Error probability: 8.64e-05\n",
            "EbNodB: 14\n",
            "Error bits: 72\n",
            "Error probability: 1.44e-05\n",
            "EbNodB: 15\n",
            "Error bits: 7\n",
            "Error probability: 1.4e-06\n",
            "EbNodB: 16\n",
            "Error bits: 0\n",
            "Error probability: 0.0\n",
            "EbNodB: 17\n",
            "Error bits: 0\n",
            "Error probability: 0.0\n",
            "EbNodB: 18\n",
            "Error bits: 0\n",
            "Error probability: 0.0\n",
            "EbNodB: 19\n",
            "Error bits: 0\n",
            "Error probability: 0.0\n",
            "EbNodB: 20\n",
            "Error bits: 0\n",
            "Error probability: 0.0\n",
            "EbNodB: 21\n",
            "Error bits: 0\n",
            "Error probability: 0.0\n",
            "EbNodB: 22\n",
            "Error bits: 0\n",
            "Error probability: 0.0\n",
            "EbNodB: 23\n",
            "Error bits: 0\n",
            "Error probability: 0.0\n",
            "EbNodB: 24\n",
            "Error bits: 0\n",
            "Error probability: 0.0\n",
            "EbNodB: 25\n",
            "Error bits: 0\n",
            "Error probability: 0.0\n",
            "EbNodB: 26\n",
            "Error bits: 0\n",
            "Error probability: 0.0\n",
            "EbNodB: 27\n",
            "Error bits: 0\n",
            "Error probability: 0.0\n",
            "EbNodB: 28\n",
            "Error bits: 0\n",
            "Error probability: 0.0\n",
            "EbNodB: 29\n",
            "Error bits: 0\n",
            "Error probability: 0.0\n"
          ],
          "name": "stdout"
        }
      ]
    },
    {
      "cell_type": "code",
      "metadata": {
        "id": "83nv5LjGz8ez",
        "colab": {
          "base_uri": "https://localhost:8080/",
          "height": 295
        },
        "outputId": "b3ce72e7-9ec7-460c-fe51-9fb1cc957a77"
      },
      "source": [
        "plt.plot(EbNodB_range, ber1, 'bo', EbNodB_range, ber1, 'k')\n",
        "plt.plot(EbNodB_range, ber2, 'bo', EbNodB_range, ber2, 'k')\n",
        "plt.axis([0, 20, 1e-6, 0.5])\n",
        "plt.xscale('linear')\n",
        "plt.yscale('log')\n",
        "plt.xlabel('EbNo(dB)')\n",
        "plt.ylabel('BER')\n",
        "plt.grid(True)\n",
        "plt.title('QPSK Modulation')\n",
        "plt.show()"
      ],
      "execution_count": 42,
      "outputs": [
        {
          "output_type": "display_data",
          "data": {
            "image/png": "[encoded data removed]",
            "text/plain": [
              "<Figure size 432x288 with 1 Axes>"
            ]
          },
          "metadata": {
            "tags": [],
            "needs_background": "light"
          }
        }
      ]
    },
    {
      "cell_type": "code",
      "metadata": {
        "id": "J0BtEhxpuXdr",
        "colab": {
          "base_uri": "https://localhost:8080/"
        },
        "outputId": "3f3dabe2-35d9-4da6-b98b-a5b5465d32ce"
      },
      "source": [
        "from numpy import sqrt\n",
        "from numpy.random import rand, randn\n",
        "import matplotlib.pyplot as plt\n",
        "  \n",
        "N = 5000000\n",
        "EbNodB_range = range(0,30)\n",
        "itr = len(EbNodB_range)\n",
        "ber3 = [None]*itr\n",
        "#R = math.sin(math.pi/8)\n",
        "R = 1/math.log2(8)*math.sin(math.pi/8)\n",
        "for n in range (0, itr): \n",
        " \n",
        "    EbNodB = EbNodB_range[n]   \n",
        "    EbNo=10.0**(EbNodB/10.0)\n",
        "    x = 2 * (rand(N) >= 0.5) - 1\n",
        "    noise_std = 1/sqrt(2*R*EbNo)\n",
        "    y = x + noise_std * randn(N)\n",
        "    y_d = 2 * (y >= 0) - 1\n",
        "    errors = (x != y_d).sum()\n",
        "    ber3[n] = 1.0 * errors / N\n",
        "    \n",
        "    print (\"EbNodB:\", EbNodB)\n",
        "    print (\"Error bits:\", errors)\n",
        "    print (\"Error probability:\", ber3[n])\n",
        "        \n"
      ],
      "execution_count": 43,
      "outputs": [
        {
          "output_type": "stream",
          "text": [
            "EbNodB: 0\n",
            "Error bits: 1534472\n",
            "Error probability: 0.3068944\n",
            "EbNodB: 1\n",
            "Error bits: 1426751\n",
            "Error probability: 0.2853502\n",
            "EbNodB: 2\n",
            "Error bits: 1313465\n",
            "Error probability: 0.262693\n",
            "EbNodB: 3\n",
            "Error bits: 1188406\n",
            "Error probability: 0.2376812\n",
            "EbNodB: 4\n",
            "Error bits: 1058204\n",
            "Error probability: 0.2116408\n",
            "EbNodB: 5\n",
            "Error bits: 921556\n",
            "Error probability: 0.1843112\n",
            "EbNodB: 6\n",
            "Error bits: 784438\n",
            "Error probability: 0.1568876\n",
            "EbNodB: 7\n",
            "Error bits: 645124\n",
            "Error probability: 0.1290248\n",
            "EbNodB: 8\n",
            "Error bits: 511657\n",
            "Error probability: 0.1023314\n",
            "EbNodB: 9\n",
            "Error bits: 386912\n",
            "Error probability: 0.0773824\n",
            "EbNodB: 10\n",
            "Error bits: 275227\n",
            "Error probability: 0.0550454\n",
            "EbNodB: 11\n",
            "Error bits: 182724\n",
            "Error probability: 0.0365448\n",
            "EbNodB: 12\n",
            "Error bits: 111164\n",
            "Error probability: 0.0222328\n",
            "EbNodB: 13\n",
            "Error bits: 60366\n",
            "Error probability: 0.0120732\n",
            "EbNodB: 14\n",
            "Error bits: 28365\n",
            "Error probability: 0.005673\n",
            "EbNodB: 15\n",
            "Error bits: 11379\n",
            "Error probability: 0.0022758\n",
            "EbNodB: 16\n",
            "Error bits: 3603\n",
            "Error probability: 0.0007206\n",
            "EbNodB: 17\n",
            "Error bits: 836\n",
            "Error probability: 0.0001672\n",
            "EbNodB: 18\n",
            "Error bits: 169\n",
            "Error probability: 3.38e-05\n",
            "EbNodB: 19\n",
            "Error bits: 24\n",
            "Error probability: 4.8e-06\n",
            "EbNodB: 20\n",
            "Error bits: 0\n",
            "Error probability: 0.0\n",
            "EbNodB: 21\n",
            "Error bits: 0\n",
            "Error probability: 0.0\n",
            "EbNodB: 22\n",
            "Error bits: 0\n",
            "Error probability: 0.0\n",
            "EbNodB: 23\n",
            "Error bits: 0\n",
            "Error probability: 0.0\n",
            "EbNodB: 24\n",
            "Error bits: 0\n",
            "Error probability: 0.0\n",
            "EbNodB: 25\n",
            "Error bits: 0\n",
            "Error probability: 0.0\n",
            "EbNodB: 26\n",
            "Error bits: 0\n",
            "Error probability: 0.0\n",
            "EbNodB: 27\n",
            "Error bits: 0\n",
            "Error probability: 0.0\n",
            "EbNodB: 28\n",
            "Error bits: 0\n",
            "Error probability: 0.0\n",
            "EbNodB: 29\n",
            "Error bits: 0\n",
            "Error probability: 0.0\n"
          ],
          "name": "stdout"
        }
      ]
    },
    {
      "cell_type": "code",
      "metadata": {
        "id": "R6dhOzT41RE9",
        "colab": {
          "base_uri": "https://localhost:8080/",
          "height": 295
        },
        "outputId": "c648c03f-6576-4ebf-bfd6-e3b6742e6263"
      },
      "source": [
        "plt.plot(EbNodB_range, ber1, 'bo', EbNodB_range, ber1, 'k')\n",
        "plt.plot(EbNodB_range, ber2, 'bo', EbNodB_range, ber2, 'k')\n",
        "plt.plot(EbNodB_range, ber3, 'bo', EbNodB_range, ber3, 'k')\n",
        "plt.axis([0, 30, 1e-6, 0.5])\n",
        "plt.xscale('linear')\n",
        "plt.yscale('log')\n",
        "plt.xlabel('EbNo(dB)')\n",
        "plt.ylabel('BER')\n",
        "plt.grid(True)\n",
        "plt.title('8PSK Modulation')\n",
        "plt.show()"
      ],
      "execution_count": 44,
      "outputs": [
        {
          "output_type": "display_data",
          "data": {
            "image/png": "[encoded data removed]",
            "text/plain": [
              "<Figure size 432x288 with 1 Axes>"
            ]
          },
          "metadata": {
            "tags": [],
            "needs_background": "light"
          }
        }
      ]
    },
    {
      "cell_type": "code",
      "metadata": {
        "id": "Gj5tEmHTFvJs",
        "colab": {
          "base_uri": "https://localhost:8080/"
        },
        "outputId": "43a20813-4c3b-4b65-f4a2-41d2a092841e"
      },
      "source": [
        "from numpy import sqrt\n",
        "from numpy.random import rand, randn\n",
        "import matplotlib.pyplot as plt\n",
        "  \n",
        "N = 5000000\n",
        "EbNodB_range = range(0,30)\n",
        "itr = len(EbNodB_range)\n",
        "ber4 = [None]*itr\n",
        "#R = math.sin(math.pi/16)\n",
        "R = 1/math.log2(16)*math.sin(math.pi/16)\n",
        "for n in range (0, itr): \n",
        " \n",
        "    EbNodB = EbNodB_range[n]   \n",
        "    EbNo=10.0**(EbNodB/10.0)\n",
        "    x = 2 * (rand(N) >= 0.5) - 1\n",
        "    noise_std = 1/sqrt(2*R*EbNo)\n",
        "    y = x + noise_std * randn(N)\n",
        "    y_d = 2 * (y >= 0) - 1\n",
        "    errors = (x != y_d).sum()\n",
        "    ber4[n] = 1.0 * errors / N\n",
        "    \n",
        "    print (\"EbNodB:\", EbNodB)\n",
        "    print (\"Error bits:\", errors)\n",
        "    print (\"Error probability:\", ber4[n])\n",
        "        \n"
      ],
      "execution_count": 19,
      "outputs": [
        {
          "output_type": "stream",
          "text": [
            "EbNodB: 0\n",
            "Error bits: 1887252\n",
            "Error probability: 0.3774504\n",
            "EbNodB: 1\n",
            "Error bits: 1813447\n",
            "Error probability: 0.3626894\n",
            "EbNodB: 2\n",
            "Error bits: 1734264\n",
            "Error probability: 0.3468528\n",
            "EbNodB: 3\n",
            "Error bits: 1647415\n",
            "Error probability: 0.329483\n",
            "EbNodB: 4\n",
            "Error bits: 1551320\n",
            "Error probability: 0.310264\n",
            "EbNodB: 5\n",
            "Error bits: 1446671\n",
            "Error probability: 0.2893342\n",
            "EbNodB: 6\n",
            "Error bits: 1334683\n",
            "Error probability: 0.2669366\n",
            "EbNodB: 7\n",
            "Error bits: 1210909\n",
            "Error probability: 0.2421818\n",
            "EbNodB: 8\n",
            "Error bits: 1081160\n",
            "Error probability: 0.216232\n",
            "EbNodB: 9\n",
            "Error bits: 947048\n",
            "Error probability: 0.1894096\n",
            "EbNodB: 10\n",
            "Error bits: 807599\n",
            "Error probability: 0.1615198\n",
            "EbNodB: 11\n",
            "Error bits: 669210\n",
            "Error probability: 0.133842\n",
            "EbNodB: 12\n",
            "Error bits: 534833\n",
            "Error probability: 0.1069666\n",
            "EbNodB: 13\n",
            "Error bits: 407350\n",
            "Error probability: 0.08147\n",
            "EbNodB: 14\n",
            "Error bits: 293952\n",
            "Error probability: 0.0587904\n",
            "EbNodB: 15\n",
            "Error bits: 198028\n",
            "Error probability: 0.0396056\n",
            "EbNodB: 16\n",
            "Error bits: 121610\n",
            "Error probability: 0.024322\n",
            "EbNodB: 17\n",
            "Error bits: 67655\n",
            "Error probability: 0.013531\n",
            "EbNodB: 18\n",
            "Error bits: 32804\n",
            "Error probability: 0.0065608\n",
            "EbNodB: 19\n",
            "Error bits: 13595\n",
            "Error probability: 0.002719\n",
            "EbNodB: 20\n",
            "Error bits: 4439\n",
            "Error probability: 0.0008878\n",
            "EbNodB: 21\n",
            "Error bits: 1130\n",
            "Error probability: 0.000226\n",
            "EbNodB: 22\n",
            "Error bits: 211\n",
            "Error probability: 4.22e-05\n",
            "EbNodB: 23\n",
            "Error bits: 25\n",
            "Error probability: 5e-06\n",
            "EbNodB: 24\n",
            "Error bits: 4\n",
            "Error probability: 8e-07\n",
            "EbNodB: 25\n",
            "Error bits: 0\n",
            "Error probability: 0.0\n",
            "EbNodB: 26\n",
            "Error bits: 0\n",
            "Error probability: 0.0\n",
            "EbNodB: 27\n",
            "Error bits: 0\n",
            "Error probability: 0.0\n",
            "EbNodB: 28\n",
            "Error bits: 0\n",
            "Error probability: 0.0\n",
            "EbNodB: 29\n",
            "Error bits: 0\n",
            "Error probability: 0.0\n"
          ],
          "name": "stdout"
        }
      ]
    },
    {
      "cell_type": "code",
      "metadata": {
        "id": "PjEIfKNE1gjh",
        "colab": {
          "base_uri": "https://localhost:8080/",
          "height": 295
        },
        "outputId": "15c24dca-051b-4082-93f2-e574f3c0b5a7"
      },
      "source": [
        "plt.plot(EbNodB_range, ber1, 'bo', EbNodB_range, ber1, 'k')\n",
        "plt.plot(EbNodB_range, ber2, 'bo', EbNodB_range, ber2, 'k')\n",
        "plt.plot(EbNodB_range, ber3, 'bo', EbNodB_range, ber3, 'k')\n",
        "plt.plot(EbNodB_range, ber4, 'bo', EbNodB_range, ber4, 'k')\n",
        "plt.axis([0, 30, 1e-6, 0.5])\n",
        "plt.xscale('linear')\n",
        "plt.yscale('log')\n",
        "plt.xlabel('EbNo(dB)')\n",
        "plt.ylabel('BER')\n",
        "plt.grid(True)\n",
        "plt.title('16PSK Modulation')\n",
        "plt.show()"
      ],
      "execution_count": 31,
      "outputs": [
        {
          "output_type": "display_data",
          "data": {
            "image/png": "[encoded data removed]",
            "text/plain": [
              "<Figure size 432x288 with 1 Axes>"
            ]
          },
          "metadata": {
            "tags": [],
            "needs_background": "light"
          }
        }
      ]
    },
    {
      "cell_type": "code",
      "metadata": {
        "id": "vlS2VSx7F5Xq",
        "colab": {
          "base_uri": "https://localhost:8080/"
        },
        "outputId": "43254d0b-4321-4e42-c06e-bc2610e9d53e"
      },
      "source": [
        "from numpy import sqrt\n",
        "from numpy.random import rand, randn\n",
        "import matplotlib.pyplot as plt\n",
        "  \n",
        "N = 5000000\n",
        "EbNodB_range = range(0,30)\n",
        "itr = len(EbNodB_range)\n",
        "ber5 = [None]*itr\n",
        "R = 1/math.log2(32)*math.sin(math.pi/32)\n",
        "for n in range (0, itr): \n",
        " \n",
        "    EbNodB = EbNodB_range[n]   \n",
        "    EbNo=10.0**(EbNodB/10.0)\n",
        "    x = 2 * (rand(N) >= 0.5) - 1\n",
        "    noise_std = 1/sqrt(2*R*EbNo)\n",
        "    y = x + noise_std * randn(N)\n",
        "    y_d = 2 * (y >= 0) - 1\n",
        "    errors = (x != y_d).sum()\n",
        "    ber5[n] = 1.0 * errors / N\n",
        "    \n",
        "    print (\"EbNodB:\", EbNodB)\n",
        "    print (\"Error bits:\", errors)\n",
        "    print (\"Error probability:\", ber5[n])\n",
        "        \n"
      ],
      "execution_count": 21,
      "outputs": [
        {
          "output_type": "stream",
          "text": [
            "EbNodB: 0\n",
            "Error bits: 2109238\n",
            "Error probability: 0.4218476\n",
            "EbNodB: 1\n",
            "Error bits: 2060262\n",
            "Error probability: 0.4120524\n",
            "EbNodB: 2\n",
            "Error bits: 2007613\n",
            "Error probability: 0.4015226\n",
            "EbNodB: 3\n",
            "Error bits: 1948458\n",
            "Error probability: 0.3896916\n",
            "EbNodB: 4\n",
            "Error bits: 1883877\n",
            "Error probability: 0.3767754\n",
            "EbNodB: 5\n",
            "Error bits: 1813134\n",
            "Error probability: 0.3626268\n",
            "EbNodB: 6\n",
            "Error bits: 1732272\n",
            "Error probability: 0.3464544\n",
            "EbNodB: 7\n",
            "Error bits: 1644183\n",
            "Error probability: 0.3288366\n",
            "EbNodB: 8\n",
            "Error bits: 1548368\n",
            "Error probability: 0.3096736\n",
            "EbNodB: 9\n",
            "Error bits: 1441741\n",
            "Error probability: 0.2883482\n",
            "EbNodB: 10\n",
            "Error bits: 1328783\n",
            "Error probability: 0.2657566\n",
            "EbNodB: 11\n",
            "Error bits: 1205539\n",
            "Error probability: 0.2411078\n",
            "EbNodB: 12\n",
            "Error bits: 1076513\n",
            "Error probability: 0.2153026\n",
            "EbNodB: 13\n",
            "Error bits: 941377\n",
            "Error probability: 0.1882754\n",
            "EbNodB: 14\n",
            "Error bits: 803588\n",
            "Error probability: 0.1607176\n",
            "EbNodB: 15\n",
            "Error bits: 664200\n",
            "Error probability: 0.13284\n",
            "EbNodB: 16\n",
            "Error bits: 528710\n",
            "Error probability: 0.105742\n",
            "EbNodB: 17\n",
            "Error bits: 401111\n",
            "Error probability: 0.0802222\n",
            "EbNodB: 18\n",
            "Error bits: 289500\n",
            "Error probability: 0.0579\n",
            "EbNodB: 19\n",
            "Error bits: 194375\n",
            "Error probability: 0.038875\n",
            "EbNodB: 20\n",
            "Error bits: 118702\n",
            "Error probability: 0.0237404\n",
            "EbNodB: 21\n",
            "Error bits: 65535\n",
            "Error probability: 0.013107\n",
            "EbNodB: 22\n",
            "Error bits: 31899\n",
            "Error probability: 0.0063798\n",
            "EbNodB: 23\n",
            "Error bits: 12907\n",
            "Error probability: 0.0025814\n",
            "EbNodB: 24\n",
            "Error bits: 4361\n",
            "Error probability: 0.0008722\n",
            "EbNodB: 25\n",
            "Error bits: 1038\n",
            "Error probability: 0.0002076\n",
            "EbNodB: 26\n",
            "Error bits: 185\n",
            "Error probability: 3.7e-05\n",
            "EbNodB: 27\n",
            "Error bits: 14\n",
            "Error probability: 2.8e-06\n",
            "EbNodB: 28\n",
            "Error bits: 1\n",
            "Error probability: 2e-07\n",
            "EbNodB: 29\n",
            "Error bits: 0\n",
            "Error probability: 0.0\n"
          ],
          "name": "stdout"
        }
      ]
    },
    {
      "cell_type": "code",
      "metadata": {
        "id": "IIzyVg0K24kl",
        "colab": {
          "base_uri": "https://localhost:8080/",
          "height": 295
        },
        "outputId": "54e598ba-5de0-450e-8d9a-11a5f909252e"
      },
      "source": [
        "plt.plot(EbNodB_range, ber1, 'bo', EbNodB_range, ber1, 'k')\n",
        "plt.plot(EbNodB_range, ber2, 'bo', EbNodB_range, ber2, 'k')\n",
        "plt.plot(EbNodB_range, ber3, 'bo', EbNodB_range, ber3, 'k')\n",
        "plt.plot(EbNodB_range, ber4, 'bo', EbNodB_range, ber4, 'k')\n",
        "plt.plot(EbNodB_range, ber5, 'bo', EbNodB_range, ber5, 'k')\n",
        "plt.axis([0, 30, 1e-6, 0.5])\n",
        "plt.xscale('linear')\n",
        "plt.yscale('log')\n",
        "plt.xlabel('EbNo(dB)')\n",
        "plt.ylabel('BER')\n",
        "plt.grid(True)\n",
        "plt.title('QPSK Modulation')\n",
        "plt.show()"
      ],
      "execution_count": 45,
      "outputs": [
        {
          "output_type": "display_data",
          "data": {
            "image/png": "[encoded data removed]",
            "text/plain": [
              "<Figure size 432x288 with 1 Axes>"
            ]
          },
          "metadata": {
            "tags": [],
            "needs_background": "light"
          }
        }
      ]
    }
  ]
}