{
  "nbformat": 4,
  "nbformat_minor": 0,
  "metadata": {
    "colab": {
      "name": "Theory-1.ipynb",
      "provenance": [],
      "collapsed_sections": [],
      "include_colab_link": true
    },
    "kernelspec": {
      "name": "python3",
      "display_name": "Python 3"
    }
  },
  "cells": [
    {
      "cell_type": "markdown",
      "metadata": {
        "id": "view-in-github",
        "colab_type": "text"
      },
      "source": [
        "<a href=\"https://colab.research.google.com/github/iamviji/project/blob/master/PostMidTerm/Theory_3.ipynb\" target=\"_parent\"><img src=\"https://colab.research.google.com/assets/colab-badge.svg\" alt=\"Open In Colab\"/></a>"
      ]
    },
    {
      "cell_type": "code",
      "metadata": {
        "colab": {
          "base_uri": "https://localhost:8080/"
        },
        "id": "JhA53stPuyG0",
        "outputId": "e27fcfde-513c-4b3b-e8b8-d57b1c3be84f"
      },
      "source": [
        "import math\n",
        "print (math.sin(math.pi/4))\n"
      ],
      "execution_count": 1,
      "outputs": [
        {
          "output_type": "stream",
          "text": [
            "0.7071067811865475\n"
          ],
          "name": "stdout"
        }
      ]
    },
    {
      "cell_type": "code",
      "metadata": {
        "id": "nga1w8Rzs_WZ",
        "colab": {
          "base_uri": "https://localhost:8080/"
        },
        "outputId": "69699d83-219e-4cbd-c0c2-a501fca16cb8"
      },
      "source": [
        "from numpy import sqrt\n",
        "from numpy.random import rand, randn\n",
        "import matplotlib.pyplot as plt\n",
        "  \n",
        "N = 5000000\n",
        "EbNodB_range = range(0,30)\n",
        "itr = len(EbNodB_range)\n",
        "ber1 = [None]*itr\n",
        "\n",
        "for n in range (0, itr): \n",
        " \n",
        "    EbNodB = EbNodB_range[n]   \n",
        "    EbNo=10.0**(EbNodB/10.0) \n",
        "    x = 2 * (rand(N) >= 0.5) - 1\n",
        "    noise_std = 1/sqrt(2*EbNo) # 1/sqrt(2 x R x EbNo)\n",
        "    y = x + noise_std * randn(N)\n",
        "    y_d = 2 * (y >= 0) - 1\n",
        "    errors = (x != y_d).sum()\n",
        "    ber1[n] = 1.0 * errors / N\n",
        "    \n",
        "    print (\"EbNodB:\", EbNodB)\n",
        "    print (\"Error bits:\", errors)\n",
        "    print (\"Error probability:\", ber1[n])\n",
        "        \n"
      ],
      "execution_count": 2,
      "outputs": [
        {
          "output_type": "stream",
          "text": [
            "EbNodB: 0\n",
            "Error bits: 392849\n",
            "Error probability: 0.0785698\n",
            "EbNodB: 1\n",
            "Error bits: 280345\n",
            "Error probability: 0.056069\n",
            "EbNodB: 2\n",
            "Error bits: 186335\n",
            "Error probability: 0.037267\n",
            "EbNodB: 3\n",
            "Error bits: 114565\n",
            "Error probability: 0.022913\n",
            "EbNodB: 4\n",
            "Error bits: 62442\n",
            "Error probability: 0.0124884\n",
            "EbNodB: 5\n",
            "Error bits: 29839\n",
            "Error probability: 0.0059678\n",
            "EbNodB: 6\n",
            "Error bits: 11899\n",
            "Error probability: 0.0023798\n",
            "EbNodB: 7\n",
            "Error bits: 3934\n",
            "Error probability: 0.0007868\n",
            "EbNodB: 8\n",
            "Error bits: 955\n",
            "Error probability: 0.000191\n",
            "EbNodB: 9\n",
            "Error bits: 144\n",
            "Error probability: 2.88e-05\n",
            "EbNodB: 10\n",
            "Error bits: 21\n",
            "Error probability: 4.2e-06\n",
            "EbNodB: 11\n",
            "Error bits: 1\n",
            "Error probability: 2e-07\n",
            "EbNodB: 12\n",
            "Error bits: 0\n",
            "Error probability: 0.0\n",
            "EbNodB: 13\n",
            "Error bits: 0\n",
            "Error probability: 0.0\n",
            "EbNodB: 14\n",
            "Error bits: 0\n",
            "Error probability: 0.0\n",
            "EbNodB: 15\n",
            "Error bits: 0\n",
            "Error probability: 0.0\n",
            "EbNodB: 16\n",
            "Error bits: 0\n",
            "Error probability: 0.0\n",
            "EbNodB: 17\n",
            "Error bits: 0\n",
            "Error probability: 0.0\n",
            "EbNodB: 18\n",
            "Error bits: 0\n",
            "Error probability: 0.0\n",
            "EbNodB: 19\n",
            "Error bits: 0\n",
            "Error probability: 0.0\n",
            "EbNodB: 20\n",
            "Error bits: 0\n",
            "Error probability: 0.0\n",
            "EbNodB: 21\n",
            "Error bits: 0\n",
            "Error probability: 0.0\n",
            "EbNodB: 22\n",
            "Error bits: 0\n",
            "Error probability: 0.0\n",
            "EbNodB: 23\n",
            "Error bits: 0\n",
            "Error probability: 0.0\n",
            "EbNodB: 24\n",
            "Error bits: 0\n",
            "Error probability: 0.0\n",
            "EbNodB: 25\n",
            "Error bits: 0\n",
            "Error probability: 0.0\n",
            "EbNodB: 26\n",
            "Error bits: 0\n",
            "Error probability: 0.0\n",
            "EbNodB: 27\n",
            "Error bits: 0\n",
            "Error probability: 0.0\n",
            "EbNodB: 28\n",
            "Error bits: 0\n",
            "Error probability: 0.0\n",
            "EbNodB: 29\n",
            "Error bits: 0\n",
            "Error probability: 0.0\n"
          ],
          "name": "stdout"
        }
      ]
    },
    {
      "cell_type": "code",
      "metadata": {
        "id": "D-dpH17uz5lV",
        "colab": {
          "base_uri": "https://localhost:8080/",
          "height": 312
        },
        "outputId": "f446d5eb-b2f5-4388-f994-1ef1528208ff"
      },
      "source": [
        "plt.plot(EbNodB_range, ber1, 'bo', EbNodB_range, ber1, 'k')\n",
        "plt.axis([0, 10, 1e-6, 0.1])\n",
        "plt.xscale('linear')\n",
        "plt.yscale('log')\n",
        "plt.xlabel('EbNo(dB)')\n",
        "plt.ylabel('BER')\n",
        "plt.grid(True)\n",
        "plt.title('BPSK Modulation')\n",
        "plt.show()\n",
        "print (ber1)"
      ],
      "execution_count": 3,
      "outputs": [
        {
          "output_type": "display_data",
          "data": {
            "image/png": "[encoded data removed]",
            "text/plain": [
              "<Figure size 432x288 with 1 Axes>"
            ]
          },
          "metadata": {
            "tags": [],
            "needs_background": "light"
          }
        },
        {
          "output_type": "stream",
          "text": [
            "[0.0785698, 0.056069, 0.037267, 0.022913, 0.0124884, 0.0059678, 0.0023798, 0.0007868, 0.000191, 2.88e-05, 4.2e-06, 2e-07, 0.0, 0.0, 0.0, 0.0, 0.0, 0.0, 0.0, 0.0, 0.0, 0.0, 0.0, 0.0, 0.0, 0.0, 0.0, 0.0, 0.0, 0.0]\n"
          ],
          "name": "stdout"
        }
      ]
    },
    {
      "cell_type": "code",
      "metadata": {
        "id": "Pny7wCHun0YJ"
      },
      "source": [
        ""
      ],
      "execution_count": null,
      "outputs": []
    },
    {
      "cell_type": "code",
      "metadata": {
        "id": "Pb7oxtJ9tnZt",
        "colab": {
          "base_uri": "https://localhost:8080/"
        },
        "outputId": "b7ea18f1-9be4-4954-b2a4-426c09a4399e"
      },
      "source": [
        "from numpy import sqrt\n",
        "from numpy.random import rand, randn\n",
        "import matplotlib.pyplot as plt\n",
        "  \n",
        "N = 5000000\n",
        "EbNodB_range = range(0,30)\n",
        "itr = len(EbNodB_range)\n",
        "ber2 = [None]*itr\n",
        "fact1 = 2**(1-1)/((2**1)-1)\n",
        "print (fact1)\n",
        "fact2 = 2**(2-1)/((2**2)-1)\n",
        "fact3 = fact2/fact1\n",
        "print (fact2/fact1)\n",
        "for n in range (0, itr): \n",
        " \n",
        "    EbNodB = EbNodB_range[n]   \n",
        "    EbNo=10.0**(EbNodB/10.0)\n",
        "    x = 2 * (rand(N) >= 0.5) - 1\n",
        "    noise_std = 1/sqrt(2*fact3**2*EbNo)\n",
        "    y = x + noise_std * randn(N)\n",
        "    y_d = 2 * (y >= 0) - 1\n",
        "    errors = (x != y_d).sum()\n",
        "    ber2[n] = 1.0 * errors / N\n",
        "    \n",
        "    print (\"EbNodB:\", EbNodB)\n",
        "    print (\"Error bits:\", errors)\n",
        "    print (\"Error probability:\", ber2[n])\n",
        "        \n"
      ],
      "execution_count": 16,
      "outputs": [
        {
          "output_type": "stream",
          "text": [
            "1.0\n",
            "0.6666666666666666\n",
            "EbNodB: 0\n",
            "Error bits: 864771\n",
            "Error probability: 0.1729542\n",
            "EbNodB: 1\n",
            "Error bits: 725268\n",
            "Error probability: 0.1450536\n",
            "EbNodB: 2\n",
            "Error bits: 587520\n",
            "Error probability: 0.117504\n",
            "EbNodB: 3\n",
            "Error bits: 457336\n",
            "Error probability: 0.0914672\n",
            "EbNodB: 4\n",
            "Error bits: 337097\n",
            "Error probability: 0.0674194\n",
            "EbNodB: 5\n",
            "Error bits: 234227\n",
            "Error probability: 0.0468454\n",
            "EbNodB: 6\n",
            "Error bits: 149921\n",
            "Error probability: 0.0299842\n",
            "EbNodB: 7\n",
            "Error bits: 87164\n",
            "Error probability: 0.0174328\n",
            "EbNodB: 8\n",
            "Error bits: 44267\n",
            "Error probability: 0.0088534\n",
            "EbNodB: 9\n",
            "Error bits: 19526\n",
            "Error probability: 0.0039052\n",
            "EbNodB: 10\n",
            "Error bits: 7218\n",
            "Error probability: 0.0014436\n",
            "EbNodB: 11\n",
            "Error bits: 2042\n",
            "Error probability: 0.0004084\n",
            "EbNodB: 12\n",
            "Error bits: 437\n",
            "Error probability: 8.74e-05\n",
            "EbNodB: 13\n",
            "Error bits: 67\n",
            "Error probability: 1.34e-05\n",
            "EbNodB: 14\n",
            "Error bits: 9\n",
            "Error probability: 1.8e-06\n",
            "EbNodB: 15\n",
            "Error bits: 1\n",
            "Error probability: 2e-07\n",
            "EbNodB: 16\n",
            "Error bits: 0\n",
            "Error probability: 0.0\n",
            "EbNodB: 17\n",
            "Error bits: 0\n",
            "Error probability: 0.0\n",
            "EbNodB: 18\n",
            "Error bits: 0\n",
            "Error probability: 0.0\n",
            "EbNodB: 19\n",
            "Error bits: 0\n",
            "Error probability: 0.0\n",
            "EbNodB: 20\n",
            "Error bits: 0\n",
            "Error probability: 0.0\n",
            "EbNodB: 21\n",
            "Error bits: 0\n",
            "Error probability: 0.0\n",
            "EbNodB: 22\n",
            "Error bits: 0\n",
            "Error probability: 0.0\n",
            "EbNodB: 23\n",
            "Error bits: 0\n",
            "Error probability: 0.0\n",
            "EbNodB: 24\n",
            "Error bits: 0\n",
            "Error probability: 0.0\n",
            "EbNodB: 25\n",
            "Error bits: 0\n",
            "Error probability: 0.0\n",
            "EbNodB: 26\n",
            "Error bits: 0\n",
            "Error probability: 0.0\n",
            "EbNodB: 27\n",
            "Error bits: 0\n",
            "Error probability: 0.0\n",
            "EbNodB: 28\n",
            "Error bits: 0\n",
            "Error probability: 0.0\n",
            "EbNodB: 29\n",
            "Error bits: 0\n",
            "Error probability: 0.0\n"
          ],
          "name": "stdout"
        }
      ]
    },
    {
      "cell_type": "code",
      "metadata": {
        "id": "83nv5LjGz8ez",
        "colab": {
          "base_uri": "https://localhost:8080/",
          "height": 295
        },
        "outputId": "db4ca37f-17db-40c4-879c-cc47ddba5d28"
      },
      "source": [
        "plt.plot(EbNodB_range, ber1, 'bo', EbNodB_range, ber1, 'k')\n",
        "plt.plot(EbNodB_range, ber2, 'bo', EbNodB_range, ber2, 'k')\n",
        "plt.axis([0, 20, 1e-6, 0.5])\n",
        "plt.xscale('linear')\n",
        "plt.yscale('log')\n",
        "plt.xlabel('EbNo(dB)')\n",
        "plt.ylabel('BER')\n",
        "plt.grid(True)\n",
        "plt.title('QPSK Modulation')\n",
        "plt.show()"
      ],
      "execution_count": 17,
      "outputs": [
        {
          "output_type": "display_data",
          "data": {
            "image/png": "[encoded data removed]",
            "text/plain": [
              "<Figure size 432x288 with 1 Axes>"
            ]
          },
          "metadata": {
            "tags": [],
            "needs_background": "light"
          }
        }
      ]
    },
    {
      "cell_type": "code",
      "metadata": {
        "id": "J0BtEhxpuXdr",
        "colab": {
          "base_uri": "https://localhost:8080/"
        },
        "outputId": "33cc5bea-459f-40ab-ec46-8d2a174831ab"
      },
      "source": [
        "from numpy import sqrt\n",
        "from numpy.random import rand, randn\n",
        "import matplotlib.pyplot as plt\n",
        "  \n",
        "N = 5000000\n",
        "EbNodB_range = range(0,30)\n",
        "itr = len(EbNodB_range)\n",
        "ber3 = [None]*itr\n",
        "\n",
        "fact1 = 2**(1-1)/((2**1)-1)\n",
        "print (fact1)\n",
        "fact2 = 2**(3-1)/((2**3)-1)\n",
        "fact3 = fact2/fact1\n",
        "print (fact3)\n",
        "\n",
        "for n in range (0, itr): \n",
        " \n",
        "    EbNodB = EbNodB_range[n]   \n",
        "    EbNo=10.0**(EbNodB/10.0)\n",
        "    x = 2 * (rand(N) >= 0.5) - 1\n",
        "    noise_std = 1/sqrt(2*fact3**2*EbNo/3)\n",
        "    y = x + noise_std * randn(N)\n",
        "    y_d = 2 * (y >= 0) - 1\n",
        "    errors = (x != y_d).sum()\n",
        "    ber3[n] = 1.0 * errors / N\n",
        "    \n",
        "    print (\"EbNodB:\", EbNodB)\n",
        "    print (\"Error bits:\", errors)\n",
        "    print (\"Error probability:\", ber3[n])\n",
        "        \n"
      ],
      "execution_count": 18,
      "outputs": [
        {
          "output_type": "stream",
          "text": [
            "1.0\n",
            "0.5714285714285714\n",
            "EbNodB: 0\n",
            "Error bits: 1603563\n",
            "Error probability: 0.3207126\n",
            "EbNodB: 1\n",
            "Error bits: 1501277\n",
            "Error probability: 0.3002554\n",
            "EbNodB: 2\n",
            "Error bits: 1393355\n",
            "Error probability: 0.278671\n",
            "EbNodB: 3\n",
            "Error bits: 1274855\n",
            "Error probability: 0.254971\n",
            "EbNodB: 4\n",
            "Error bits: 1148842\n",
            "Error probability: 0.2297684\n",
            "EbNodB: 5\n",
            "Error bits: 1017235\n",
            "Error probability: 0.203447\n",
            "EbNodB: 6\n",
            "Error bits: 879979\n",
            "Error probability: 0.1759958\n",
            "EbNodB: 7\n",
            "Error bits: 740337\n",
            "Error probability: 0.1480674\n",
            "EbNodB: 8\n",
            "Error bits: 603765\n",
            "Error probability: 0.120753\n",
            "EbNodB: 9\n",
            "Error bits: 471917\n",
            "Error probability: 0.0943834\n",
            "EbNodB: 10\n",
            "Error bits: 351189\n",
            "Error probability: 0.0702378\n",
            "EbNodB: 11\n",
            "Error bits: 244461\n",
            "Error probability: 0.0488922\n",
            "EbNodB: 12\n",
            "Error bits: 158414\n",
            "Error probability: 0.0316828\n",
            "EbNodB: 13\n",
            "Error bits: 92921\n",
            "Error probability: 0.0185842\n",
            "EbNodB: 14\n",
            "Error bits: 48348\n",
            "Error probability: 0.0096696\n",
            "EbNodB: 15\n",
            "Error bits: 21682\n",
            "Error probability: 0.0043364\n",
            "EbNodB: 16\n",
            "Error bits: 8206\n",
            "Error probability: 0.0016412\n",
            "EbNodB: 17\n",
            "Error bits: 2349\n",
            "Error probability: 0.0004698\n",
            "EbNodB: 18\n",
            "Error bits: 570\n",
            "Error probability: 0.000114\n",
            "EbNodB: 19\n",
            "Error bits: 77\n",
            "Error probability: 1.54e-05\n",
            "EbNodB: 20\n",
            "Error bits: 10\n",
            "Error probability: 2e-06\n",
            "EbNodB: 21\n",
            "Error bits: 0\n",
            "Error probability: 0.0\n",
            "EbNodB: 22\n",
            "Error bits: 0\n",
            "Error probability: 0.0\n",
            "EbNodB: 23\n",
            "Error bits: 0\n",
            "Error probability: 0.0\n",
            "EbNodB: 24\n",
            "Error bits: 0\n",
            "Error probability: 0.0\n",
            "EbNodB: 25\n",
            "Error bits: 0\n",
            "Error probability: 0.0\n",
            "EbNodB: 26\n",
            "Error bits: 0\n",
            "Error probability: 0.0\n",
            "EbNodB: 27\n",
            "Error bits: 0\n",
            "Error probability: 0.0\n",
            "EbNodB: 28\n",
            "Error bits: 0\n",
            "Error probability: 0.0\n",
            "EbNodB: 29\n",
            "Error bits: 0\n",
            "Error probability: 0.0\n"
          ],
          "name": "stdout"
        }
      ]
    },
    {
      "cell_type": "code",
      "metadata": {
        "id": "R6dhOzT41RE9",
        "colab": {
          "base_uri": "https://localhost:8080/",
          "height": 295
        },
        "outputId": "433da153-1f1c-4c2a-ab28-765abe672b77"
      },
      "source": [
        "plt.plot(EbNodB_range, ber1, 'bo', EbNodB_range, ber1, 'k')\n",
        "plt.plot(EbNodB_range, ber2, 'bo', EbNodB_range, ber2, 'k')\n",
        "plt.plot(EbNodB_range, ber3, 'bo', EbNodB_range, ber3, 'k')\n",
        "plt.axis([0, 30, 1e-6, 0.5])\n",
        "plt.xscale('linear')\n",
        "plt.yscale('log')\n",
        "plt.xlabel('EbNo(dB)')\n",
        "plt.ylabel('BER')\n",
        "plt.grid(True)\n",
        "plt.title('8PSK Modulation')\n",
        "plt.show()"
      ],
      "execution_count": 19,
      "outputs": [
        {
          "output_type": "display_data",
          "data": {
            "image/png": "[encoded data removed]",
            "text/plain": [
              "<Figure size 432x288 with 1 Axes>"
            ]
          },
          "metadata": {
            "tags": [],
            "needs_background": "light"
          }
        }
      ]
    },
    {
      "cell_type": "code",
      "metadata": {
        "id": "Gj5tEmHTFvJs",
        "colab": {
          "base_uri": "https://localhost:8080/"
        },
        "outputId": "436a17c1-a716-46c3-8364-24d554a7fb42"
      },
      "source": [
        "from numpy import sqrt\n",
        "from numpy.random import rand, randn\n",
        "import matplotlib.pyplot as plt\n",
        "  \n",
        "N = 5000000\n",
        "EbNodB_range = range(0,30)\n",
        "itr = len(EbNodB_range)\n",
        "ber4 = [None]*itr\n",
        "\n",
        "fact1 = 2**(1-1)/((2**1)-1)\n",
        "print (fact1)\n",
        "fact2 = 2**(4-1)/((2**4)-1)\n",
        "fact3 = fact2/fact1\n",
        "print (fact3)\n",
        "\n",
        "for n in range (0, itr): \n",
        " \n",
        "    EbNodB = EbNodB_range[n]   \n",
        "    EbNo=10.0**(EbNodB/10.0)\n",
        "    x = 2 * (rand(N) >= 0.5) - 1\n",
        "    noise_std = 1/sqrt(2*fact3**2*EbNo/4)\n",
        "    y = x + noise_std * randn(N)\n",
        "    y_d = 2 * (y >= 0) - 1\n",
        "    errors = (x != y_d).sum()\n",
        "    ber4[n] = 1.0 * errors / N\n",
        "    \n",
        "    print (\"EbNodB:\", EbNodB)\n",
        "    print (\"Error bits:\", errors)\n",
        "    print (\"Error probability:\", ber4[n])\n",
        "        \n"
      ],
      "execution_count": 20,
      "outputs": [
        {
          "output_type": "stream",
          "text": [
            "1.0\n",
            "0.5333333333333333\n",
            "EbNodB: 0\n",
            "Error bits: 1763335\n",
            "Error probability: 0.352667\n",
            "EbNodB: 1\n",
            "Error bits: 1678844\n",
            "Error probability: 0.3357688\n",
            "EbNodB: 2\n",
            "Error bits: 1587838\n",
            "Error probability: 0.3175676\n",
            "EbNodB: 3\n",
            "Error bits: 1485371\n",
            "Error probability: 0.2970742\n",
            "EbNodB: 4\n",
            "Error bits: 1373765\n",
            "Error probability: 0.274753\n",
            "EbNodB: 5\n",
            "Error bits: 1254845\n",
            "Error probability: 0.250969\n",
            "EbNodB: 6\n",
            "Error bits: 1128988\n",
            "Error probability: 0.2257976\n",
            "EbNodB: 7\n",
            "Error bits: 997116\n",
            "Error probability: 0.1994232\n",
            "EbNodB: 8\n",
            "Error bits: 858983\n",
            "Error probability: 0.1717966\n",
            "EbNodB: 9\n",
            "Error bits: 720250\n",
            "Error probability: 0.14405\n",
            "EbNodB: 10\n",
            "Error bits: 583610\n",
            "Error probability: 0.116722\n",
            "EbNodB: 11\n",
            "Error bits: 452351\n",
            "Error probability: 0.0904702\n",
            "EbNodB: 12\n",
            "Error bits: 333355\n",
            "Error probability: 0.066671\n",
            "EbNodB: 13\n",
            "Error bits: 230367\n",
            "Error probability: 0.0460734\n",
            "EbNodB: 14\n",
            "Error bits: 146975\n",
            "Error probability: 0.029395\n",
            "EbNodB: 15\n",
            "Error bits: 84640\n",
            "Error probability: 0.016928\n",
            "EbNodB: 16\n",
            "Error bits: 43266\n",
            "Error probability: 0.0086532\n",
            "EbNodB: 17\n",
            "Error bits: 18848\n",
            "Error probability: 0.0037696\n",
            "EbNodB: 18\n",
            "Error bits: 6918\n",
            "Error probability: 0.0013836\n",
            "EbNodB: 19\n",
            "Error bits: 1981\n",
            "Error probability: 0.0003962\n",
            "EbNodB: 20\n",
            "Error bits: 400\n",
            "Error probability: 8e-05\n",
            "EbNodB: 21\n",
            "Error bits: 53\n",
            "Error probability: 1.06e-05\n",
            "EbNodB: 22\n",
            "Error bits: 2\n",
            "Error probability: 4e-07\n",
            "EbNodB: 23\n",
            "Error bits: 0\n",
            "Error probability: 0.0\n",
            "EbNodB: 24\n",
            "Error bits: 0\n",
            "Error probability: 0.0\n",
            "EbNodB: 25\n",
            "Error bits: 0\n",
            "Error probability: 0.0\n",
            "EbNodB: 26\n",
            "Error bits: 0\n",
            "Error probability: 0.0\n",
            "EbNodB: 27\n",
            "Error bits: 0\n",
            "Error probability: 0.0\n",
            "EbNodB: 28\n",
            "Error bits: 0\n",
            "Error probability: 0.0\n",
            "EbNodB: 29\n",
            "Error bits: 0\n",
            "Error probability: 0.0\n"
          ],
          "name": "stdout"
        }
      ]
    },
    {
      "cell_type": "code",
      "metadata": {
        "id": "PjEIfKNE1gjh",
        "colab": {
          "base_uri": "https://localhost:8080/",
          "height": 295
        },
        "outputId": "bd7ca5a0-359c-45d0-9742-4745cce419ab"
      },
      "source": [
        "plt.plot(EbNodB_range, ber1, 'bo', EbNodB_range, ber1, 'k')\n",
        "plt.plot(EbNodB_range, ber2, 'bo', EbNodB_range, ber2, 'k')\n",
        "plt.plot(EbNodB_range, ber3, 'bo', EbNodB_range, ber3, 'k')\n",
        "plt.plot(EbNodB_range, ber4, 'bo', EbNodB_range, ber4, 'k')\n",
        "plt.axis([0, 30, 1e-6, 0.5])\n",
        "plt.xscale('linear')\n",
        "plt.yscale('log')\n",
        "plt.xlabel('EbNo(dB)')\n",
        "plt.ylabel('BER')\n",
        "plt.grid(True)\n",
        "plt.title('16PSK Modulation')\n",
        "plt.show()"
      ],
      "execution_count": 21,
      "outputs": [
        {
          "output_type": "display_data",
          "data": {
            "image/png": "[encoded data removed]",
            "text/plain": [
              "<Figure size 432x288 with 1 Axes>"
            ]
          },
          "metadata": {
            "tags": [],
            "needs_background": "light"
          }
        }
      ]
    },
    {
      "cell_type": "code",
      "metadata": {
        "id": "vlS2VSx7F5Xq",
        "colab": {
          "base_uri": "https://localhost:8080/"
        },
        "outputId": "1032f1e1-93c0-48a2-c771-d041afa8b3d6"
      },
      "source": [
        "from numpy import sqrt\n",
        "from numpy.random import rand, randn\n",
        "import matplotlib.pyplot as plt\n",
        "  \n",
        "N = 5000000\n",
        "EbNodB_range = range(0,30)\n",
        "itr = len(EbNodB_range)\n",
        "ber5 = [None]*itr\n",
        "\n",
        "fact1 = 2**(1-1)/((2**1)-1)\n",
        "print (fact1)\n",
        "fact2 = 2**(5-1)/((2**5)-1)\n",
        "fact3 = fact2/fact1\n",
        "print (fact3)\n",
        "\n",
        "for n in range (0, itr): \n",
        " \n",
        "    EbNodB = EbNodB_range[n]   \n",
        "    EbNo=10.0**(EbNodB/10.0)\n",
        "    x = 2 * (rand(N) >= 0.5) - 1\n",
        "    noise_std = 1/sqrt(2*fact3**2*EbNo/5)\n",
        "    y = x + noise_std * randn(N)\n",
        "    y_d = 2 * (y >= 0) - 1\n",
        "    errors = (x != y_d).sum()\n",
        "    ber5[n] = 1.0 * errors / N\n",
        "    \n",
        "    print (\"EbNodB:\", EbNodB)\n",
        "    print (\"Error bits:\", errors)\n",
        "    print (\"Error probability:\", ber5[n])\n",
        "        \n"
      ],
      "execution_count": 22,
      "outputs": [
        {
          "output_type": "stream",
          "text": [
            "1.0\n",
            "0.5161290322580645\n",
            "EbNodB: 0\n",
            "Error bits: 1860800\n",
            "Error probability: 0.37216\n",
            "EbNodB: 1\n",
            "Error bits: 1784059\n",
            "Error probability: 0.3568118\n",
            "EbNodB: 2\n",
            "Error bits: 1704457\n",
            "Error probability: 0.3408914\n",
            "EbNodB: 3\n",
            "Error bits: 1612597\n",
            "Error probability: 0.3225194\n",
            "EbNodB: 4\n",
            "Error bits: 1512659\n",
            "Error probability: 0.3025318\n",
            "EbNodB: 5\n",
            "Error bits: 1404804\n",
            "Error probability: 0.2809608\n",
            "EbNodB: 6\n",
            "Error bits: 1286476\n",
            "Error probability: 0.2572952\n",
            "EbNodB: 7\n",
            "Error bits: 1163105\n",
            "Error probability: 0.232621\n",
            "EbNodB: 8\n",
            "Error bits: 1029875\n",
            "Error probability: 0.205975\n",
            "EbNodB: 9\n",
            "Error bits: 893607\n",
            "Error probability: 0.1787214\n",
            "EbNodB: 10\n",
            "Error bits: 755020\n",
            "Error probability: 0.151004\n",
            "EbNodB: 11\n",
            "Error bits: 617019\n",
            "Error probability: 0.1234038\n",
            "EbNodB: 12\n",
            "Error bits: 483102\n",
            "Error probability: 0.0966204\n",
            "EbNodB: 13\n",
            "Error bits: 360832\n",
            "Error probability: 0.0721664\n",
            "EbNodB: 14\n",
            "Error bits: 254712\n",
            "Error probability: 0.0509424\n",
            "EbNodB: 15\n",
            "Error bits: 165772\n",
            "Error probability: 0.0331544\n",
            "EbNodB: 16\n",
            "Error bits: 98282\n",
            "Error probability: 0.0196564\n",
            "EbNodB: 17\n",
            "Error bits: 51910\n",
            "Error probability: 0.010382\n",
            "EbNodB: 18\n",
            "Error bits: 23888\n",
            "Error probability: 0.0047776\n",
            "EbNodB: 19\n",
            "Error bits: 9105\n",
            "Error probability: 0.001821\n",
            "EbNodB: 20\n",
            "Error bits: 2650\n",
            "Error probability: 0.00053\n",
            "EbNodB: 21\n",
            "Error bits: 624\n",
            "Error probability: 0.0001248\n",
            "EbNodB: 22\n",
            "Error bits: 81\n",
            "Error probability: 1.62e-05\n",
            "EbNodB: 23\n",
            "Error bits: 8\n",
            "Error probability: 1.6e-06\n",
            "EbNodB: 24\n",
            "Error bits: 0\n",
            "Error probability: 0.0\n",
            "EbNodB: 25\n",
            "Error bits: 0\n",
            "Error probability: 0.0\n",
            "EbNodB: 26\n",
            "Error bits: 0\n",
            "Error probability: 0.0\n",
            "EbNodB: 27\n",
            "Error bits: 0\n",
            "Error probability: 0.0\n",
            "EbNodB: 28\n",
            "Error bits: 0\n",
            "Error probability: 0.0\n",
            "EbNodB: 29\n",
            "Error bits: 0\n",
            "Error probability: 0.0\n"
          ],
          "name": "stdout"
        }
      ]
    },
    {
      "cell_type": "code",
      "metadata": {
        "id": "IIzyVg0K24kl",
        "colab": {
          "base_uri": "https://localhost:8080/",
          "height": 295
        },
        "outputId": "f36f6094-df8e-4677-b80b-f151b297d49d"
      },
      "source": [
        "plt.plot(EbNodB_range, ber1, 'bo', EbNodB_range, ber1, 'k')\n",
        "plt.plot(EbNodB_range, ber2, 'bo', EbNodB_range, ber2, 'k')\n",
        "plt.plot(EbNodB_range, ber3, 'bo', EbNodB_range, ber3, 'k')\n",
        "plt.plot(EbNodB_range, ber4, 'bo', EbNodB_range, ber4, 'k')\n",
        "plt.plot(EbNodB_range, ber5, 'bo', EbNodB_range, ber5, 'k')\n",
        "plt.axis([0, 30, 1e-6, 0.5])\n",
        "plt.xscale('linear')\n",
        "plt.yscale('log')\n",
        "plt.xlabel('EbNo(dB)')\n",
        "plt.ylabel('BER')\n",
        "plt.grid(True)\n",
        "plt.title('QPSK Modulation')\n",
        "plt.show()"
      ],
      "execution_count": 24,
      "outputs": [
        {
          "output_type": "display_data",
          "data": {
            "image/png": "[encoded data removed]",
            "text/plain": [
              "<Figure size 432x288 with 1 Axes>"
            ]
          },
          "metadata": {
            "tags": [],
            "needs_background": "light"
          }
        }
      ]
    }
  ]
}