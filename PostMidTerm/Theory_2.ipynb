{
  "nbformat": 4,
  "nbformat_minor": 0,
  "metadata": {
    "colab": {
      "name": "Theory-1.ipynb",
      "provenance": [],
      "collapsed_sections": [],
      "include_colab_link": true
    },
    "kernelspec": {
      "name": "python3",
      "display_name": "Python 3"
    }
  },
  "cells": [
    {
      "cell_type": "markdown",
      "metadata": {
        "id": "view-in-github",
        "colab_type": "text"
      },
      "source": [
        "<a href=\"https://colab.research.google.com/github/iamviji/project/blob/master/PostMidTerm/Theory_2.ipynb\" target=\"_parent\"><img src=\"https://colab.research.google.com/assets/colab-badge.svg\" alt=\"Open In Colab\"/></a>"
      ]
    },
    {
      "cell_type": "code",
      "metadata": {
        "colab": {
          "base_uri": "https://localhost:8080/"
        },
        "id": "JhA53stPuyG0",
        "outputId": "52697839-712f-43e7-c7dd-966554fbf5f0"
      },
      "source": [
        "import math\n",
        "print (math.sin(math.pi/4))\n"
      ],
      "execution_count": 31,
      "outputs": [
        {
          "output_type": "stream",
          "text": [
            "0.7071067811865475\n"
          ],
          "name": "stdout"
        }
      ]
    },
    {
      "cell_type": "code",
      "metadata": {
        "id": "nga1w8Rzs_WZ",
        "colab": {
          "base_uri": "https://localhost:8080/"
        },
        "outputId": "6b6da763-11b2-4643-c4bf-de7882a2b473"
      },
      "source": [
        "\n",
        "from numpy import sqrt\n",
        "from numpy.random import rand, randn\n",
        "import matplotlib.pyplot as plt\n",
        "  \n",
        "N = 5000000\n",
        "EbNodB_range = range(0,30)\n",
        "itr = len(EbNodB_range)\n",
        "ber1 = [None]*itr\n",
        "#R = math.log2(2)*math.sin(math.pi/2)\n",
        "R = 1\n",
        "fact = sqrt(1 / math.sin(math.pi/2))\n",
        "\n",
        "print (\"R=\",R)\n",
        "for n in range (0, itr): \n",
        " \n",
        "    EbNodB = EbNodB_range[n]   \n",
        "    EbNo=10.0**(EbNodB/10.0) \n",
        "    x = 2 * (rand(N) >= 0.5) - 1\n",
        "    #print (x)\n",
        "    noise_std = fact/(sqrt(2*R*EbNo)) # 1/sqrt(2 x R x EbNo)\n",
        "    y = x + noise_std * randn(N)\n",
        "    y_d = 2 * (y >= 0) - 1\n",
        "    errors = (x != y_d).sum()\n",
        "    ber1[n] = 1.0 * errors / N\n",
        "    \n",
        "    print (\"EbNodB:\", EbNodB)\n",
        "    print (\"Error bits:\", errors)\n",
        "    print (\"Error probability:\", ber1[n])\n",
        "        \n"
      ],
      "execution_count": 64,
      "outputs": [
        {
          "output_type": "stream",
          "text": [
            "R= 1\n",
            "EbNodB: 0\n",
            "Error bits: 393479\n",
            "Error probability: 0.0786958\n",
            "EbNodB: 1\n",
            "Error bits: 281053\n",
            "Error probability: 0.0562106\n",
            "EbNodB: 2\n",
            "Error bits: 187557\n",
            "Error probability: 0.0375114\n",
            "EbNodB: 3\n",
            "Error bits: 113948\n",
            "Error probability: 0.0227896\n",
            "EbNodB: 4\n",
            "Error bits: 62862\n",
            "Error probability: 0.0125724\n",
            "EbNodB: 5\n",
            "Error bits: 29584\n",
            "Error probability: 0.0059168\n",
            "EbNodB: 6\n",
            "Error bits: 11832\n",
            "Error probability: 0.0023664\n",
            "EbNodB: 7\n",
            "Error bits: 3830\n",
            "Error probability: 0.000766\n",
            "EbNodB: 8\n",
            "Error bits: 972\n",
            "Error probability: 0.0001944\n",
            "EbNodB: 9\n",
            "Error bits: 181\n",
            "Error probability: 3.62e-05\n",
            "EbNodB: 10\n",
            "Error bits: 26\n",
            "Error probability: 5.2e-06\n",
            "EbNodB: 11\n",
            "Error bits: 4\n",
            "Error probability: 8e-07\n",
            "EbNodB: 12\n",
            "Error bits: 0\n",
            "Error probability: 0.0\n",
            "EbNodB: 13\n",
            "Error bits: 0\n",
            "Error probability: 0.0\n",
            "EbNodB: 14\n",
            "Error bits: 0\n",
            "Error probability: 0.0\n",
            "EbNodB: 15\n",
            "Error bits: 0\n",
            "Error probability: 0.0\n",
            "EbNodB: 16\n",
            "Error bits: 0\n",
            "Error probability: 0.0\n",
            "EbNodB: 17\n",
            "Error bits: 0\n",
            "Error probability: 0.0\n",
            "EbNodB: 18\n",
            "Error bits: 0\n",
            "Error probability: 0.0\n",
            "EbNodB: 19\n",
            "Error bits: 0\n",
            "Error probability: 0.0\n",
            "EbNodB: 20\n",
            "Error bits: 0\n",
            "Error probability: 0.0\n",
            "EbNodB: 21\n",
            "Error bits: 0\n",
            "Error probability: 0.0\n",
            "EbNodB: 22\n",
            "Error bits: 0\n",
            "Error probability: 0.0\n",
            "EbNodB: 23\n",
            "Error bits: 0\n",
            "Error probability: 0.0\n",
            "EbNodB: 24\n",
            "Error bits: 0\n",
            "Error probability: 0.0\n",
            "EbNodB: 25\n",
            "Error bits: 0\n",
            "Error probability: 0.0\n",
            "EbNodB: 26\n",
            "Error bits: 0\n",
            "Error probability: 0.0\n",
            "EbNodB: 27\n",
            "Error bits: 0\n",
            "Error probability: 0.0\n",
            "EbNodB: 28\n",
            "Error bits: 0\n",
            "Error probability: 0.0\n",
            "EbNodB: 29\n",
            "Error bits: 0\n",
            "Error probability: 0.0\n"
          ],
          "name": "stdout"
        }
      ]
    },
    {
      "cell_type": "code",
      "metadata": {
        "id": "D-dpH17uz5lV",
        "colab": {
          "base_uri": "https://localhost:8080/",
          "height": 312
        },
        "outputId": "6f840e88-07f3-4c3a-aabb-e3932043ffba"
      },
      "source": [
        "plt.plot(EbNodB_range, ber1, 'bo', EbNodB_range, ber1, 'k')\n",
        "plt.axis([0, 10, 1e-6, 0.1])\n",
        "plt.xscale('linear')\n",
        "plt.yscale('log')\n",
        "plt.xlabel('EbNo(dB)')\n",
        "plt.ylabel('BER')\n",
        "plt.grid(True)\n",
        "plt.title('BPSK Modulation')\n",
        "plt.show()\n",
        "print (ber1)"
      ],
      "execution_count": 65,
      "outputs": [
        {
          "output_type": "display_data",
          "data": {
            "image/png": "[encoded data removed]",
            "text/plain": [
              "<Figure size 432x288 with 1 Axes>"
            ]
          },
          "metadata": {
            "tags": [],
            "needs_background": "light"
          }
        },
        {
          "output_type": "stream",
          "text": [
            "[0.0786958, 0.0562106, 0.0375114, 0.0227896, 0.0125724, 0.0059168, 0.0023664, 0.000766, 0.0001944, 3.62e-05, 5.2e-06, 8e-07, 0.0, 0.0, 0.0, 0.0, 0.0, 0.0, 0.0, 0.0, 0.0, 0.0, 0.0, 0.0, 0.0, 0.0, 0.0, 0.0, 0.0, 0.0]\n"
          ],
          "name": "stdout"
        }
      ]
    },
    {
      "cell_type": "code",
      "metadata": {
        "id": "Pny7wCHun0YJ"
      },
      "source": [
        ""
      ],
      "execution_count": null,
      "outputs": []
    },
    {
      "cell_type": "code",
      "metadata": {
        "id": "Pb7oxtJ9tnZt",
        "colab": {
          "base_uri": "https://localhost:8080/"
        },
        "outputId": "492df34e-f1cb-4436-8267-aea6c64a1774"
      },
      "source": [
        "from numpy import sqrt\n",
        "from numpy.random import rand, randn\n",
        "import matplotlib.pyplot as plt\n",
        "  \n",
        "N = 5000000\n",
        "EbNodB_range = range(0,30)\n",
        "itr = len(EbNodB_range)\n",
        "ber2 = [None]*itr\n",
        "R = 1/math.log2(4)*math.sin(math.pi/4)\n",
        "R  = 1\n",
        "fact = math.sin(math.pi/2)\n",
        "print (\"R=\",R)\n",
        "fact = sqrt(2 / math.sin(math.pi/4))\n",
        "for n in range (0, itr): \n",
        " \n",
        "    EbNodB = EbNodB_range[n]   \n",
        "    EbNo=10.0**(EbNodB/10.0)\n",
        "    x = 2 * (rand(N) >= 0.5) - 1\n",
        "    noise_std = fact/(sqrt(2*R*EbNo))\n",
        "    y = x + noise_std * randn(N)\n",
        "    y_d = 2 * (y >= 0) - 1\n",
        "    errors = (x != y_d).sum()\n",
        "    ber2[n] = 1.0 * errors / N\n",
        "    \n",
        "    print (\"EbNodB:\", EbNodB)\n",
        "    print (\"Error bits:\", errors)\n",
        "    print (\"Error probability:\", ber2[n])\n",
        "        \n"
      ],
      "execution_count": 42,
      "outputs": [
        {
          "output_type": "stream",
          "text": [
            "R= 1\n",
            "EbNodB: 0\n",
            "Error bits: 1000820\n",
            "Error probability: 0.200164\n",
            "EbNodB: 1\n",
            "Error bits: 863080\n",
            "Error probability: 0.172616\n",
            "EbNodB: 2\n",
            "Error bits: 723966\n",
            "Error probability: 0.1447932\n",
            "EbNodB: 3\n",
            "Error bits: 586985\n",
            "Error probability: 0.117397\n",
            "EbNodB: 4\n",
            "Error bits: 456717\n",
            "Error probability: 0.0913434\n",
            "EbNodB: 5\n",
            "Error bits: 337002\n",
            "Error probability: 0.0674004\n",
            "EbNodB: 6\n",
            "Error bits: 233640\n",
            "Error probability: 0.046728\n",
            "EbNodB: 7\n",
            "Error bits: 149746\n",
            "Error probability: 0.0299492\n",
            "EbNodB: 8\n",
            "Error bits: 86703\n",
            "Error probability: 0.0173406\n",
            "EbNodB: 9\n",
            "Error bits: 44641\n",
            "Error probability: 0.0089282\n",
            "EbNodB: 10\n",
            "Error bits: 19668\n",
            "Error probability: 0.0039336\n",
            "EbNodB: 11\n",
            "Error bits: 6994\n",
            "Error probability: 0.0013988\n",
            "EbNodB: 12\n",
            "Error bits: 1994\n",
            "Error probability: 0.0003988\n",
            "EbNodB: 13\n",
            "Error bits: 418\n",
            "Error probability: 8.36e-05\n",
            "EbNodB: 14\n",
            "Error bits: 75\n",
            "Error probability: 1.5e-05\n",
            "EbNodB: 15\n",
            "Error bits: 3\n",
            "Error probability: 6e-07\n",
            "EbNodB: 16\n",
            "Error bits: 0\n",
            "Error probability: 0.0\n",
            "EbNodB: 17\n",
            "Error bits: 0\n",
            "Error probability: 0.0\n",
            "EbNodB: 18\n",
            "Error bits: 0\n",
            "Error probability: 0.0\n",
            "EbNodB: 19\n",
            "Error bits: 0\n",
            "Error probability: 0.0\n",
            "EbNodB: 20\n",
            "Error bits: 0\n",
            "Error probability: 0.0\n",
            "EbNodB: 21\n",
            "Error bits: 0\n",
            "Error probability: 0.0\n",
            "EbNodB: 22\n",
            "Error bits: 0\n",
            "Error probability: 0.0\n",
            "EbNodB: 23\n",
            "Error bits: 0\n",
            "Error probability: 0.0\n",
            "EbNodB: 24\n",
            "Error bits: 0\n",
            "Error probability: 0.0\n",
            "EbNodB: 25\n",
            "Error bits: 0\n",
            "Error probability: 0.0\n",
            "EbNodB: 26\n",
            "Error bits: 0\n",
            "Error probability: 0.0\n",
            "EbNodB: 27\n",
            "Error bits: 0\n",
            "Error probability: 0.0\n",
            "EbNodB: 28\n",
            "Error bits: 0\n",
            "Error probability: 0.0\n",
            "EbNodB: 29\n",
            "Error bits: 0\n",
            "Error probability: 0.0\n"
          ],
          "name": "stdout"
        }
      ]
    },
    {
      "cell_type": "code",
      "metadata": {
        "id": "83nv5LjGz8ez",
        "colab": {
          "base_uri": "https://localhost:8080/",
          "height": 295
        },
        "outputId": "2e4ddf1d-d625-4384-bcbb-a2ef7eaad29f"
      },
      "source": [
        "plt.plot(EbNodB_range, ber1, 'bo', EbNodB_range, ber1, 'k')\n",
        "plt.plot(EbNodB_range, ber2, 'bo', EbNodB_range, ber2, 'k')\n",
        "plt.axis([0, 20, 1e-6, 0.5])\n",
        "plt.xscale('linear')\n",
        "plt.yscale('log')\n",
        "plt.xlabel('EbNo(dB)')\n",
        "plt.ylabel('BER')\n",
        "plt.grid(True)\n",
        "plt.title('QPSK Modulation')\n",
        "plt.show()"
      ],
      "execution_count": 43,
      "outputs": [
        {
          "output_type": "display_data",
          "data": {
            "image/png": "[encoded data removed]",
            "text/plain": [
              "<Figure size 432x288 with 1 Axes>"
            ]
          },
          "metadata": {
            "tags": [],
            "needs_background": "light"
          }
        }
      ]
    },
    {
      "cell_type": "code",
      "metadata": {
        "id": "J0BtEhxpuXdr",
        "colab": {
          "base_uri": "https://localhost:8080/"
        },
        "outputId": "2ee9cd99-09f9-4cbe-8529-bd3386589d00"
      },
      "source": [
        "from numpy import sqrt\n",
        "from numpy.random import rand, randn\n",
        "import matplotlib.pyplot as plt\n",
        "  \n",
        "N = 5000000\n",
        "EbNodB_range = range(0,30)\n",
        "itr = len(EbNodB_range)\n",
        "ber3 = [None]*itr\n",
        "#R = math.sin(math.pi/8)\n",
        "#R = 1/math.log2(8)*math.sin(math.pi/8)\n",
        "R = 1\n",
        "fact = sqrt(2 / math.sin(math.pi/8))\n",
        "for n in range (0, itr): \n",
        " \n",
        "    EbNodB = EbNodB_range[n]   \n",
        "    EbNo=10.0**(EbNodB/10.0)\n",
        "    x = 2 * (rand(N) >= 0.5) - 1\n",
        "    noise_std = fact/(sqrt(2*R*EbNo))\n",
        "    y = x + noise_std * randn(N)\n",
        "    y_d = 2 * (y >= 0) - 1\n",
        "    errors = (x != y_d).sum()\n",
        "    ber3[n] = 1.0 * errors / N\n",
        "    \n",
        "    print (\"EbNodB:\", EbNodB)\n",
        "    print (\"Error bits:\", errors)\n",
        "    print (\"Error probability:\", ber3[n])\n",
        "        \n"
      ],
      "execution_count": 46,
      "outputs": [
        {
          "output_type": "stream",
          "text": [
            "EbNodB: 0\n",
            "Error bits: 1339767\n",
            "Error probability: 0.2679534\n",
            "EbNodB: 1\n",
            "Error bits: 1219713\n",
            "Error probability: 0.2439426\n",
            "EbNodB: 2\n",
            "Error bits: 1090388\n",
            "Error probability: 0.2180776\n",
            "EbNodB: 3\n",
            "Error bits: 954930\n",
            "Error probability: 0.190986\n",
            "EbNodB: 4\n",
            "Error bits: 817366\n",
            "Error probability: 0.1634732\n",
            "EbNodB: 5\n",
            "Error bits: 677518\n",
            "Error probability: 0.1355036\n",
            "EbNodB: 6\n",
            "Error bits: 543344\n",
            "Error probability: 0.1086688\n",
            "EbNodB: 7\n",
            "Error bits: 416542\n",
            "Error probability: 0.0833084\n",
            "EbNodB: 8\n",
            "Error bits: 300367\n",
            "Error probability: 0.0600734\n",
            "EbNodB: 9\n",
            "Error bits: 202298\n",
            "Error probability: 0.0404596\n",
            "EbNodB: 10\n",
            "Error bits: 126053\n",
            "Error probability: 0.0252106\n",
            "EbNodB: 11\n",
            "Error bits: 69691\n",
            "Error probability: 0.0139382\n",
            "EbNodB: 12\n",
            "Error bits: 34294\n",
            "Error probability: 0.0068588\n",
            "EbNodB: 13\n",
            "Error bits: 14226\n",
            "Error probability: 0.0028452\n",
            "EbNodB: 14\n",
            "Error bits: 4726\n",
            "Error probability: 0.0009452\n",
            "EbNodB: 15\n",
            "Error bits: 1208\n",
            "Error probability: 0.0002416\n",
            "EbNodB: 16\n",
            "Error bits: 245\n",
            "Error probability: 4.9e-05\n",
            "EbNodB: 17\n",
            "Error bits: 23\n",
            "Error probability: 4.6e-06\n",
            "EbNodB: 18\n",
            "Error bits: 1\n",
            "Error probability: 2e-07\n",
            "EbNodB: 19\n",
            "Error bits: 0\n",
            "Error probability: 0.0\n",
            "EbNodB: 20\n",
            "Error bits: 0\n",
            "Error probability: 0.0\n",
            "EbNodB: 21\n",
            "Error bits: 0\n",
            "Error probability: 0.0\n",
            "EbNodB: 22\n",
            "Error bits: 0\n",
            "Error probability: 0.0\n",
            "EbNodB: 23\n",
            "Error bits: 0\n",
            "Error probability: 0.0\n",
            "EbNodB: 24\n",
            "Error bits: 0\n",
            "Error probability: 0.0\n",
            "EbNodB: 25\n",
            "Error bits: 0\n",
            "Error probability: 0.0\n",
            "EbNodB: 26\n",
            "Error bits: 0\n",
            "Error probability: 0.0\n",
            "EbNodB: 27\n",
            "Error bits: 0\n",
            "Error probability: 0.0\n",
            "EbNodB: 28\n",
            "Error bits: 0\n",
            "Error probability: 0.0\n",
            "EbNodB: 29\n",
            "Error bits: 0\n",
            "Error probability: 0.0\n"
          ],
          "name": "stdout"
        }
      ]
    },
    {
      "cell_type": "code",
      "metadata": {
        "id": "R6dhOzT41RE9",
        "colab": {
          "base_uri": "https://localhost:8080/",
          "height": 295
        },
        "outputId": "3216c316-00e9-442f-e72f-23ea70934b3b"
      },
      "source": [
        "plt.plot(EbNodB_range, ber1, 'bo', EbNodB_range, ber1, 'k')\n",
        "plt.plot(EbNodB_range, ber2, 'bo', EbNodB_range, ber2, 'k')\n",
        "plt.plot(EbNodB_range, ber3, 'bo', EbNodB_range, ber3, 'k')\n",
        "plt.axis([0, 30, 1e-6, 0.5])\n",
        "plt.xscale('linear')\n",
        "plt.yscale('log')\n",
        "plt.xlabel('EbNo(dB)')\n",
        "plt.ylabel('BER')\n",
        "plt.grid(True)\n",
        "plt.title('8PSK Modulation')\n",
        "plt.show()"
      ],
      "execution_count": 47,
      "outputs": [
        {
          "output_type": "display_data",
          "data": {
            "image/png": "[encoded data removed]",
            "text/plain": [
              "<Figure size 432x288 with 1 Axes>"
            ]
          },
          "metadata": {
            "tags": [],
            "needs_background": "light"
          }
        }
      ]
    },
    {
      "cell_type": "code",
      "metadata": {
        "id": "Gj5tEmHTFvJs",
        "colab": {
          "base_uri": "https://localhost:8080/"
        },
        "outputId": "a284673f-0e76-4db1-d764-64bd3e23ae7b"
      },
      "source": [
        "from numpy import sqrt\n",
        "from numpy.random import rand, randn\n",
        "import matplotlib.pyplot as plt\n",
        "  \n",
        "N = 5000000\n",
        "EbNodB_range = range(0,30)\n",
        "itr = len(EbNodB_range)\n",
        "ber4 = [None]*itr\n",
        "#R = math.sin(math.pi/16)\n",
        "R = 1\n",
        "fact = sqrt(2 / math.sin(math.pi/16))\n",
        "for n in range (0, itr): \n",
        " \n",
        "    EbNodB = EbNodB_range[n]   \n",
        "    EbNo=10.0**(EbNodB/10.0)\n",
        "    x = 2 * (rand(N) >= 0.5) - 1\n",
        "    noise_std = fact/sqrt(2*R*EbNo)\n",
        "    y = x + noise_std * randn(N)\n",
        "    y_d = 2 * (y >= 0) - 1\n",
        "    errors = (x != y_d).sum()\n",
        "    ber4[n] = 1.0 * errors / N\n",
        "    \n",
        "    print (\"EbNodB:\", EbNodB)\n",
        "    print (\"Error bits:\", errors)\n",
        "    print (\"Error probability:\", ber4[n])\n",
        "        \n"
      ],
      "execution_count": 50,
      "outputs": [
        {
          "output_type": "stream",
          "text": [
            "EbNodB: 0\n",
            "Error bits: 1647530\n",
            "Error probability: 0.329506\n",
            "EbNodB: 1\n",
            "Error bits: 1550003\n",
            "Error probability: 0.3100006\n",
            "EbNodB: 2\n",
            "Error bits: 1445311\n",
            "Error probability: 0.2890622\n",
            "EbNodB: 3\n",
            "Error bits: 1332863\n",
            "Error probability: 0.2665726\n",
            "EbNodB: 4\n",
            "Error bits: 1208205\n",
            "Error probability: 0.241641\n",
            "EbNodB: 5\n",
            "Error bits: 1080823\n",
            "Error probability: 0.2161646\n",
            "EbNodB: 6\n",
            "Error bits: 945412\n",
            "Error probability: 0.1890824\n",
            "EbNodB: 7\n",
            "Error bits: 807058\n",
            "Error probability: 0.1614116\n",
            "EbNodB: 8\n",
            "Error bits: 668785\n",
            "Error probability: 0.133757\n",
            "EbNodB: 9\n",
            "Error bits: 534807\n",
            "Error probability: 0.1069614\n",
            "EbNodB: 10\n",
            "Error bits: 405678\n",
            "Error probability: 0.0811356\n",
            "EbNodB: 11\n",
            "Error bits: 292595\n",
            "Error probability: 0.058519\n",
            "EbNodB: 12\n",
            "Error bits: 196908\n",
            "Error probability: 0.0393816\n",
            "EbNodB: 13\n",
            "Error bits: 121476\n",
            "Error probability: 0.0242952\n",
            "EbNodB: 14\n",
            "Error bits: 66791\n",
            "Error probability: 0.0133582\n",
            "EbNodB: 15\n",
            "Error bits: 32405\n",
            "Error probability: 0.006481\n",
            "EbNodB: 16\n",
            "Error bits: 13359\n",
            "Error probability: 0.0026718\n",
            "EbNodB: 17\n",
            "Error bits: 4359\n",
            "Error probability: 0.0008718\n",
            "EbNodB: 18\n",
            "Error bits: 1069\n",
            "Error probability: 0.0002138\n",
            "EbNodB: 19\n",
            "Error bits: 214\n",
            "Error probability: 4.28e-05\n",
            "EbNodB: 20\n",
            "Error bits: 34\n",
            "Error probability: 6.8e-06\n",
            "EbNodB: 21\n",
            "Error bits: 2\n",
            "Error probability: 4e-07\n",
            "EbNodB: 22\n",
            "Error bits: 0\n",
            "Error probability: 0.0\n",
            "EbNodB: 23\n",
            "Error bits: 0\n",
            "Error probability: 0.0\n",
            "EbNodB: 24\n",
            "Error bits: 0\n",
            "Error probability: 0.0\n",
            "EbNodB: 25\n",
            "Error bits: 0\n",
            "Error probability: 0.0\n",
            "EbNodB: 26\n",
            "Error bits: 0\n",
            "Error probability: 0.0\n",
            "EbNodB: 27\n",
            "Error bits: 0\n",
            "Error probability: 0.0\n",
            "EbNodB: 28\n",
            "Error bits: 0\n",
            "Error probability: 0.0\n",
            "EbNodB: 29\n",
            "Error bits: 0\n",
            "Error probability: 0.0\n"
          ],
          "name": "stdout"
        }
      ]
    },
    {
      "cell_type": "code",
      "metadata": {
        "id": "PjEIfKNE1gjh",
        "colab": {
          "base_uri": "https://localhost:8080/",
          "height": 295
        },
        "outputId": "b774a6c1-7ee3-4304-f25e-d09b19bd3bf0"
      },
      "source": [
        "plt.plot(EbNodB_range, ber1, 'bo', EbNodB_range, ber1, 'k')\n",
        "plt.plot(EbNodB_range, ber2, 'bo', EbNodB_range, ber2, 'k')\n",
        "plt.plot(EbNodB_range, ber3, 'bo', EbNodB_range, ber3, 'k')\n",
        "plt.plot(EbNodB_range, ber4, 'bo', EbNodB_range, ber4, 'k')\n",
        "plt.axis([0, 30, 1e-6, 0.5])\n",
        "plt.xscale('linear')\n",
        "plt.yscale('log')\n",
        "plt.xlabel('EbNo(dB)')\n",
        "plt.ylabel('BER')\n",
        "plt.grid(True)\n",
        "plt.title('16PSK Modulation')\n",
        "plt.show()"
      ],
      "execution_count": 51,
      "outputs": [
        {
          "output_type": "display_data",
          "data": {
            "image/png": "[encoded data removed]",
            "text/plain": [
              "<Figure size 432x288 with 1 Axes>"
            ]
          },
          "metadata": {
            "tags": [],
            "needs_background": "light"
          }
        }
      ]
    },
    {
      "cell_type": "code",
      "metadata": {
        "id": "vlS2VSx7F5Xq",
        "colab": {
          "base_uri": "https://localhost:8080/"
        },
        "outputId": "76f94dd6-426c-46b8-f63c-60476711c9fd"
      },
      "source": [
        "from numpy import sqrt\n",
        "from numpy.random import rand, randn\n",
        "import matplotlib.pyplot as plt\n",
        "  \n",
        "N = 5000000\n",
        "EbNodB_range = range(0,30)\n",
        "itr = len(EbNodB_range)\n",
        "ber5 = [None]*itr\n",
        "#R = 1/math.log2(32)*math.sin(math.pi/32)\n",
        "R = 1\n",
        "fact = sqrt(2 / math.sin(math.pi/32))\n",
        "\n",
        "for n in range (0, itr): \n",
        " \n",
        "    EbNodB = EbNodB_range[n]   \n",
        "    EbNo=10.0**(EbNodB/10.0)\n",
        "    x = 2 * (rand(N) >= 0.5) - 1\n",
        "    noise_std = fact/sqrt(2*R*EbNo)\n",
        "    y = x + noise_std * randn(N)\n",
        "    y_d = 2 * (y >= 0) - 1\n",
        "    errors = (x != y_d).sum()\n",
        "    ber5[n] = 1.0 * errors / N\n",
        "    \n",
        "    print (\"EbNodB:\", EbNodB)\n",
        "    print (\"Error bits:\", errors)\n",
        "    print (\"Error probability:\", ber5[n])\n",
        "        \n"
      ],
      "execution_count": 54,
      "outputs": [
        {
          "output_type": "stream",
          "text": [
            "EbNodB: 0\n",
            "Error bits: 1883633\n",
            "Error probability: 0.3767266\n",
            "EbNodB: 1\n",
            "Error bits: 1812973\n",
            "Error probability: 0.3625946\n",
            "EbNodB: 2\n",
            "Error bits: 1732449\n",
            "Error probability: 0.3464898\n",
            "EbNodB: 3\n",
            "Error bits: 1645046\n",
            "Error probability: 0.3290092\n",
            "EbNodB: 4\n",
            "Error bits: 1550446\n",
            "Error probability: 0.3100892\n",
            "EbNodB: 5\n",
            "Error bits: 1443896\n",
            "Error probability: 0.2887792\n",
            "EbNodB: 6\n",
            "Error bits: 1331311\n",
            "Error probability: 0.2662622\n",
            "EbNodB: 7\n",
            "Error bits: 1208175\n",
            "Error probability: 0.241635\n",
            "EbNodB: 8\n",
            "Error bits: 1079309\n",
            "Error probability: 0.2158618\n",
            "EbNodB: 9\n",
            "Error bits: 943789\n",
            "Error probability: 0.1887578\n",
            "EbNodB: 10\n",
            "Error bits: 805084\n",
            "Error probability: 0.1610168\n",
            "EbNodB: 11\n",
            "Error bits: 666588\n",
            "Error probability: 0.1333176\n",
            "EbNodB: 12\n",
            "Error bits: 531466\n",
            "Error probability: 0.1062932\n",
            "EbNodB: 13\n",
            "Error bits: 404015\n",
            "Error probability: 0.080803\n",
            "EbNodB: 14\n",
            "Error bits: 292121\n",
            "Error probability: 0.0584242\n",
            "EbNodB: 15\n",
            "Error bits: 195947\n",
            "Error probability: 0.0391894\n",
            "EbNodB: 16\n",
            "Error bits: 120557\n",
            "Error probability: 0.0241114\n",
            "EbNodB: 17\n",
            "Error bits: 66000\n",
            "Error probability: 0.0132\n",
            "EbNodB: 18\n",
            "Error bits: 32405\n",
            "Error probability: 0.006481\n",
            "EbNodB: 19\n",
            "Error bits: 13141\n",
            "Error probability: 0.0026282\n",
            "EbNodB: 20\n",
            "Error bits: 4425\n",
            "Error probability: 0.000885\n",
            "EbNodB: 21\n",
            "Error bits: 1118\n",
            "Error probability: 0.0002236\n",
            "EbNodB: 22\n",
            "Error bits: 205\n",
            "Error probability: 4.1e-05\n",
            "EbNodB: 23\n",
            "Error bits: 23\n",
            "Error probability: 4.6e-06\n",
            "EbNodB: 24\n",
            "Error bits: 0\n",
            "Error probability: 0.0\n",
            "EbNodB: 25\n",
            "Error bits: 0\n",
            "Error probability: 0.0\n",
            "EbNodB: 26\n",
            "Error bits: 0\n",
            "Error probability: 0.0\n",
            "EbNodB: 27\n",
            "Error bits: 0\n",
            "Error probability: 0.0\n",
            "EbNodB: 28\n",
            "Error bits: 0\n",
            "Error probability: 0.0\n",
            "EbNodB: 29\n",
            "Error bits: 0\n",
            "Error probability: 0.0\n"
          ],
          "name": "stdout"
        }
      ]
    },
    {
      "cell_type": "code",
      "metadata": {
        "id": "IIzyVg0K24kl",
        "colab": {
          "base_uri": "https://localhost:8080/",
          "height": 295
        },
        "outputId": "aa7925a0-2f2b-4c5b-bee9-e75da92ca1aa"
      },
      "source": [
        "plt.plot(EbNodB_range, ber1, 'bo', EbNodB_range, ber1, 'k')\n",
        "plt.plot(EbNodB_range, ber2, 'bo', EbNodB_range, ber2, 'k')\n",
        "plt.plot(EbNodB_range, ber3, 'bo', EbNodB_range, ber3, 'k')\n",
        "plt.plot(EbNodB_range, ber4, 'bo', EbNodB_range, ber4, 'k')\n",
        "plt.plot(EbNodB_range, ber5, 'bo', EbNodB_range, ber5, 'k')\n",
        "plt.axis([0, 30, 1e-6, 0.5])\n",
        "plt.xscale('linear')\n",
        "plt.yscale('log')\n",
        "plt.xlabel('EbNo(dB)')\n",
        "plt.ylabel('BER')\n",
        "plt.grid(True)\n",
        "plt.title('QPSK Modulation')\n",
        "plt.show()"
      ],
      "execution_count": 56,
      "outputs": [
        {
          "output_type": "display_data",
          "data": {
            "image/png": "[encoded data removed]",
            "text/plain": [
              "<Figure size 432x288 with 1 Axes>"
            ]
          },
          "metadata": {
            "tags": [],
            "needs_background": "light"
          }
        }
      ]
    },
    {
      "cell_type": "code",
      "metadata": {
        "colab": {
          "base_uri": "https://localhost:8080/"
        },
        "id": "aV037KmAnaft",
        "outputId": "c0d09252-e905-4392-cc70-89ed45693763"
      },
      "source": [
        "from numpy import sqrt\n",
        "from numpy.random import rand, randn\n",
        "import matplotlib.pyplot as plt\n",
        "  \n",
        "N = 5000000\n",
        "EbNodB_range = range(0,30)\n",
        "itr = len(EbNodB_range)\n",
        "ber6 = [None]*itr\n",
        "#R = 1/math.log2(32)*math.sin(math.pi/32)\n",
        "R = 1\n",
        "fact = sqrt(2 / math.sin(math.pi/64))\n",
        "\n",
        "for n in range (0, itr): \n",
        " \n",
        "    EbNodB = EbNodB_range[n]   \n",
        "    EbNo=10.0**(EbNodB/10.0)\n",
        "    x = 2 * (rand(N) >= 0.5) - 1\n",
        "    noise_std = fact/sqrt(2*R*EbNo)\n",
        "    y = x + noise_std * randn(N)\n",
        "    y_d = 2 * (y >= 0) - 1\n",
        "    errors = (x != y_d).sum()\n",
        "    ber6[n] = 1.0 * errors / N\n",
        "    \n",
        "    print (\"EbNodB:\", EbNodB)\n",
        "    print (\"Error bits:\", errors)\n",
        "    print (\"Error probability:\", ber6[n])\n",
        "        "
      ],
      "execution_count": 58,
      "outputs": [
        {
          "output_type": "stream",
          "text": [
            "EbNodB: 0\n",
            "Error bits: 2061985\n",
            "Error probability: 0.412397\n",
            "EbNodB: 1\n",
            "Error bits: 2008970\n",
            "Error probability: 0.401794\n",
            "EbNodB: 2\n",
            "Error bits: 1950882\n",
            "Error probability: 0.3901764\n",
            "EbNodB: 3\n",
            "Error bits: 1885972\n",
            "Error probability: 0.3771944\n",
            "EbNodB: 4\n",
            "Error bits: 1812537\n",
            "Error probability: 0.3625074\n",
            "EbNodB: 5\n",
            "Error bits: 1735339\n",
            "Error probability: 0.3470678\n",
            "EbNodB: 6\n",
            "Error bits: 1645518\n",
            "Error probability: 0.3291036\n",
            "EbNodB: 7\n",
            "Error bits: 1550078\n",
            "Error probability: 0.3100156\n",
            "EbNodB: 8\n",
            "Error bits: 1442540\n",
            "Error probability: 0.288508\n",
            "EbNodB: 9\n",
            "Error bits: 1330735\n",
            "Error probability: 0.266147\n",
            "EbNodB: 10\n",
            "Error bits: 1207391\n",
            "Error probability: 0.2414782\n",
            "EbNodB: 11\n",
            "Error bits: 1079959\n",
            "Error probability: 0.2159918\n",
            "EbNodB: 12\n",
            "Error bits: 946426\n",
            "Error probability: 0.1892852\n",
            "EbNodB: 13\n",
            "Error bits: 806441\n",
            "Error probability: 0.1612882\n",
            "EbNodB: 14\n",
            "Error bits: 666126\n",
            "Error probability: 0.1332252\n",
            "EbNodB: 15\n",
            "Error bits: 531629\n",
            "Error probability: 0.1063258\n",
            "EbNodB: 16\n",
            "Error bits: 405469\n",
            "Error probability: 0.0810938\n",
            "EbNodB: 17\n",
            "Error bits: 292088\n",
            "Error probability: 0.0584176\n",
            "EbNodB: 18\n",
            "Error bits: 196180\n",
            "Error probability: 0.039236\n",
            "EbNodB: 19\n",
            "Error bits: 121150\n",
            "Error probability: 0.02423\n",
            "EbNodB: 20\n",
            "Error bits: 66685\n",
            "Error probability: 0.013337\n",
            "EbNodB: 21\n",
            "Error bits: 32681\n",
            "Error probability: 0.0065362\n",
            "EbNodB: 22\n",
            "Error bits: 13580\n",
            "Error probability: 0.002716\n",
            "EbNodB: 23\n",
            "Error bits: 4444\n",
            "Error probability: 0.0008888\n",
            "EbNodB: 24\n",
            "Error bits: 1123\n",
            "Error probability: 0.0002246\n",
            "EbNodB: 25\n",
            "Error bits: 227\n",
            "Error probability: 4.54e-05\n",
            "EbNodB: 26\n",
            "Error bits: 32\n",
            "Error probability: 6.4e-06\n",
            "EbNodB: 27\n",
            "Error bits: 2\n",
            "Error probability: 4e-07\n",
            "EbNodB: 28\n",
            "Error bits: 0\n",
            "Error probability: 0.0\n",
            "EbNodB: 29\n",
            "Error bits: 0\n",
            "Error probability: 0.0\n"
          ],
          "name": "stdout"
        }
      ]
    },
    {
      "cell_type": "code",
      "metadata": {
        "colab": {
          "base_uri": "https://localhost:8080/",
          "height": 295
        },
        "id": "RY1gbWHsngRG",
        "outputId": "b2c2a1c4-2b55-4ca3-b6d5-1fe80019625d"
      },
      "source": [
        "plt.plot(EbNodB_range, ber1, 'bo', EbNodB_range, ber1, 'k')\n",
        "plt.plot(EbNodB_range, ber2, 'bo', EbNodB_range, ber2, 'k')\n",
        "plt.plot(EbNodB_range, ber3, 'bo', EbNodB_range, ber3, 'k')\n",
        "plt.plot(EbNodB_range, ber4, 'bo', EbNodB_range, ber4, 'k')\n",
        "plt.plot(EbNodB_range, ber5, 'bo', EbNodB_range, ber5, 'k')\n",
        "plt.plot(EbNodB_range, ber5, 'bo', EbNodB_range, ber6, 'k')\n",
        "plt.axis([0, 30, 1e-6, 0.5])\n",
        "plt.xscale('linear')\n",
        "plt.yscale('log')\n",
        "plt.xlabel('EbNo(dB)')\n",
        "plt.ylabel('BER')\n",
        "plt.grid(True)\n",
        "plt.title('QPSK Modulation')\n",
        "plt.show()"
      ],
      "execution_count": 59,
      "outputs": [
        {
          "output_type": "display_data",
          "data": {
            "image/png": "[encoded data removed]",
            "text/plain": [
              "<Figure size 432x288 with 1 Axes>"
            ]
          },
          "metadata": {
            "tags": [],
            "needs_background": "light"
          }
        }
      ]
    }
  ]
}