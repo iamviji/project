{
  "nbformat": 4,
  "nbformat_minor": 0,
  "metadata": {
    "colab": {
      "name": "Theory-1.ipynb",
      "provenance": [],
      "collapsed_sections": [],
      "include_colab_link": true
    },
    "kernelspec": {
      "name": "python3",
      "display_name": "Python 3"
    }
  },
  "cells": [
    {
      "cell_type": "markdown",
      "metadata": {
        "id": "view-in-github",
        "colab_type": "text"
      },
      "source": [
        "<a href=\"https://colab.research.google.com/github/iamviji/project/blob/master/PostMidTerm/Theory_2.ipynb\" target=\"_parent\"><img src=\"https://colab.research.google.com/assets/colab-badge.svg\" alt=\"Open In Colab\"/></a>"
      ]
    },
    {
      "cell_type": "code",
      "metadata": {
        "colab": {
          "base_uri": "https://localhost:8080/"
        },
        "id": "JhA53stPuyG0",
        "outputId": "ac9de0f4-3f81-45b1-c92e-88e85f35bd0c"
      },
      "source": [
        "import math\n",
        "print (math.sin(math.pi/4))\n"
      ],
      "execution_count": 1,
      "outputs": [
        {
          "output_type": "stream",
          "text": [
            "0.7071067811865475\n"
          ],
          "name": "stdout"
        }
      ]
    },
    {
      "cell_type": "code",
      "metadata": {
        "id": "nga1w8Rzs_WZ",
        "colab": {
          "base_uri": "https://localhost:8080/"
        },
        "outputId": "18a74462-e7bd-46a2-c67d-d253f992a5f9"
      },
      "source": [
        "\n",
        "from numpy import sqrt\n",
        "from numpy.random import rand, randn\n",
        "import matplotlib.pyplot as plt\n",
        "  \n",
        "N = 5000000\n",
        "EbNodB_range = range(0,30)\n",
        "itr = len(EbNodB_range)\n",
        "ber1 = [None]*itr\n",
        "#R = math.log2(2)*math.sin(math.pi/2)\n",
        "R = 1\n",
        "fact = sqrt(1 / math.sin(math.pi/2))\n",
        "\n",
        "print (\"R=\",R)\n",
        "for n in range (0, itr): \n",
        " \n",
        "    EbNodB = EbNodB_range[n]   \n",
        "    EbNo=10.0**(EbNodB/10.0) \n",
        "    x = 2 * (rand(N) >= 0.5) - 1\n",
        "    #print (x)\n",
        "    noise_std = fact/(sqrt(2*R*EbNo)) # 1/sqrt(2 x R x EbNo)\n",
        "    y = x + noise_std * randn(N)\n",
        "    y_d = 2 * (y >= 0) - 1\n",
        "    errors = (x != y_d).sum()\n",
        "    ber1[n] = 1.0 * errors / N\n",
        "    \n",
        "    print (\"EbNodB:\", EbNodB)\n",
        "    print (\"Error bits:\", errors)\n",
        "    print (\"Error probability:\", ber1[n])\n",
        "        \n"
      ],
      "execution_count": 2,
      "outputs": [
        {
          "output_type": "stream",
          "text": [
            "R= 1\n",
            "EbNodB: 0\n",
            "Error bits: 393460\n",
            "Error probability: 0.078692\n",
            "EbNodB: 1\n",
            "Error bits: 281431\n",
            "Error probability: 0.0562862\n",
            "EbNodB: 2\n",
            "Error bits: 187485\n",
            "Error probability: 0.037497\n",
            "EbNodB: 3\n",
            "Error bits: 114277\n",
            "Error probability: 0.0228554\n",
            "EbNodB: 4\n",
            "Error bits: 62447\n",
            "Error probability: 0.0124894\n",
            "EbNodB: 5\n",
            "Error bits: 29747\n",
            "Error probability: 0.0059494\n",
            "EbNodB: 6\n",
            "Error bits: 11881\n",
            "Error probability: 0.0023762\n",
            "EbNodB: 7\n",
            "Error bits: 3808\n",
            "Error probability: 0.0007616\n",
            "EbNodB: 8\n",
            "Error bits: 949\n",
            "Error probability: 0.0001898\n",
            "EbNodB: 9\n",
            "Error bits: 149\n",
            "Error probability: 2.98e-05\n",
            "EbNodB: 10\n",
            "Error bits: 10\n",
            "Error probability: 2e-06\n",
            "EbNodB: 11\n",
            "Error bits: 0\n",
            "Error probability: 0.0\n",
            "EbNodB: 12\n",
            "Error bits: 0\n",
            "Error probability: 0.0\n",
            "EbNodB: 13\n",
            "Error bits: 0\n",
            "Error probability: 0.0\n",
            "EbNodB: 14\n",
            "Error bits: 0\n",
            "Error probability: 0.0\n",
            "EbNodB: 15\n",
            "Error bits: 0\n",
            "Error probability: 0.0\n",
            "EbNodB: 16\n",
            "Error bits: 0\n",
            "Error probability: 0.0\n",
            "EbNodB: 17\n",
            "Error bits: 0\n",
            "Error probability: 0.0\n",
            "EbNodB: 18\n",
            "Error bits: 0\n",
            "Error probability: 0.0\n",
            "EbNodB: 19\n",
            "Error bits: 0\n",
            "Error probability: 0.0\n",
            "EbNodB: 20\n",
            "Error bits: 0\n",
            "Error probability: 0.0\n",
            "EbNodB: 21\n",
            "Error bits: 0\n",
            "Error probability: 0.0\n",
            "EbNodB: 22\n",
            "Error bits: 0\n",
            "Error probability: 0.0\n",
            "EbNodB: 23\n",
            "Error bits: 0\n",
            "Error probability: 0.0\n",
            "EbNodB: 24\n",
            "Error bits: 0\n",
            "Error probability: 0.0\n",
            "EbNodB: 25\n",
            "Error bits: 0\n",
            "Error probability: 0.0\n",
            "EbNodB: 26\n",
            "Error bits: 0\n",
            "Error probability: 0.0\n",
            "EbNodB: 27\n",
            "Error bits: 0\n",
            "Error probability: 0.0\n",
            "EbNodB: 28\n",
            "Error bits: 0\n",
            "Error probability: 0.0\n",
            "EbNodB: 29\n",
            "Error bits: 0\n",
            "Error probability: 0.0\n"
          ],
          "name": "stdout"
        }
      ]
    },
    {
      "cell_type": "code",
      "metadata": {
        "id": "D-dpH17uz5lV",
        "colab": {
          "base_uri": "https://localhost:8080/",
          "height": 312
        },
        "outputId": "61075da8-e39b-4245-95da-b602d0895d28"
      },
      "source": [
        "plt.plot(EbNodB_range, ber1, 'bo', EbNodB_range, ber1, 'k')\n",
        "plt.axis([0, 10, 1e-6, 0.1])\n",
        "plt.xscale('linear')\n",
        "plt.yscale('log')\n",
        "plt.xlabel('EbNo(dB)')\n",
        "plt.ylabel('BER')\n",
        "plt.grid(True)\n",
        "plt.title('BPSK Modulation')\n",
        "plt.show()\n",
        "print (ber1)"
      ],
      "execution_count": 3,
      "outputs": [
        {
          "output_type": "display_data",
          "data": {
            "image/png": "[encoded data removed]",
            "text/plain": [
              "<Figure size 432x288 with 1 Axes>"
            ]
          },
          "metadata": {
            "tags": [],
            "needs_background": "light"
          }
        },
        {
          "output_type": "stream",
          "text": [
            "[0.078692, 0.0562862, 0.037497, 0.0228554, 0.0124894, 0.0059494, 0.0023762, 0.0007616, 0.0001898, 2.98e-05, 2e-06, 0.0, 0.0, 0.0, 0.0, 0.0, 0.0, 0.0, 0.0, 0.0, 0.0, 0.0, 0.0, 0.0, 0.0, 0.0, 0.0, 0.0, 0.0, 0.0]\n"
          ],
          "name": "stdout"
        }
      ]
    },
    {
      "cell_type": "code",
      "metadata": {
        "id": "Pny7wCHun0YJ"
      },
      "source": [
        ""
      ],
      "execution_count": 3,
      "outputs": []
    },
    {
      "cell_type": "code",
      "metadata": {
        "id": "Pb7oxtJ9tnZt",
        "colab": {
          "base_uri": "https://localhost:8080/"
        },
        "outputId": "6846f395-5641-437a-aa07-17fafa585f08"
      },
      "source": [
        "from numpy import sqrt\n",
        "from numpy.random import rand, randn\n",
        "import matplotlib.pyplot as plt\n",
        "  \n",
        "N = 5000000\n",
        "EbNodB_range = range(0,30)\n",
        "itr = len(EbNodB_range)\n",
        "ber2 = [None]*itr\n",
        "R = 1/math.log2(4)*math.sin(math.pi/4)\n",
        "R  = 1\n",
        "fact = math.sin(math.pi/2)\n",
        "print (\"R=\",R)\n",
        "fact = sqrt(2 / math.sin(math.pi/4))\n",
        "for n in range (0, itr): \n",
        " \n",
        "    EbNodB = EbNodB_range[n]   \n",
        "    EbNo=10.0**(EbNodB/10.0)\n",
        "    x = 2 * (rand(N) >= 0.5) - 1\n",
        "    noise_std = fact/(sqrt(2*R*EbNo))\n",
        "    y = x + noise_std * randn(N)\n",
        "    y_d = 2 * (y >= 0) - 1\n",
        "    errors = (x != y_d).sum()\n",
        "    ber2[n] = 1.0 * errors / N\n",
        "    \n",
        "    print (\"EbNodB:\", EbNodB)\n",
        "    print (\"Error bits:\", errors)\n",
        "    print (\"Error probability:\", ber2[n])\n",
        "        \n"
      ],
      "execution_count": 4,
      "outputs": [
        {
          "output_type": "stream",
          "text": [
            "R= 1\n",
            "EbNodB: 0\n",
            "Error bits: 1000741\n",
            "Error probability: 0.2001482\n",
            "EbNodB: 1\n",
            "Error bits: 865046\n",
            "Error probability: 0.1730092\n",
            "EbNodB: 2\n",
            "Error bits: 724067\n",
            "Error probability: 0.1448134\n",
            "EbNodB: 3\n",
            "Error bits: 587379\n",
            "Error probability: 0.1174758\n",
            "EbNodB: 4\n",
            "Error bits: 456356\n",
            "Error probability: 0.0912712\n",
            "EbNodB: 5\n",
            "Error bits: 336598\n",
            "Error probability: 0.0673196\n",
            "EbNodB: 6\n",
            "Error bits: 233847\n",
            "Error probability: 0.0467694\n",
            "EbNodB: 7\n",
            "Error bits: 149333\n",
            "Error probability: 0.0298666\n",
            "EbNodB: 8\n",
            "Error bits: 86453\n",
            "Error probability: 0.0172906\n",
            "EbNodB: 9\n",
            "Error bits: 44183\n",
            "Error probability: 0.0088366\n",
            "EbNodB: 10\n",
            "Error bits: 19658\n",
            "Error probability: 0.0039316\n",
            "EbNodB: 11\n",
            "Error bits: 7125\n",
            "Error probability: 0.001425\n",
            "EbNodB: 12\n",
            "Error bits: 1977\n",
            "Error probability: 0.0003954\n",
            "EbNodB: 13\n",
            "Error bits: 426\n",
            "Error probability: 8.52e-05\n",
            "EbNodB: 14\n",
            "Error bits: 50\n",
            "Error probability: 1e-05\n",
            "EbNodB: 15\n",
            "Error bits: 5\n",
            "Error probability: 1e-06\n",
            "EbNodB: 16\n",
            "Error bits: 0\n",
            "Error probability: 0.0\n",
            "EbNodB: 17\n",
            "Error bits: 0\n",
            "Error probability: 0.0\n",
            "EbNodB: 18\n",
            "Error bits: 0\n",
            "Error probability: 0.0\n",
            "EbNodB: 19\n",
            "Error bits: 0\n",
            "Error probability: 0.0\n",
            "EbNodB: 20\n",
            "Error bits: 0\n",
            "Error probability: 0.0\n",
            "EbNodB: 21\n",
            "Error bits: 0\n",
            "Error probability: 0.0\n",
            "EbNodB: 22\n",
            "Error bits: 0\n",
            "Error probability: 0.0\n",
            "EbNodB: 23\n",
            "Error bits: 0\n",
            "Error probability: 0.0\n",
            "EbNodB: 24\n",
            "Error bits: 0\n",
            "Error probability: 0.0\n",
            "EbNodB: 25\n",
            "Error bits: 0\n",
            "Error probability: 0.0\n",
            "EbNodB: 26\n",
            "Error bits: 0\n",
            "Error probability: 0.0\n",
            "EbNodB: 27\n",
            "Error bits: 0\n",
            "Error probability: 0.0\n",
            "EbNodB: 28\n",
            "Error bits: 0\n",
            "Error probability: 0.0\n",
            "EbNodB: 29\n",
            "Error bits: 0\n",
            "Error probability: 0.0\n"
          ],
          "name": "stdout"
        }
      ]
    },
    {
      "cell_type": "code",
      "metadata": {
        "id": "83nv5LjGz8ez",
        "colab": {
          "base_uri": "https://localhost:8080/",
          "height": 295
        },
        "outputId": "2fafdc1e-fbe5-491d-e6a8-66f7a9d6a777"
      },
      "source": [
        "plt.plot(EbNodB_range, ber1, 'bo', EbNodB_range, ber1, 'k')\n",
        "plt.plot(EbNodB_range, ber2, 'bo', EbNodB_range, ber2, 'k')\n",
        "plt.axis([0, 20, 1e-6, 0.5])\n",
        "plt.xscale('linear')\n",
        "plt.yscale('log')\n",
        "plt.xlabel('EbNo(dB)')\n",
        "plt.ylabel('BER')\n",
        "plt.grid(True)\n",
        "plt.title('QPSK Modulation')\n",
        "plt.show()"
      ],
      "execution_count": 5,
      "outputs": [
        {
          "output_type": "display_data",
          "data": {
            "image/png": "[encoded data removed]",
            "text/plain": [
              "<Figure size 432x288 with 1 Axes>"
            ]
          },
          "metadata": {
            "tags": [],
            "needs_background": "light"
          }
        }
      ]
    },
    {
      "cell_type": "code",
      "metadata": {
        "id": "J0BtEhxpuXdr",
        "colab": {
          "base_uri": "https://localhost:8080/"
        },
        "outputId": "17001218-e493-49c0-89ca-d4163039fbd5"
      },
      "source": [
        "from numpy import sqrt\n",
        "from numpy.random import rand, randn\n",
        "import matplotlib.pyplot as plt\n",
        "  \n",
        "N = 5000000\n",
        "EbNodB_range = range(0,30)\n",
        "itr = len(EbNodB_range)\n",
        "ber3 = [None]*itr\n",
        "#R = math.sin(math.pi/8)\n",
        "#R = 1/math.log2(8)*math.sin(math.pi/8)\n",
        "R = 1\n",
        "fact = sqrt(2 / math.sin(math.pi/8))\n",
        "for n in range (0, itr): \n",
        " \n",
        "    EbNodB = EbNodB_range[n]   \n",
        "    EbNo=10.0**(EbNodB/10.0)\n",
        "    x = 2 * (rand(N) >= 0.5) - 1\n",
        "    noise_std = fact/(sqrt(2*R*EbNo))\n",
        "    y = x + noise_std * randn(N)\n",
        "    y_d = 2 * (y >= 0) - 1\n",
        "    errors = (x != y_d).sum()\n",
        "    ber3[n] = 1.0 * errors / N\n",
        "    \n",
        "    print (\"EbNodB:\", EbNodB)\n",
        "    print (\"Error bits:\", errors)\n",
        "    print (\"Error probability:\", ber3[n])\n",
        "        \n"
      ],
      "execution_count": 6,
      "outputs": [
        {
          "output_type": "stream",
          "text": [
            "EbNodB: 0\n",
            "Error bits: 1339352\n",
            "Error probability: 0.2678704\n",
            "EbNodB: 1\n",
            "Error bits: 1218732\n",
            "Error probability: 0.2437464\n",
            "EbNodB: 2\n",
            "Error bits: 1090125\n",
            "Error probability: 0.218025\n",
            "EbNodB: 3\n",
            "Error bits: 954637\n",
            "Error probability: 0.1909274\n",
            "EbNodB: 4\n",
            "Error bits: 817356\n",
            "Error probability: 0.1634712\n",
            "EbNodB: 5\n",
            "Error bits: 678467\n",
            "Error probability: 0.1356934\n",
            "EbNodB: 6\n",
            "Error bits: 542726\n",
            "Error probability: 0.1085452\n",
            "EbNodB: 7\n",
            "Error bits: 415223\n",
            "Error probability: 0.0830446\n",
            "EbNodB: 8\n",
            "Error bits: 299906\n",
            "Error probability: 0.0599812\n",
            "EbNodB: 9\n",
            "Error bits: 202743\n",
            "Error probability: 0.0405486\n",
            "EbNodB: 10\n",
            "Error bits: 126902\n",
            "Error probability: 0.0253804\n",
            "EbNodB: 11\n",
            "Error bits: 70435\n",
            "Error probability: 0.014087\n",
            "EbNodB: 12\n",
            "Error bits: 34393\n",
            "Error probability: 0.0068786\n",
            "EbNodB: 13\n",
            "Error bits: 14268\n",
            "Error probability: 0.0028536\n",
            "EbNodB: 14\n",
            "Error bits: 4854\n",
            "Error probability: 0.0009708\n",
            "EbNodB: 15\n",
            "Error bits: 1273\n",
            "Error probability: 0.0002546\n",
            "EbNodB: 16\n",
            "Error bits: 227\n",
            "Error probability: 4.54e-05\n",
            "EbNodB: 17\n",
            "Error bits: 27\n",
            "Error probability: 5.4e-06\n",
            "EbNodB: 18\n",
            "Error bits: 4\n",
            "Error probability: 8e-07\n",
            "EbNodB: 19\n",
            "Error bits: 0\n",
            "Error probability: 0.0\n",
            "EbNodB: 20\n",
            "Error bits: 0\n",
            "Error probability: 0.0\n",
            "EbNodB: 21\n",
            "Error bits: 0\n",
            "Error probability: 0.0\n",
            "EbNodB: 22\n",
            "Error bits: 0\n",
            "Error probability: 0.0\n",
            "EbNodB: 23\n",
            "Error bits: 0\n",
            "Error probability: 0.0\n",
            "EbNodB: 24\n",
            "Error bits: 0\n",
            "Error probability: 0.0\n",
            "EbNodB: 25\n",
            "Error bits: 0\n",
            "Error probability: 0.0\n",
            "EbNodB: 26\n",
            "Error bits: 0\n",
            "Error probability: 0.0\n",
            "EbNodB: 27\n",
            "Error bits: 0\n",
            "Error probability: 0.0\n",
            "EbNodB: 28\n",
            "Error bits: 0\n",
            "Error probability: 0.0\n",
            "EbNodB: 29\n",
            "Error bits: 0\n",
            "Error probability: 0.0\n"
          ],
          "name": "stdout"
        }
      ]
    },
    {
      "cell_type": "code",
      "metadata": {
        "id": "R6dhOzT41RE9",
        "colab": {
          "base_uri": "https://localhost:8080/",
          "height": 295
        },
        "outputId": "20aae306-8c2a-4887-857d-592b55cfa15d"
      },
      "source": [
        "plt.plot(EbNodB_range, ber1, 'bo', EbNodB_range, ber1, 'k')\n",
        "plt.plot(EbNodB_range, ber2, 'bo', EbNodB_range, ber2, 'k')\n",
        "plt.plot(EbNodB_range, ber3, 'bo', EbNodB_range, ber3, 'k')\n",
        "plt.axis([0, 30, 1e-6, 0.5])\n",
        "plt.xscale('linear')\n",
        "plt.yscale('log')\n",
        "plt.xlabel('EbNo(dB)')\n",
        "plt.ylabel('BER')\n",
        "plt.grid(True)\n",
        "plt.title('8PSK Modulation')\n",
        "plt.show()"
      ],
      "execution_count": 7,
      "outputs": [
        {
          "output_type": "display_data",
          "data": {
            "image/png": "[encoded data removed]",
            "text/plain": [
              "<Figure size 432x288 with 1 Axes>"
            ]
          },
          "metadata": {
            "tags": [],
            "needs_background": "light"
          }
        }
      ]
    },
    {
      "cell_type": "code",
      "metadata": {
        "id": "Gj5tEmHTFvJs",
        "colab": {
          "base_uri": "https://localhost:8080/"
        },
        "outputId": "cf0623c0-61be-440c-ea6e-a1d319f8d1b5"
      },
      "source": [
        "from numpy import sqrt\n",
        "from numpy.random import rand, randn\n",
        "import matplotlib.pyplot as plt\n",
        "  \n",
        "N = 5000000\n",
        "EbNodB_range = range(0,30)\n",
        "itr = len(EbNodB_range)\n",
        "ber4 = [None]*itr\n",
        "#R = math.sin(math.pi/16)\n",
        "R = 1\n",
        "fact = sqrt(2 / math.sin(math.pi/16))\n",
        "for n in range (0, itr): \n",
        " \n",
        "    EbNodB = EbNodB_range[n]   \n",
        "    EbNo=10.0**(EbNodB/10.0)\n",
        "    x = 2 * (rand(N) >= 0.5) - 1\n",
        "    noise_std = fact/sqrt(2*R*EbNo)\n",
        "    y = x + noise_std * randn(N)\n",
        "    y_d = 2 * (y >= 0) - 1\n",
        "    errors = (x != y_d).sum()\n",
        "    ber4[n] = 1.0 * errors / N\n",
        "    \n",
        "    print (\"EbNodB:\", EbNodB)\n",
        "    print (\"Error bits:\", errors)\n",
        "    print (\"Error probability:\", ber4[n])\n",
        "        \n"
      ],
      "execution_count": 8,
      "outputs": [
        {
          "output_type": "stream",
          "text": [
            "EbNodB: 0\n",
            "Error bits: 1646500\n",
            "Error probability: 0.3293\n",
            "EbNodB: 1\n",
            "Error bits: 1550993\n",
            "Error probability: 0.3101986\n",
            "EbNodB: 2\n",
            "Error bits: 1442467\n",
            "Error probability: 0.2884934\n",
            "EbNodB: 3\n",
            "Error bits: 1332179\n",
            "Error probability: 0.2664358\n",
            "EbNodB: 4\n",
            "Error bits: 1209843\n",
            "Error probability: 0.2419686\n",
            "EbNodB: 5\n",
            "Error bits: 1080070\n",
            "Error probability: 0.216014\n",
            "EbNodB: 6\n",
            "Error bits: 944757\n",
            "Error probability: 0.1889514\n",
            "EbNodB: 7\n",
            "Error bits: 805533\n",
            "Error probability: 0.1611066\n",
            "EbNodB: 8\n",
            "Error bits: 667796\n",
            "Error probability: 0.1335592\n",
            "EbNodB: 9\n",
            "Error bits: 532455\n",
            "Error probability: 0.106491\n",
            "EbNodB: 10\n",
            "Error bits: 405233\n",
            "Error probability: 0.0810466\n",
            "EbNodB: 11\n",
            "Error bits: 292248\n",
            "Error probability: 0.0584496\n",
            "EbNodB: 12\n",
            "Error bits: 196567\n",
            "Error probability: 0.0393134\n",
            "EbNodB: 13\n",
            "Error bits: 121021\n",
            "Error probability: 0.0242042\n",
            "EbNodB: 14\n",
            "Error bits: 67287\n",
            "Error probability: 0.0134574\n",
            "EbNodB: 15\n",
            "Error bits: 32769\n",
            "Error probability: 0.0065538\n",
            "EbNodB: 16\n",
            "Error bits: 13472\n",
            "Error probability: 0.0026944\n",
            "EbNodB: 17\n",
            "Error bits: 4454\n",
            "Error probability: 0.0008908\n",
            "EbNodB: 18\n",
            "Error bits: 1077\n",
            "Error probability: 0.0002154\n",
            "EbNodB: 19\n",
            "Error bits: 211\n",
            "Error probability: 4.22e-05\n",
            "EbNodB: 20\n",
            "Error bits: 19\n",
            "Error probability: 3.8e-06\n",
            "EbNodB: 21\n",
            "Error bits: 2\n",
            "Error probability: 4e-07\n",
            "EbNodB: 22\n",
            "Error bits: 0\n",
            "Error probability: 0.0\n",
            "EbNodB: 23\n",
            "Error bits: 0\n",
            "Error probability: 0.0\n",
            "EbNodB: 24\n",
            "Error bits: 0\n",
            "Error probability: 0.0\n",
            "EbNodB: 25\n",
            "Error bits: 0\n",
            "Error probability: 0.0\n",
            "EbNodB: 26\n",
            "Error bits: 0\n",
            "Error probability: 0.0\n",
            "EbNodB: 27\n",
            "Error bits: 0\n",
            "Error probability: 0.0\n",
            "EbNodB: 28\n",
            "Error bits: 0\n",
            "Error probability: 0.0\n",
            "EbNodB: 29\n",
            "Error bits: 0\n",
            "Error probability: 0.0\n"
          ],
          "name": "stdout"
        }
      ]
    },
    {
      "cell_type": "code",
      "metadata": {
        "id": "PjEIfKNE1gjh",
        "colab": {
          "base_uri": "https://localhost:8080/",
          "height": 295
        },
        "outputId": "21bbc783-44ae-4dfa-de0c-f4bab441d7ed"
      },
      "source": [
        "plt.plot(EbNodB_range, ber1, 'bo', EbNodB_range, ber1, 'k')\n",
        "plt.plot(EbNodB_range, ber2, 'bo', EbNodB_range, ber2, 'k')\n",
        "plt.plot(EbNodB_range, ber3, 'bo', EbNodB_range, ber3, 'k')\n",
        "plt.plot(EbNodB_range, ber4, 'bo', EbNodB_range, ber4, 'k')\n",
        "plt.axis([0, 30, 1e-6, 0.5])\n",
        "plt.xscale('linear')\n",
        "plt.yscale('log')\n",
        "plt.xlabel('EbNo(dB)')\n",
        "plt.ylabel('BER')\n",
        "plt.grid(True)\n",
        "plt.title('16PSK Modulation')\n",
        "plt.show()"
      ],
      "execution_count": 9,
      "outputs": [
        {
          "output_type": "display_data",
          "data": {
            "image/png": "[encoded data removed]",
            "text/plain": [
              "<Figure size 432x288 with 1 Axes>"
            ]
          },
          "metadata": {
            "tags": [],
            "needs_background": "light"
          }
        }
      ]
    },
    {
      "cell_type": "code",
      "metadata": {
        "id": "vlS2VSx7F5Xq",
        "colab": {
          "base_uri": "https://localhost:8080/"
        },
        "outputId": "c31bbd39-d8a4-48a2-bf0a-19f2b95ed34c"
      },
      "source": [
        "from numpy import sqrt\n",
        "from numpy.random import rand, randn\n",
        "import matplotlib.pyplot as plt\n",
        "  \n",
        "N = 5000000\n",
        "EbNodB_range = range(0,30)\n",
        "itr = len(EbNodB_range)\n",
        "ber5 = [None]*itr\n",
        "#R = 1/math.log2(32)*math.sin(math.pi/32)\n",
        "R = 1\n",
        "fact = sqrt(2 / math.sin(math.pi/32))\n",
        "\n",
        "for n in range (0, itr): \n",
        " \n",
        "    EbNodB = EbNodB_range[n]   \n",
        "    EbNo=10.0**(EbNodB/10.0)\n",
        "    x = 2 * (rand(N) >= 0.5) - 1\n",
        "    noise_std = fact/sqrt(2*R*EbNo)\n",
        "    y = x + noise_std * randn(N)\n",
        "    y_d = 2 * (y >= 0) - 1\n",
        "    errors = (x != y_d).sum()\n",
        "    ber5[n] = 1.0 * errors / N\n",
        "    \n",
        "    print (\"EbNodB:\", EbNodB)\n",
        "    print (\"Error bits:\", errors)\n",
        "    print (\"Error probability:\", ber5[n])\n",
        "        \n"
      ],
      "execution_count": 10,
      "outputs": [
        {
          "output_type": "stream",
          "text": [
            "EbNodB: 0\n",
            "Error bits: 1887228\n",
            "Error probability: 0.3774456\n",
            "EbNodB: 1\n",
            "Error bits: 1814339\n",
            "Error probability: 0.3628678\n",
            "EbNodB: 2\n",
            "Error bits: 1734030\n",
            "Error probability: 0.346806\n",
            "EbNodB: 3\n",
            "Error bits: 1644783\n",
            "Error probability: 0.3289566\n",
            "EbNodB: 4\n",
            "Error bits: 1548703\n",
            "Error probability: 0.3097406\n",
            "EbNodB: 5\n",
            "Error bits: 1444438\n",
            "Error probability: 0.2888876\n",
            "EbNodB: 6\n",
            "Error bits: 1330267\n",
            "Error probability: 0.2660534\n",
            "EbNodB: 7\n",
            "Error bits: 1206658\n",
            "Error probability: 0.2413316\n",
            "EbNodB: 8\n",
            "Error bits: 1080316\n",
            "Error probability: 0.2160632\n",
            "EbNodB: 9\n",
            "Error bits: 941995\n",
            "Error probability: 0.188399\n",
            "EbNodB: 10\n",
            "Error bits: 804708\n",
            "Error probability: 0.1609416\n",
            "EbNodB: 11\n",
            "Error bits: 665765\n",
            "Error probability: 0.133153\n",
            "EbNodB: 12\n",
            "Error bits: 530901\n",
            "Error probability: 0.1061802\n",
            "EbNodB: 13\n",
            "Error bits: 405452\n",
            "Error probability: 0.0810904\n",
            "EbNodB: 14\n",
            "Error bits: 291250\n",
            "Error probability: 0.05825\n",
            "EbNodB: 15\n",
            "Error bits: 195864\n",
            "Error probability: 0.0391728\n",
            "EbNodB: 16\n",
            "Error bits: 120220\n",
            "Error probability: 0.024044\n",
            "EbNodB: 17\n",
            "Error bits: 66582\n",
            "Error probability: 0.0133164\n",
            "EbNodB: 18\n",
            "Error bits: 32339\n",
            "Error probability: 0.0064678\n",
            "EbNodB: 19\n",
            "Error bits: 12990\n",
            "Error probability: 0.002598\n",
            "EbNodB: 20\n",
            "Error bits: 4341\n",
            "Error probability: 0.0008682\n",
            "EbNodB: 21\n",
            "Error bits: 1049\n",
            "Error probability: 0.0002098\n",
            "EbNodB: 22\n",
            "Error bits: 189\n",
            "Error probability: 3.78e-05\n",
            "EbNodB: 23\n",
            "Error bits: 23\n",
            "Error probability: 4.6e-06\n",
            "EbNodB: 24\n",
            "Error bits: 0\n",
            "Error probability: 0.0\n",
            "EbNodB: 25\n",
            "Error bits: 0\n",
            "Error probability: 0.0\n",
            "EbNodB: 26\n",
            "Error bits: 0\n",
            "Error probability: 0.0\n",
            "EbNodB: 27\n",
            "Error bits: 0\n",
            "Error probability: 0.0\n",
            "EbNodB: 28\n",
            "Error bits: 0\n",
            "Error probability: 0.0\n",
            "EbNodB: 29\n",
            "Error bits: 0\n",
            "Error probability: 0.0\n"
          ],
          "name": "stdout"
        }
      ]
    },
    {
      "cell_type": "code",
      "metadata": {
        "id": "IIzyVg0K24kl",
        "colab": {
          "base_uri": "https://localhost:8080/",
          "height": 295
        },
        "outputId": "fef49ec3-c560-4985-8e6e-d3c217f36af7"
      },
      "source": [
        "plt.plot(EbNodB_range, ber1, 'bo', EbNodB_range, ber1, 'k')\n",
        "plt.plot(EbNodB_range, ber2, 'bo', EbNodB_range, ber2, 'k')\n",
        "plt.plot(EbNodB_range, ber3, 'bo', EbNodB_range, ber3, 'k')\n",
        "plt.plot(EbNodB_range, ber4, 'bo', EbNodB_range, ber4, 'k')\n",
        "plt.plot(EbNodB_range, ber5, 'bo', EbNodB_range, ber5, 'k')\n",
        "plt.axis([0, 30, 1e-6, 0.5])\n",
        "plt.xscale('linear')\n",
        "plt.yscale('log')\n",
        "plt.xlabel('EbNo(dB)')\n",
        "plt.ylabel('BER')\n",
        "plt.grid(True)\n",
        "plt.title('QPSK Modulation')\n",
        "plt.show()"
      ],
      "execution_count": 11,
      "outputs": [
        {
          "output_type": "display_data",
          "data": {
            "image/png": "[encoded data removed]",
            "text/plain": [
              "<Figure size 432x288 with 1 Axes>"
            ]
          },
          "metadata": {
            "tags": [],
            "needs_background": "light"
          }
        }
      ]
    },
    {
      "cell_type": "code",
      "metadata": {
        "colab": {
          "base_uri": "https://localhost:8080/"
        },
        "id": "aV037KmAnaft",
        "outputId": "dae220aa-40bb-42a9-febe-cc1170db6723"
      },
      "source": [
        "from numpy import sqrt\n",
        "from numpy.random import rand, randn\n",
        "import matplotlib.pyplot as plt\n",
        "  \n",
        "N = 5000000\n",
        "EbNodB_range = range(0,30)\n",
        "itr = len(EbNodB_range)\n",
        "ber6 = [None]*itr\n",
        "#R = 1/math.log2(32)*math.sin(math.pi/32)\n",
        "R = 1\n",
        "fact = sqrt(2 / math.sin(math.pi/64))\n",
        "\n",
        "for n in range (0, itr): \n",
        " \n",
        "    EbNodB = EbNodB_range[n]   \n",
        "    EbNo=10.0**(EbNodB/10.0)\n",
        "    x = 2 * (rand(N) >= 0.5) - 1\n",
        "    noise_std = fact/sqrt(2*R*EbNo)\n",
        "    y = x + noise_std * randn(N)\n",
        "    y_d = 2 * (y >= 0) - 1\n",
        "    errors = (x != y_d).sum()\n",
        "    ber6[n] = 1.0 * errors / N\n",
        "    \n",
        "    print (\"EbNodB:\", EbNodB)\n",
        "    print (\"Error bits:\", errors)\n",
        "    print (\"Error probability:\", ber6[n])\n",
        "        "
      ],
      "execution_count": 12,
      "outputs": [
        {
          "output_type": "stream",
          "text": [
            "EbNodB: 0\n",
            "Error bits: 2062342\n",
            "Error probability: 0.4124684\n",
            "EbNodB: 1\n",
            "Error bits: 2011735\n",
            "Error probability: 0.402347\n",
            "EbNodB: 2\n",
            "Error bits: 1951074\n",
            "Error probability: 0.3902148\n",
            "EbNodB: 3\n",
            "Error bits: 1886669\n",
            "Error probability: 0.3773338\n",
            "EbNodB: 4\n",
            "Error bits: 1813889\n",
            "Error probability: 0.3627778\n",
            "EbNodB: 5\n",
            "Error bits: 1733630\n",
            "Error probability: 0.346726\n",
            "EbNodB: 6\n",
            "Error bits: 1644965\n",
            "Error probability: 0.328993\n",
            "EbNodB: 7\n",
            "Error bits: 1548971\n",
            "Error probability: 0.3097942\n",
            "EbNodB: 8\n",
            "Error bits: 1446329\n",
            "Error probability: 0.2892658\n",
            "EbNodB: 9\n",
            "Error bits: 1330398\n",
            "Error probability: 0.2660796\n",
            "EbNodB: 10\n",
            "Error bits: 1209803\n",
            "Error probability: 0.2419606\n",
            "EbNodB: 11\n",
            "Error bits: 1079294\n",
            "Error probability: 0.2158588\n",
            "EbNodB: 12\n",
            "Error bits: 944732\n",
            "Error probability: 0.1889464\n",
            "EbNodB: 13\n",
            "Error bits: 805876\n",
            "Error probability: 0.1611752\n",
            "EbNodB: 14\n",
            "Error bits: 668179\n",
            "Error probability: 0.1336358\n",
            "EbNodB: 15\n",
            "Error bits: 532440\n",
            "Error probability: 0.106488\n",
            "EbNodB: 16\n",
            "Error bits: 407150\n",
            "Error probability: 0.08143\n",
            "EbNodB: 17\n",
            "Error bits: 291555\n",
            "Error probability: 0.058311\n",
            "EbNodB: 18\n",
            "Error bits: 196329\n",
            "Error probability: 0.0392658\n",
            "EbNodB: 19\n",
            "Error bits: 120239\n",
            "Error probability: 0.0240478\n",
            "EbNodB: 20\n",
            "Error bits: 67457\n",
            "Error probability: 0.0134914\n",
            "EbNodB: 21\n",
            "Error bits: 32401\n",
            "Error probability: 0.0064802\n",
            "EbNodB: 22\n",
            "Error bits: 13262\n",
            "Error probability: 0.0026524\n",
            "EbNodB: 23\n",
            "Error bits: 4405\n",
            "Error probability: 0.000881\n",
            "EbNodB: 24\n",
            "Error bits: 1083\n",
            "Error probability: 0.0002166\n",
            "EbNodB: 25\n",
            "Error bits: 200\n",
            "Error probability: 4e-05\n",
            "EbNodB: 26\n",
            "Error bits: 22\n",
            "Error probability: 4.4e-06\n",
            "EbNodB: 27\n",
            "Error bits: 2\n",
            "Error probability: 4e-07\n",
            "EbNodB: 28\n",
            "Error bits: 0\n",
            "Error probability: 0.0\n",
            "EbNodB: 29\n",
            "Error bits: 0\n",
            "Error probability: 0.0\n"
          ],
          "name": "stdout"
        }
      ]
    },
    {
      "cell_type": "code",
      "metadata": {
        "colab": {
          "base_uri": "https://localhost:8080/",
          "height": 295
        },
        "id": "RY1gbWHsngRG",
        "outputId": "db97e7c4-7ef7-479c-ab63-9a94810c7a8e"
      },
      "source": [
        "plt.plot(EbNodB_range, ber1, 'bo', EbNodB_range, ber1, 'k')\n",
        "plt.plot(EbNodB_range, ber2, 'bo', EbNodB_range, ber2, 'k')\n",
        "plt.plot(EbNodB_range, ber3, 'bo', EbNodB_range, ber3, 'k')\n",
        "plt.plot(EbNodB_range, ber4, 'bo', EbNodB_range, ber4, 'k')\n",
        "plt.plot(EbNodB_range, ber5, 'bo', EbNodB_range, ber5, 'k')\n",
        "plt.plot(EbNodB_range, ber6, 'bo', EbNodB_range, ber6, 'k')\n",
        "plt.axis([0, 30, 1e-6, 0.5])\n",
        "plt.xscale('linear')\n",
        "plt.yscale('log')\n",
        "plt.xlabel('EbNo(dB)')\n",
        "plt.ylabel('BER')\n",
        "plt.grid(True)\n",
        "plt.title('QPSK Modulation')\n",
        "plt.show()"
      ],
      "execution_count": 14,
      "outputs": [
        {
          "output_type": "display_data",
          "data": {
            "image/png": "[encoded data removed]",
            "text/plain": [
              "<Figure size 432x288 with 1 Axes>"
            ]
          },
          "metadata": {
            "tags": [],
            "needs_background": "light"
          }
        }
      ]
    }
  ]
}