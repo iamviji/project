{
  "nbformat": 4,
  "nbformat_minor": 0,
  "metadata": {
    "colab": {
      "name": "Theory-1.ipynb",
      "provenance": [],
      "collapsed_sections": [],
      "include_colab_link": true
    },
    "kernelspec": {
      "name": "python3",
      "display_name": "Python 3"
    }
  },
  "cells": [
    {
      "cell_type": "markdown",
      "metadata": {
        "id": "view-in-github",
        "colab_type": "text"
      },
      "source": [
        "<a href=\"https://colab.research.google.com/github/iamviji/project/blob/master/PostMidTerm/Theory_QAM.ipynb\" target=\"_parent\"><img src=\"https://colab.research.google.com/assets/colab-badge.svg\" alt=\"Open In Colab\"/></a>"
      ]
    },
    {
      "cell_type": "code",
      "metadata": {
        "colab": {
          "base_uri": "https://localhost:8080/"
        },
        "id": "JhA53stPuyG0",
        "outputId": "51b95521-37e1-4414-da5b-bd495c093c24"
      },
      "source": [
        "import math\n",
        "print (math.sin(math.pi/4))\n"
      ],
      "execution_count": 1,
      "outputs": [
        {
          "output_type": "stream",
          "text": [
            "0.7071067811865475\n"
          ],
          "name": "stdout"
        }
      ]
    },
    {
      "cell_type": "code",
      "metadata": {
        "id": "nga1w8Rzs_WZ",
        "colab": {
          "base_uri": "https://localhost:8080/"
        },
        "outputId": "e4eeb573-b477-46d2-f5be-975adfe5d6f5"
      },
      "source": [
        "\n",
        "from numpy import sqrt\n",
        "from numpy.random import rand, randn\n",
        "import matplotlib.pyplot as plt\n",
        "  \n",
        "N = 5000000\n",
        "EbNodB_range = range(0,30)\n",
        "itr = len(EbNodB_range)\n",
        "ber1 = [None]*itr\n",
        "#R = math.log2(2)*math.sin(math.pi/2)\n",
        "R = 1\n",
        "fact = sqrt(1 / math.sin(math.pi/2))\n",
        "\n",
        "print (\"R=\",R)\n",
        "for n in range (0, itr): \n",
        " \n",
        "    EbNodB = EbNodB_range[n]   \n",
        "    EbNo=10.0**(EbNodB/10.0) \n",
        "    x = 2 * (rand(N) >= 0.5) - 1\n",
        "    #print (x)\n",
        "    noise_std = fact/(sqrt(2*R*EbNo)) # 1/sqrt(2 x R x EbNo)\n",
        "    y = x + noise_std * randn(N)\n",
        "    y_d = 2 * (y >= 0) - 1\n",
        "    errors = (x != y_d).sum()\n",
        "    ber1[n] = 1.0 * errors / N\n",
        "    \n",
        "    print (\"EbNodB:\", EbNodB)\n",
        "    print (\"Error bits:\", errors)\n",
        "    print (\"Error probability:\", ber1[n])\n",
        "        \n"
      ],
      "execution_count": 2,
      "outputs": [
        {
          "output_type": "stream",
          "text": [
            "R= 1\n",
            "EbNodB: 0\n",
            "Error bits: 393453\n",
            "Error probability: 0.0786906\n",
            "EbNodB: 1\n",
            "Error bits: 281351\n",
            "Error probability: 0.0562702\n",
            "EbNodB: 2\n",
            "Error bits: 187052\n",
            "Error probability: 0.0374104\n",
            "EbNodB: 3\n",
            "Error bits: 114649\n",
            "Error probability: 0.0229298\n",
            "EbNodB: 4\n",
            "Error bits: 62666\n",
            "Error probability: 0.0125332\n",
            "EbNodB: 5\n",
            "Error bits: 29942\n",
            "Error probability: 0.0059884\n",
            "EbNodB: 6\n",
            "Error bits: 11915\n",
            "Error probability: 0.002383\n",
            "EbNodB: 7\n",
            "Error bits: 3826\n",
            "Error probability: 0.0007652\n",
            "EbNodB: 8\n",
            "Error bits: 939\n",
            "Error probability: 0.0001878\n",
            "EbNodB: 9\n",
            "Error bits: 161\n",
            "Error probability: 3.22e-05\n",
            "EbNodB: 10\n",
            "Error bits: 22\n",
            "Error probability: 4.4e-06\n",
            "EbNodB: 11\n",
            "Error bits: 1\n",
            "Error probability: 2e-07\n",
            "EbNodB: 12\n",
            "Error bits: 0\n",
            "Error probability: 0.0\n",
            "EbNodB: 13\n",
            "Error bits: 0\n",
            "Error probability: 0.0\n",
            "EbNodB: 14\n",
            "Error bits: 0\n",
            "Error probability: 0.0\n",
            "EbNodB: 15\n",
            "Error bits: 0\n",
            "Error probability: 0.0\n",
            "EbNodB: 16\n",
            "Error bits: 0\n",
            "Error probability: 0.0\n",
            "EbNodB: 17\n",
            "Error bits: 0\n",
            "Error probability: 0.0\n",
            "EbNodB: 18\n",
            "Error bits: 0\n",
            "Error probability: 0.0\n",
            "EbNodB: 19\n",
            "Error bits: 0\n",
            "Error probability: 0.0\n",
            "EbNodB: 20\n",
            "Error bits: 0\n",
            "Error probability: 0.0\n",
            "EbNodB: 21\n",
            "Error bits: 0\n",
            "Error probability: 0.0\n",
            "EbNodB: 22\n",
            "Error bits: 0\n",
            "Error probability: 0.0\n",
            "EbNodB: 23\n",
            "Error bits: 0\n",
            "Error probability: 0.0\n",
            "EbNodB: 24\n",
            "Error bits: 0\n",
            "Error probability: 0.0\n",
            "EbNodB: 25\n",
            "Error bits: 0\n",
            "Error probability: 0.0\n",
            "EbNodB: 26\n",
            "Error bits: 0\n",
            "Error probability: 0.0\n",
            "EbNodB: 27\n",
            "Error bits: 0\n",
            "Error probability: 0.0\n",
            "EbNodB: 28\n",
            "Error bits: 0\n",
            "Error probability: 0.0\n",
            "EbNodB: 29\n",
            "Error bits: 0\n",
            "Error probability: 0.0\n"
          ],
          "name": "stdout"
        }
      ]
    },
    {
      "cell_type": "code",
      "metadata": {
        "id": "D-dpH17uz5lV",
        "colab": {
          "base_uri": "https://localhost:8080/",
          "height": 312
        },
        "outputId": "4a54e7af-794a-43c3-c0c4-c9dd6333db12"
      },
      "source": [
        "plt.plot(EbNodB_range, ber1, 'bo', EbNodB_range, ber1, 'k')\n",
        "plt.axis([0, 10, 1e-6, 0.1])\n",
        "plt.xscale('linear')\n",
        "plt.yscale('log')\n",
        "plt.xlabel('EbNo(dB)')\n",
        "plt.ylabel('BER')\n",
        "plt.grid(True)\n",
        "plt.title('BPSK Modulation')\n",
        "plt.show()\n",
        "print (ber1)"
      ],
      "execution_count": 3,
      "outputs": [
        {
          "output_type": "display_data",
          "data": {
            "image/png": "[encoded data removed]",
            "text/plain": [
              "<Figure size 432x288 with 1 Axes>"
            ]
          },
          "metadata": {
            "tags": [],
            "needs_background": "light"
          }
        },
        {
          "output_type": "stream",
          "text": [
            "[0.0786906, 0.0562702, 0.0374104, 0.0229298, 0.0125332, 0.0059884, 0.002383, 0.0007652, 0.0001878, 3.22e-05, 4.4e-06, 2e-07, 0.0, 0.0, 0.0, 0.0, 0.0, 0.0, 0.0, 0.0, 0.0, 0.0, 0.0, 0.0, 0.0, 0.0, 0.0, 0.0, 0.0, 0.0]\n"
          ],
          "name": "stdout"
        }
      ]
    },
    {
      "cell_type": "code",
      "metadata": {
        "id": "Pny7wCHun0YJ"
      },
      "source": [
        ""
      ],
      "execution_count": null,
      "outputs": []
    },
    {
      "cell_type": "code",
      "metadata": {
        "id": "Pb7oxtJ9tnZt",
        "colab": {
          "base_uri": "https://localhost:8080/"
        },
        "outputId": "35544ebd-7731-451e-8b2f-bf2438d3c587"
      },
      "source": [
        "from numpy import sqrt\n",
        "from numpy.random import rand, randn\n",
        "import matplotlib.pyplot as plt\n",
        "  \n",
        "N = 5000000\n",
        "EbNodB_range = range(0,30)\n",
        "itr = len(EbNodB_range)\n",
        "ber2 = [None]*itr\n",
        "R = 1/math.log2(4)*math.sin(math.pi/4)\n",
        "R  = 1\n",
        "fact = math.sin(math.pi/2)\n",
        "print (\"R=\",R)\n",
        "fact = sqrt(2 / math.sin(math.pi/4))\n",
        "#fact = sqrt(4*(1-(1/sqrt(4))))\n",
        "for n in range (0, itr): \n",
        " \n",
        "    EbNodB = EbNodB_range[n]   \n",
        "    EbNo=10.0**(EbNodB/10.0)\n",
        "    x = 2 * (rand(N) >= 0.5) - 1\n",
        "    noise_std = fact/(sqrt(2*R*EbNo))\n",
        "    y = x + noise_std * randn(N)\n",
        "    y_d = 2 * (y >= 0) - 1\n",
        "    errors = (x != y_d).sum()\n",
        "    ber2[n] = 1.0 * errors / N\n",
        "    \n",
        "    print (\"EbNodB:\", EbNodB)\n",
        "    print (\"Error bits:\", errors)\n",
        "    print (\"Error probability:\", ber2[n])\n",
        "        \n"
      ],
      "execution_count": 4,
      "outputs": [
        {
          "output_type": "stream",
          "text": [
            "R= 1\n",
            "EbNodB: 0\n",
            "Error bits: 1000025\n",
            "Error probability: 0.200005\n",
            "EbNodB: 1\n",
            "Error bits: 863390\n",
            "Error probability: 0.172678\n",
            "EbNodB: 2\n",
            "Error bits: 724560\n",
            "Error probability: 0.144912\n",
            "EbNodB: 3\n",
            "Error bits: 586823\n",
            "Error probability: 0.1173646\n",
            "EbNodB: 4\n",
            "Error bits: 456559\n",
            "Error probability: 0.0913118\n",
            "EbNodB: 5\n",
            "Error bits: 337606\n",
            "Error probability: 0.0675212\n",
            "EbNodB: 6\n",
            "Error bits: 233524\n",
            "Error probability: 0.0467048\n",
            "EbNodB: 7\n",
            "Error bits: 149200\n",
            "Error probability: 0.02984\n",
            "EbNodB: 8\n",
            "Error bits: 87184\n",
            "Error probability: 0.0174368\n",
            "EbNodB: 9\n",
            "Error bits: 44489\n",
            "Error probability: 0.0088978\n",
            "EbNodB: 10\n",
            "Error bits: 19439\n",
            "Error probability: 0.0038878\n",
            "EbNodB: 11\n",
            "Error bits: 7092\n",
            "Error probability: 0.0014184\n",
            "EbNodB: 12\n",
            "Error bits: 1957\n",
            "Error probability: 0.0003914\n",
            "EbNodB: 13\n",
            "Error bits: 428\n",
            "Error probability: 8.56e-05\n",
            "EbNodB: 14\n",
            "Error bits: 60\n",
            "Error probability: 1.2e-05\n",
            "EbNodB: 15\n",
            "Error bits: 9\n",
            "Error probability: 1.8e-06\n",
            "EbNodB: 16\n",
            "Error bits: 0\n",
            "Error probability: 0.0\n",
            "EbNodB: 17\n",
            "Error bits: 0\n",
            "Error probability: 0.0\n",
            "EbNodB: 18\n",
            "Error bits: 0\n",
            "Error probability: 0.0\n",
            "EbNodB: 19\n",
            "Error bits: 0\n",
            "Error probability: 0.0\n",
            "EbNodB: 20\n",
            "Error bits: 0\n",
            "Error probability: 0.0\n",
            "EbNodB: 21\n",
            "Error bits: 0\n",
            "Error probability: 0.0\n",
            "EbNodB: 22\n",
            "Error bits: 0\n",
            "Error probability: 0.0\n",
            "EbNodB: 23\n",
            "Error bits: 0\n",
            "Error probability: 0.0\n",
            "EbNodB: 24\n",
            "Error bits: 0\n",
            "Error probability: 0.0\n",
            "EbNodB: 25\n",
            "Error bits: 0\n",
            "Error probability: 0.0\n",
            "EbNodB: 26\n",
            "Error bits: 0\n",
            "Error probability: 0.0\n",
            "EbNodB: 27\n",
            "Error bits: 0\n",
            "Error probability: 0.0\n",
            "EbNodB: 28\n",
            "Error bits: 0\n",
            "Error probability: 0.0\n",
            "EbNodB: 29\n",
            "Error bits: 0\n",
            "Error probability: 0.0\n"
          ],
          "name": "stdout"
        }
      ]
    },
    {
      "cell_type": "code",
      "metadata": {
        "id": "83nv5LjGz8ez",
        "colab": {
          "base_uri": "https://localhost:8080/",
          "height": 295
        },
        "outputId": "3ce757cf-092c-408a-9159-a0c71227aff8"
      },
      "source": [
        "plt.plot(EbNodB_range, ber1, 'bo', EbNodB_range, ber1, 'k')\n",
        "plt.plot(EbNodB_range, ber2, 'bo', EbNodB_range, ber2, 'k')\n",
        "plt.axis([0, 20, 1e-6, 0.5])\n",
        "plt.xscale('linear')\n",
        "plt.yscale('log')\n",
        "plt.xlabel('EbNo(dB)')\n",
        "plt.ylabel('BER')\n",
        "plt.grid(True)\n",
        "plt.title('QPSK Modulation')\n",
        "plt.show()"
      ],
      "execution_count": 5,
      "outputs": [
        {
          "output_type": "display_data",
          "data": {
            "image/png": "[encoded data removed]",
            "text/plain": [
              "<Figure size 432x288 with 1 Axes>"
            ]
          },
          "metadata": {
            "tags": [],
            "needs_background": "light"
          }
        }
      ]
    },
    {
      "cell_type": "code",
      "metadata": {
        "id": "J0BtEhxpuXdr",
        "colab": {
          "base_uri": "https://localhost:8080/"
        },
        "outputId": "87ad68cb-53ed-474a-a07d-fb3722d979d5"
      },
      "source": [
        "from numpy import sqrt\n",
        "from numpy.random import rand, randn\n",
        "import matplotlib.pyplot as plt\n",
        "  \n",
        "N = 5000000\n",
        "EbNodB_range = range(0,30)\n",
        "itr = len(EbNodB_range)\n",
        "ber3 = [None]*itr\n",
        "#R = math.sin(math.pi/8)\n",
        "#R = 1/math.log2(8)*math.sin(math.pi/8)\n",
        "R = 1\n",
        "fact = sqrt(2 / math.sin(math.pi/8))\n",
        "#fact = sqrt(4*(1-(1/sqrt(8))))\n",
        "for n in range (0, itr): \n",
        " \n",
        "    EbNodB = EbNodB_range[n]   \n",
        "    EbNo=10.0**(EbNodB/10.0)\n",
        "    x = 2 * (rand(N) >= 0.5) - 1\n",
        "    noise_std = fact/(sqrt(2*R*EbNo))\n",
        "    y = x + noise_std * randn(N)\n",
        "    y_d = 2 * (y >= 0) - 1\n",
        "    errors = (x != y_d).sum()\n",
        "    ber3[n] = 1.0 * errors / N\n",
        "    \n",
        "    print (\"EbNodB:\", EbNodB)\n",
        "    print (\"Error bits:\", errors)\n",
        "    print (\"Error probability:\", ber3[n])\n",
        "        \n"
      ],
      "execution_count": 6,
      "outputs": [
        {
          "output_type": "stream",
          "text": [
            "EbNodB: 0\n",
            "Error bits: 1340014\n",
            "Error probability: 0.2680028\n",
            "EbNodB: 1\n",
            "Error bits: 1218435\n",
            "Error probability: 0.243687\n",
            "EbNodB: 2\n",
            "Error bits: 1091423\n",
            "Error probability: 0.2182846\n",
            "EbNodB: 3\n",
            "Error bits: 955413\n",
            "Error probability: 0.1910826\n",
            "EbNodB: 4\n",
            "Error bits: 817062\n",
            "Error probability: 0.1634124\n",
            "EbNodB: 5\n",
            "Error bits: 678061\n",
            "Error probability: 0.1356122\n",
            "EbNodB: 6\n",
            "Error bits: 542070\n",
            "Error probability: 0.108414\n",
            "EbNodB: 7\n",
            "Error bits: 414979\n",
            "Error probability: 0.0829958\n",
            "EbNodB: 8\n",
            "Error bits: 300953\n",
            "Error probability: 0.0601906\n",
            "EbNodB: 9\n",
            "Error bits: 201979\n",
            "Error probability: 0.0403958\n",
            "EbNodB: 10\n",
            "Error bits: 126473\n",
            "Error probability: 0.0252946\n",
            "EbNodB: 11\n",
            "Error bits: 70158\n",
            "Error probability: 0.0140316\n",
            "EbNodB: 12\n",
            "Error bits: 34927\n",
            "Error probability: 0.0069854\n",
            "EbNodB: 13\n",
            "Error bits: 14361\n",
            "Error probability: 0.0028722\n",
            "EbNodB: 14\n",
            "Error bits: 4880\n",
            "Error probability: 0.000976\n",
            "EbNodB: 15\n",
            "Error bits: 1229\n",
            "Error probability: 0.0002458\n",
            "EbNodB: 16\n",
            "Error bits: 247\n",
            "Error probability: 4.94e-05\n",
            "EbNodB: 17\n",
            "Error bits: 27\n",
            "Error probability: 5.4e-06\n",
            "EbNodB: 18\n",
            "Error bits: 1\n",
            "Error probability: 2e-07\n",
            "EbNodB: 19\n",
            "Error bits: 0\n",
            "Error probability: 0.0\n",
            "EbNodB: 20\n",
            "Error bits: 0\n",
            "Error probability: 0.0\n",
            "EbNodB: 21\n",
            "Error bits: 0\n",
            "Error probability: 0.0\n",
            "EbNodB: 22\n",
            "Error bits: 0\n",
            "Error probability: 0.0\n",
            "EbNodB: 23\n",
            "Error bits: 0\n",
            "Error probability: 0.0\n",
            "EbNodB: 24\n",
            "Error bits: 0\n",
            "Error probability: 0.0\n",
            "EbNodB: 25\n",
            "Error bits: 0\n",
            "Error probability: 0.0\n",
            "EbNodB: 26\n",
            "Error bits: 0\n",
            "Error probability: 0.0\n",
            "EbNodB: 27\n",
            "Error bits: 0\n",
            "Error probability: 0.0\n",
            "EbNodB: 28\n",
            "Error bits: 0\n",
            "Error probability: 0.0\n",
            "EbNodB: 29\n",
            "Error bits: 0\n",
            "Error probability: 0.0\n"
          ],
          "name": "stdout"
        }
      ]
    },
    {
      "cell_type": "code",
      "metadata": {
        "id": "R6dhOzT41RE9",
        "colab": {
          "base_uri": "https://localhost:8080/",
          "height": 295
        },
        "outputId": "0e12156d-143f-4295-c1b9-63ac27839128"
      },
      "source": [
        "plt.plot(EbNodB_range, ber1, 'bo', EbNodB_range, ber1, 'k')\n",
        "plt.plot(EbNodB_range, ber2, 'bo', EbNodB_range, ber2, 'k')\n",
        "plt.plot(EbNodB_range, ber3, 'bo', EbNodB_range, ber3, 'k')\n",
        "plt.axis([0, 30, 1e-6, 0.5])\n",
        "plt.xscale('linear')\n",
        "plt.yscale('log')\n",
        "plt.xlabel('EbNo(dB)')\n",
        "plt.ylabel('BER')\n",
        "plt.grid(True)\n",
        "plt.title('8PSK Modulation')\n",
        "plt.show()"
      ],
      "execution_count": 7,
      "outputs": [
        {
          "output_type": "display_data",
          "data": {
            "image/png": "[encoded data removed]",
            "text/plain": [
              "<Figure size 432x288 with 1 Axes>"
            ]
          },
          "metadata": {
            "tags": [],
            "needs_background": "light"
          }
        }
      ]
    },
    {
      "cell_type": "code",
      "metadata": {
        "id": "Gj5tEmHTFvJs",
        "colab": {
          "base_uri": "https://localhost:8080/"
        },
        "outputId": "6f8361fa-41a0-445d-c9be-82572dfcb47e"
      },
      "source": [
        "from numpy import sqrt\n",
        "from numpy.random import rand, randn\n",
        "import matplotlib.pyplot as plt\n",
        "  \n",
        "N = 5000000\n",
        "EbNodB_range = range(0,30)\n",
        "itr = len(EbNodB_range)\n",
        "ber4 = [None]*itr\n",
        "#R = math.sin(math.pi/16)\n",
        "R = 1\n",
        "fact = sqrt(2 / math.sin(math.pi/16))\n",
        "fact = sqrt(4*(1-(1/sqrt(16))))\n",
        "for n in range (0, itr): \n",
        " \n",
        "    EbNodB = EbNodB_range[n]   \n",
        "    EbNo=10.0**(EbNodB/10.0)\n",
        "    x = 2 * (rand(N) >= 0.5) - 1\n",
        "    noise_std = fact/sqrt(2*R*EbNo)\n",
        "    y = x + noise_std * randn(N)\n",
        "    y_d = 2 * (y >= 0) - 1\n",
        "    errors = (x != y_d).sum()\n",
        "    ber4[n] = 1.0 * errors / N\n",
        "    \n",
        "    print (\"EbNodB:\", EbNodB)\n",
        "    print (\"Error bits:\", errors)\n",
        "    print (\"Error probability:\", ber4[n])\n",
        "        \n"
      ],
      "execution_count": 8,
      "outputs": [
        {
          "output_type": "stream",
          "text": [
            "EbNodB: 0\n",
            "Error bits: 1035444\n",
            "Error probability: 0.2070888\n",
            "EbNodB: 1\n",
            "Error bits: 899370\n",
            "Error probability: 0.179874\n",
            "EbNodB: 2\n",
            "Error bits: 759597\n",
            "Error probability: 0.1519194\n",
            "EbNodB: 3\n",
            "Error bits: 622284\n",
            "Error probability: 0.1244568\n",
            "EbNodB: 4\n",
            "Error bits: 488991\n",
            "Error probability: 0.0977982\n",
            "EbNodB: 5\n",
            "Error bits: 365487\n",
            "Error probability: 0.0730974\n",
            "EbNodB: 6\n",
            "Error bits: 258732\n",
            "Error probability: 0.0517464\n",
            "EbNodB: 7\n",
            "Error bits: 168765\n",
            "Error probability: 0.033753\n",
            "EbNodB: 8\n",
            "Error bits: 101296\n",
            "Error probability: 0.0202592\n",
            "EbNodB: 9\n",
            "Error bits: 53085\n",
            "Error probability: 0.010617\n",
            "EbNodB: 10\n",
            "Error bits: 24430\n",
            "Error probability: 0.004886\n",
            "EbNodB: 11\n",
            "Error bits: 9451\n",
            "Error probability: 0.0018902\n",
            "EbNodB: 12\n",
            "Error bits: 2861\n",
            "Error probability: 0.0005722\n",
            "EbNodB: 13\n",
            "Error bits: 657\n",
            "Error probability: 0.0001314\n",
            "EbNodB: 14\n",
            "Error bits: 106\n",
            "Error probability: 2.12e-05\n",
            "EbNodB: 15\n",
            "Error bits: 11\n",
            "Error probability: 2.2e-06\n",
            "EbNodB: 16\n",
            "Error bits: 0\n",
            "Error probability: 0.0\n",
            "EbNodB: 17\n",
            "Error bits: 0\n",
            "Error probability: 0.0\n",
            "EbNodB: 18\n",
            "Error bits: 0\n",
            "Error probability: 0.0\n",
            "EbNodB: 19\n",
            "Error bits: 0\n",
            "Error probability: 0.0\n",
            "EbNodB: 20\n",
            "Error bits: 0\n",
            "Error probability: 0.0\n",
            "EbNodB: 21\n",
            "Error bits: 0\n",
            "Error probability: 0.0\n",
            "EbNodB: 22\n",
            "Error bits: 0\n",
            "Error probability: 0.0\n",
            "EbNodB: 23\n",
            "Error bits: 0\n",
            "Error probability: 0.0\n",
            "EbNodB: 24\n",
            "Error bits: 0\n",
            "Error probability: 0.0\n",
            "EbNodB: 25\n",
            "Error bits: 0\n",
            "Error probability: 0.0\n",
            "EbNodB: 26\n",
            "Error bits: 0\n",
            "Error probability: 0.0\n",
            "EbNodB: 27\n",
            "Error bits: 0\n",
            "Error probability: 0.0\n",
            "EbNodB: 28\n",
            "Error bits: 0\n",
            "Error probability: 0.0\n",
            "EbNodB: 29\n",
            "Error bits: 0\n",
            "Error probability: 0.0\n"
          ],
          "name": "stdout"
        }
      ]
    },
    {
      "cell_type": "code",
      "metadata": {
        "id": "PjEIfKNE1gjh",
        "colab": {
          "base_uri": "https://localhost:8080/",
          "height": 295
        },
        "outputId": "fc4f4b8f-b8be-443a-aef7-ffb37ad0a597"
      },
      "source": [
        "plt.plot(EbNodB_range, ber1, 'bo', EbNodB_range, ber1, 'k')\n",
        "plt.plot(EbNodB_range, ber2, 'bo', EbNodB_range, ber2, 'k')\n",
        "plt.plot(EbNodB_range, ber3, 'bo', EbNodB_range, ber3, 'k')\n",
        "plt.plot(EbNodB_range, ber4, 'bo', EbNodB_range, ber4, 'k')\n",
        "plt.axis([0, 30, 1e-6, 0.5])\n",
        "plt.xscale('linear')\n",
        "plt.yscale('log')\n",
        "plt.xlabel('EbNo(dB)')\n",
        "plt.ylabel('BER')\n",
        "plt.grid(True)\n",
        "plt.title('16PSK Modulation')\n",
        "plt.show()"
      ],
      "execution_count": 9,
      "outputs": [
        {
          "output_type": "display_data",
          "data": {
            "image/png": "[encoded data removed]",
            "text/plain": [
              "<Figure size 432x288 with 1 Axes>"
            ]
          },
          "metadata": {
            "tags": [],
            "needs_background": "light"
          }
        }
      ]
    },
    {
      "cell_type": "code",
      "metadata": {
        "id": "vlS2VSx7F5Xq",
        "colab": {
          "base_uri": "https://localhost:8080/"
        },
        "outputId": "6589aeae-647a-4d89-b847-992ed01c3986"
      },
      "source": [
        "from numpy import sqrt\n",
        "from numpy.random import rand, randn\n",
        "import matplotlib.pyplot as plt\n",
        "  \n",
        "N = 5000000\n",
        "EbNodB_range = range(0,30)\n",
        "itr = len(EbNodB_range)\n",
        "ber5 = [None]*itr\n",
        "#R = 1/math.log2(32)*math.sin(math.pi/32)\n",
        "R = 1\n",
        "fact = sqrt(2 / math.sin(math.pi/32))\n",
        "fact = sqrt(4*(1-(1/sqrt(32))))\n",
        "for n in range (0, itr): \n",
        " \n",
        "    EbNodB = EbNodB_range[n]   \n",
        "    EbNo=10.0**(EbNodB/10.0)\n",
        "    x = 2 * (rand(N) >= 0.5) - 1\n",
        "    noise_std = fact/sqrt(2*R*EbNo)\n",
        "    y = x + noise_std * randn(N)\n",
        "    y_d = 2 * (y >= 0) - 1\n",
        "    errors = (x != y_d).sum()\n",
        "    ber5[n] = 1.0 * errors / N\n",
        "    \n",
        "    print (\"EbNodB:\", EbNodB)\n",
        "    print (\"Error bits:\", errors)\n",
        "    print (\"Error probability:\", ber5[n])\n",
        "        \n"
      ],
      "execution_count": null,
      "outputs": [
        {
          "output_type": "stream",
          "text": [
            "EbNodB: 0\n",
            "Error bits: 1090637\n",
            "Error probability: 0.2181274\n",
            "EbNodB: 1\n",
            "Error bits: 955022\n",
            "Error probability: 0.1910044\n",
            "EbNodB: 2\n",
            "Error bits: 815459\n",
            "Error probability: 0.1630918\n",
            "EbNodB: 3\n",
            "Error bits: 678058\n",
            "Error probability: 0.1356116\n",
            "EbNodB: 4\n",
            "Error bits: 540095\n",
            "Error probability: 0.108019\n",
            "EbNodB: 5\n",
            "Error bits: 414865\n",
            "Error probability: 0.082973\n",
            "EbNodB: 6\n",
            "Error bits: 299667\n",
            "Error probability: 0.0599334\n",
            "EbNodB: 7\n",
            "Error bits: 202541\n",
            "Error probability: 0.0405082\n",
            "EbNodB: 8\n",
            "Error bits: 126515\n",
            "Error probability: 0.025303\n",
            "EbNodB: 9\n",
            "Error bits: 69685\n",
            "Error probability: 0.013937\n",
            "EbNodB: 10\n",
            "Error bits: 34379\n",
            "Error probability: 0.0068758\n",
            "EbNodB: 11\n",
            "Error bits: 14123\n",
            "Error probability: 0.0028246\n",
            "EbNodB: 12\n",
            "Error bits: 4772\n",
            "Error probability: 0.0009544\n",
            "EbNodB: 13\n",
            "Error bits: 1293\n",
            "Error probability: 0.0002586\n",
            "EbNodB: 14\n",
            "Error bits: 222\n",
            "Error probability: 4.44e-05\n",
            "EbNodB: 15\n",
            "Error bits: 34\n",
            "Error probability: 6.8e-06\n",
            "EbNodB: 16\n",
            "Error bits: 3\n",
            "Error probability: 6e-07\n",
            "EbNodB: 17\n",
            "Error bits: 0\n",
            "Error probability: 0.0\n",
            "EbNodB: 18\n",
            "Error bits: 0\n",
            "Error probability: 0.0\n",
            "EbNodB: 19\n",
            "Error bits: 0\n",
            "Error probability: 0.0\n",
            "EbNodB: 20\n",
            "Error bits: 0\n",
            "Error probability: 0.0\n",
            "EbNodB: 21\n",
            "Error bits: 0\n",
            "Error probability: 0.0\n",
            "EbNodB: 22\n",
            "Error bits: 0\n",
            "Error probability: 0.0\n",
            "EbNodB: 23\n",
            "Error bits: 0\n",
            "Error probability: 0.0\n",
            "EbNodB: 24\n",
            "Error bits: 0\n",
            "Error probability: 0.0\n",
            "EbNodB: 25\n",
            "Error bits: 0\n",
            "Error probability: 0.0\n",
            "EbNodB: 26\n",
            "Error bits: 0\n",
            "Error probability: 0.0\n",
            "EbNodB: 27\n",
            "Error bits: 0\n",
            "Error probability: 0.0\n",
            "EbNodB: 28\n",
            "Error bits: 0\n",
            "Error probability: 0.0\n",
            "EbNodB: 29\n",
            "Error bits: 0\n",
            "Error probability: 0.0\n"
          ],
          "name": "stdout"
        }
      ]
    },
    {
      "cell_type": "code",
      "metadata": {
        "id": "IIzyVg0K24kl",
        "colab": {
          "base_uri": "https://localhost:8080/",
          "height": 295
        },
        "outputId": "7a9009e7-33a8-4c77-c92a-4a149a18fe59"
      },
      "source": [
        "plt.plot(EbNodB_range, ber1, 'bo', EbNodB_range, ber1, 'k')\n",
        "plt.plot(EbNodB_range, ber2, 'bo', EbNodB_range, ber2, 'k')\n",
        "plt.plot(EbNodB_range, ber3, 'bo', EbNodB_range, ber3, 'k')\n",
        "plt.plot(EbNodB_range, ber4, 'bo', EbNodB_range, ber4, 'k')\n",
        "plt.plot(EbNodB_range, ber5, 'bo', EbNodB_range, ber5, 'k')\n",
        "plt.axis([0, 30, 1e-6, 0.5])\n",
        "plt.xscale('linear')\n",
        "plt.yscale('log')\n",
        "plt.xlabel('EbNo(dB)')\n",
        "plt.ylabel('BER')\n",
        "plt.grid(True)\n",
        "plt.title('QPSK Modulation')\n",
        "plt.show()"
      ],
      "execution_count": null,
      "outputs": [
        {
          "output_type": "display_data",
          "data": {
            "image/png": "[encoded data removed]",
            "text/plain": [
              "<Figure size 432x288 with 1 Axes>"
            ]
          },
          "metadata": {
            "tags": [],
            "needs_background": "light"
          }
        }
      ]
    },
    {
      "cell_type": "code",
      "metadata": {
        "colab": {
          "base_uri": "https://localhost:8080/"
        },
        "id": "aV037KmAnaft",
        "outputId": "74296bd2-f3e3-426b-9328-81748df682a9"
      },
      "source": [
        "from numpy import sqrt\n",
        "from numpy.random import rand, randn\n",
        "import matplotlib.pyplot as plt\n",
        "  \n",
        "N = 5000000\n",
        "EbNodB_range = range(0,30)\n",
        "itr = len(EbNodB_range)\n",
        "ber6 = [None]*itr\n",
        "#R = 1/math.log2(32)*math.sin(math.pi/32)\n",
        "R = 1\n",
        "fact = sqrt(2 / math.sin(math.pi/64))\n",
        "\n",
        "for n in range (0, itr): \n",
        " \n",
        "    EbNodB = EbNodB_range[n]   \n",
        "    EbNo=10.0**(EbNodB/10.0)\n",
        "    x = 2 * (rand(N) >= 0.5) - 1\n",
        "    noise_std = fact/sqrt(2*R*EbNo)\n",
        "    y = x + noise_std * randn(N)\n",
        "    y_d = 2 * (y >= 0) - 1\n",
        "    errors = (x != y_d).sum()\n",
        "    ber6[n] = 1.0 * errors / N\n",
        "    \n",
        "    print (\"EbNodB:\", EbNodB)\n",
        "    print (\"Error bits:\", errors)\n",
        "    print (\"Error probability:\", ber6[n])\n",
        "        "
      ],
      "execution_count": null,
      "outputs": [
        {
          "output_type": "stream",
          "text": [
            "EbNodB: 0\n",
            "Error bits: 2060061\n",
            "Error probability: 0.4120122\n",
            "EbNodB: 1\n",
            "Error bits: 2009390\n",
            "Error probability: 0.401878\n",
            "EbNodB: 2\n",
            "Error bits: 1950743\n",
            "Error probability: 0.3901486\n",
            "EbNodB: 3\n",
            "Error bits: 1885783\n",
            "Error probability: 0.3771566\n",
            "EbNodB: 4\n",
            "Error bits: 1813410\n",
            "Error probability: 0.362682\n",
            "EbNodB: 5\n",
            "Error bits: 1734564\n",
            "Error probability: 0.3469128\n",
            "EbNodB: 6\n",
            "Error bits: 1646590\n",
            "Error probability: 0.329318\n",
            "EbNodB: 7\n",
            "Error bits: 1550679\n",
            "Error probability: 0.3101358\n",
            "EbNodB: 8\n",
            "Error bits: 1443764\n",
            "Error probability: 0.2887528\n",
            "EbNodB: 9\n",
            "Error bits: 1331198\n",
            "Error probability: 0.2662396\n",
            "EbNodB: 10\n",
            "Error bits: 1209212\n",
            "Error probability: 0.2418424\n",
            "EbNodB: 11\n",
            "Error bits: 1079498\n",
            "Error probability: 0.2158996\n",
            "EbNodB: 12\n",
            "Error bits: 944601\n",
            "Error probability: 0.1889202\n",
            "EbNodB: 13\n",
            "Error bits: 805791\n",
            "Error probability: 0.1611582\n",
            "EbNodB: 14\n",
            "Error bits: 667319\n",
            "Error probability: 0.1334638\n",
            "EbNodB: 15\n",
            "Error bits: 532802\n",
            "Error probability: 0.1065604\n",
            "EbNodB: 16\n",
            "Error bits: 406139\n",
            "Error probability: 0.0812278\n",
            "EbNodB: 17\n",
            "Error bits: 292305\n",
            "Error probability: 0.058461\n",
            "EbNodB: 18\n",
            "Error bits: 196157\n",
            "Error probability: 0.0392314\n",
            "EbNodB: 19\n",
            "Error bits: 120644\n",
            "Error probability: 0.0241288\n",
            "EbNodB: 20\n",
            "Error bits: 67149\n",
            "Error probability: 0.0134298\n",
            "EbNodB: 21\n",
            "Error bits: 32622\n",
            "Error probability: 0.0065244\n",
            "EbNodB: 22\n",
            "Error bits: 13268\n",
            "Error probability: 0.0026536\n",
            "EbNodB: 23\n",
            "Error bits: 4316\n",
            "Error probability: 0.0008632\n",
            "EbNodB: 24\n",
            "Error bits: 1104\n",
            "Error probability: 0.0002208\n",
            "EbNodB: 25\n",
            "Error bits: 184\n",
            "Error probability: 3.68e-05\n",
            "EbNodB: 26\n",
            "Error bits: 25\n",
            "Error probability: 5e-06\n",
            "EbNodB: 27\n",
            "Error bits: 0\n",
            "Error probability: 0.0\n",
            "EbNodB: 28\n",
            "Error bits: 0\n",
            "Error probability: 0.0\n",
            "EbNodB: 29\n",
            "Error bits: 0\n",
            "Error probability: 0.0\n"
          ],
          "name": "stdout"
        }
      ]
    },
    {
      "cell_type": "code",
      "metadata": {
        "colab": {
          "base_uri": "https://localhost:8080/",
          "height": 295
        },
        "id": "RY1gbWHsngRG",
        "outputId": "c95370fb-f7de-49a2-c8cb-cc0b90ef9953"
      },
      "source": [
        "plt.plot(EbNodB_range, ber1, 'bo', EbNodB_range, ber1, 'k')\n",
        "plt.plot(EbNodB_range, ber2, 'bo', EbNodB_range, ber2, 'k')\n",
        "plt.plot(EbNodB_range, ber3, 'bo', EbNodB_range, ber3, 'k')\n",
        "plt.plot(EbNodB_range, ber4, 'bo', EbNodB_range, ber4, 'k')\n",
        "plt.plot(EbNodB_range, ber5, 'bo', EbNodB_range, ber5, 'k')\n",
        "plt.plot(EbNodB_range, ber6, 'bo', EbNodB_range, ber6, 'k')\n",
        "plt.axis([0, 30, 1e-6, 0.5])\n",
        "plt.xscale('linear')\n",
        "plt.yscale('log')\n",
        "plt.xlabel('EbNo(dB)')\n",
        "plt.ylabel('BER')\n",
        "plt.grid(True)\n",
        "plt.title('QPSK Modulation')\n",
        "plt.show()"
      ],
      "execution_count": null,
      "outputs": [
        {
          "output_type": "display_data",
          "data": {
            "image/png": "[encoded data removed]",
            "text/plain": [
              "<Figure size 432x288 with 1 Axes>"
            ]
          },
          "metadata": {
            "tags": [],
            "needs_background": "light"
          }
        }
      ]
    }
  ]
}