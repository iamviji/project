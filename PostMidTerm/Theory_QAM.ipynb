{
  "nbformat": 4,
  "nbformat_minor": 0,
  "metadata": {
    "colab": {
      "name": "Theory-1.ipynb",
      "provenance": [],
      "collapsed_sections": [],
      "include_colab_link": true
    },
    "kernelspec": {
      "name": "python3",
      "display_name": "Python 3"
    }
  },
  "cells": [
    {
      "cell_type": "markdown",
      "metadata": {
        "id": "view-in-github",
        "colab_type": "text"
      },
      "source": [
        "<a href=\"https://colab.research.google.com/github/iamviji/project/blob/master/PostMidTerm/Theory_QAM.ipynb\" target=\"_parent\"><img src=\"https://colab.research.google.com/assets/colab-badge.svg\" alt=\"Open In Colab\"/></a>"
      ]
    },
    {
      "cell_type": "code",
      "metadata": {
        "colab": {
          "base_uri": "https://localhost:8080/"
        },
        "id": "JhA53stPuyG0",
        "outputId": "c1eca44a-8afd-43cd-e56a-fd6336a98da8"
      },
      "source": [
        "import math\n",
        "print (math.sin(math.pi/4))\n"
      ],
      "execution_count": 15,
      "outputs": [
        {
          "output_type": "stream",
          "text": [
            "0.7071067811865475\n"
          ],
          "name": "stdout"
        }
      ]
    },
    {
      "cell_type": "code",
      "metadata": {
        "id": "nga1w8Rzs_WZ",
        "colab": {
          "base_uri": "https://localhost:8080/"
        },
        "outputId": "03a4fa9a-890e-4459-a4d3-4ce6cf4b110c"
      },
      "source": [
        "\n",
        "from numpy import sqrt\n",
        "from numpy.random import rand, randn\n",
        "import matplotlib.pyplot as plt\n",
        "  \n",
        "N = 5000000\n",
        "EbNodB_range = range(0,30)\n",
        "itr = len(EbNodB_range)\n",
        "ber1 = [None]*itr\n",
        "#R = math.log2(2)*math.sin(math.pi/2)\n",
        "R = 1\n",
        "fact = sqrt(1 / math.sin(math.pi/2))\n",
        "\n",
        "print (\"R=\",R)\n",
        "for n in range (0, itr): \n",
        " \n",
        "    EbNodB = EbNodB_range[n]   \n",
        "    EbNo=10.0**(EbNodB/10.0) \n",
        "    x = 2 * (rand(N) >= 0.5) - 1\n",
        "    #print (x)\n",
        "    noise_std = fact/(sqrt(2*R*EbNo)) # 1/sqrt(2 x R x EbNo)\n",
        "    y = x + noise_std * randn(N)\n",
        "    y_d = 2 * (y >= 0) - 1\n",
        "    errors = (x != y_d).sum()\n",
        "    ber1[n] = 1.0 * errors / N\n",
        "    \n",
        "    print (\"EbNodB:\", EbNodB)\n",
        "    print (\"Error bits:\", errors)\n",
        "    print (\"Error probability:\", ber1[n])\n",
        "        \n"
      ],
      "execution_count": 16,
      "outputs": [
        {
          "output_type": "stream",
          "text": [
            "R= 1\n",
            "EbNodB: 0\n",
            "Error bits: 392585\n",
            "Error probability: 0.078517\n",
            "EbNodB: 1\n",
            "Error bits: 281748\n",
            "Error probability: 0.0563496\n",
            "EbNodB: 2\n",
            "Error bits: 187373\n",
            "Error probability: 0.0374746\n",
            "EbNodB: 3\n",
            "Error bits: 114091\n",
            "Error probability: 0.0228182\n",
            "EbNodB: 4\n",
            "Error bits: 62215\n",
            "Error probability: 0.012443\n",
            "EbNodB: 5\n",
            "Error bits: 29766\n",
            "Error probability: 0.0059532\n",
            "EbNodB: 6\n",
            "Error bits: 11973\n",
            "Error probability: 0.0023946\n",
            "EbNodB: 7\n",
            "Error bits: 3869\n",
            "Error probability: 0.0007738\n",
            "EbNodB: 8\n",
            "Error bits: 930\n",
            "Error probability: 0.000186\n",
            "EbNodB: 9\n",
            "Error bits: 131\n",
            "Error probability: 2.62e-05\n",
            "EbNodB: 10\n",
            "Error bits: 20\n",
            "Error probability: 4e-06\n",
            "EbNodB: 11\n",
            "Error bits: 1\n",
            "Error probability: 2e-07\n",
            "EbNodB: 12\n",
            "Error bits: 0\n",
            "Error probability: 0.0\n",
            "EbNodB: 13\n",
            "Error bits: 0\n",
            "Error probability: 0.0\n",
            "EbNodB: 14\n",
            "Error bits: 0\n",
            "Error probability: 0.0\n",
            "EbNodB: 15\n",
            "Error bits: 0\n",
            "Error probability: 0.0\n",
            "EbNodB: 16\n",
            "Error bits: 0\n",
            "Error probability: 0.0\n",
            "EbNodB: 17\n",
            "Error bits: 0\n",
            "Error probability: 0.0\n",
            "EbNodB: 18\n",
            "Error bits: 0\n",
            "Error probability: 0.0\n",
            "EbNodB: 19\n",
            "Error bits: 0\n",
            "Error probability: 0.0\n",
            "EbNodB: 20\n",
            "Error bits: 0\n",
            "Error probability: 0.0\n",
            "EbNodB: 21\n",
            "Error bits: 0\n",
            "Error probability: 0.0\n",
            "EbNodB: 22\n",
            "Error bits: 0\n",
            "Error probability: 0.0\n",
            "EbNodB: 23\n",
            "Error bits: 0\n",
            "Error probability: 0.0\n",
            "EbNodB: 24\n",
            "Error bits: 0\n",
            "Error probability: 0.0\n",
            "EbNodB: 25\n",
            "Error bits: 0\n",
            "Error probability: 0.0\n",
            "EbNodB: 26\n",
            "Error bits: 0\n",
            "Error probability: 0.0\n",
            "EbNodB: 27\n",
            "Error bits: 0\n",
            "Error probability: 0.0\n",
            "EbNodB: 28\n",
            "Error bits: 0\n",
            "Error probability: 0.0\n",
            "EbNodB: 29\n",
            "Error bits: 0\n",
            "Error probability: 0.0\n"
          ],
          "name": "stdout"
        }
      ]
    },
    {
      "cell_type": "code",
      "metadata": {
        "id": "D-dpH17uz5lV",
        "colab": {
          "base_uri": "https://localhost:8080/",
          "height": 312
        },
        "outputId": "6b6b5854-e5cf-4632-cdb3-703f285baa7c"
      },
      "source": [
        "plt.plot(EbNodB_range, ber1, 'bo', EbNodB_range, ber1, 'k')\n",
        "plt.axis([0, 10, 1e-6, 0.1])\n",
        "plt.xscale('linear')\n",
        "plt.yscale('log')\n",
        "plt.xlabel('EbNo(dB)')\n",
        "plt.ylabel('BER')\n",
        "plt.grid(True)\n",
        "plt.title('BPSK Modulation')\n",
        "plt.show()\n",
        "print (ber1)"
      ],
      "execution_count": 17,
      "outputs": [
        {
          "output_type": "display_data",
          "data": {
            "image/png": "[encoded data removed]",
            "text/plain": [
              "<Figure size 432x288 with 1 Axes>"
            ]
          },
          "metadata": {
            "tags": [],
            "needs_background": "light"
          }
        },
        {
          "output_type": "stream",
          "text": [
            "[0.078517, 0.0563496, 0.0374746, 0.0228182, 0.012443, 0.0059532, 0.0023946, 0.0007738, 0.000186, 2.62e-05, 4e-06, 2e-07, 0.0, 0.0, 0.0, 0.0, 0.0, 0.0, 0.0, 0.0, 0.0, 0.0, 0.0, 0.0, 0.0, 0.0, 0.0, 0.0, 0.0, 0.0]\n"
          ],
          "name": "stdout"
        }
      ]
    },
    {
      "cell_type": "code",
      "metadata": {
        "id": "Pny7wCHun0YJ"
      },
      "source": [
        ""
      ],
      "execution_count": 17,
      "outputs": []
    },
    {
      "cell_type": "code",
      "metadata": {
        "id": "Pb7oxtJ9tnZt",
        "colab": {
          "base_uri": "https://localhost:8080/"
        },
        "outputId": "3fc042d1-7490-4ade-9a10-df46174e8861"
      },
      "source": [
        "from numpy import sqrt\n",
        "from numpy.random import rand, randn\n",
        "import matplotlib.pyplot as plt\n",
        "  \n",
        "N = 5000000\n",
        "EbNodB_range = range(0,30)\n",
        "itr = len(EbNodB_range)\n",
        "ber2 = [None]*itr\n",
        "R = 1/math.log2(4)*math.sin(math.pi/4)\n",
        "R  = 1\n",
        "fact = math.sin(math.pi/2)\n",
        "print (\"R=\",R)\n",
        "fact = sqrt(2 / math.sin(math.pi/4))\n",
        "fact = sqrt(4*(1-(1/sqrt(4))))\n",
        "for n in range (0, itr): \n",
        " \n",
        "    EbNodB = EbNodB_range[n]   \n",
        "    EbNo=10.0**(EbNodB/10.0)\n",
        "    x = 2 * (rand(N) >= 0.5) - 1\n",
        "    noise_std = fact/(sqrt(2*R*EbNo))\n",
        "    y = x + noise_std * randn(N)\n",
        "    y_d = 2 * (y >= 0) - 1\n",
        "    errors = (x != y_d).sum()\n",
        "    ber2[n] = 1.0 * errors / N\n",
        "    \n",
        "    print (\"EbNodB:\", EbNodB)\n",
        "    print (\"Error bits:\", errors)\n",
        "    print (\"Error probability:\", ber2[n])\n",
        "        \n"
      ],
      "execution_count": 44,
      "outputs": [
        {
          "output_type": "stream",
          "text": [
            "R= 1\n",
            "EbNodB: 0\n",
            "Error bits: 794161\n",
            "Error probability: 0.1588322\n",
            "EbNodB: 1\n",
            "Error bits: 656013\n",
            "Error probability: 0.1312026\n",
            "EbNodB: 2\n",
            "Error bits: 519447\n",
            "Error probability: 0.1038894\n",
            "EbNodB: 3\n",
            "Error bits: 395130\n",
            "Error probability: 0.079026\n",
            "EbNodB: 4\n",
            "Error bits: 282826\n",
            "Error probability: 0.0565652\n",
            "EbNodB: 5\n",
            "Error bits: 188345\n",
            "Error probability: 0.037669\n",
            "EbNodB: 6\n",
            "Error bits: 114792\n",
            "Error probability: 0.0229584\n",
            "EbNodB: 7\n",
            "Error bits: 63274\n",
            "Error probability: 0.0126548\n",
            "EbNodB: 8\n",
            "Error bits: 30123\n",
            "Error probability: 0.0060246\n",
            "EbNodB: 9\n",
            "Error bits: 12106\n",
            "Error probability: 0.0024212\n",
            "EbNodB: 10\n",
            "Error bits: 3922\n",
            "Error probability: 0.0007844\n",
            "EbNodB: 11\n",
            "Error bits: 962\n",
            "Error probability: 0.0001924\n",
            "EbNodB: 12\n",
            "Error bits: 175\n",
            "Error probability: 3.5e-05\n",
            "EbNodB: 13\n",
            "Error bits: 33\n",
            "Error probability: 6.6e-06\n",
            "EbNodB: 14\n",
            "Error bits: 1\n",
            "Error probability: 2e-07\n",
            "EbNodB: 15\n",
            "Error bits: 0\n",
            "Error probability: 0.0\n",
            "EbNodB: 16\n",
            "Error bits: 0\n",
            "Error probability: 0.0\n",
            "EbNodB: 17\n",
            "Error bits: 0\n",
            "Error probability: 0.0\n",
            "EbNodB: 18\n",
            "Error bits: 0\n",
            "Error probability: 0.0\n",
            "EbNodB: 19\n",
            "Error bits: 0\n",
            "Error probability: 0.0\n",
            "EbNodB: 20\n",
            "Error bits: 0\n",
            "Error probability: 0.0\n",
            "EbNodB: 21\n",
            "Error bits: 0\n",
            "Error probability: 0.0\n",
            "EbNodB: 22\n",
            "Error bits: 0\n",
            "Error probability: 0.0\n",
            "EbNodB: 23\n",
            "Error bits: 0\n",
            "Error probability: 0.0\n",
            "EbNodB: 24\n",
            "Error bits: 0\n",
            "Error probability: 0.0\n",
            "EbNodB: 25\n",
            "Error bits: 0\n",
            "Error probability: 0.0\n",
            "EbNodB: 26\n",
            "Error bits: 0\n",
            "Error probability: 0.0\n",
            "EbNodB: 27\n",
            "Error bits: 0\n",
            "Error probability: 0.0\n",
            "EbNodB: 28\n",
            "Error bits: 0\n",
            "Error probability: 0.0\n",
            "EbNodB: 29\n",
            "Error bits: 0\n",
            "Error probability: 0.0\n"
          ],
          "name": "stdout"
        }
      ]
    },
    {
      "cell_type": "code",
      "metadata": {
        "id": "83nv5LjGz8ez",
        "colab": {
          "base_uri": "https://localhost:8080/",
          "height": 295
        },
        "outputId": "4a4b75fe-3741-4871-8562-b017c28584c8"
      },
      "source": [
        "plt.plot(EbNodB_range, ber1, 'bo', EbNodB_range, ber1, 'k')\n",
        "plt.plot(EbNodB_range, ber2, 'bo', EbNodB_range, ber2, 'k')\n",
        "plt.axis([0, 20, 1e-6, 0.5])\n",
        "plt.xscale('linear')\n",
        "plt.yscale('log')\n",
        "plt.xlabel('EbNo(dB)')\n",
        "plt.ylabel('BER')\n",
        "plt.grid(True)\n",
        "plt.title('QPSK Modulation')\n",
        "plt.show()"
      ],
      "execution_count": 45,
      "outputs": [
        {
          "output_type": "display_data",
          "data": {
            "image/png": "[encoded data removed]",
            "text/plain": [
              "<Figure size 432x288 with 1 Axes>"
            ]
          },
          "metadata": {
            "tags": [],
            "needs_background": "light"
          }
        }
      ]
    },
    {
      "cell_type": "code",
      "metadata": {
        "id": "J0BtEhxpuXdr",
        "colab": {
          "base_uri": "https://localhost:8080/"
        },
        "outputId": "43123ebc-9360-4a15-852d-4d85fed68014"
      },
      "source": [
        "from numpy import sqrt\n",
        "from numpy.random import rand, randn\n",
        "import matplotlib.pyplot as plt\n",
        "  \n",
        "N = 5000000\n",
        "EbNodB_range = range(0,30)\n",
        "itr = len(EbNodB_range)\n",
        "ber3 = [None]*itr\n",
        "#R = math.sin(math.pi/8)\n",
        "#R = 1/math.log2(8)*math.sin(math.pi/8)\n",
        "R = 1\n",
        "fact = sqrt(2 / math.sin(math.pi/8))\n",
        "fact = sqrt(4*(1-(1/sqrt(8))))\n",
        "for n in range (0, itr): \n",
        " \n",
        "    EbNodB = EbNodB_range[n]   \n",
        "    EbNo=10.0**(EbNodB/10.0)\n",
        "    x = 2 * (rand(N) >= 0.5) - 1\n",
        "    noise_std = fact/(sqrt(2*R*EbNo))\n",
        "    y = x + noise_std * randn(N)\n",
        "    y_d = 2 * (y >= 0) - 1\n",
        "    errors = (x != y_d).sum()\n",
        "    ber3[n] = 1.0 * errors / N\n",
        "    \n",
        "    print (\"EbNodB:\", EbNodB)\n",
        "    print (\"Error bits:\", errors)\n",
        "    print (\"Error probability:\", ber3[n])\n",
        "        \n"
      ],
      "execution_count": 46,
      "outputs": [
        {
          "output_type": "stream",
          "text": [
            "EbNodB: 0\n",
            "Error bits: 947755\n",
            "Error probability: 0.189551\n",
            "EbNodB: 1\n",
            "Error bits: 809575\n",
            "Error probability: 0.161915\n",
            "EbNodB: 2\n",
            "Error bits: 670232\n",
            "Error probability: 0.1340464\n",
            "EbNodB: 3\n",
            "Error bits: 535528\n",
            "Error probability: 0.1071056\n",
            "EbNodB: 4\n",
            "Error bits: 409041\n",
            "Error probability: 0.0818082\n",
            "EbNodB: 5\n",
            "Error bits: 294376\n",
            "Error probability: 0.0588752\n",
            "EbNodB: 6\n",
            "Error bits: 198869\n",
            "Error probability: 0.0397738\n",
            "EbNodB: 7\n",
            "Error bits: 122835\n",
            "Error probability: 0.024567\n",
            "EbNodB: 8\n",
            "Error bits: 68237\n",
            "Error probability: 0.0136474\n",
            "EbNodB: 9\n",
            "Error bits: 33146\n",
            "Error probability: 0.0066292\n",
            "EbNodB: 10\n",
            "Error bits: 13618\n",
            "Error probability: 0.0027236\n",
            "EbNodB: 11\n",
            "Error bits: 4586\n",
            "Error probability: 0.0009172\n",
            "EbNodB: 12\n",
            "Error bits: 1148\n",
            "Error probability: 0.0002296\n",
            "EbNodB: 13\n",
            "Error bits: 227\n",
            "Error probability: 4.54e-05\n",
            "EbNodB: 14\n",
            "Error bits: 26\n",
            "Error probability: 5.2e-06\n",
            "EbNodB: 15\n",
            "Error bits: 1\n",
            "Error probability: 2e-07\n",
            "EbNodB: 16\n",
            "Error bits: 0\n",
            "Error probability: 0.0\n",
            "EbNodB: 17\n",
            "Error bits: 0\n",
            "Error probability: 0.0\n",
            "EbNodB: 18\n",
            "Error bits: 0\n",
            "Error probability: 0.0\n",
            "EbNodB: 19\n",
            "Error bits: 0\n",
            "Error probability: 0.0\n",
            "EbNodB: 20\n",
            "Error bits: 0\n",
            "Error probability: 0.0\n",
            "EbNodB: 21\n",
            "Error bits: 0\n",
            "Error probability: 0.0\n",
            "EbNodB: 22\n",
            "Error bits: 0\n",
            "Error probability: 0.0\n",
            "EbNodB: 23\n",
            "Error bits: 0\n",
            "Error probability: 0.0\n",
            "EbNodB: 24\n",
            "Error bits: 0\n",
            "Error probability: 0.0\n",
            "EbNodB: 25\n",
            "Error bits: 0\n",
            "Error probability: 0.0\n",
            "EbNodB: 26\n",
            "Error bits: 0\n",
            "Error probability: 0.0\n",
            "EbNodB: 27\n",
            "Error bits: 0\n",
            "Error probability: 0.0\n",
            "EbNodB: 28\n",
            "Error bits: 0\n",
            "Error probability: 0.0\n",
            "EbNodB: 29\n",
            "Error bits: 0\n",
            "Error probability: 0.0\n"
          ],
          "name": "stdout"
        }
      ]
    },
    {
      "cell_type": "code",
      "metadata": {
        "id": "R6dhOzT41RE9",
        "colab": {
          "base_uri": "https://localhost:8080/",
          "height": 295
        },
        "outputId": "873f8bb6-386b-45df-ef3b-1437d7a5e159"
      },
      "source": [
        "plt.plot(EbNodB_range, ber1, 'bo', EbNodB_range, ber1, 'k')\n",
        "plt.plot(EbNodB_range, ber2, 'bo', EbNodB_range, ber2, 'k')\n",
        "plt.plot(EbNodB_range, ber3, 'bo', EbNodB_range, ber3, 'k')\n",
        "plt.axis([0, 30, 1e-6, 0.5])\n",
        "plt.xscale('linear')\n",
        "plt.yscale('log')\n",
        "plt.xlabel('EbNo(dB)')\n",
        "plt.ylabel('BER')\n",
        "plt.grid(True)\n",
        "plt.title('8PSK Modulation')\n",
        "plt.show()"
      ],
      "execution_count": 47,
      "outputs": [
        {
          "output_type": "display_data",
          "data": {
            "image/png": "[encoded data removed]",
            "text/plain": [
              "<Figure size 432x288 with 1 Axes>"
            ]
          },
          "metadata": {
            "tags": [],
            "needs_background": "light"
          }
        }
      ]
    },
    {
      "cell_type": "code",
      "metadata": {
        "id": "Gj5tEmHTFvJs",
        "colab": {
          "base_uri": "https://localhost:8080/"
        },
        "outputId": "fa3f1691-0b75-4096-d7fe-30b95dc63f65"
      },
      "source": [
        "from numpy import sqrt\n",
        "from numpy.random import rand, randn\n",
        "import matplotlib.pyplot as plt\n",
        "  \n",
        "N = 5000000\n",
        "EbNodB_range = range(0,30)\n",
        "itr = len(EbNodB_range)\n",
        "ber4 = [None]*itr\n",
        "#R = math.sin(math.pi/16)\n",
        "R = 1\n",
        "fact = sqrt(2 / math.sin(math.pi/16))\n",
        "fact = sqrt(4*(1-(1/sqrt(16))))\n",
        "for n in range (0, itr): \n",
        " \n",
        "    EbNodB = EbNodB_range[n]   \n",
        "    EbNo=10.0**(EbNodB/10.0)\n",
        "    x = 2 * (rand(N) >= 0.5) - 1\n",
        "    noise_std = fact/sqrt(2*R*EbNo)\n",
        "    y = x + noise_std * randn(N)\n",
        "    y_d = 2 * (y >= 0) - 1\n",
        "    errors = (x != y_d).sum()\n",
        "    ber4[n] = 1.0 * errors / N\n",
        "    \n",
        "    print (\"EbNodB:\", EbNodB)\n",
        "    print (\"Error bits:\", errors)\n",
        "    print (\"Error probability:\", ber4[n])\n",
        "        \n"
      ],
      "execution_count": 48,
      "outputs": [
        {
          "output_type": "stream",
          "text": [
            "EbNodB: 0\n",
            "Error bits: 1035390\n",
            "Error probability: 0.207078\n",
            "EbNodB: 1\n",
            "Error bits: 898640\n",
            "Error probability: 0.179728\n",
            "EbNodB: 2\n",
            "Error bits: 761429\n",
            "Error probability: 0.1522858\n",
            "EbNodB: 3\n",
            "Error bits: 622607\n",
            "Error probability: 0.1245214\n",
            "EbNodB: 4\n",
            "Error bits: 490212\n",
            "Error probability: 0.0980424\n",
            "EbNodB: 5\n",
            "Error bits: 365632\n",
            "Error probability: 0.0731264\n",
            "EbNodB: 6\n",
            "Error bits: 257995\n",
            "Error probability: 0.051599\n",
            "EbNodB: 7\n",
            "Error bits: 169098\n",
            "Error probability: 0.0338196\n",
            "EbNodB: 8\n",
            "Error bits: 101027\n",
            "Error probability: 0.0202054\n",
            "EbNodB: 9\n",
            "Error bits: 53239\n",
            "Error probability: 0.0106478\n",
            "EbNodB: 10\n",
            "Error bits: 24636\n",
            "Error probability: 0.0049272\n",
            "EbNodB: 11\n",
            "Error bits: 9421\n",
            "Error probability: 0.0018842\n",
            "EbNodB: 12\n",
            "Error bits: 2984\n",
            "Error probability: 0.0005968\n",
            "EbNodB: 13\n",
            "Error bits: 653\n",
            "Error probability: 0.0001306\n",
            "EbNodB: 14\n",
            "Error bits: 100\n",
            "Error probability: 2e-05\n",
            "EbNodB: 15\n",
            "Error bits: 9\n",
            "Error probability: 1.8e-06\n",
            "EbNodB: 16\n",
            "Error bits: 3\n",
            "Error probability: 6e-07\n",
            "EbNodB: 17\n",
            "Error bits: 0\n",
            "Error probability: 0.0\n",
            "EbNodB: 18\n",
            "Error bits: 0\n",
            "Error probability: 0.0\n",
            "EbNodB: 19\n",
            "Error bits: 0\n",
            "Error probability: 0.0\n",
            "EbNodB: 20\n",
            "Error bits: 0\n",
            "Error probability: 0.0\n",
            "EbNodB: 21\n",
            "Error bits: 0\n",
            "Error probability: 0.0\n",
            "EbNodB: 22\n",
            "Error bits: 0\n",
            "Error probability: 0.0\n",
            "EbNodB: 23\n",
            "Error bits: 0\n",
            "Error probability: 0.0\n",
            "EbNodB: 24\n",
            "Error bits: 0\n",
            "Error probability: 0.0\n",
            "EbNodB: 25\n",
            "Error bits: 0\n",
            "Error probability: 0.0\n",
            "EbNodB: 26\n",
            "Error bits: 0\n",
            "Error probability: 0.0\n",
            "EbNodB: 27\n",
            "Error bits: 0\n",
            "Error probability: 0.0\n",
            "EbNodB: 28\n",
            "Error bits: 0\n",
            "Error probability: 0.0\n",
            "EbNodB: 29\n",
            "Error bits: 0\n",
            "Error probability: 0.0\n"
          ],
          "name": "stdout"
        }
      ]
    },
    {
      "cell_type": "code",
      "metadata": {
        "id": "PjEIfKNE1gjh",
        "colab": {
          "base_uri": "https://localhost:8080/",
          "height": 295
        },
        "outputId": "7d9c390e-9fed-4cd1-9dfb-fe2c38304e70"
      },
      "source": [
        "plt.plot(EbNodB_range, ber1, 'bo', EbNodB_range, ber1, 'k')\n",
        "plt.plot(EbNodB_range, ber2, 'bo', EbNodB_range, ber2, 'k')\n",
        "plt.plot(EbNodB_range, ber3, 'bo', EbNodB_range, ber3, 'k')\n",
        "plt.plot(EbNodB_range, ber4, 'bo', EbNodB_range, ber4, 'k')\n",
        "plt.axis([0, 30, 1e-6, 0.5])\n",
        "plt.xscale('linear')\n",
        "plt.yscale('log')\n",
        "plt.xlabel('EbNo(dB)')\n",
        "plt.ylabel('BER')\n",
        "plt.grid(True)\n",
        "plt.title('16PSK Modulation')\n",
        "plt.show()"
      ],
      "execution_count": 49,
      "outputs": [
        {
          "output_type": "display_data",
          "data": {
            "image/png": "[encoded data removed]",
            "text/plain": [
              "<Figure size 432x288 with 1 Axes>"
            ]
          },
          "metadata": {
            "tags": [],
            "needs_background": "light"
          }
        }
      ]
    },
    {
      "cell_type": "code",
      "metadata": {
        "id": "vlS2VSx7F5Xq",
        "colab": {
          "base_uri": "https://localhost:8080/"
        },
        "outputId": "6589aeae-647a-4d89-b847-992ed01c3986"
      },
      "source": [
        "from numpy import sqrt\n",
        "from numpy.random import rand, randn\n",
        "import matplotlib.pyplot as plt\n",
        "  \n",
        "N = 5000000\n",
        "EbNodB_range = range(0,30)\n",
        "itr = len(EbNodB_range)\n",
        "ber5 = [None]*itr\n",
        "#R = 1/math.log2(32)*math.sin(math.pi/32)\n",
        "R = 1\n",
        "fact = sqrt(2 / math.sin(math.pi/32))\n",
        "fact = sqrt(4*(1-(1/sqrt(32))))\n",
        "for n in range (0, itr): \n",
        " \n",
        "    EbNodB = EbNodB_range[n]   \n",
        "    EbNo=10.0**(EbNodB/10.0)\n",
        "    x = 2 * (rand(N) >= 0.5) - 1\n",
        "    noise_std = fact/sqrt(2*R*EbNo)\n",
        "    y = x + noise_std * randn(N)\n",
        "    y_d = 2 * (y >= 0) - 1\n",
        "    errors = (x != y_d).sum()\n",
        "    ber5[n] = 1.0 * errors / N\n",
        "    \n",
        "    print (\"EbNodB:\", EbNodB)\n",
        "    print (\"Error bits:\", errors)\n",
        "    print (\"Error probability:\", ber5[n])\n",
        "        \n"
      ],
      "execution_count": 50,
      "outputs": [
        {
          "output_type": "stream",
          "text": [
            "EbNodB: 0\n",
            "Error bits: 1090637\n",
            "Error probability: 0.2181274\n",
            "EbNodB: 1\n",
            "Error bits: 955022\n",
            "Error probability: 0.1910044\n",
            "EbNodB: 2\n",
            "Error bits: 815459\n",
            "Error probability: 0.1630918\n",
            "EbNodB: 3\n",
            "Error bits: 678058\n",
            "Error probability: 0.1356116\n",
            "EbNodB: 4\n",
            "Error bits: 540095\n",
            "Error probability: 0.108019\n",
            "EbNodB: 5\n",
            "Error bits: 414865\n",
            "Error probability: 0.082973\n",
            "EbNodB: 6\n",
            "Error bits: 299667\n",
            "Error probability: 0.0599334\n",
            "EbNodB: 7\n",
            "Error bits: 202541\n",
            "Error probability: 0.0405082\n",
            "EbNodB: 8\n",
            "Error bits: 126515\n",
            "Error probability: 0.025303\n",
            "EbNodB: 9\n",
            "Error bits: 69685\n",
            "Error probability: 0.013937\n",
            "EbNodB: 10\n",
            "Error bits: 34379\n",
            "Error probability: 0.0068758\n",
            "EbNodB: 11\n",
            "Error bits: 14123\n",
            "Error probability: 0.0028246\n",
            "EbNodB: 12\n",
            "Error bits: 4772\n",
            "Error probability: 0.0009544\n",
            "EbNodB: 13\n",
            "Error bits: 1293\n",
            "Error probability: 0.0002586\n",
            "EbNodB: 14\n",
            "Error bits: 222\n",
            "Error probability: 4.44e-05\n",
            "EbNodB: 15\n",
            "Error bits: 34\n",
            "Error probability: 6.8e-06\n",
            "EbNodB: 16\n",
            "Error bits: 3\n",
            "Error probability: 6e-07\n",
            "EbNodB: 17\n",
            "Error bits: 0\n",
            "Error probability: 0.0\n",
            "EbNodB: 18\n",
            "Error bits: 0\n",
            "Error probability: 0.0\n",
            "EbNodB: 19\n",
            "Error bits: 0\n",
            "Error probability: 0.0\n",
            "EbNodB: 20\n",
            "Error bits: 0\n",
            "Error probability: 0.0\n",
            "EbNodB: 21\n",
            "Error bits: 0\n",
            "Error probability: 0.0\n",
            "EbNodB: 22\n",
            "Error bits: 0\n",
            "Error probability: 0.0\n",
            "EbNodB: 23\n",
            "Error bits: 0\n",
            "Error probability: 0.0\n",
            "EbNodB: 24\n",
            "Error bits: 0\n",
            "Error probability: 0.0\n",
            "EbNodB: 25\n",
            "Error bits: 0\n",
            "Error probability: 0.0\n",
            "EbNodB: 26\n",
            "Error bits: 0\n",
            "Error probability: 0.0\n",
            "EbNodB: 27\n",
            "Error bits: 0\n",
            "Error probability: 0.0\n",
            "EbNodB: 28\n",
            "Error bits: 0\n",
            "Error probability: 0.0\n",
            "EbNodB: 29\n",
            "Error bits: 0\n",
            "Error probability: 0.0\n"
          ],
          "name": "stdout"
        }
      ]
    },
    {
      "cell_type": "code",
      "metadata": {
        "id": "IIzyVg0K24kl",
        "colab": {
          "base_uri": "https://localhost:8080/",
          "height": 295
        },
        "outputId": "7a9009e7-33a8-4c77-c92a-4a149a18fe59"
      },
      "source": [
        "plt.plot(EbNodB_range, ber1, 'bo', EbNodB_range, ber1, 'k')\n",
        "plt.plot(EbNodB_range, ber2, 'bo', EbNodB_range, ber2, 'k')\n",
        "plt.plot(EbNodB_range, ber3, 'bo', EbNodB_range, ber3, 'k')\n",
        "plt.plot(EbNodB_range, ber4, 'bo', EbNodB_range, ber4, 'k')\n",
        "plt.plot(EbNodB_range, ber5, 'bo', EbNodB_range, ber5, 'k')\n",
        "plt.axis([0, 30, 1e-6, 0.5])\n",
        "plt.xscale('linear')\n",
        "plt.yscale('log')\n",
        "plt.xlabel('EbNo(dB)')\n",
        "plt.ylabel('BER')\n",
        "plt.grid(True)\n",
        "plt.title('QPSK Modulation')\n",
        "plt.show()"
      ],
      "execution_count": 51,
      "outputs": [
        {
          "output_type": "display_data",
          "data": {
            "image/png": "[encoded data removed]",
            "text/plain": [
              "<Figure size 432x288 with 1 Axes>"
            ]
          },
          "metadata": {
            "tags": [],
            "needs_background": "light"
          }
        }
      ]
    },
    {
      "cell_type": "code",
      "metadata": {
        "colab": {
          "base_uri": "https://localhost:8080/"
        },
        "id": "aV037KmAnaft",
        "outputId": "74296bd2-f3e3-426b-9328-81748df682a9"
      },
      "source": [
        "from numpy import sqrt\n",
        "from numpy.random import rand, randn\n",
        "import matplotlib.pyplot as plt\n",
        "  \n",
        "N = 5000000\n",
        "EbNodB_range = range(0,30)\n",
        "itr = len(EbNodB_range)\n",
        "ber6 = [None]*itr\n",
        "#R = 1/math.log2(32)*math.sin(math.pi/32)\n",
        "R = 1\n",
        "fact = sqrt(2 / math.sin(math.pi/64))\n",
        "\n",
        "for n in range (0, itr): \n",
        " \n",
        "    EbNodB = EbNodB_range[n]   \n",
        "    EbNo=10.0**(EbNodB/10.0)\n",
        "    x = 2 * (rand(N) >= 0.5) - 1\n",
        "    noise_std = fact/sqrt(2*R*EbNo)\n",
        "    y = x + noise_std * randn(N)\n",
        "    y_d = 2 * (y >= 0) - 1\n",
        "    errors = (x != y_d).sum()\n",
        "    ber6[n] = 1.0 * errors / N\n",
        "    \n",
        "    print (\"EbNodB:\", EbNodB)\n",
        "    print (\"Error bits:\", errors)\n",
        "    print (\"Error probability:\", ber6[n])\n",
        "        "
      ],
      "execution_count": 26,
      "outputs": [
        {
          "output_type": "stream",
          "text": [
            "EbNodB: 0\n",
            "Error bits: 2060061\n",
            "Error probability: 0.4120122\n",
            "EbNodB: 1\n",
            "Error bits: 2009390\n",
            "Error probability: 0.401878\n",
            "EbNodB: 2\n",
            "Error bits: 1950743\n",
            "Error probability: 0.3901486\n",
            "EbNodB: 3\n",
            "Error bits: 1885783\n",
            "Error probability: 0.3771566\n",
            "EbNodB: 4\n",
            "Error bits: 1813410\n",
            "Error probability: 0.362682\n",
            "EbNodB: 5\n",
            "Error bits: 1734564\n",
            "Error probability: 0.3469128\n",
            "EbNodB: 6\n",
            "Error bits: 1646590\n",
            "Error probability: 0.329318\n",
            "EbNodB: 7\n",
            "Error bits: 1550679\n",
            "Error probability: 0.3101358\n",
            "EbNodB: 8\n",
            "Error bits: 1443764\n",
            "Error probability: 0.2887528\n",
            "EbNodB: 9\n",
            "Error bits: 1331198\n",
            "Error probability: 0.2662396\n",
            "EbNodB: 10\n",
            "Error bits: 1209212\n",
            "Error probability: 0.2418424\n",
            "EbNodB: 11\n",
            "Error bits: 1079498\n",
            "Error probability: 0.2158996\n",
            "EbNodB: 12\n",
            "Error bits: 944601\n",
            "Error probability: 0.1889202\n",
            "EbNodB: 13\n",
            "Error bits: 805791\n",
            "Error probability: 0.1611582\n",
            "EbNodB: 14\n",
            "Error bits: 667319\n",
            "Error probability: 0.1334638\n",
            "EbNodB: 15\n",
            "Error bits: 532802\n",
            "Error probability: 0.1065604\n",
            "EbNodB: 16\n",
            "Error bits: 406139\n",
            "Error probability: 0.0812278\n",
            "EbNodB: 17\n",
            "Error bits: 292305\n",
            "Error probability: 0.058461\n",
            "EbNodB: 18\n",
            "Error bits: 196157\n",
            "Error probability: 0.0392314\n",
            "EbNodB: 19\n",
            "Error bits: 120644\n",
            "Error probability: 0.0241288\n",
            "EbNodB: 20\n",
            "Error bits: 67149\n",
            "Error probability: 0.0134298\n",
            "EbNodB: 21\n",
            "Error bits: 32622\n",
            "Error probability: 0.0065244\n",
            "EbNodB: 22\n",
            "Error bits: 13268\n",
            "Error probability: 0.0026536\n",
            "EbNodB: 23\n",
            "Error bits: 4316\n",
            "Error probability: 0.0008632\n",
            "EbNodB: 24\n",
            "Error bits: 1104\n",
            "Error probability: 0.0002208\n",
            "EbNodB: 25\n",
            "Error bits: 184\n",
            "Error probability: 3.68e-05\n",
            "EbNodB: 26\n",
            "Error bits: 25\n",
            "Error probability: 5e-06\n",
            "EbNodB: 27\n",
            "Error bits: 0\n",
            "Error probability: 0.0\n",
            "EbNodB: 28\n",
            "Error bits: 0\n",
            "Error probability: 0.0\n",
            "EbNodB: 29\n",
            "Error bits: 0\n",
            "Error probability: 0.0\n"
          ],
          "name": "stdout"
        }
      ]
    },
    {
      "cell_type": "code",
      "metadata": {
        "colab": {
          "base_uri": "https://localhost:8080/",
          "height": 295
        },
        "id": "RY1gbWHsngRG",
        "outputId": "c95370fb-f7de-49a2-c8cb-cc0b90ef9953"
      },
      "source": [
        "plt.plot(EbNodB_range, ber1, 'bo', EbNodB_range, ber1, 'k')\n",
        "plt.plot(EbNodB_range, ber2, 'bo', EbNodB_range, ber2, 'k')\n",
        "plt.plot(EbNodB_range, ber3, 'bo', EbNodB_range, ber3, 'k')\n",
        "plt.plot(EbNodB_range, ber4, 'bo', EbNodB_range, ber4, 'k')\n",
        "plt.plot(EbNodB_range, ber5, 'bo', EbNodB_range, ber5, 'k')\n",
        "plt.plot(EbNodB_range, ber6, 'bo', EbNodB_range, ber6, 'k')\n",
        "plt.axis([0, 30, 1e-6, 0.5])\n",
        "plt.xscale('linear')\n",
        "plt.yscale('log')\n",
        "plt.xlabel('EbNo(dB)')\n",
        "plt.ylabel('BER')\n",
        "plt.grid(True)\n",
        "plt.title('QPSK Modulation')\n",
        "plt.show()"
      ],
      "execution_count": 27,
      "outputs": [
        {
          "output_type": "display_data",
          "data": {
            "image/png": "[encoded data removed]",
            "text/plain": [
              "<Figure size 432x288 with 1 Axes>"
            ]
          },
          "metadata": {
            "tags": [],
            "needs_background": "light"
          }
        }
      ]
    }
  ]
}