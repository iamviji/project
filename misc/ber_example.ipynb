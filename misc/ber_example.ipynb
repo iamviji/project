{
  "nbformat": 4,
  "nbformat_minor": 0,
  "metadata": {
    "kernelspec": {
      "display_name": "Python 3",
      "language": "python",
      "name": "python3"
    },
    "language_info": {
      "codemirror_mode": {
        "name": "ipython",
        "version": 3
      },
      "file_extension": ".py",
      "mimetype": "text/x-python",
      "name": "python",
      "nbconvert_exporter": "python",
      "pygments_lexer": "ipython3",
      "version": "3.6.5"
    },
    "colab": {
      "name": "ber_example.ipynb",
      "provenance": [],
      "collapsed_sections": [],
      "include_colab_link": true
    }
  },
  "cells": [
    {
      "cell_type": "markdown",
      "metadata": {
        "id": "view-in-github",
        "colab_type": "text"
      },
      "source": [
        "<a href=\"https://colab.research.google.com/github/iamviji/project/blob/master/misc/ber_example.ipynb\" target=\"_parent\"><img src=\"https://colab.research.google.com/assets/colab-badge.svg\" alt=\"Open In Colab\"/></a>"
      ]
    },
    {
      "cell_type": "code",
      "metadata": {
        "id": "oCZ6i0KghLyE",
        "outputId": "f457eb6b-47f0-46c6-e92f-373a6ac77207",
        "colab": {
          "base_uri": "https://localhost:8080/"
        }
      },
      "source": [
        "# ldpc_ber.py\n",
        "# Author: Mason del Rosario\n",
        "# Implement BER curve for a given regular LDPC code\n",
        "!pip install pyldpc\n",
        "# call libs\n",
        "import numpy as np\n",
        "import matplotlib.pyplot as plt\n",
        "import time\n",
        "from pyldpc import make_ldpc, encode, decode, get_message"
      ],
      "execution_count": 2,
      "outputs": [
        {
          "output_type": "stream",
          "text": [
            "Collecting pyldpc\n",
            "\u001b[?25l  Downloading https://files.pythonhosted.org/packages/e1/aa/fd5495869c7106a638ae71aa497d7d266cae7f2a343d1f6a9d0e3a986e1e/pyldpc-0.7.9.tar.gz (1.1MB)\n",
            "\u001b[K     |████████████████████████████████| 1.1MB 3.4MB/s \n",
            "\u001b[?25hRequirement already satisfied: numpy in /usr/local/lib/python3.6/dist-packages (from pyldpc) (1.18.5)\n",
            "Requirement already satisfied: scipy in /usr/local/lib/python3.6/dist-packages (from pyldpc) (1.4.1)\n",
            "Requirement already satisfied: numba in /usr/local/lib/python3.6/dist-packages (from pyldpc) (0.48.0)\n",
            "Requirement already satisfied: llvmlite<0.32.0,>=0.31.0dev0 in /usr/local/lib/python3.6/dist-packages (from numba->pyldpc) (0.31.0)\n",
            "Requirement already satisfied: setuptools in /usr/local/lib/python3.6/dist-packages (from numba->pyldpc) (50.3.2)\n",
            "Building wheels for collected packages: pyldpc\n",
            "  Building wheel for pyldpc (setup.py) ... \u001b[?25l\u001b[?25hdone\n",
            "  Created wheel for pyldpc: filename=pyldpc-0.7.9-cp36-none-any.whl size=14306 sha256=8ede36ef33795a32a87a4beb106e6c718f48f8101e86c98dd3832bbd1ff7f839\n",
            "  Stored in directory: /root/.cache/pip/wheels/47/7a/10/e94058ba8b0b6d98bf2719226d18d3dd6056525ad7b984c068\n",
            "Successfully built pyldpc\n",
            "Installing collected packages: pyldpc\n",
            "Successfully installed pyldpc-0.7.9\n"
          ],
          "name": "stdout"
        }
      ]
    },
    {
      "cell_type": "code",
      "metadata": {
        "id": "PsCMWHiThLyI"
      },
      "source": [
        "def timer_update(i,current,time_tot,tic_incr=500):\n",
        "    last = current\n",
        "    current = time.time()\n",
        "    t_diff = current-last\n",
        "    print('SNR: {:04.3f} - Iter: {} - Last {} iterations took {:03.2f}s'.format(snr,i+1,tic_incr,t_diff))\n",
        "    return time_tot + t_diff"
      ],
      "execution_count": 3,
      "outputs": []
    },
    {
      "cell_type": "code",
      "metadata": {
        "id": "qFSxUGkLhLyL"
      },
      "source": [
        "# parameters for LDPC code\n",
        "n = 18\n",
        "d_v = 3\n",
        "d_c = 6"
      ],
      "execution_count": 4,
      "outputs": []
    },
    {
      "cell_type": "code",
      "metadata": {
        "id": "PH5yHU2KhLyN",
        "outputId": "69f5aadc-2c51-45e7-b5bf-2f2b18c865c4",
        "colab": {
          "base_uri": "https://localhost:8080/"
        }
      },
      "source": [
        "# construct parity check (H) and generator (G) matrices\n",
        "H, G = make_ldpc(n, d_v, d_c, systematic=True, sparse=True)\n",
        "k = G.shape[1]\n",
        "maxiter = 100\n",
        "print('-> code spec: ({},{},{})\\n-> var deg: {}\\n-> check deg: {}\\n-> H:\\n {}\\n-> G:\\n {}'.format(n,k,n-k,d_v,d_c,H,G))"
      ],
      "execution_count": 5,
      "outputs": [
        {
          "output_type": "stream",
          "text": [
            "-> code spec: (18,11,7)\n",
            "-> var deg: 3\n",
            "-> check deg: 6\n",
            "-> H:\n",
            " [[1 0 0 0 0 1 0 0 0 0 0 1 1 1 1 0 0 0]\n",
            " [0 1 1 1 1 0 0 0 0 0 0 0 0 0 0 1 1 0]\n",
            " [0 0 0 0 0 0 1 1 1 1 1 0 0 0 0 0 0 1]\n",
            " [0 1 1 0 0 1 1 0 0 1 0 0 0 1 0 0 0 0]\n",
            " [1 0 0 0 0 0 0 0 0 0 1 1 1 0 0 1 0 1]\n",
            " [0 0 0 1 1 0 0 1 1 0 0 0 0 0 1 0 1 0]\n",
            " [0 1 1 0 1 0 0 0 1 1 0 0 0 0 1 0 0 0]\n",
            " [1 0 0 1 0 1 0 0 0 0 1 0 1 1 0 0 0 0]\n",
            " [0 0 0 0 0 0 1 1 0 0 0 1 0 0 0 1 1 1]]\n",
            "-> G:\n",
            " [[1 0 0 0 0 0 0 0 0 0 0]\n",
            " [0 1 0 0 0 0 0 0 0 0 0]\n",
            " [0 0 1 0 0 0 0 0 0 0 0]\n",
            " [0 0 0 1 0 0 0 0 0 0 0]\n",
            " [0 0 0 0 1 0 0 0 0 0 0]\n",
            " [0 0 0 0 0 1 0 0 0 0 0]\n",
            " [0 0 0 0 0 0 1 0 0 0 0]\n",
            " [0 0 0 0 0 0 0 1 0 0 0]\n",
            " [0 0 0 0 0 0 0 0 1 0 0]\n",
            " [0 0 0 0 0 0 0 0 0 1 0]\n",
            " [0 0 0 0 0 0 0 0 0 0 1]\n",
            " [0 1 1 1 1 0 0 0 1 1 1]\n",
            " [1 1 1 1 0 0 1 0 0 1 1]\n",
            " [0 1 1 0 0 1 1 0 0 1 0]\n",
            " [0 1 1 0 1 0 0 0 1 1 0]\n",
            " [0 0 0 0 1 0 0 1 0 1 0]\n",
            " [0 1 1 1 0 0 0 1 0 1 0]\n",
            " [0 0 0 0 0 0 1 1 1 1 1]]\n"
          ],
          "name": "stdout"
        }
      ]
    },
    {
      "cell_type": "code",
      "metadata": {
        "id": "g4RaiN_4hLyR",
        "outputId": "317d5f73-6fb4-4175-8929-bb7748983710",
        "colab": {
          "base_uri": "https://localhost:8080/"
        }
      },
      "source": [
        "# encode/decode messages for different SNR vals\n",
        "mess_num = int(1e3)\n",
        "tic_incr = mess_num/4\n",
        "v = np.random.randint(2, size=(mess_num,k))\n",
        "min_snr=0\n",
        "max_snr=10\n",
        "snrs = np.arange(min_snr,max_snr,0.5)\n",
        "errs = np.array(())\n",
        "times = np.array(())\n",
        "for snr in snrs:\n",
        "    print\n",
        "    err_num = 0\n",
        "    time_tot = 0\n",
        "    current = time.time()\n",
        "    for i in range(mess_num):\n",
        "        v_i = v[i,:]\n",
        "        y = encode(G, v_i, snr)\n",
        "        d = decode(H, y, snr, maxiter)\n",
        "        x = get_message(G, d)\n",
        "        if abs(x-v_i).sum() != 0 :\n",
        "            err_num = err_num + 1\n",
        "        if (i+1) % tic_incr == 0:\n",
        "            time_tot = timer_update(i,current,time_tot,tic_incr)\n",
        "    err = float(err_num)/mess_num\n",
        "    print('SNR: {:04.3f}:\\n -> BER: {:03.2f}\\n -> Total Time: {:03.2f}s'.format(snr,err,time_tot))\n",
        "    errs=np.append(errs,err)\n",
        "    times=np.append(times,time_tot)"
      ],
      "execution_count": 6,
      "outputs": [
        {
          "output_type": "stream",
          "text": [
            "/usr/local/lib/python3.6/dist-packages/pyldpc/decoder.py:63: UserWarning: Decoding stopped before convergence. You may want\n",
            "                       to increase maxiter\n",
            "  to increase maxiter\"\"\")\n"
          ],
          "name": "stderr"
        },
        {
          "output_type": "stream",
          "text": [
            "SNR: 0.000 - Iter: 250 - Last 250.0 iterations took 1.38s\n",
            "SNR: 0.000 - Iter: 500 - Last 250.0 iterations took 2.85s\n",
            "SNR: 0.000 - Iter: 750 - Last 250.0 iterations took 4.34s\n",
            "SNR: 0.000 - Iter: 1000 - Last 250.0 iterations took 5.99s\n",
            "SNR: 0.000:\n",
            " -> BER: 0.63\n",
            " -> Total Time: 14.56s\n",
            "SNR: 0.500 - Iter: 250 - Last 250.0 iterations took 1.25s\n",
            "SNR: 0.500 - Iter: 500 - Last 250.0 iterations took 2.51s\n",
            "SNR: 0.500 - Iter: 750 - Last 250.0 iterations took 3.75s\n",
            "SNR: 0.500 - Iter: 1000 - Last 250.0 iterations took 4.99s\n",
            "SNR: 0.500:\n",
            " -> BER: 0.53\n",
            " -> Total Time: 12.50s\n",
            "SNR: 1.000 - Iter: 250 - Last 250.0 iterations took 0.98s\n",
            "SNR: 1.000 - Iter: 500 - Last 250.0 iterations took 1.98s\n",
            "SNR: 1.000 - Iter: 750 - Last 250.0 iterations took 3.02s\n",
            "SNR: 1.000 - Iter: 1000 - Last 250.0 iterations took 3.97s\n",
            "SNR: 1.000:\n",
            " -> BER: 0.43\n",
            " -> Total Time: 9.94s\n",
            "SNR: 1.500 - Iter: 250 - Last 250.0 iterations took 0.81s\n",
            "SNR: 1.500 - Iter: 500 - Last 250.0 iterations took 1.68s\n",
            "SNR: 1.500 - Iter: 750 - Last 250.0 iterations took 2.50s\n",
            "SNR: 1.500 - Iter: 1000 - Last 250.0 iterations took 3.24s\n",
            "SNR: 1.500:\n",
            " -> BER: 0.34\n",
            " -> Total Time: 8.24s\n",
            "SNR: 2.000 - Iter: 250 - Last 250.0 iterations took 0.82s\n",
            "SNR: 2.000 - Iter: 500 - Last 250.0 iterations took 1.49s\n",
            "SNR: 2.000 - Iter: 750 - Last 250.0 iterations took 2.07s\n",
            "SNR: 2.000 - Iter: 1000 - Last 250.0 iterations took 2.53s\n",
            "SNR: 2.000:\n",
            " -> BER: 0.26\n",
            " -> Total Time: 6.91s\n",
            "SNR: 2.500 - Iter: 250 - Last 250.0 iterations took 0.60s\n",
            "SNR: 2.500 - Iter: 500 - Last 250.0 iterations took 1.01s\n",
            "SNR: 2.500 - Iter: 750 - Last 250.0 iterations took 1.52s\n",
            "SNR: 2.500 - Iter: 1000 - Last 250.0 iterations took 2.02s\n",
            "SNR: 2.500:\n",
            " -> BER: 0.22\n",
            " -> Total Time: 5.15s\n",
            "SNR: 3.000 - Iter: 250 - Last 250.0 iterations took 0.38s\n",
            "SNR: 3.000 - Iter: 500 - Last 250.0 iterations took 0.73s\n",
            "SNR: 3.000 - Iter: 750 - Last 250.0 iterations took 1.15s\n",
            "SNR: 3.000 - Iter: 1000 - Last 250.0 iterations took 1.57s\n",
            "SNR: 3.000:\n",
            " -> BER: 0.15\n",
            " -> Total Time: 3.84s\n",
            "SNR: 3.500 - Iter: 250 - Last 250.0 iterations took 0.31s\n",
            "SNR: 3.500 - Iter: 500 - Last 250.0 iterations took 0.67s\n",
            "SNR: 3.500 - Iter: 750 - Last 250.0 iterations took 0.97s\n",
            "SNR: 3.500 - Iter: 1000 - Last 250.0 iterations took 1.26s\n",
            "SNR: 3.500:\n",
            " -> BER: 0.11\n",
            " -> Total Time: 3.21s\n",
            "SNR: 4.000 - Iter: 250 - Last 250.0 iterations took 0.23s\n",
            "SNR: 4.000 - Iter: 500 - Last 250.0 iterations took 0.46s\n",
            "SNR: 4.000 - Iter: 750 - Last 250.0 iterations took 0.70s\n",
            "SNR: 4.000 - Iter: 1000 - Last 250.0 iterations took 0.92s\n",
            "SNR: 4.000:\n",
            " -> BER: 0.06\n",
            " -> Total Time: 2.31s\n",
            "SNR: 4.500 - Iter: 250 - Last 250.0 iterations took 0.23s\n",
            "SNR: 4.500 - Iter: 500 - Last 250.0 iterations took 0.46s\n",
            "SNR: 4.500 - Iter: 750 - Last 250.0 iterations took 0.65s\n",
            "SNR: 4.500 - Iter: 1000 - Last 250.0 iterations took 0.85s\n",
            "SNR: 4.500:\n",
            " -> BER: 0.04\n",
            " -> Total Time: 2.18s\n",
            "SNR: 5.000 - Iter: 250 - Last 250.0 iterations took 0.18s\n",
            "SNR: 5.000 - Iter: 500 - Last 250.0 iterations took 0.38s\n",
            "SNR: 5.000 - Iter: 750 - Last 250.0 iterations took 0.57s\n",
            "SNR: 5.000 - Iter: 1000 - Last 250.0 iterations took 0.77s\n",
            "SNR: 5.000:\n",
            " -> BER: 0.03\n",
            " -> Total Time: 1.91s\n",
            "SNR: 5.500 - Iter: 250 - Last 250.0 iterations took 0.17s\n",
            "SNR: 5.500 - Iter: 500 - Last 250.0 iterations took 0.38s\n",
            "SNR: 5.500 - Iter: 750 - Last 250.0 iterations took 0.54s\n",
            "SNR: 5.500 - Iter: 1000 - Last 250.0 iterations took 0.74s\n",
            "SNR: 5.500:\n",
            " -> BER: 0.02\n",
            " -> Total Time: 1.82s\n",
            "SNR: 6.000 - Iter: 250 - Last 250.0 iterations took 0.16s\n",
            "SNR: 6.000 - Iter: 500 - Last 250.0 iterations took 0.33s\n",
            "SNR: 6.000 - Iter: 750 - Last 250.0 iterations took 0.50s\n",
            "SNR: 6.000 - Iter: 1000 - Last 250.0 iterations took 0.68s\n",
            "SNR: 6.000:\n",
            " -> BER: 0.01\n",
            " -> Total Time: 1.67s\n",
            "SNR: 6.500 - Iter: 250 - Last 250.0 iterations took 0.16s\n",
            "SNR: 6.500 - Iter: 500 - Last 250.0 iterations took 0.34s\n",
            "SNR: 6.500 - Iter: 750 - Last 250.0 iterations took 0.49s\n",
            "SNR: 6.500 - Iter: 1000 - Last 250.0 iterations took 0.67s\n",
            "SNR: 6.500:\n",
            " -> BER: 0.00\n",
            " -> Total Time: 1.66s\n",
            "SNR: 7.000 - Iter: 250 - Last 250.0 iterations took 0.15s\n",
            "SNR: 7.000 - Iter: 500 - Last 250.0 iterations took 0.32s\n",
            "SNR: 7.000 - Iter: 750 - Last 250.0 iterations took 0.48s\n",
            "SNR: 7.000 - Iter: 1000 - Last 250.0 iterations took 0.68s\n",
            "SNR: 7.000:\n",
            " -> BER: 0.00\n",
            " -> Total Time: 1.63s\n",
            "SNR: 7.500 - Iter: 250 - Last 250.0 iterations took 0.16s\n",
            "SNR: 7.500 - Iter: 500 - Last 250.0 iterations took 0.32s\n",
            "SNR: 7.500 - Iter: 750 - Last 250.0 iterations took 0.48s\n",
            "SNR: 7.500 - Iter: 1000 - Last 250.0 iterations took 0.64s\n",
            "SNR: 7.500:\n",
            " -> BER: 0.00\n",
            " -> Total Time: 1.60s\n",
            "SNR: 8.000 - Iter: 250 - Last 250.0 iterations took 0.15s\n",
            "SNR: 8.000 - Iter: 500 - Last 250.0 iterations took 0.32s\n",
            "SNR: 8.000 - Iter: 750 - Last 250.0 iterations took 0.48s\n",
            "SNR: 8.000 - Iter: 1000 - Last 250.0 iterations took 0.65s\n",
            "SNR: 8.000:\n",
            " -> BER: 0.00\n",
            " -> Total Time: 1.60s\n",
            "SNR: 8.500 - Iter: 250 - Last 250.0 iterations took 0.15s\n",
            "SNR: 8.500 - Iter: 500 - Last 250.0 iterations took 0.31s\n",
            "SNR: 8.500 - Iter: 750 - Last 250.0 iterations took 0.47s\n",
            "SNR: 8.500 - Iter: 1000 - Last 250.0 iterations took 0.63s\n",
            "SNR: 8.500:\n",
            " -> BER: 0.00\n",
            " -> Total Time: 1.56s\n",
            "SNR: 9.000 - Iter: 250 - Last 250.0 iterations took 0.16s\n",
            "SNR: 9.000 - Iter: 500 - Last 250.0 iterations took 0.31s\n",
            "SNR: 9.000 - Iter: 750 - Last 250.0 iterations took 0.46s\n",
            "SNR: 9.000 - Iter: 1000 - Last 250.0 iterations took 0.62s\n",
            "SNR: 9.000:\n",
            " -> BER: 0.00\n",
            " -> Total Time: 1.56s\n",
            "SNR: 9.500 - Iter: 250 - Last 250.0 iterations took 0.15s\n",
            "SNR: 9.500 - Iter: 500 - Last 250.0 iterations took 0.32s\n",
            "SNR: 9.500 - Iter: 750 - Last 250.0 iterations took 0.48s\n",
            "SNR: 9.500 - Iter: 1000 - Last 250.0 iterations took 0.64s\n",
            "SNR: 9.500:\n",
            " -> BER: 0.00\n",
            " -> Total Time: 1.59s\n"
          ],
          "name": "stdout"
        }
      ]
    },
    {
      "cell_type": "code",
      "metadata": {
        "id": "WXk2FcfUhLyU",
        "outputId": "b798ff8e-fabf-460c-ce51-81e81acf236a",
        "colab": {
          "base_uri": "https://localhost:8080/",
          "height": 408
        }
      },
      "source": [
        "# plot results\n",
        "fig, (ax1,ax2) = plt.subplots(2,1,figsize=(8,6))\n",
        "ax1.semilogy(snrs,errs,'o-') # plot BER vs SNR\n",
        "ax1.set_ylabel('BER')\n",
        "ax1.set_title('Regular LDPC ({},{},{})'.format(n,k,n-k))\n",
        "ax2.plot(snrs,times,'o-') # plot decode timing for different SNRs\n",
        "ax2.set_xlabel('$E_b/N_0$')\n",
        "ax2.set_ylabel('Decoding Time [s]')\n",
        "ax2.annotate('Total Runtime: {:03.2f}s'.format(np.sum(times)),\n",
        "            xy=(1, 0.35), xycoords='axes fraction',\n",
        "            xytext=(-20, 20), textcoords='offset pixels',\n",
        "            horizontalalignment='right',\n",
        "            verticalalignment='bottom')\n",
        "plt.savefig('ldpc_ber_{}_{}.png'.format(n,k))\n",
        "plt.show()"
      ],
      "execution_count": 7,
      "outputs": [
        {
          "output_type": "display_data",
          "data": {
            "image/png": "[encoded data removed]",
            "text/plain": [
              "<Figure size 576x432 with 2 Axes>"
            ]
          },
          "metadata": {
            "tags": [],
            "needs_background": "light"
          }
        }
      ]
    }
  ]
}