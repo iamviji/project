{
  "nbformat": 4,
  "nbformat_minor": 0,
  "metadata": {
    "colab": {
      "name": "ITPP_LDPC_BCH_Build.ipynb",
      "provenance": [],
      "collapsed_sections": [],
      "include_colab_link": true
    },
    "kernelspec": {
      "name": "python3",
      "display_name": "Python 3"
    }
  },
  "cells": [
    {
      "cell_type": "markdown",
      "metadata": {
        "id": "view-in-github",
        "colab_type": "text"
      },
      "source": [
        "<a href=\"https://colab.research.google.com/github/iamviji/project/blob/master/misc/ITPP_LDPC_BCH_Build.ipynb\" target=\"_parent\"><img src=\"https://colab.research.google.com/assets/colab-badge.svg\" alt=\"Open In Colab\"/></a>"
      ]
    },
    {
      "cell_type": "code",
      "metadata": {
        "id": "pG_5Axkhoz6N",
        "outputId": "9e1219bd-c13a-4bdb-f82f-cb1def06f224",
        "colab": {
          "base_uri": "https://localhost:8080/"
        }
      },
      "source": [
        "!sudo apt-get install autoconf"
      ],
      "execution_count": 2,
      "outputs": [
        {
          "output_type": "stream",
          "text": [
            "Reading package lists... Done\n",
            "Building dependency tree       \n",
            "Reading state information... Done\n",
            "autoconf is already the newest version (2.69-11).\n",
            "0 upgraded, 0 newly installed, 0 to remove and 31 not upgraded.\n"
          ],
          "name": "stdout"
        }
      ]
    },
    {
      "cell_type": "code",
      "metadata": {
        "id": "cUQq7nsqpGvm",
        "outputId": "2126b934-12e1-4f71-8544-6dce3ed44155",
        "colab": {
          "base_uri": "https://localhost:8080/"
        }
      },
      "source": [
        "!sudo apt-get install libtool"
      ],
      "execution_count": 3,
      "outputs": [
        {
          "output_type": "stream",
          "text": [
            "Reading package lists... Done\n",
            "Building dependency tree       \n",
            "Reading state information... Done\n",
            "libtool is already the newest version (2.4.6-2).\n",
            "0 upgraded, 0 newly installed, 0 to remove and 31 not upgraded.\n"
          ],
          "name": "stdout"
        }
      ]
    },
    {
      "cell_type": "code",
      "metadata": {
        "id": "gPevRXuDzRy5",
        "outputId": "3d786314-1009-4570-cc89-3cf1c66bb053",
        "colab": {
          "base_uri": "https://localhost:8080/"
        }
      },
      "source": [
        "!sudo apt-get install liblapack-dev libblas-dev libfftw3-dev"
      ],
      "execution_count": 4,
      "outputs": [
        {
          "output_type": "stream",
          "text": [
            "Reading package lists... Done\n",
            "Building dependency tree       \n",
            "Reading state information... Done\n",
            "libblas-dev is already the newest version (3.7.1-4ubuntu1).\n",
            "libfftw3-dev is already the newest version (3.3.7-1).\n",
            "liblapack-dev is already the newest version (3.7.1-4ubuntu1).\n",
            "0 upgraded, 0 newly installed, 0 to remove and 31 not upgraded.\n"
          ],
          "name": "stdout"
        }
      ]
    },
    {
      "cell_type": "code",
      "metadata": {
        "id": "cFr7gfys2H3_",
        "outputId": "4ed51152-2d2c-464b-a785-7b278f66d186",
        "colab": {
          "base_uri": "https://localhost:8080/"
        }
      },
      "source": [
        "!rm -rf itpp\n",
        "!git clone https://github.com/iamviji/itpp.git # original one had compilation issue, did minor signle line change after forking"
      ],
      "execution_count": 5,
      "outputs": [
        {
          "output_type": "stream",
          "text": [
            "Cloning into 'itpp'...\n",
            "remote: Enumerating objects: 14431, done.\u001b[K\n",
            "remote: Total 14431 (delta 0), reused 0 (delta 0), pack-reused 14431\u001b[K\n",
            "Receiving objects: 100% (14431/14431), 4.88 MiB | 17.61 MiB/s, done.\n",
            "Resolving deltas: 100% (12154/12154), done.\n"
          ],
          "name": "stdout"
        }
      ]
    },
    {
      "cell_type": "code",
      "metadata": {
        "id": "xGtHRpXuzW7C",
        "outputId": "d94b28a1-b697-4a67-f5f7-0a3b91178c23",
        "colab": {
          "base_uri": "https://localhost:8080/"
        }
      },
      "source": [
        "!ls;cd itpp;ls;mkdir -p build1 build2; cd build1 ; cmake cmake ..;make ;make install"
      ],
      "execution_count": 6,
      "outputs": [
        {
          "output_type": "stream",
          "text": [
            "itpp  py-itpp  sample_data\n",
            "AUTHORS\t\tcmake\t\t\titpp-config.cmake.in  NEWS-3.10\n",
            "autogen.sh\tCMakeLists.txt\t\titpp-config.in\t      NEWS-3.9\n",
            "ChangeLog\tconfigure.ac.in\t\titpp_debug.pc.in      NEWS-3.99\n",
            "ChangeLog-2005\tCOPYING\t\t\titpp.pc.cmake.in      NEWS-4.0\n",
            "ChangeLog-2006\tdoc\t\t\titpp.pc.in\t      NEWS-4.2\n",
            "ChangeLog-2007\textras\t\t\titpp.spec.in\t      README\n",
            "ChangeLog-2008\tgtests\t\t\tm4\t\t      README.md\n",
            "ChangeLog-2009\tINSTALL\t\t\tMakefile.am\t      tests\n",
            "ChangeLog-2010\titpp\t\t\tMakefile.common       VERSION\n",
            "ChangeLog-2011\titpp-config.1.cmake.in\tMakefile.in\t      win32\n",
            "ChangeLog-2012\titpp-config.1.in\tNEWS\n",
            "-- The C compiler identification is GNU 7.5.0\n",
            "-- The CXX compiler identification is GNU 7.5.0\n",
            "-- Check for working C compiler: /usr/bin/cc\n",
            "-- Check for working C compiler: /usr/bin/cc -- works\n",
            "-- Detecting C compiler ABI info\n",
            "-- Detecting C compiler ABI info - done\n",
            "-- Detecting C compile features\n",
            "-- Detecting C compile features - done\n",
            "-- Check for working CXX compiler: /usr/bin/c++\n",
            "-- Check for working CXX compiler: /usr/bin/c++ -- works\n",
            "-- Detecting CXX compiler ABI info\n",
            "-- Detecting CXX compiler ABI info - done\n",
            "-- Detecting CXX compile features\n",
            "-- Detecting CXX compile features - done\n",
            "-- Looking for dgemm_\n",
            "-- Looking for dgemm_ - found\n",
            "-- Looking for pthread.h\n",
            "-- Looking for pthread.h - found\n",
            "-- Looking for pthread_create\n",
            "-- Looking for pthread_create - not found\n",
            "-- Looking for pthread_create in pthreads\n",
            "-- Looking for pthread_create in pthreads - not found\n",
            "-- Looking for pthread_create in pthread\n",
            "-- Looking for pthread_create in pthread - found\n",
            "-- Found Threads: TRUE  \n",
            "-- A library with BLAS API found.\n",
            "-- A library with BLAS API found.\n",
            "-- Looking for cheev_\n",
            "-- Looking for cheev_ - found\n",
            "-- A library with LAPACK API found.\n",
            "-- Found FFT: /usr/lib/x86_64-linux-gnu/libfftw3.so  \n",
            "-- A library with FFT API found.\n",
            "-- Found OpenMP_C: -fopenmp (found version \"4.5\") \n",
            "-- Found OpenMP_CXX: -fopenmp (found version \"4.5\") \n",
            "-- Found OpenMP: TRUE (found version \"4.5\")  \n",
            "-- Could NOT find Doxygen (missing: DOXYGEN_EXECUTABLE) \n",
            "-- Could NOT find LATEX (missing: LATEX_COMPILER) \n",
            "-- Looking for include files sys/time.h, time.h\n",
            "-- Looking for include files sys/time.h, time.h - found\n",
            "-- Looking for dlfcn.h\n",
            "-- Looking for dlfcn.h - found\n",
            "-- Looking for ieeefp.h\n",
            "-- Looking for ieeefp.h - not found\n",
            "-- Looking for inttypes.h\n",
            "-- Looking for inttypes.h - found\n",
            "-- Looking for memory.h\n",
            "-- Looking for memory.h - found\n",
            "-- Looking for stdint.h\n",
            "-- Looking for stdint.h - found\n",
            "-- Looking for stdlib.h\n",
            "-- Looking for stdlib.h - found\n",
            "-- Looking for strings.h\n",
            "-- Looking for strings.h - found\n",
            "-- Looking for string.h\n",
            "-- Looking for string.h - found\n",
            "-- Looking for sys/stat.h\n",
            "-- Looking for sys/stat.h - found\n",
            "-- Looking for sys/types.h\n",
            "-- Looking for sys/types.h - found\n",
            "-- Looking for unistd.h\n",
            "-- Looking for unistd.h - found\n",
            "-- Looking for C++ include cmath\n",
            "-- Looking for C++ include cmath - found\n",
            "-- Looking for C++ include complex\n",
            "-- Looking for C++ include complex - found\n",
            "-- Looking for isfinite\n",
            "-- Looking for isfinite - not found\n",
            "-- Looking for isinf\n",
            "-- Looking for isinf - not found\n",
            "-- Looking for isnan\n",
            "-- Looking for isnan - not found\n",
            "-- Looking for signgam\n",
            "-- Looking for signgam - found\n",
            "-- Looking for acosh\n",
            "-- Looking for acosh - found\n",
            "-- Looking for asinh\n",
            "-- Looking for asinh - found\n",
            "-- Looking for atanh\n",
            "-- Looking for atanh - found\n",
            "-- Looking for cbrt\n",
            "-- Looking for cbrt - found\n",
            "-- Looking for erf\n",
            "-- Looking for erf - found\n",
            "-- Looking for erfc\n",
            "-- Looking for erfc - found\n",
            "-- Looking for expm1\n",
            "-- Looking for expm1 - found\n",
            "-- Looking for finite\n",
            "-- Looking for finite - found\n",
            "-- Looking for isfinite\n",
            "-- Looking for isfinite - not found\n",
            "-- Looking for isinf\n",
            "-- Looking for isinf - found\n",
            "-- Looking for isnan\n",
            "-- Looking for isnan - found\n",
            "-- Looking for lgamma\n",
            "-- Looking for lgamma - found\n",
            "-- Looking for log1p\n",
            "-- Looking for log1p - found\n",
            "-- Looking for log2\n",
            "-- Looking for log2 - found\n",
            "-- Looking for rint\n",
            "-- Looking for rint - found\n",
            "-- Looking for tgamma\n",
            "-- Looking for tgamma - found\n",
            "-- Looking for std::isfinite\n",
            "-- Looking for std::isfinite - found\n",
            "-- Looking for std::isinf\n",
            "-- Looking for std::isinf - found\n",
            "-- Looking for std::isnan\n",
            "-- Looking for std::isnan - found\n",
            "-- BLAS vendor: All\n",
            "-- Configuring done\n",
            "-- Generating done\n",
            "-- Build files have been written to: /content/itpp/build1\n",
            "\u001b[35m\u001b[1mScanning dependencies of target itpp\u001b[0m\n",
            "[  0%] \u001b[32mBuilding CXX object itpp/CMakeFiles/itpp.dir/base/algebra/cholesky.cpp.o\u001b[0m\n",
            "[  1%] \u001b[32mBuilding CXX object itpp/CMakeFiles/itpp.dir/base/algebra/det.cpp.o\u001b[0m\n",
            "[  2%] \u001b[32mBuilding CXX object itpp/CMakeFiles/itpp.dir/base/algebra/eigen.cpp.o\u001b[0m\n",
            "[  3%] \u001b[32mBuilding CXX object itpp/CMakeFiles/itpp.dir/base/algebra/inv.cpp.o\u001b[0m\n",
            "[  4%] \u001b[32mBuilding CXX object itpp/CMakeFiles/itpp.dir/base/algebra/ls_solve.cpp.o\u001b[0m\n",
            "[  5%] \u001b[32mBuilding CXX object itpp/CMakeFiles/itpp.dir/base/algebra/lu.cpp.o\u001b[0m\n",
            "[  5%] \u001b[32mBuilding CXX object itpp/CMakeFiles/itpp.dir/base/algebra/qr.cpp.o\u001b[0m\n",
            "[  6%] \u001b[32mBuilding CXX object itpp/CMakeFiles/itpp.dir/base/algebra/schur.cpp.o\u001b[0m\n",
            "[  7%] \u001b[32mBuilding CXX object itpp/CMakeFiles/itpp.dir/base/algebra/svd.cpp.o\u001b[0m\n",
            "[  8%] \u001b[32mBuilding CXX object itpp/CMakeFiles/itpp.dir/base/bessel.cpp.o\u001b[0m\n",
            "[  9%] \u001b[32mBuilding CXX object itpp/CMakeFiles/itpp.dir/base/bessel/airy.cpp.o\u001b[0m\n",
            "[ 10%] \u001b[32mBuilding CXX object itpp/CMakeFiles/itpp.dir/base/bessel/chbevl.cpp.o\u001b[0m\n",
            "[ 11%] \u001b[32mBuilding CXX object itpp/CMakeFiles/itpp.dir/base/bessel/gamma.cpp.o\u001b[0m\n",
            "[ 11%] \u001b[32mBuilding CXX object itpp/CMakeFiles/itpp.dir/base/bessel/hyperg.cpp.o\u001b[0m\n",
            "[ 12%] \u001b[32mBuilding CXX object itpp/CMakeFiles/itpp.dir/base/bessel/i0.cpp.o\u001b[0m\n",
            "[ 13%] \u001b[32mBuilding CXX object itpp/CMakeFiles/itpp.dir/base/bessel/i1.cpp.o\u001b[0m\n",
            "[ 14%] \u001b[32mBuilding CXX object itpp/CMakeFiles/itpp.dir/base/bessel/iv.cpp.o\u001b[0m\n",
            "[ 15%] \u001b[32mBuilding CXX object itpp/CMakeFiles/itpp.dir/base/bessel/jv.cpp.o\u001b[0m\n",
            "[ 16%] \u001b[32mBuilding CXX object itpp/CMakeFiles/itpp.dir/base/bessel/k0.cpp.o\u001b[0m\n",
            "[ 17%] \u001b[32mBuilding CXX object itpp/CMakeFiles/itpp.dir/base/bessel/k1.cpp.o\u001b[0m\n",
            "[ 17%] \u001b[32mBuilding CXX object itpp/CMakeFiles/itpp.dir/base/bessel/kn.cpp.o\u001b[0m\n",
            "[ 18%] \u001b[32mBuilding CXX object itpp/CMakeFiles/itpp.dir/base/bessel/polevl.cpp.o\u001b[0m\n",
            "[ 19%] \u001b[32mBuilding CXX object itpp/CMakeFiles/itpp.dir/base/bessel/struve.cpp.o\u001b[0m\n",
            "[ 20%] \u001b[32mBuilding CXX object itpp/CMakeFiles/itpp.dir/base/binary.cpp.o\u001b[0m\n",
            "[ 21%] \u001b[32mBuilding CXX object itpp/CMakeFiles/itpp.dir/base/binfile.cpp.o\u001b[0m\n",
            "[ 22%] \u001b[32mBuilding CXX object itpp/CMakeFiles/itpp.dir/base/converters.cpp.o\u001b[0m\n",
            "[ 23%] \u001b[32mBuilding CXX object itpp/CMakeFiles/itpp.dir/base/copy_vector.cpp.o\u001b[0m\n",
            "[ 23%] \u001b[32mBuilding CXX object itpp/CMakeFiles/itpp.dir/base/fastmath.cpp.o\u001b[0m\n",
            "[ 24%] \u001b[32mBuilding CXX object itpp/CMakeFiles/itpp.dir/base/gf2mat.cpp.o\u001b[0m\n",
            "[ 25%] \u001b[32mBuilding CXX object itpp/CMakeFiles/itpp.dir/base/help_functions.cpp.o\u001b[0m\n",
            "[ 26%] \u001b[32mBuilding CXX object itpp/CMakeFiles/itpp.dir/base/itassert.cpp.o\u001b[0m\n",
            "[ 27%] \u001b[32mBuilding CXX object itpp/CMakeFiles/itpp.dir/base/itcompat.cpp.o\u001b[0m\n",
            "[ 28%] \u001b[32mBuilding CXX object itpp/CMakeFiles/itpp.dir/base/itfile.cpp.o\u001b[0m\n",
            "[ 29%] \u001b[32mBuilding CXX object itpp/CMakeFiles/itpp.dir/base/mat.cpp.o\u001b[0m\n",
            "[ 29%] \u001b[32mBuilding CXX object itpp/CMakeFiles/itpp.dir/base/matfunc.cpp.o\u001b[0m\n",
            "[ 30%] \u001b[32mBuilding CXX object itpp/CMakeFiles/itpp.dir/base/math/elem_math.cpp.o\u001b[0m\n",
            "[ 31%] \u001b[32mBuilding CXX object itpp/CMakeFiles/itpp.dir/base/math/error.cpp.o\u001b[0m\n",
            "[ 32%] \u001b[32mBuilding CXX object itpp/CMakeFiles/itpp.dir/base/math/integration.cpp.o\u001b[0m\n",
            "[ 33%] \u001b[32mBuilding CXX object itpp/CMakeFiles/itpp.dir/base/math/log_exp.cpp.o\u001b[0m\n",
            "[ 34%] \u001b[32mBuilding CXX object itpp/CMakeFiles/itpp.dir/base/math/misc.cpp.o\u001b[0m\n",
            "[ 35%] \u001b[32mBuilding CXX object itpp/CMakeFiles/itpp.dir/base/math/trig_hyp.cpp.o\u001b[0m\n",
            "[ 35%] \u001b[32mBuilding CXX object itpp/CMakeFiles/itpp.dir/base/operators.cpp.o\u001b[0m\n",
            "[ 36%] \u001b[32mBuilding CXX object itpp/CMakeFiles/itpp.dir/base/parser.cpp.o\u001b[0m\n",
            "[ 37%] \u001b[32mBuilding CXX object itpp/CMakeFiles/itpp.dir/base/random.cpp.o\u001b[0m\n",
            "[ 38%] \u001b[32mBuilding CXX object itpp/CMakeFiles/itpp.dir/base/smat.cpp.o\u001b[0m\n",
            "[ 39%] \u001b[32mBuilding CXX object itpp/CMakeFiles/itpp.dir/base/specmat.cpp.o\u001b[0m\n",
            "[ 40%] \u001b[32mBuilding CXX object itpp/CMakeFiles/itpp.dir/base/svec.cpp.o\u001b[0m\n",
            "[ 41%] \u001b[32mBuilding CXX object itpp/CMakeFiles/itpp.dir/base/timing.cpp.o\u001b[0m\n",
            "[ 41%] \u001b[32mBuilding CXX object itpp/CMakeFiles/itpp.dir/base/vec.cpp.o\u001b[0m\n",
            "[ 42%] \u001b[32mBuilding CXX object itpp/CMakeFiles/itpp.dir/comm/bch.cpp.o\u001b[0m\n",
            "[ 43%] \u001b[32mBuilding CXX object itpp/CMakeFiles/itpp.dir/comm/channel.cpp.o\u001b[0m\n",
            "[ 44%] \u001b[32mBuilding CXX object itpp/CMakeFiles/itpp.dir/comm/commfunc.cpp.o\u001b[0m\n",
            "[ 45%] \u001b[32mBuilding CXX object itpp/CMakeFiles/itpp.dir/comm/convcode.cpp.o\u001b[0m\n",
            "[ 46%] \u001b[32mBuilding CXX object itpp/CMakeFiles/itpp.dir/comm/crc.cpp.o\u001b[0m\n",
            "[ 47%] \u001b[32mBuilding CXX object itpp/CMakeFiles/itpp.dir/comm/egolay.cpp.o\u001b[0m\n",
            "[ 47%] \u001b[32mBuilding CXX object itpp/CMakeFiles/itpp.dir/comm/error_counters.cpp.o\u001b[0m\n",
            "[ 48%] \u001b[32mBuilding CXX object itpp/CMakeFiles/itpp.dir/comm/exit.cpp.o\u001b[0m\n",
            "[ 49%] \u001b[32mBuilding CXX object itpp/CMakeFiles/itpp.dir/comm/galois.cpp.o\u001b[0m\n",
            "[ 50%] \u001b[32mBuilding CXX object itpp/CMakeFiles/itpp.dir/comm/hammcode.cpp.o\u001b[0m\n",
            "[ 51%] \u001b[32mBuilding CXX object itpp/CMakeFiles/itpp.dir/comm/interleave.cpp.o\u001b[0m\n",
            "[ 52%] \u001b[32mBuilding CXX object itpp/CMakeFiles/itpp.dir/comm/ldpc.cpp.o\u001b[0m\n",
            "[ 52%] \u001b[32mBuilding CXX object itpp/CMakeFiles/itpp.dir/comm/llr.cpp.o\u001b[0m\n",
            "[ 53%] \u001b[32mBuilding CXX object itpp/CMakeFiles/itpp.dir/comm/modulator.cpp.o\u001b[0m\n",
            "[ 54%] \u001b[32mBuilding CXX object itpp/CMakeFiles/itpp.dir/comm/modulator_nd.cpp.o\u001b[0m\n",
            "[ 55%] \u001b[32mBuilding CXX object itpp/CMakeFiles/itpp.dir/comm/multilateration.cpp.o\u001b[0m\n",
            "[ 56%] \u001b[32mBuilding CXX object itpp/CMakeFiles/itpp.dir/comm/ofdm.cpp.o\u001b[0m\n",
            "[ 57%] \u001b[32mBuilding CXX object itpp/CMakeFiles/itpp.dir/comm/pulse_shape.cpp.o\u001b[0m\n",
            "[ 58%] \u001b[32mBuilding CXX object itpp/CMakeFiles/itpp.dir/comm/punct_convcode.cpp.o\u001b[0m\n",
            "[ 58%] \u001b[32mBuilding CXX object itpp/CMakeFiles/itpp.dir/comm/rec_syst_conv_code.cpp.o\u001b[0m\n",
            "[ 59%] \u001b[32mBuilding CXX object itpp/CMakeFiles/itpp.dir/comm/reedsolomon.cpp.o\u001b[0m\n",
            "[ 60%] \u001b[32mBuilding CXX object itpp/CMakeFiles/itpp.dir/comm/sequence.cpp.o\u001b[0m\n",
            "[ 61%] \u001b[32mBuilding CXX object itpp/CMakeFiles/itpp.dir/comm/siso_dem.cpp.o\u001b[0m\n",
            "[ 62%] \u001b[32mBuilding CXX object itpp/CMakeFiles/itpp.dir/comm/siso_eq.cpp.o\u001b[0m\n",
            "[ 63%] \u001b[32mBuilding CXX object itpp/CMakeFiles/itpp.dir/comm/siso_mud.cpp.o\u001b[0m\n",
            "[ 64%] \u001b[32mBuilding CXX object itpp/CMakeFiles/itpp.dir/comm/siso_nsc.cpp.o\u001b[0m\n",
            "[ 64%] \u001b[32mBuilding CXX object itpp/CMakeFiles/itpp.dir/comm/siso_rsc.cpp.o\u001b[0m\n",
            "[ 65%] \u001b[32mBuilding CXX object itpp/CMakeFiles/itpp.dir/comm/spread.cpp.o\u001b[0m\n",
            "[ 66%] \u001b[32mBuilding CXX object itpp/CMakeFiles/itpp.dir/comm/stc.cpp.o\u001b[0m\n",
            "[ 67%] \u001b[32mBuilding CXX object itpp/CMakeFiles/itpp.dir/comm/turbo.cpp.o\u001b[0m\n",
            "[ 68%] \u001b[32mBuilding CXX object itpp/CMakeFiles/itpp.dir/fixed/cfix.cpp.o\u001b[0m\n",
            "[ 69%] \u001b[32mBuilding CXX object itpp/CMakeFiles/itpp.dir/fixed/cfixed.cpp.o\u001b[0m\n",
            "[ 70%] \u001b[32mBuilding CXX object itpp/CMakeFiles/itpp.dir/fixed/fix.cpp.o\u001b[0m\n",
            "[ 70%] \u001b[32mBuilding CXX object itpp/CMakeFiles/itpp.dir/fixed/fix_base.cpp.o\u001b[0m\n",
            "[ 71%] \u001b[32mBuilding CXX object itpp/CMakeFiles/itpp.dir/fixed/fix_factory.cpp.o\u001b[0m\n",
            "[ 72%] \u001b[32mBuilding CXX object itpp/CMakeFiles/itpp.dir/fixed/fix_functions.cpp.o\u001b[0m\n",
            "[ 73%] \u001b[32mBuilding CXX object itpp/CMakeFiles/itpp.dir/fixed/fix_operators.cpp.o\u001b[0m\n",
            "[ 74%] \u001b[32mBuilding CXX object itpp/CMakeFiles/itpp.dir/fixed/fixed.cpp.o\u001b[0m\n",
            "[ 75%] \u001b[32mBuilding CXX object itpp/CMakeFiles/itpp.dir/optim/newton_search.cpp.o\u001b[0m\n",
            "[ 76%] \u001b[32mBuilding CXX object itpp/CMakeFiles/itpp.dir/protocol/events.cpp.o\u001b[0m\n",
            "[ 76%] \u001b[32mBuilding CXX object itpp/CMakeFiles/itpp.dir/protocol/front_drop_queue.cpp.o\u001b[0m\n",
            "[ 77%] \u001b[32mBuilding CXX object itpp/CMakeFiles/itpp.dir/protocol/packet_channel.cpp.o\u001b[0m\n",
            "[ 78%] \u001b[32mBuilding CXX object itpp/CMakeFiles/itpp.dir/protocol/packet_generator.cpp.o\u001b[0m\n",
            "[ 79%] \u001b[32mBuilding CXX object itpp/CMakeFiles/itpp.dir/protocol/selective_repeat.cpp.o\u001b[0m\n",
            "[ 80%] \u001b[32mBuilding CXX object itpp/CMakeFiles/itpp.dir/protocol/tcp.cpp.o\u001b[0m\n",
            "[ 81%] \u001b[32mBuilding CXX object itpp/CMakeFiles/itpp.dir/signal/fastica.cpp.o\u001b[0m\n",
            "[ 82%] \u001b[32mBuilding CXX object itpp/CMakeFiles/itpp.dir/signal/filter.cpp.o\u001b[0m\n",
            "[ 82%] \u001b[32mBuilding CXX object itpp/CMakeFiles/itpp.dir/signal/filter_design.cpp.o\u001b[0m\n",
            "[ 83%] \u001b[32mBuilding CXX object itpp/CMakeFiles/itpp.dir/signal/freq_filt.cpp.o\u001b[0m\n",
            "[ 84%] \u001b[32mBuilding CXX object itpp/CMakeFiles/itpp.dir/signal/poly.cpp.o\u001b[0m\n",
            "[ 85%] \u001b[32mBuilding CXX object itpp/CMakeFiles/itpp.dir/signal/resampling.cpp.o\u001b[0m\n",
            "[ 86%] \u001b[32mBuilding CXX object itpp/CMakeFiles/itpp.dir/signal/sigfun.cpp.o\u001b[0m\n",
            "[ 87%] \u001b[32mBuilding CXX object itpp/CMakeFiles/itpp.dir/signal/source.cpp.o\u001b[0m\n",
            "[ 88%] \u001b[32mBuilding CXX object itpp/CMakeFiles/itpp.dir/signal/transforms.cpp.o\u001b[0m\n",
            "[ 88%] \u001b[32mBuilding CXX object itpp/CMakeFiles/itpp.dir/signal/window.cpp.o\u001b[0m\n",
            "[ 89%] \u001b[32mBuilding CXX object itpp/CMakeFiles/itpp.dir/srccode/audiofile.cpp.o\u001b[0m\n",
            "[ 90%] \u001b[32mBuilding CXX object itpp/CMakeFiles/itpp.dir/srccode/g711.cpp.o\u001b[0m\n",
            "[ 91%] \u001b[32mBuilding CXX object itpp/CMakeFiles/itpp.dir/srccode/gmm.cpp.o\u001b[0m\n",
            "[ 92%] \u001b[32mBuilding CXX object itpp/CMakeFiles/itpp.dir/srccode/lpcfunc.cpp.o\u001b[0m\n",
            "[ 93%] \u001b[32mBuilding CXX object itpp/CMakeFiles/itpp.dir/srccode/pnm.cpp.o\u001b[0m\n",
            "[ 94%] \u001b[32mBuilding CXX object itpp/CMakeFiles/itpp.dir/srccode/vq.cpp.o\u001b[0m\n",
            "[ 94%] \u001b[32mBuilding CXX object itpp/CMakeFiles/itpp.dir/srccode/vqtrain.cpp.o\u001b[0m\n",
            "[ 95%] \u001b[32mBuilding CXX object itpp/CMakeFiles/itpp.dir/stat/misc_stat.cpp.o\u001b[0m\n",
            "[ 96%] \u001b[32mBuilding CXX object itpp/CMakeFiles/itpp.dir/stat/mog_diag.cpp.o\u001b[0m\n",
            "[ 97%] \u001b[32mBuilding CXX object itpp/CMakeFiles/itpp.dir/stat/mog_diag_em.cpp.o\u001b[0m\n",
            "[ 98%] \u001b[32mBuilding CXX object itpp/CMakeFiles/itpp.dir/stat/mog_diag_kmeans.cpp.o\u001b[0m\n",
            "[ 99%] \u001b[32mBuilding CXX object itpp/CMakeFiles/itpp.dir/stat/mog_generic.cpp.o\u001b[0m\n",
            "[100%] \u001b[32m\u001b[1mLinking CXX shared library libitpp.so\u001b[0m\n",
            "[100%] Built target itpp\n",
            "[100%] Built target itpp\n",
            "\u001b[36mInstall the project...\u001b[0m\n",
            "-- Install configuration: \"\"\n",
            "-- Installing: /usr/local/lib/libitpp.so.8.2.1\n",
            "-- Up-to-date: /usr/local/lib/libitpp.so.8\n",
            "-- Up-to-date: /usr/local/lib/libitpp.so\n",
            "-- Up-to-date: /usr/local/include/itpp\n",
            "-- Installing: /usr/local/include/itpp/itoptim.h\n",
            "-- Installing: /usr/local/include/itpp/itbase.h\n",
            "-- Up-to-date: /usr/local/include/itpp/base\n",
            "-- Installing: /usr/local/include/itpp/base/smat.h\n",
            "-- Installing: /usr/local/include/itpp/base/base_exports.h\n",
            "-- Installing: /usr/local/include/itpp/base/mat.h\n",
            "-- Installing: /usr/local/include/itpp/base/random.h\n",
            "-- Up-to-date: /usr/local/include/itpp/base/algebra\n",
            "-- Installing: /usr/local/include/itpp/base/algebra/schur.h\n",
            "-- Installing: /usr/local/include/itpp/base/algebra/inv.h\n",
            "-- Installing: /usr/local/include/itpp/base/algebra/lu.h\n",
            "-- Installing: /usr/local/include/itpp/base/algebra/lapack.h\n",
            "-- Installing: /usr/local/include/itpp/base/algebra/qr.h\n",
            "-- Installing: /usr/local/include/itpp/base/algebra/det.h\n",
            "-- Installing: /usr/local/include/itpp/base/algebra/eigen.h\n",
            "-- Installing: /usr/local/include/itpp/base/algebra/svd.h\n",
            "-- Installing: /usr/local/include/itpp/base/algebra/cholesky.h\n",
            "-- Installing: /usr/local/include/itpp/base/algebra/ls_solve.h\n",
            "-- Installing: /usr/local/include/itpp/base/stack.h\n",
            "-- Installing: /usr/local/include/itpp/base/ittypes.h\n",
            "-- Installing: /usr/local/include/itpp/base/svec.h\n",
            "-- Installing: /usr/local/include/itpp/base/gf2mat.h\n",
            "-- Installing: /usr/local/include/itpp/base/bessel.h\n",
            "-- Installing: /usr/local/include/itpp/base/parser.h\n",
            "-- Installing: /usr/local/include/itpp/base/specmat.h\n",
            "-- Up-to-date: /usr/local/include/itpp/base/bessel\n",
            "-- Installing: /usr/local/include/itpp/base/bessel/bessel_internal.h\n",
            "-- Installing: /usr/local/include/itpp/base/binary.h\n",
            "-- Installing: /usr/local/include/itpp/base/vec.h\n",
            "-- Installing: /usr/local/include/itpp/base/random_dsfmt.h\n",
            "-- Installing: /usr/local/include/itpp/base/help_functions.h\n",
            "-- Installing: /usr/local/include/itpp/base/itassert.h\n",
            "-- Up-to-date: /usr/local/include/itpp/base/math\n",
            "-- Installing: /usr/local/include/itpp/base/math/log_exp.h\n",
            "-- Installing: /usr/local/include/itpp/base/math/error.h\n",
            "-- Installing: /usr/local/include/itpp/base/math/integration.h\n",
            "-- Installing: /usr/local/include/itpp/base/math/trig_hyp.h\n",
            "-- Installing: /usr/local/include/itpp/base/math/min_max.h\n",
            "-- Installing: /usr/local/include/itpp/base/math/elem_math.h\n",
            "-- Installing: /usr/local/include/itpp/base/math/misc.h\n",
            "-- Installing: /usr/local/include/itpp/base/converters.h\n",
            "-- Installing: /usr/local/include/itpp/base/factory.h\n",
            "-- Installing: /usr/local/include/itpp/base/blas.h\n",
            "-- Installing: /usr/local/include/itpp/base/timing.h\n",
            "-- Installing: /usr/local/include/itpp/base/operators.h\n",
            "-- Installing: /usr/local/include/itpp/base/array.h\n",
            "-- Installing: /usr/local/include/itpp/base/itcompat.h\n",
            "-- Installing: /usr/local/include/itpp/base/circular_buffer.h\n",
            "-- Installing: /usr/local/include/itpp/base/sort.h\n",
            "-- Installing: /usr/local/include/itpp/base/itfile.h\n",
            "-- Installing: /usr/local/include/itpp/base/matfunc.h\n",
            "-- Installing: /usr/local/include/itpp/base/copy_vector.h\n",
            "-- Installing: /usr/local/include/itpp/base/fastmath.h\n",
            "-- Installing: /usr/local/include/itpp/base/binfile.h\n",
            "-- Installing: /usr/local/include/itpp/itprotocol.h\n",
            "-- Installing: /usr/local/include/itpp/itsrccode.h\n",
            "-- Installing: /usr/local/include/itpp/itcomm.h\n",
            "-- Installing: /usr/local/include/itpp/itsignal.h\n",
            "-- Up-to-date: /usr/local/include/itpp/protocol\n",
            "-- Installing: /usr/local/include/itpp/protocol/tcp_client_server.h\n",
            "-- Installing: /usr/local/include/itpp/protocol/packet.h\n",
            "-- Installing: /usr/local/include/itpp/protocol/signals_slots.h\n",
            "-- Installing: /usr/local/include/itpp/protocol/front_drop_queue.h\n",
            "-- Installing: /usr/local/include/itpp/protocol/packet_channel.h\n",
            "-- Installing: /usr/local/include/itpp/protocol/packet_generator.h\n",
            "-- Installing: /usr/local/include/itpp/protocol/tcp.h\n",
            "-- Installing: /usr/local/include/itpp/protocol/selective_repeat.h\n",
            "-- Installing: /usr/local/include/itpp/protocol/events.h\n",
            "-- Up-to-date: /usr/local/include/itpp/signal\n",
            "-- Installing: /usr/local/include/itpp/signal/poly.h\n",
            "-- Installing: /usr/local/include/itpp/signal/transforms.h\n",
            "-- Installing: /usr/local/include/itpp/signal/freq_filt.h\n",
            "-- Installing: /usr/local/include/itpp/signal/sigfun.h\n",
            "-- Installing: /usr/local/include/itpp/signal/filter_design.h\n",
            "-- Installing: /usr/local/include/itpp/signal/fastica.h\n",
            "-- Installing: /usr/local/include/itpp/signal/window.h\n",
            "-- Installing: /usr/local/include/itpp/signal/source.h\n",
            "-- Installing: /usr/local/include/itpp/signal/filter.h\n",
            "-- Installing: /usr/local/include/itpp/signal/resampling.h\n",
            "-- Up-to-date: /usr/local/include/itpp/optim\n",
            "-- Installing: /usr/local/include/itpp/optim/newton_search.h\n",
            "-- Installing: /usr/local/include/itpp/itstat.h\n",
            "-- Installing: /usr/local/include/itpp/itmex.h\n",
            "-- Installing: /usr/local/include/itpp/itfixed.h\n",
            "-- Up-to-date: /usr/local/include/itpp/stat\n",
            "-- Installing: /usr/local/include/itpp/stat/mog_generic.h\n",
            "-- Installing: /usr/local/include/itpp/stat/mog_diag_em.h\n",
            "-- Installing: /usr/local/include/itpp/stat/mog_diag.h\n",
            "-- Installing: /usr/local/include/itpp/stat/misc_stat.h\n",
            "-- Installing: /usr/local/include/itpp/stat/histogram.h\n",
            "-- Installing: /usr/local/include/itpp/stat/mog_diag_kmeans.h\n",
            "-- Up-to-date: /usr/local/include/itpp/srccode\n",
            "-- Installing: /usr/local/include/itpp/srccode/lpcfunc.h\n",
            "-- Installing: /usr/local/include/itpp/srccode/gmm.h\n",
            "-- Installing: /usr/local/include/itpp/srccode/g711.h\n",
            "-- Installing: /usr/local/include/itpp/srccode/pnm.h\n",
            "-- Installing: /usr/local/include/itpp/srccode/audiofile.h\n",
            "-- Installing: /usr/local/include/itpp/srccode/vqtrain.h\n",
            "-- Installing: /usr/local/include/itpp/srccode/vq.h\n",
            "-- Installing: /usr/local/include/itpp/srccode/audiosample.h\n",
            "-- Up-to-date: /usr/local/include/itpp/comm\n",
            "-- Installing: /usr/local/include/itpp/comm/sequence.h\n",
            "-- Installing: /usr/local/include/itpp/comm/ldpc.h\n",
            "-- Installing: /usr/local/include/itpp/comm/hammcode.h\n",
            "-- Installing: /usr/local/include/itpp/comm/channel_code.h\n",
            "-- Installing: /usr/local/include/itpp/comm/turbo.h\n",
            "-- Installing: /usr/local/include/itpp/comm/rec_syst_conv_code.h\n",
            "-- Installing: /usr/local/include/itpp/comm/crc.h\n",
            "-- Installing: /usr/local/include/itpp/comm/stc.h\n",
            "-- Installing: /usr/local/include/itpp/comm/reedsolomon.h\n",
            "-- Installing: /usr/local/include/itpp/comm/error_counters.h\n",
            "-- Installing: /usr/local/include/itpp/comm/punct_convcode.h\n",
            "-- Installing: /usr/local/include/itpp/comm/spread.h\n",
            "-- Installing: /usr/local/include/itpp/comm/channel.h\n",
            "-- Installing: /usr/local/include/itpp/comm/siso.h\n",
            "-- Installing: /usr/local/include/itpp/comm/bch.h\n",
            "-- Installing: /usr/local/include/itpp/comm/llr.h\n",
            "-- Installing: /usr/local/include/itpp/comm/galois.h\n",
            "-- Installing: /usr/local/include/itpp/comm/exit.h\n",
            "-- Installing: /usr/local/include/itpp/comm/pulse_shape.h\n",
            "-- Installing: /usr/local/include/itpp/comm/ofdm.h\n",
            "-- Installing: /usr/local/include/itpp/comm/commfunc.h\n",
            "-- Installing: /usr/local/include/itpp/comm/egolay.h\n",
            "-- Installing: /usr/local/include/itpp/comm/modulator.h\n",
            "-- Installing: /usr/local/include/itpp/comm/multilateration.h\n",
            "-- Installing: /usr/local/include/itpp/comm/modulator_nd.h\n",
            "-- Installing: /usr/local/include/itpp/comm/interleave.h\n",
            "-- Installing: /usr/local/include/itpp/comm/convcode.h\n",
            "-- Installing: /usr/local/include/itpp/config_msvc.h\n",
            "-- Up-to-date: /usr/local/include/itpp/fixed\n",
            "-- Installing: /usr/local/include/itpp/fixed/cfix.h\n",
            "-- Installing: /usr/local/include/itpp/fixed/fixed.h\n",
            "-- Installing: /usr/local/include/itpp/fixed/fix_operators.h\n",
            "-- Installing: /usr/local/include/itpp/fixed/cfixed.h\n",
            "-- Installing: /usr/local/include/itpp/fixed/fix.h\n",
            "-- Installing: /usr/local/include/itpp/fixed/fix_base.h\n",
            "-- Installing: /usr/local/include/itpp/fixed/fix_factory.h\n",
            "-- Installing: /usr/local/include/itpp/fixed/fix_functions.h\n",
            "-- Installing: /usr/local/include/itpp/config.h\n",
            "-- Installing: /usr/local/include/itpp/itexports.h\n",
            "-- Installing: /usr/local/share/itpp/itsave.m\n",
            "-- Installing: /usr/local/share/itpp/itload.m\n",
            "-- Installing: /usr/local/share/itpp/pyitpp.py\n",
            "-- Installing: /usr/local/bin/itpp-config\n",
            "-- Installing: /usr/local/share/man/man1/itpp-config.1\n",
            "-- Installing: /usr/local/lib/pkgconfig/itpp.pc\n"
          ],
          "name": "stdout"
        }
      ]
    },
    {
      "cell_type": "code",
      "metadata": {
        "id": "vzpRY5d-5eHp",
        "outputId": "ae9a49c9-6ec3-4c25-bd3b-f500d45b3089",
        "colab": {
          "base_uri": "https://localhost:8080/"
        }
      },
      "source": [
        "!rm -rf py-itpp\n",
        "!git clone https://github.com/iamviji/py-itpp.git\n"
      ],
      "execution_count": 7,
      "outputs": [
        {
          "output_type": "stream",
          "text": [
            "Cloning into 'py-itpp'...\n",
            "remote: Enumerating objects: 230, done.\u001b[K\n",
            "remote: Counting objects: 100% (230/230), done.\u001b[K\n",
            "remote: Compressing objects: 100% (155/155), done.\u001b[K\n",
            "remote: Total 1325 (delta 156), reused 134 (delta 72), pack-reused 1095\u001b[K\n",
            "Receiving objects: 100% (1325/1325), 1.93 MiB | 20.81 MiB/s, done.\n",
            "Resolving deltas: 100% (775/775), done.\n"
          ],
          "name": "stdout"
        }
      ]
    },
    {
      "cell_type": "code",
      "metadata": {
        "id": "nZRLeJtg9ABW",
        "outputId": "8d0c9e75-3419-426e-df14-1560b2acd42e",
        "colab": {
          "base_uri": "https://localhost:8080/"
        }
      },
      "source": [
        "!cd py-itpp;git fetch;git pull; #cp tmp/ldpc.h src/comm\n",
        "#!cat py-itpp/src/comm/ldpc.h"
      ],
      "execution_count": 8,
      "outputs": [
        {
          "output_type": "stream",
          "text": [
            "Already up to date.\n"
          ],
          "name": "stdout"
        }
      ]
    },
    {
      "cell_type": "code",
      "metadata": {
        "id": "UP2PG_7Z5y28",
        "outputId": "9e285c20-b851-40e2-c3e5-317fb6f4efcd",
        "colab": {
          "base_uri": "https://localhost:8080/"
        }
      },
      "source": [
        "!pip3 install pybind11\n"
      ],
      "execution_count": 9,
      "outputs": [
        {
          "output_type": "stream",
          "text": [
            "Requirement already satisfied: pybind11 in /usr/local/lib/python3.6/dist-packages (2.6.0)\n"
          ],
          "name": "stdout"
        }
      ]
    },
    {
      "cell_type": "code",
      "metadata": {
        "id": "TerNKfz45hzf",
        "outputId": "037fe73b-bb5d-45a3-94bd-ca5f207f8d5c",
        "colab": {
          "base_uri": "https://localhost:8080/"
        }
      },
      "source": [
        "!cd py-itpp;./install_prerequisites_python3.sh;make install;pip3 install -e .  "
      ],
      "execution_count": 10,
      "outputs": [
        {
          "output_type": "stream",
          "text": [
            "\r0% [Working]\r            \rHit:1 http://security.ubuntu.com/ubuntu bionic-security InRelease\n",
            "\r0% [Connecting to archive.ubuntu.com] [Connected to cloud.r-project.org (13.32.\r0% [1 InRelease gpgv 88.7 kB] [Connecting to archive.ubuntu.com] [Connected to \r                                                                               \rIgn:2 https://developer.download.nvidia.com/compute/cuda/repos/ubuntu1804/x86_64  InRelease\n",
            "\r0% [1 InRelease gpgv 88.7 kB] [Connecting to archive.ubuntu.com (91.189.88.142)\r                                                                               \rHit:3 https://cloud.r-project.org/bin/linux/ubuntu bionic-cran40/ InRelease\n",
            "\r0% [1 InRelease gpgv 88.7 kB] [Connecting to archive.ubuntu.com (91.189.88.142)\r0% [Connecting to archive.ubuntu.com (91.189.88.142)] [Waiting for headers] [Wa\r0% [3 InRelease gpgv 3,626 B] [Connecting to archive.ubuntu.com (91.189.88.142)\r                                                                               \rIgn:4 https://developer.download.nvidia.com/compute/machine-learning/repos/ubuntu1804/x86_64  InRelease\n",
            "\r0% [3 InRelease gpgv 3,626 B] [Connecting to archive.ubuntu.com (91.189.88.142)\r                                                                               \rHit:5 http://ppa.launchpad.net/c2d4u.team/c2d4u4.0+/ubuntu bionic InRelease\n",
            "\r0% [3 InRelease gpgv 3,626 B] [Connecting to archive.ubuntu.com (91.189.88.142)\r                                                                               \rHit:6 https://developer.download.nvidia.com/compute/cuda/repos/ubuntu1804/x86_64  Release\n",
            "Hit:7 https://developer.download.nvidia.com/compute/machine-learning/repos/ubuntu1804/x86_64  Release\n",
            "Hit:8 http://archive.ubuntu.com/ubuntu bionic InRelease\n",
            "Hit:9 http://ppa.launchpad.net/graphics-drivers/ppa/ubuntu bionic InRelease\n",
            "Hit:10 http://archive.ubuntu.com/ubuntu bionic-updates InRelease\n",
            "Hit:12 http://archive.ubuntu.com/ubuntu bionic-backports InRelease\n",
            "Reading package lists... Done\n",
            "Reading package lists... Done\n",
            "Building dependency tree       \n",
            "Reading state information... Done\n",
            "g++ is already the newest version (4:7.4.0-1ubuntu2.3).\n",
            "0 upgraded, 0 newly installed, 0 to remove and 31 not upgraded.\n",
            "Reading package lists... Done\n",
            "Building dependency tree       \n",
            "Reading state information... Done\n",
            "libblas-dev is already the newest version (3.7.1-4ubuntu1).\n",
            "libfftw3-dev is already the newest version (3.3.7-1).\n",
            "liblapack-dev is already the newest version (3.7.1-4ubuntu1).\n",
            "0 upgraded, 0 newly installed, 0 to remove and 31 not upgraded.\n",
            "Reading package lists... Done\n",
            "Building dependency tree       \n",
            "Reading state information... Done\n",
            "make is already the newest version (4.1-9.1ubuntu1).\n",
            "cmake is already the newest version (3.10.2-1ubuntu2.18.04.1).\n",
            "0 upgraded, 0 newly installed, 0 to remove and 31 not upgraded.\n",
            "Reading package lists... Done\n",
            "Building dependency tree       \n",
            "Reading state information... Done\n",
            "python3-numpy is already the newest version (1:1.13.3-2ubuntu1).\n",
            "python3-dev is already the newest version (3.6.7-1~18.04).\n",
            "0 upgraded, 0 newly installed, 0 to remove and 31 not upgraded.\n",
            "Reading package lists... Done\n",
            "Building dependency tree       \n",
            "Reading state information... Done\n",
            "libitpp-dev is already the newest version (4.3.1-8).\n",
            "0 upgraded, 0 newly installed, 0 to remove and 31 not upgraded.\n",
            "------------------------------------\n",
            "Compiling py-itpp\n",
            "------------------------------------\n",
            "make[1]: Entering directory '/content/py-itpp/src'\n",
            "Create prerequisites for base/matfunc.cpp\n",
            "Create prerequisites for base/random.cpp\n",
            "Create prerequisites for base/binary.cpp\n",
            "Create prerequisites for base/mat.cpp\n",
            "Create prerequisites for base/math/log_exp.cpp\n",
            "Create prerequisites for base/math/min_max.cpp\n",
            "Create prerequisites for base/math/elem_math.cpp\n",
            "Create prerequisites for base/specmat.cpp\n",
            "Create prerequisites for base/vec.cpp\n",
            "Create prerequisites for signal/transforms.cpp\n",
            "Create prerequisites for stat/misc_stat.cpp\n",
            "Create prerequisites for comm/llr.cpp\n",
            "Create prerequisites for comm/turbo.cpp\n",
            "Create prerequisites for comm/ldpc.cpp\n",
            "Create prerequisites for comm/convcode.cpp\n",
            "Create prerequisites for comm/error_counters.cpp\n",
            "Create prerequisites for comm/interleave.cpp\n",
            "Create prerequisites for comm/modulator.cpp\n",
            "Create prerequisites for comm/hammcode.cpp\n",
            "Create prerequisites for comm/bch.cpp\n",
            "Create prerequisites for comm/modulator_nd.cpp\n",
            "Create prerequisites for comm/channel.cpp\n",
            "Compiling base/matfunc.cpp to Python module\n",
            "Compiling base/random.cpp to Python module\n",
            "Compiling base/binary.cpp to Python module\n",
            "Compiling base/mat.cpp to Python module\n",
            "Compiling base/math/log_exp.cpp to Python module\n",
            "Compiling base/math/min_max.cpp to Python module\n",
            "Compiling base/math/elem_math.cpp to Python module\n",
            "Compiling base/specmat.cpp to Python module\n",
            "Compiling base/vec.cpp to Python module\n",
            "Compiling signal/transforms.cpp to Python module\n",
            "Compiling stat/misc_stat.cpp to Python module\n",
            "Compiling comm/llr.cpp to Python module\n",
            "Compiling comm/turbo.cpp to Python module\n",
            "Compiling comm/ldpc.cpp to Python module\n",
            "Compiling comm/convcode.cpp to Python module\n",
            "Compiling comm/error_counters.cpp to Python module\n",
            "Compiling comm/interleave.cpp to Python module\n",
            "Compiling comm/modulator.cpp to Python module\n",
            "Compiling comm/hammcode.cpp to Python module\n",
            "Compiling comm/bch.cpp to Python module\n",
            "Compiling comm/modulator_nd.cpp to Python module\n",
            "Compiling comm/channel.cpp to Python module\n",
            "Copying base/__init__.py to Python package\n",
            "Copying base/math/__init__.py to Python package\n",
            "Copying signal/__init__.py to Python package\n",
            "Copying __init__.py to Python package\n",
            "Copying stat/__init__.py to Python package\n",
            "Copying comm/__init__.py to Python package\n",
            "make[1]: Leaving directory '/content/py-itpp/src'\n",
            "Obtaining file:///content/py-itpp\n",
            "Installing collected packages: itpp\n",
            "  Found existing installation: itpp 0.0.3\n",
            "    Can't uninstall 'itpp'. No files were found to uninstall.\n",
            "  Running setup.py develop for itpp\n",
            "Successfully installed itpp\n"
          ],
          "name": "stdout"
        }
      ]
    },
    {
      "cell_type": "code",
      "metadata": {
        "id": "SxDKHPp59Uc6",
        "outputId": "177836d2-4b41-4ab5-9d0b-b46a6ecaefe3",
        "colab": {
          "base_uri": "https://localhost:8080/"
        }
      },
      "source": [
        "!cd py-itpp; ls ; pip3 install -e .  \n",
        "!cat py-itpp/setup.py"
      ],
      "execution_count": 11,
      "outputs": [
        {
          "output_type": "stream",
          "text": [
            "examples\t\t\t  lib\t   makefile   README.md  src\n",
            "install_prerequisites_python3.sh  LICENSE  makerules  setup.py\t tmp\n",
            "Obtaining file:///content/py-itpp\n",
            "Installing collected packages: itpp\n",
            "  Found existing installation: itpp 0.0.3\n",
            "    Can't uninstall 'itpp'. No files were found to uninstall.\n",
            "  Running setup.py develop for itpp\n",
            "Successfully installed itpp\n",
            "from setuptools import setup\n",
            "\n",
            "setup(name='itpp',\n",
            "      version='0.0.3',\n",
            "      package_dir = {'': 'lib'})\n"
          ],
          "name": "stdout"
        }
      ]
    },
    {
      "cell_type": "code",
      "metadata": {
        "id": "DlnzlGuGZUF5"
      },
      "source": [
        "import sys\n",
        "sys.path.append('./py-itpp/lib')\n",
        "!cp -rf py-itpp/lib/itpp py-itpp/lib/pyitpp # import itpp is not working, after this hack i started to work\n"
      ],
      "execution_count": 12,
      "outputs": []
    },
    {
      "cell_type": "markdown",
      "metadata": {
        "id": "SE_3k2xk7IGb"
      },
      "source": [
        "Real valued Hamming codes over AWGN channel¶\n"
      ]
    },
    {
      "cell_type": "code",
      "metadata": {
        "id": "FoC3JYws7COs"
      },
      "source": [
        "#!cat py-itpp/src/comm/ldpc.h\n",
        "import pyitpp as itpp\n",
        "from matplotlib import pyplot as plt\n"
      ],
      "execution_count": 13,
      "outputs": []
    },
    {
      "cell_type": "code",
      "metadata": {
        "id": "KAZvITigGZ5f",
        "outputId": "6e1a94ad-4760-4b07-f797-d9e28b9ab8fb",
        "colab": {
          "base_uri": "https://localhost:8080/"
        }
      },
      "source": [
        "options =itpp.ivec(\"18 6\")\n",
        "ind =itpp.ivec(\"\")\n",
        "ldpc_parity_reg = itpp.comm.ldpc_parity_regular (18, 3, 6, 'rand', options)\n",
        "ldpc_gen_sym = itpp.comm.ldpc_gen_systematic (ldpc_parity_reg, False, ind)\n",
        "ldpc_code = itpp.comm.ldpc_code (ldpc_parity_reg, ldpc_gen_sym, False)\n",
        "msg_len = ldpc_code.get_nvar ()  - ldpc_code.get_ncheck ()\n",
        "source_bits = itpp.base.randb(msg_len)\n",
        "print (ldpc_code.get_nvar ())\n",
        "print (ldpc_code.get_ncheck)\n"
      ],
      "execution_count": 43,
      "outputs": [
        {
          "output_type": "stream",
          "text": [
            "18\n",
            "<bound method PyCapsule.get_ncheck of <pyitpp.comm.ldpc.ldpc_code object at 0x7f4e280ccea0>>\n"
          ],
          "name": "stdout"
        }
      ]
    },
    {
      "cell_type": "code",
      "metadata": {
        "id": "sTqwdE9psoh4",
        "outputId": "a2f20519-f194-4b0e-ff24-b159c5eb40a0",
        "colab": {
          "base_uri": "https://localhost:8080/"
        }
      },
      "source": [
        "source_bits = itpp.base.randb(msg_len)\n",
        "encoded_bits = itpp.base.bvec ()\n",
        "ldpc_code.encode(source_bits, encoded_bits)\n",
        "print (source_bits)\n",
        "print (encoded_bits)\n",
        "print (ldpc_code.syndrome_check(encoded_bits))\n",
        "decoded_bits = itpp.base.bvec ()\n",
        "ldpc_code.decode(source_bits, decoded_bits) # Not able to understand how to decode"
      ],
      "execution_count": 44,
      "outputs": [
        {
          "output_type": "stream",
          "text": [
            "[0 1 1 0 1 1 0 1 1]\n",
            "[0 1 1 0 1 1 0 1 1 1 0 0 0 0 1 0 0 1]\n",
            "True\n"
          ],
          "name": "stdout"
        }
      ]
    },
    {
      "cell_type": "code",
      "metadata": {
        "id": "oTe26ps91NYW",
        "outputId": "e5f57a5e-f110-402b-f75a-5c8a87de8943",
        "colab": {
          "base_uri": "https://localhost:8080/"
        }
      },
      "source": [
        "bch = itpp.comm.bch (15, 2)\n",
        "\n",
        "encoded_bits = itpp.base.bvec ()\n",
        "source_bits = itpp.base.randb(9)\n",
        "bch.encode(source_bits, encoded_bits)\n",
        "print (source_bits)\n",
        "print (encoded_bits)\n",
        "\n",
        "decoded_bits = itpp.base.bvec ()\n",
        "bch.decode(encoded_bits, decoded_bits)\n",
        "print (encoded_bits)\n",
        "print (decoded_bits)"
      ],
      "execution_count": 16,
      "outputs": [
        {
          "output_type": "stream",
          "text": [
            "[1 1 1 0 0 1 1 0 0]\n",
            "[1 0 1 0 0 0 1 0 0 0 0 0 0 1 1]\n",
            "[1 0 1 0 0 0 1 0 0 0 0 0 0 1 1]\n",
            "[1 1 1 0 0 1 1]\n"
          ],
          "name": "stdout"
        }
      ]
    }
  ]
}