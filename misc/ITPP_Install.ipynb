{
  "nbformat": 4,
  "nbformat_minor": 0,
  "metadata": {
    "colab": {
      "name": "ITPP-Install.ipynb",
      "provenance": [],
      "collapsed_sections": [],
      "authorship_tag": "ABX9TyOvG2tjI5s4g+kPMai4bfwn",
      "include_colab_link": true
    },
    "kernelspec": {
      "name": "python3",
      "display_name": "Python 3"
    }
  },
  "cells": [
    {
      "cell_type": "markdown",
      "metadata": {
        "id": "view-in-github",
        "colab_type": "text"
      },
      "source": [
        "<a href=\"https://colab.research.google.com/github/iamviji/project/blob/master/misc/ITPP_Install.ipynb\" target=\"_parent\"><img src=\"https://colab.research.google.com/assets/colab-badge.svg\" alt=\"Open In Colab\"/></a>"
      ]
    },
    {
      "cell_type": "code",
      "metadata": {
        "id": "pG_5Axkhoz6N",
        "outputId": "282854f6-78e8-4dfe-dc94-364900ab4fb2",
        "colab": {
          "base_uri": "https://localhost:8080/"
        }
      },
      "source": [
        "!sudo apt-get install autoconf"
      ],
      "execution_count": 34,
      "outputs": [
        {
          "output_type": "stream",
          "text": [
            "Reading package lists... Done\n",
            "Building dependency tree       \n",
            "Reading state information... Done\n",
            "autoconf is already the newest version (2.69-11).\n",
            "0 upgraded, 0 newly installed, 0 to remove and 13 not upgraded.\n"
          ],
          "name": "stdout"
        }
      ]
    },
    {
      "cell_type": "code",
      "metadata": {
        "id": "cUQq7nsqpGvm",
        "outputId": "8d37904c-9123-4b6f-cb8b-985f8a1f7f67",
        "colab": {
          "base_uri": "https://localhost:8080/"
        }
      },
      "source": [
        "!sudo apt-get install libtool"
      ],
      "execution_count": 35,
      "outputs": [
        {
          "output_type": "stream",
          "text": [
            "Reading package lists... Done\n",
            "Building dependency tree       \n",
            "Reading state information... Done\n",
            "libtool is already the newest version (2.4.6-2).\n",
            "0 upgraded, 0 newly installed, 0 to remove and 13 not upgraded.\n"
          ],
          "name": "stdout"
        }
      ]
    },
    {
      "cell_type": "code",
      "metadata": {
        "id": "gPevRXuDzRy5",
        "outputId": "a8298092-346f-4cd1-b759-0f45cccc444c",
        "colab": {
          "base_uri": "https://localhost:8080/"
        }
      },
      "source": [
        "!sudo apt-get install liblapack-dev libblas-dev libfftw3-dev"
      ],
      "execution_count": 36,
      "outputs": [
        {
          "output_type": "stream",
          "text": [
            "Reading package lists... Done\n",
            "Building dependency tree       \n",
            "Reading state information... Done\n",
            "libblas-dev is already the newest version (3.7.1-4ubuntu1).\n",
            "libfftw3-dev is already the newest version (3.3.7-1).\n",
            "liblapack-dev is already the newest version (3.7.1-4ubuntu1).\n",
            "0 upgraded, 0 newly installed, 0 to remove and 13 not upgraded.\n"
          ],
          "name": "stdout"
        }
      ]
    },
    {
      "cell_type": "code",
      "metadata": {
        "id": "cFr7gfys2H3_",
        "outputId": "2ae3a36f-5401-43c2-e8b1-c95b347be525",
        "colab": {
          "base_uri": "https://localhost:8080/"
        }
      },
      "source": [
        "!rm -rf itpp\n",
        "!git clone https://github.com/iamviji/itpp.git # original one had compilation issue, did minor signle line change after forking"
      ],
      "execution_count": 37,
      "outputs": [
        {
          "output_type": "stream",
          "text": [
            "Cloning into 'itpp'...\n",
            "remote: Enumerating objects: 14431, done.\u001b[K\n",
            "remote: Total 14431 (delta 0), reused 0 (delta 0), pack-reused 14431\u001b[K\n",
            "Receiving objects: 100% (14431/14431), 4.88 MiB | 3.72 MiB/s, done.\n",
            "Resolving deltas: 100% (12154/12154), done.\n"
          ],
          "name": "stdout"
        }
      ]
    },
    {
      "cell_type": "code",
      "metadata": {
        "id": "xGtHRpXuzW7C",
        "outputId": "ec56b791-7fba-4d9d-b653-791272cc866f",
        "colab": {
          "base_uri": "https://localhost:8080/"
        }
      },
      "source": [
        "!ls;cd itpp;ls;mkdir -p build1 build2; cd build1 ; cmake cmake ..;make ;make install"
      ],
      "execution_count": 38,
      "outputs": [
        {
          "output_type": "stream",
          "text": [
            "build1\tbuild2\titpp  py-itpp  sample_data\n",
            "AUTHORS\t\tcmake\t\t\titpp-config.cmake.in  NEWS-3.10\n",
            "autogen.sh\tCMakeLists.txt\t\titpp-config.in\t      NEWS-3.9\n",
            "ChangeLog\tconfigure.ac.in\t\titpp_debug.pc.in      NEWS-3.99\n",
            "ChangeLog-2005\tCOPYING\t\t\titpp.pc.cmake.in      NEWS-4.0\n",
            "ChangeLog-2006\tdoc\t\t\titpp.pc.in\t      NEWS-4.2\n",
            "ChangeLog-2007\textras\t\t\titpp.spec.in\t      README\n",
            "ChangeLog-2008\tgtests\t\t\tm4\t\t      README.md\n",
            "ChangeLog-2009\tINSTALL\t\t\tMakefile.am\t      tests\n",
            "ChangeLog-2010\titpp\t\t\tMakefile.common       VERSION\n",
            "ChangeLog-2011\titpp-config.1.cmake.in\tMakefile.in\t      win32\n",
            "ChangeLog-2012\titpp-config.1.in\tNEWS\n",
            "-- The C compiler identification is GNU 7.5.0\n",
            "-- The CXX compiler identification is GNU 7.5.0\n",
            "-- Check for working C compiler: /usr/bin/cc\n",
            "-- Check for working C compiler: /usr/bin/cc -- works\n",
            "-- Detecting C compiler ABI info\n",
            "-- Detecting C compiler ABI info - done\n",
            "-- Detecting C compile features\n",
            "-- Detecting C compile features - done\n",
            "-- Check for working CXX compiler: /usr/bin/c++\n",
            "-- Check for working CXX compiler: /usr/bin/c++ -- works\n",
            "-- Detecting CXX compiler ABI info\n",
            "-- Detecting CXX compiler ABI info - done\n",
            "-- Detecting CXX compile features\n",
            "-- Detecting CXX compile features - done\n",
            "-- Looking for dgemm_\n",
            "-- Looking for dgemm_ - found\n",
            "-- Looking for pthread.h\n",
            "-- Looking for pthread.h - found\n",
            "-- Looking for pthread_create\n",
            "-- Looking for pthread_create - not found\n",
            "-- Looking for pthread_create in pthreads\n",
            "-- Looking for pthread_create in pthreads - not found\n",
            "-- Looking for pthread_create in pthread\n",
            "-- Looking for pthread_create in pthread - found\n",
            "-- Found Threads: TRUE  \n",
            "-- A library with BLAS API found.\n",
            "-- A library with BLAS API found.\n",
            "-- Looking for cheev_\n",
            "-- Looking for cheev_ - found\n",
            "-- A library with LAPACK API found.\n",
            "-- Found FFT: /usr/lib/x86_64-linux-gnu/libfftw3.so  \n",
            "-- A library with FFT API found.\n",
            "-- Found OpenMP_C: -fopenmp (found version \"4.5\") \n",
            "-- Found OpenMP_CXX: -fopenmp (found version \"4.5\") \n",
            "-- Found OpenMP: TRUE (found version \"4.5\")  \n",
            "-- Could NOT find Doxygen (missing: DOXYGEN_EXECUTABLE) \n",
            "-- Could NOT find LATEX (missing: LATEX_COMPILER) \n",
            "-- Looking for include files sys/time.h, time.h\n",
            "-- Looking for include files sys/time.h, time.h - found\n",
            "-- Looking for dlfcn.h\n",
            "-- Looking for dlfcn.h - found\n",
            "-- Looking for ieeefp.h\n",
            "-- Looking for ieeefp.h - not found\n",
            "-- Looking for inttypes.h\n",
            "-- Looking for inttypes.h - found\n",
            "-- Looking for memory.h\n",
            "-- Looking for memory.h - found\n",
            "-- Looking for stdint.h\n",
            "-- Looking for stdint.h - found\n",
            "-- Looking for stdlib.h\n",
            "-- Looking for stdlib.h - found\n",
            "-- Looking for strings.h\n",
            "-- Looking for strings.h - found\n",
            "-- Looking for string.h\n",
            "-- Looking for string.h - found\n",
            "-- Looking for sys/stat.h\n",
            "-- Looking for sys/stat.h - found\n",
            "-- Looking for sys/types.h\n",
            "-- Looking for sys/types.h - found\n",
            "-- Looking for unistd.h\n",
            "-- Looking for unistd.h - found\n",
            "-- Looking for C++ include cmath\n",
            "-- Looking for C++ include cmath - found\n",
            "-- Looking for C++ include complex\n",
            "-- Looking for C++ include complex - found\n",
            "-- Looking for isfinite\n",
            "-- Looking for isfinite - not found\n",
            "-- Looking for isinf\n",
            "-- Looking for isinf - not found\n",
            "-- Looking for isnan\n",
            "-- Looking for isnan - not found\n",
            "-- Looking for signgam\n",
            "-- Looking for signgam - found\n",
            "-- Looking for acosh\n",
            "-- Looking for acosh - found\n",
            "-- Looking for asinh\n",
            "-- Looking for asinh - found\n",
            "-- Looking for atanh\n",
            "-- Looking for atanh - found\n",
            "-- Looking for cbrt\n",
            "-- Looking for cbrt - found\n",
            "-- Looking for erf\n",
            "-- Looking for erf - found\n",
            "-- Looking for erfc\n",
            "-- Looking for erfc - found\n",
            "-- Looking for expm1\n",
            "-- Looking for expm1 - found\n",
            "-- Looking for finite\n",
            "-- Looking for finite - found\n",
            "-- Looking for isfinite\n",
            "-- Looking for isfinite - not found\n",
            "-- Looking for isinf\n",
            "-- Looking for isinf - found\n",
            "-- Looking for isnan\n",
            "-- Looking for isnan - found\n",
            "-- Looking for lgamma\n",
            "-- Looking for lgamma - found\n",
            "-- Looking for log1p\n",
            "-- Looking for log1p - found\n",
            "-- Looking for log2\n",
            "-- Looking for log2 - found\n",
            "-- Looking for rint\n",
            "-- Looking for rint - found\n",
            "-- Looking for tgamma\n",
            "-- Looking for tgamma - found\n",
            "-- Looking for std::isfinite\n",
            "-- Looking for std::isfinite - found\n",
            "-- Looking for std::isinf\n",
            "-- Looking for std::isinf - found\n",
            "-- Looking for std::isnan\n",
            "-- Looking for std::isnan - found\n",
            "-- BLAS vendor: All\n",
            "-- Configuring done\n",
            "-- Generating done\n",
            "-- Build files have been written to: /content/itpp/build1\n",
            "\u001b[35m\u001b[1mScanning dependencies of target itpp\u001b[0m\n",
            "[  0%] \u001b[32mBuilding CXX object itpp/CMakeFiles/itpp.dir/base/algebra/cholesky.cpp.o\u001b[0m\n",
            "[  1%] \u001b[32mBuilding CXX object itpp/CMakeFiles/itpp.dir/base/algebra/det.cpp.o\u001b[0m\n",
            "[  2%] \u001b[32mBuilding CXX object itpp/CMakeFiles/itpp.dir/base/algebra/eigen.cpp.o\u001b[0m\n",
            "[  3%] \u001b[32mBuilding CXX object itpp/CMakeFiles/itpp.dir/base/algebra/inv.cpp.o\u001b[0m\n",
            "[  4%] \u001b[32mBuilding CXX object itpp/CMakeFiles/itpp.dir/base/algebra/ls_solve.cpp.o\u001b[0m\n",
            "[  5%] \u001b[32mBuilding CXX object itpp/CMakeFiles/itpp.dir/base/algebra/lu.cpp.o\u001b[0m\n",
            "[  5%] \u001b[32mBuilding CXX object itpp/CMakeFiles/itpp.dir/base/algebra/qr.cpp.o\u001b[0m\n",
            "[  6%] \u001b[32mBuilding CXX object itpp/CMakeFiles/itpp.dir/base/algebra/schur.cpp.o\u001b[0m\n",
            "[  7%] \u001b[32mBuilding CXX object itpp/CMakeFiles/itpp.dir/base/algebra/svd.cpp.o\u001b[0m\n",
            "[  8%] \u001b[32mBuilding CXX object itpp/CMakeFiles/itpp.dir/base/bessel.cpp.o\u001b[0m\n",
            "[  9%] \u001b[32mBuilding CXX object itpp/CMakeFiles/itpp.dir/base/bessel/airy.cpp.o\u001b[0m\n",
            "[ 10%] \u001b[32mBuilding CXX object itpp/CMakeFiles/itpp.dir/base/bessel/chbevl.cpp.o\u001b[0m\n",
            "[ 11%] \u001b[32mBuilding CXX object itpp/CMakeFiles/itpp.dir/base/bessel/gamma.cpp.o\u001b[0m\n",
            "[ 11%] \u001b[32mBuilding CXX object itpp/CMakeFiles/itpp.dir/base/bessel/hyperg.cpp.o\u001b[0m\n",
            "[ 12%] \u001b[32mBuilding CXX object itpp/CMakeFiles/itpp.dir/base/bessel/i0.cpp.o\u001b[0m\n",
            "[ 13%] \u001b[32mBuilding CXX object itpp/CMakeFiles/itpp.dir/base/bessel/i1.cpp.o\u001b[0m\n",
            "[ 14%] \u001b[32mBuilding CXX object itpp/CMakeFiles/itpp.dir/base/bessel/iv.cpp.o\u001b[0m\n",
            "[ 15%] \u001b[32mBuilding CXX object itpp/CMakeFiles/itpp.dir/base/bessel/jv.cpp.o\u001b[0m\n",
            "[ 16%] \u001b[32mBuilding CXX object itpp/CMakeFiles/itpp.dir/base/bessel/k0.cpp.o\u001b[0m\n",
            "[ 17%] \u001b[32mBuilding CXX object itpp/CMakeFiles/itpp.dir/base/bessel/k1.cpp.o\u001b[0m\n",
            "[ 17%] \u001b[32mBuilding CXX object itpp/CMakeFiles/itpp.dir/base/bessel/kn.cpp.o\u001b[0m\n",
            "[ 18%] \u001b[32mBuilding CXX object itpp/CMakeFiles/itpp.dir/base/bessel/polevl.cpp.o\u001b[0m\n",
            "[ 19%] \u001b[32mBuilding CXX object itpp/CMakeFiles/itpp.dir/base/bessel/struve.cpp.o\u001b[0m\n",
            "[ 20%] \u001b[32mBuilding CXX object itpp/CMakeFiles/itpp.dir/base/binary.cpp.o\u001b[0m\n",
            "[ 21%] \u001b[32mBuilding CXX object itpp/CMakeFiles/itpp.dir/base/binfile.cpp.o\u001b[0m\n",
            "[ 22%] \u001b[32mBuilding CXX object itpp/CMakeFiles/itpp.dir/base/converters.cpp.o\u001b[0m\n",
            "[ 23%] \u001b[32mBuilding CXX object itpp/CMakeFiles/itpp.dir/base/copy_vector.cpp.o\u001b[0m\n",
            "[ 23%] \u001b[32mBuilding CXX object itpp/CMakeFiles/itpp.dir/base/fastmath.cpp.o\u001b[0m\n",
            "[ 24%] \u001b[32mBuilding CXX object itpp/CMakeFiles/itpp.dir/base/gf2mat.cpp.o\u001b[0m\n",
            "[ 25%] \u001b[32mBuilding CXX object itpp/CMakeFiles/itpp.dir/base/help_functions.cpp.o\u001b[0m\n",
            "[ 26%] \u001b[32mBuilding CXX object itpp/CMakeFiles/itpp.dir/base/itassert.cpp.o\u001b[0m\n",
            "[ 27%] \u001b[32mBuilding CXX object itpp/CMakeFiles/itpp.dir/base/itcompat.cpp.o\u001b[0m\n",
            "[ 28%] \u001b[32mBuilding CXX object itpp/CMakeFiles/itpp.dir/base/itfile.cpp.o\u001b[0m\n",
            "[ 29%] \u001b[32mBuilding CXX object itpp/CMakeFiles/itpp.dir/base/mat.cpp.o\u001b[0m\n",
            "[ 29%] \u001b[32mBuilding CXX object itpp/CMakeFiles/itpp.dir/base/matfunc.cpp.o\u001b[0m\n",
            "[ 30%] \u001b[32mBuilding CXX object itpp/CMakeFiles/itpp.dir/base/math/elem_math.cpp.o\u001b[0m\n",
            "[ 31%] \u001b[32mBuilding CXX object itpp/CMakeFiles/itpp.dir/base/math/error.cpp.o\u001b[0m\n",
            "[ 32%] \u001b[32mBuilding CXX object itpp/CMakeFiles/itpp.dir/base/math/integration.cpp.o\u001b[0m\n",
            "[ 33%] \u001b[32mBuilding CXX object itpp/CMakeFiles/itpp.dir/base/math/log_exp.cpp.o\u001b[0m\n",
            "[ 34%] \u001b[32mBuilding CXX object itpp/CMakeFiles/itpp.dir/base/math/misc.cpp.o\u001b[0m\n",
            "[ 35%] \u001b[32mBuilding CXX object itpp/CMakeFiles/itpp.dir/base/math/trig_hyp.cpp.o\u001b[0m\n",
            "[ 35%] \u001b[32mBuilding CXX object itpp/CMakeFiles/itpp.dir/base/operators.cpp.o\u001b[0m\n",
            "[ 36%] \u001b[32mBuilding CXX object itpp/CMakeFiles/itpp.dir/base/parser.cpp.o\u001b[0m\n",
            "[ 37%] \u001b[32mBuilding CXX object itpp/CMakeFiles/itpp.dir/base/random.cpp.o\u001b[0m\n",
            "[ 38%] \u001b[32mBuilding CXX object itpp/CMakeFiles/itpp.dir/base/smat.cpp.o\u001b[0m\n",
            "[ 39%] \u001b[32mBuilding CXX object itpp/CMakeFiles/itpp.dir/base/specmat.cpp.o\u001b[0m\n",
            "[ 40%] \u001b[32mBuilding CXX object itpp/CMakeFiles/itpp.dir/base/svec.cpp.o\u001b[0m\n",
            "[ 41%] \u001b[32mBuilding CXX object itpp/CMakeFiles/itpp.dir/base/timing.cpp.o\u001b[0m\n",
            "[ 41%] \u001b[32mBuilding CXX object itpp/CMakeFiles/itpp.dir/base/vec.cpp.o\u001b[0m\n",
            "[ 42%] \u001b[32mBuilding CXX object itpp/CMakeFiles/itpp.dir/comm/bch.cpp.o\u001b[0m\n",
            "[ 43%] \u001b[32mBuilding CXX object itpp/CMakeFiles/itpp.dir/comm/channel.cpp.o\u001b[0m\n",
            "[ 44%] \u001b[32mBuilding CXX object itpp/CMakeFiles/itpp.dir/comm/commfunc.cpp.o\u001b[0m\n",
            "[ 45%] \u001b[32mBuilding CXX object itpp/CMakeFiles/itpp.dir/comm/convcode.cpp.o\u001b[0m\n",
            "[ 46%] \u001b[32mBuilding CXX object itpp/CMakeFiles/itpp.dir/comm/crc.cpp.o\u001b[0m\n",
            "[ 47%] \u001b[32mBuilding CXX object itpp/CMakeFiles/itpp.dir/comm/egolay.cpp.o\u001b[0m\n",
            "[ 47%] \u001b[32mBuilding CXX object itpp/CMakeFiles/itpp.dir/comm/error_counters.cpp.o\u001b[0m\n",
            "[ 48%] \u001b[32mBuilding CXX object itpp/CMakeFiles/itpp.dir/comm/exit.cpp.o\u001b[0m\n",
            "[ 49%] \u001b[32mBuilding CXX object itpp/CMakeFiles/itpp.dir/comm/galois.cpp.o\u001b[0m\n",
            "[ 50%] \u001b[32mBuilding CXX object itpp/CMakeFiles/itpp.dir/comm/hammcode.cpp.o\u001b[0m\n",
            "[ 51%] \u001b[32mBuilding CXX object itpp/CMakeFiles/itpp.dir/comm/interleave.cpp.o\u001b[0m\n",
            "[ 52%] \u001b[32mBuilding CXX object itpp/CMakeFiles/itpp.dir/comm/ldpc.cpp.o\u001b[0m\n",
            "[ 52%] \u001b[32mBuilding CXX object itpp/CMakeFiles/itpp.dir/comm/llr.cpp.o\u001b[0m\n",
            "[ 53%] \u001b[32mBuilding CXX object itpp/CMakeFiles/itpp.dir/comm/modulator.cpp.o\u001b[0m\n",
            "[ 54%] \u001b[32mBuilding CXX object itpp/CMakeFiles/itpp.dir/comm/modulator_nd.cpp.o\u001b[0m\n",
            "[ 55%] \u001b[32mBuilding CXX object itpp/CMakeFiles/itpp.dir/comm/multilateration.cpp.o\u001b[0m\n",
            "[ 56%] \u001b[32mBuilding CXX object itpp/CMakeFiles/itpp.dir/comm/ofdm.cpp.o\u001b[0m\n",
            "[ 57%] \u001b[32mBuilding CXX object itpp/CMakeFiles/itpp.dir/comm/pulse_shape.cpp.o\u001b[0m\n",
            "[ 58%] \u001b[32mBuilding CXX object itpp/CMakeFiles/itpp.dir/comm/punct_convcode.cpp.o\u001b[0m\n",
            "[ 58%] \u001b[32mBuilding CXX object itpp/CMakeFiles/itpp.dir/comm/rec_syst_conv_code.cpp.o\u001b[0m\n",
            "[ 59%] \u001b[32mBuilding CXX object itpp/CMakeFiles/itpp.dir/comm/reedsolomon.cpp.o\u001b[0m\n",
            "[ 60%] \u001b[32mBuilding CXX object itpp/CMakeFiles/itpp.dir/comm/sequence.cpp.o\u001b[0m\n",
            "[ 61%] \u001b[32mBuilding CXX object itpp/CMakeFiles/itpp.dir/comm/siso_dem.cpp.o\u001b[0m\n",
            "[ 62%] \u001b[32mBuilding CXX object itpp/CMakeFiles/itpp.dir/comm/siso_eq.cpp.o\u001b[0m\n",
            "[ 63%] \u001b[32mBuilding CXX object itpp/CMakeFiles/itpp.dir/comm/siso_mud.cpp.o\u001b[0m\n",
            "[ 64%] \u001b[32mBuilding CXX object itpp/CMakeFiles/itpp.dir/comm/siso_nsc.cpp.o\u001b[0m\n",
            "[ 64%] \u001b[32mBuilding CXX object itpp/CMakeFiles/itpp.dir/comm/siso_rsc.cpp.o\u001b[0m\n",
            "[ 65%] \u001b[32mBuilding CXX object itpp/CMakeFiles/itpp.dir/comm/spread.cpp.o\u001b[0m\n",
            "[ 66%] \u001b[32mBuilding CXX object itpp/CMakeFiles/itpp.dir/comm/stc.cpp.o\u001b[0m\n",
            "[ 67%] \u001b[32mBuilding CXX object itpp/CMakeFiles/itpp.dir/comm/turbo.cpp.o\u001b[0m\n",
            "[ 68%] \u001b[32mBuilding CXX object itpp/CMakeFiles/itpp.dir/fixed/cfix.cpp.o\u001b[0m\n",
            "[ 69%] \u001b[32mBuilding CXX object itpp/CMakeFiles/itpp.dir/fixed/cfixed.cpp.o\u001b[0m\n",
            "[ 70%] \u001b[32mBuilding CXX object itpp/CMakeFiles/itpp.dir/fixed/fix.cpp.o\u001b[0m\n",
            "[ 70%] \u001b[32mBuilding CXX object itpp/CMakeFiles/itpp.dir/fixed/fix_base.cpp.o\u001b[0m\n",
            "[ 71%] \u001b[32mBuilding CXX object itpp/CMakeFiles/itpp.dir/fixed/fix_factory.cpp.o\u001b[0m\n",
            "[ 72%] \u001b[32mBuilding CXX object itpp/CMakeFiles/itpp.dir/fixed/fix_functions.cpp.o\u001b[0m\n",
            "[ 73%] \u001b[32mBuilding CXX object itpp/CMakeFiles/itpp.dir/fixed/fix_operators.cpp.o\u001b[0m\n",
            "[ 74%] \u001b[32mBuilding CXX object itpp/CMakeFiles/itpp.dir/fixed/fixed.cpp.o\u001b[0m\n",
            "[ 75%] \u001b[32mBuilding CXX object itpp/CMakeFiles/itpp.dir/optim/newton_search.cpp.o\u001b[0m\n",
            "[ 76%] \u001b[32mBuilding CXX object itpp/CMakeFiles/itpp.dir/protocol/events.cpp.o\u001b[0m\n",
            "[ 76%] \u001b[32mBuilding CXX object itpp/CMakeFiles/itpp.dir/protocol/front_drop_queue.cpp.o\u001b[0m\n",
            "[ 77%] \u001b[32mBuilding CXX object itpp/CMakeFiles/itpp.dir/protocol/packet_channel.cpp.o\u001b[0m\n",
            "[ 78%] \u001b[32mBuilding CXX object itpp/CMakeFiles/itpp.dir/protocol/packet_generator.cpp.o\u001b[0m\n",
            "[ 79%] \u001b[32mBuilding CXX object itpp/CMakeFiles/itpp.dir/protocol/selective_repeat.cpp.o\u001b[0m\n",
            "[ 80%] \u001b[32mBuilding CXX object itpp/CMakeFiles/itpp.dir/protocol/tcp.cpp.o\u001b[0m\n",
            "[ 81%] \u001b[32mBuilding CXX object itpp/CMakeFiles/itpp.dir/signal/fastica.cpp.o\u001b[0m\n",
            "[ 82%] \u001b[32mBuilding CXX object itpp/CMakeFiles/itpp.dir/signal/filter.cpp.o\u001b[0m\n",
            "[ 82%] \u001b[32mBuilding CXX object itpp/CMakeFiles/itpp.dir/signal/filter_design.cpp.o\u001b[0m\n",
            "[ 83%] \u001b[32mBuilding CXX object itpp/CMakeFiles/itpp.dir/signal/freq_filt.cpp.o\u001b[0m\n",
            "[ 84%] \u001b[32mBuilding CXX object itpp/CMakeFiles/itpp.dir/signal/poly.cpp.o\u001b[0m\n",
            "[ 85%] \u001b[32mBuilding CXX object itpp/CMakeFiles/itpp.dir/signal/resampling.cpp.o\u001b[0m\n",
            "[ 86%] \u001b[32mBuilding CXX object itpp/CMakeFiles/itpp.dir/signal/sigfun.cpp.o\u001b[0m\n",
            "[ 87%] \u001b[32mBuilding CXX object itpp/CMakeFiles/itpp.dir/signal/source.cpp.o\u001b[0m\n",
            "[ 88%] \u001b[32mBuilding CXX object itpp/CMakeFiles/itpp.dir/signal/transforms.cpp.o\u001b[0m\n",
            "[ 88%] \u001b[32mBuilding CXX object itpp/CMakeFiles/itpp.dir/signal/window.cpp.o\u001b[0m\n",
            "[ 89%] \u001b[32mBuilding CXX object itpp/CMakeFiles/itpp.dir/srccode/audiofile.cpp.o\u001b[0m\n",
            "[ 90%] \u001b[32mBuilding CXX object itpp/CMakeFiles/itpp.dir/srccode/g711.cpp.o\u001b[0m\n",
            "[ 91%] \u001b[32mBuilding CXX object itpp/CMakeFiles/itpp.dir/srccode/gmm.cpp.o\u001b[0m\n",
            "[ 92%] \u001b[32mBuilding CXX object itpp/CMakeFiles/itpp.dir/srccode/lpcfunc.cpp.o\u001b[0m\n",
            "[ 93%] \u001b[32mBuilding CXX object itpp/CMakeFiles/itpp.dir/srccode/pnm.cpp.o\u001b[0m\n",
            "[ 94%] \u001b[32mBuilding CXX object itpp/CMakeFiles/itpp.dir/srccode/vq.cpp.o\u001b[0m\n",
            "[ 94%] \u001b[32mBuilding CXX object itpp/CMakeFiles/itpp.dir/srccode/vqtrain.cpp.o\u001b[0m\n",
            "[ 95%] \u001b[32mBuilding CXX object itpp/CMakeFiles/itpp.dir/stat/misc_stat.cpp.o\u001b[0m\n",
            "[ 96%] \u001b[32mBuilding CXX object itpp/CMakeFiles/itpp.dir/stat/mog_diag.cpp.o\u001b[0m\n",
            "[ 97%] \u001b[32mBuilding CXX object itpp/CMakeFiles/itpp.dir/stat/mog_diag_em.cpp.o\u001b[0m\n",
            "[ 98%] \u001b[32mBuilding CXX object itpp/CMakeFiles/itpp.dir/stat/mog_diag_kmeans.cpp.o\u001b[0m\n",
            "[ 99%] \u001b[32mBuilding CXX object itpp/CMakeFiles/itpp.dir/stat/mog_generic.cpp.o\u001b[0m\n",
            "[100%] \u001b[32m\u001b[1mLinking CXX shared library libitpp.so\u001b[0m\n",
            "[100%] Built target itpp\n",
            "[100%] Built target itpp\n",
            "\u001b[36mInstall the project...\u001b[0m\n",
            "-- Install configuration: \"\"\n",
            "-- Installing: /usr/local/lib/libitpp.so.8.2.1\n",
            "-- Up-to-date: /usr/local/lib/libitpp.so.8\n",
            "-- Up-to-date: /usr/local/lib/libitpp.so\n",
            "-- Up-to-date: /usr/local/include/itpp\n",
            "-- Up-to-date: /usr/local/include/itpp/base\n",
            "-- Installing: /usr/local/include/itpp/base/random.h\n",
            "-- Installing: /usr/local/include/itpp/base/binfile.h\n",
            "-- Installing: /usr/local/include/itpp/base/base_exports.h\n",
            "-- Installing: /usr/local/include/itpp/base/random_dsfmt.h\n",
            "-- Installing: /usr/local/include/itpp/base/binary.h\n",
            "-- Up-to-date: /usr/local/include/itpp/base/math\n",
            "-- Installing: /usr/local/include/itpp/base/math/log_exp.h\n",
            "-- Installing: /usr/local/include/itpp/base/math/min_max.h\n",
            "-- Installing: /usr/local/include/itpp/base/math/misc.h\n",
            "-- Installing: /usr/local/include/itpp/base/math/trig_hyp.h\n",
            "-- Installing: /usr/local/include/itpp/base/math/integration.h\n",
            "-- Installing: /usr/local/include/itpp/base/math/elem_math.h\n",
            "-- Installing: /usr/local/include/itpp/base/math/error.h\n",
            "-- Installing: /usr/local/include/itpp/base/circular_buffer.h\n",
            "-- Installing: /usr/local/include/itpp/base/parser.h\n",
            "-- Installing: /usr/local/include/itpp/base/specmat.h\n",
            "-- Up-to-date: /usr/local/include/itpp/base/algebra\n",
            "-- Installing: /usr/local/include/itpp/base/algebra/ls_solve.h\n",
            "-- Installing: /usr/local/include/itpp/base/algebra/det.h\n",
            "-- Installing: /usr/local/include/itpp/base/algebra/svd.h\n",
            "-- Installing: /usr/local/include/itpp/base/algebra/inv.h\n",
            "-- Installing: /usr/local/include/itpp/base/algebra/schur.h\n",
            "-- Installing: /usr/local/include/itpp/base/algebra/lapack.h\n",
            "-- Installing: /usr/local/include/itpp/base/algebra/eigen.h\n",
            "-- Installing: /usr/local/include/itpp/base/algebra/cholesky.h\n",
            "-- Installing: /usr/local/include/itpp/base/algebra/lu.h\n",
            "-- Installing: /usr/local/include/itpp/base/algebra/qr.h\n",
            "-- Installing: /usr/local/include/itpp/base/itassert.h\n",
            "-- Installing: /usr/local/include/itpp/base/gf2mat.h\n",
            "-- Installing: /usr/local/include/itpp/base/itcompat.h\n",
            "-- Installing: /usr/local/include/itpp/base/factory.h\n",
            "-- Installing: /usr/local/include/itpp/base/stack.h\n",
            "-- Installing: /usr/local/include/itpp/base/sort.h\n",
            "-- Installing: /usr/local/include/itpp/base/converters.h\n",
            "-- Installing: /usr/local/include/itpp/base/matfunc.h\n",
            "-- Installing: /usr/local/include/itpp/base/svec.h\n",
            "-- Installing: /usr/local/include/itpp/base/mat.h\n",
            "-- Installing: /usr/local/include/itpp/base/vec.h\n",
            "-- Installing: /usr/local/include/itpp/base/smat.h\n",
            "-- Installing: /usr/local/include/itpp/base/ittypes.h\n",
            "-- Installing: /usr/local/include/itpp/base/copy_vector.h\n",
            "-- Installing: /usr/local/include/itpp/base/fastmath.h\n",
            "-- Installing: /usr/local/include/itpp/base/blas.h\n",
            "-- Installing: /usr/local/include/itpp/base/timing.h\n",
            "-- Installing: /usr/local/include/itpp/base/operators.h\n",
            "-- Up-to-date: /usr/local/include/itpp/base/bessel\n",
            "-- Installing: /usr/local/include/itpp/base/bessel/bessel_internal.h\n",
            "-- Installing: /usr/local/include/itpp/base/help_functions.h\n",
            "-- Installing: /usr/local/include/itpp/base/array.h\n",
            "-- Installing: /usr/local/include/itpp/base/bessel.h\n",
            "-- Installing: /usr/local/include/itpp/base/itfile.h\n",
            "-- Installing: /usr/local/include/itpp/itfixed.h\n",
            "-- Installing: /usr/local/include/itpp/itsrccode.h\n",
            "-- Up-to-date: /usr/local/include/itpp/comm\n",
            "-- Installing: /usr/local/include/itpp/comm/reedsolomon.h\n",
            "-- Installing: /usr/local/include/itpp/comm/bch.h\n",
            "-- Installing: /usr/local/include/itpp/comm/exit.h\n",
            "-- Installing: /usr/local/include/itpp/comm/egolay.h\n",
            "-- Installing: /usr/local/include/itpp/comm/rec_syst_conv_code.h\n",
            "-- Installing: /usr/local/include/itpp/comm/galois.h\n",
            "-- Installing: /usr/local/include/itpp/comm/stc.h\n",
            "-- Installing: /usr/local/include/itpp/comm/commfunc.h\n",
            "-- Installing: /usr/local/include/itpp/comm/llr.h\n",
            "-- Installing: /usr/local/include/itpp/comm/sequence.h\n",
            "-- Installing: /usr/local/include/itpp/comm/ofdm.h\n",
            "-- Installing: /usr/local/include/itpp/comm/channel_code.h\n",
            "-- Installing: /usr/local/include/itpp/comm/error_counters.h\n",
            "-- Installing: /usr/local/include/itpp/comm/spread.h\n",
            "-- Installing: /usr/local/include/itpp/comm/crc.h\n",
            "-- Installing: /usr/local/include/itpp/comm/convcode.h\n",
            "-- Installing: /usr/local/include/itpp/comm/pulse_shape.h\n",
            "-- Installing: /usr/local/include/itpp/comm/turbo.h\n",
            "-- Installing: /usr/local/include/itpp/comm/siso.h\n",
            "-- Installing: /usr/local/include/itpp/comm/interleave.h\n",
            "-- Installing: /usr/local/include/itpp/comm/hammcode.h\n",
            "-- Installing: /usr/local/include/itpp/comm/channel.h\n",
            "-- Installing: /usr/local/include/itpp/comm/punct_convcode.h\n",
            "-- Installing: /usr/local/include/itpp/comm/multilateration.h\n",
            "-- Installing: /usr/local/include/itpp/comm/modulator.h\n",
            "-- Installing: /usr/local/include/itpp/comm/ldpc.h\n",
            "-- Installing: /usr/local/include/itpp/comm/modulator_nd.h\n",
            "-- Installing: /usr/local/include/itpp/itbase.h\n",
            "-- Up-to-date: /usr/local/include/itpp/fixed\n",
            "-- Installing: /usr/local/include/itpp/fixed/fix_operators.h\n",
            "-- Installing: /usr/local/include/itpp/fixed/fix_base.h\n",
            "-- Installing: /usr/local/include/itpp/fixed/fix_functions.h\n",
            "-- Installing: /usr/local/include/itpp/fixed/cfixed.h\n",
            "-- Installing: /usr/local/include/itpp/fixed/fix_factory.h\n",
            "-- Installing: /usr/local/include/itpp/fixed/fixed.h\n",
            "-- Installing: /usr/local/include/itpp/fixed/fix.h\n",
            "-- Installing: /usr/local/include/itpp/fixed/cfix.h\n",
            "-- Installing: /usr/local/include/itpp/itmex.h\n",
            "-- Up-to-date: /usr/local/include/itpp/optim\n",
            "-- Installing: /usr/local/include/itpp/optim/newton_search.h\n",
            "-- Up-to-date: /usr/local/include/itpp/srccode\n",
            "-- Installing: /usr/local/include/itpp/srccode/audiofile.h\n",
            "-- Installing: /usr/local/include/itpp/srccode/g711.h\n",
            "-- Installing: /usr/local/include/itpp/srccode/audiosample.h\n",
            "-- Installing: /usr/local/include/itpp/srccode/lpcfunc.h\n",
            "-- Installing: /usr/local/include/itpp/srccode/vq.h\n",
            "-- Installing: /usr/local/include/itpp/srccode/gmm.h\n",
            "-- Installing: /usr/local/include/itpp/srccode/vqtrain.h\n",
            "-- Installing: /usr/local/include/itpp/srccode/pnm.h\n",
            "-- Installing: /usr/local/include/itpp/config_msvc.h\n",
            "-- Up-to-date: /usr/local/include/itpp/protocol\n",
            "-- Installing: /usr/local/include/itpp/protocol/selective_repeat.h\n",
            "-- Installing: /usr/local/include/itpp/protocol/packet.h\n",
            "-- Installing: /usr/local/include/itpp/protocol/packet_generator.h\n",
            "-- Installing: /usr/local/include/itpp/protocol/signals_slots.h\n",
            "-- Installing: /usr/local/include/itpp/protocol/events.h\n",
            "-- Installing: /usr/local/include/itpp/protocol/front_drop_queue.h\n",
            "-- Installing: /usr/local/include/itpp/protocol/tcp.h\n",
            "-- Installing: /usr/local/include/itpp/protocol/tcp_client_server.h\n",
            "-- Installing: /usr/local/include/itpp/protocol/packet_channel.h\n",
            "-- Installing: /usr/local/include/itpp/itsignal.h\n",
            "-- Installing: /usr/local/include/itpp/itcomm.h\n",
            "-- Up-to-date: /usr/local/include/itpp/signal\n",
            "-- Installing: /usr/local/include/itpp/signal/filter.h\n",
            "-- Installing: /usr/local/include/itpp/signal/poly.h\n",
            "-- Installing: /usr/local/include/itpp/signal/resampling.h\n",
            "-- Installing: /usr/local/include/itpp/signal/freq_filt.h\n",
            "-- Installing: /usr/local/include/itpp/signal/sigfun.h\n",
            "-- Installing: /usr/local/include/itpp/signal/window.h\n",
            "-- Installing: /usr/local/include/itpp/signal/filter_design.h\n",
            "-- Installing: /usr/local/include/itpp/signal/source.h\n",
            "-- Installing: /usr/local/include/itpp/signal/fastica.h\n",
            "-- Installing: /usr/local/include/itpp/signal/transforms.h\n",
            "-- Installing: /usr/local/include/itpp/itprotocol.h\n",
            "-- Installing: /usr/local/include/itpp/itstat.h\n",
            "-- Installing: /usr/local/include/itpp/itoptim.h\n",
            "-- Up-to-date: /usr/local/include/itpp/stat\n",
            "-- Installing: /usr/local/include/itpp/stat/histogram.h\n",
            "-- Installing: /usr/local/include/itpp/stat/mog_diag_em.h\n",
            "-- Installing: /usr/local/include/itpp/stat/misc_stat.h\n",
            "-- Installing: /usr/local/include/itpp/stat/mog_diag_kmeans.h\n",
            "-- Installing: /usr/local/include/itpp/stat/mog_diag.h\n",
            "-- Installing: /usr/local/include/itpp/stat/mog_generic.h\n",
            "-- Installing: /usr/local/include/itpp/config.h\n",
            "-- Installing: /usr/local/include/itpp/itexports.h\n",
            "-- Installing: /usr/local/share/itpp/itsave.m\n",
            "-- Installing: /usr/local/share/itpp/itload.m\n",
            "-- Installing: /usr/local/share/itpp/pyitpp.py\n",
            "-- Installing: /usr/local/bin/itpp-config\n",
            "-- Installing: /usr/local/share/man/man1/itpp-config.1\n",
            "-- Installing: /usr/local/lib/pkgconfig/itpp.pc\n"
          ],
          "name": "stdout"
        }
      ]
    },
    {
      "cell_type": "code",
      "metadata": {
        "id": "vzpRY5d-5eHp",
        "outputId": "1717e0cc-1810-497e-81e4-2dedc9e67718",
        "colab": {
          "base_uri": "https://localhost:8080/"
        }
      },
      "source": [
        "!rm -rf py-itpp\n",
        "!git clone https://github.com/vidits-kth/py-itpp.git\n"
      ],
      "execution_count": 39,
      "outputs": [
        {
          "output_type": "stream",
          "text": [
            "Cloning into 'py-itpp'...\n",
            "remote: Enumerating objects: 60, done.\u001b[K\n",
            "remote: Counting objects: 100% (60/60), done.\u001b[K\n",
            "remote: Compressing objects: 100% (47/47), done.\u001b[K\n",
            "remote: Total 1155 (delta 27), reused 35 (delta 13), pack-reused 1095\u001b[K\n",
            "Receiving objects: 100% (1155/1155), 1.92 MiB | 1.37 MiB/s, done.\n",
            "Resolving deltas: 100% (646/646), done.\n"
          ],
          "name": "stdout"
        }
      ]
    },
    {
      "cell_type": "code",
      "metadata": {
        "id": "UP2PG_7Z5y28",
        "outputId": "8b79d6d0-7032-4465-da91-a9b4ba67999a",
        "colab": {
          "base_uri": "https://localhost:8080/"
        }
      },
      "source": [
        "!pip3 install pybind11\n"
      ],
      "execution_count": 40,
      "outputs": [
        {
          "output_type": "stream",
          "text": [
            "Requirement already satisfied: pybind11 in /usr/local/lib/python3.6/dist-packages (2.6.0)\n"
          ],
          "name": "stdout"
        }
      ]
    },
    {
      "cell_type": "code",
      "metadata": {
        "id": "TerNKfz45hzf",
        "outputId": "6b5e83fa-d48b-401b-b412-7e7f192a6f58",
        "colab": {
          "base_uri": "https://localhost:8080/"
        }
      },
      "source": [
        "!cd py-itpp;./install_prerequisites_python3.sh;make install;pip3 install -e .  "
      ],
      "execution_count": 41,
      "outputs": [
        {
          "output_type": "stream",
          "text": [
            "Hit:1 https://cloud.r-project.org/bin/linux/ubuntu bionic-cran40/ InRelease\n",
            "Ign:2 https://developer.download.nvidia.com/compute/cuda/repos/ubuntu1804/x86_64  InRelease\n",
            "Ign:3 https://developer.download.nvidia.com/compute/machine-learning/repos/ubuntu1804/x86_64  InRelease\n",
            "Hit:4 https://developer.download.nvidia.com/compute/cuda/repos/ubuntu1804/x86_64  Release\n",
            "Hit:5 https://developer.download.nvidia.com/compute/machine-learning/repos/ubuntu1804/x86_64  Release\n",
            "Hit:6 http://ppa.launchpad.net/c2d4u.team/c2d4u4.0+/ubuntu bionic InRelease\n",
            "Hit:9 http://archive.ubuntu.com/ubuntu bionic InRelease\n",
            "Hit:10 http://security.ubuntu.com/ubuntu bionic-security InRelease\n",
            "Hit:11 http://ppa.launchpad.net/graphics-drivers/ppa/ubuntu bionic InRelease\n",
            "Hit:12 http://archive.ubuntu.com/ubuntu bionic-updates InRelease\n",
            "Hit:13 http://archive.ubuntu.com/ubuntu bionic-backports InRelease\n",
            "Reading package lists... Done\n",
            "Reading package lists... Done\n",
            "Building dependency tree       \n",
            "Reading state information... Done\n",
            "g++ is already the newest version (4:7.4.0-1ubuntu2.3).\n",
            "0 upgraded, 0 newly installed, 0 to remove and 13 not upgraded.\n",
            "Reading package lists... Done\n",
            "Building dependency tree       \n",
            "Reading state information... Done\n",
            "libblas-dev is already the newest version (3.7.1-4ubuntu1).\n",
            "libfftw3-dev is already the newest version (3.3.7-1).\n",
            "liblapack-dev is already the newest version (3.7.1-4ubuntu1).\n",
            "0 upgraded, 0 newly installed, 0 to remove and 13 not upgraded.\n",
            "Reading package lists... Done\n",
            "Building dependency tree       \n",
            "Reading state information... Done\n",
            "make is already the newest version (4.1-9.1ubuntu1).\n",
            "cmake is already the newest version (3.10.2-1ubuntu2.18.04.1).\n",
            "0 upgraded, 0 newly installed, 0 to remove and 13 not upgraded.\n",
            "Reading package lists... Done\n",
            "Building dependency tree       \n",
            "Reading state information... Done\n",
            "python3-numpy is already the newest version (1:1.13.3-2ubuntu1).\n",
            "python3-dev is already the newest version (3.6.7-1~18.04).\n",
            "0 upgraded, 0 newly installed, 0 to remove and 13 not upgraded.\n",
            "Reading package lists... Done\n",
            "Building dependency tree       \n",
            "Reading state information... Done\n",
            "libitpp-dev is already the newest version (4.3.1-8).\n",
            "0 upgraded, 0 newly installed, 0 to remove and 13 not upgraded.\n",
            "------------------------------------\n",
            "Compiling py-itpp\n",
            "------------------------------------\n",
            "make[1]: Entering directory '/content/py-itpp/src'\n",
            "Create prerequisites for base/mat.cpp\n",
            "Create prerequisites for base/math/log_exp.cpp\n",
            "Create prerequisites for base/math/min_max.cpp\n",
            "Create prerequisites for base/math/elem_math.cpp\n",
            "Create prerequisites for base/vec.cpp\n",
            "Create prerequisites for base/specmat.cpp\n",
            "Create prerequisites for base/random.cpp\n",
            "Create prerequisites for base/binary.cpp\n",
            "Create prerequisites for base/matfunc.cpp\n",
            "Create prerequisites for comm/error_counters.cpp\n",
            "Create prerequisites for comm/modulator.cpp\n",
            "Create prerequisites for comm/llr.cpp\n",
            "Create prerequisites for comm/channel.cpp\n",
            "Create prerequisites for comm/modulator_nd.cpp\n",
            "Create prerequisites for comm/hammcode.cpp\n",
            "Create prerequisites for comm/interleave.cpp\n",
            "Create prerequisites for comm/turbo.cpp\n",
            "Create prerequisites for comm/convcode.cpp\n",
            "Create prerequisites for signal/transforms.cpp\n",
            "Create prerequisites for stat/misc_stat.cpp\n",
            "Compiling base/mat.cpp to Python module\n",
            "Compiling base/math/log_exp.cpp to Python module\n",
            "Compiling base/math/min_max.cpp to Python module\n",
            "Compiling base/math/elem_math.cpp to Python module\n",
            "Compiling base/vec.cpp to Python module\n",
            "Compiling base/specmat.cpp to Python module\n",
            "Compiling base/random.cpp to Python module\n",
            "Compiling base/binary.cpp to Python module\n",
            "Compiling base/matfunc.cpp to Python module\n",
            "Compiling comm/error_counters.cpp to Python module\n",
            "Compiling comm/modulator.cpp to Python module\n",
            "Compiling comm/llr.cpp to Python module\n",
            "Compiling comm/channel.cpp to Python module\n",
            "Compiling comm/modulator_nd.cpp to Python module\n",
            "Compiling comm/hammcode.cpp to Python module\n",
            "Compiling comm/interleave.cpp to Python module\n",
            "Compiling comm/turbo.cpp to Python module\n",
            "Compiling comm/convcode.cpp to Python module\n",
            "Compiling signal/transforms.cpp to Python module\n",
            "Compiling stat/misc_stat.cpp to Python module\n",
            "Copying base/math/__init__.py to Python package\n",
            "Copying base/__init__.py to Python package\n",
            "Copying comm/__init__.py to Python package\n",
            "Copying __init__.py to Python package\n",
            "Copying signal/__init__.py to Python package\n",
            "Copying stat/__init__.py to Python package\n",
            "make[1]: Leaving directory '/content/py-itpp/src'\n",
            "Obtaining file:///content/py-itpp\n",
            "Installing collected packages: itpp\n",
            "  Found existing installation: itpp 0.0.3\n",
            "    Can't uninstall 'itpp'. No files were found to uninstall.\n",
            "  Running setup.py develop for itpp\n",
            "Successfully installed itpp\n"
          ],
          "name": "stdout"
        }
      ]
    },
    {
      "cell_type": "code",
      "metadata": {
        "id": "SxDKHPp59Uc6",
        "outputId": "96ecca20-05bf-4207-ee2e-731f7ae4e725",
        "colab": {
          "base_uri": "https://localhost:8080/"
        }
      },
      "source": [
        "!cd py-itpp; ls ; pip3 install -e .  \n",
        "!cat py-itpp/setup.py"
      ],
      "execution_count": 42,
      "outputs": [
        {
          "output_type": "stream",
          "text": [
            "examples\t\t\t  lib\t   makefile   README.md  src\n",
            "install_prerequisites_python3.sh  LICENSE  makerules  setup.py\n",
            "Obtaining file:///content/py-itpp\n",
            "Installing collected packages: itpp\n",
            "  Found existing installation: itpp 0.0.3\n",
            "    Can't uninstall 'itpp'. No files were found to uninstall.\n",
            "  Running setup.py develop for itpp\n",
            "Successfully installed itpp\n",
            "from setuptools import setup\n",
            "\n",
            "setup(name='itpp',\n",
            "      version='0.0.3',\n",
            "      package_dir = {'': 'lib'})\n"
          ],
          "name": "stdout"
        }
      ]
    },
    {
      "cell_type": "code",
      "metadata": {
        "id": "DlnzlGuGZUF5"
      },
      "source": [
        "#import sys\n",
        "#sys.path.append('./py-itpp/lib')\n"
      ],
      "execution_count": 43,
      "outputs": []
    },
    {
      "cell_type": "code",
      "metadata": {
        "id": "Mi9Pb-Io5puy",
        "outputId": "606e979c-5a88-4718-d464-8aade4b5e68f",
        "colab": {
          "base_uri": "https://localhost:8080/",
          "height": 234
        }
      },
      "source": [
        "from itpp import *\n",
        "#from itpp import comm\n",
        "turbo_codec = itpp.comm.turbo_codec()\n",
        "#turbo_codec = comm.turbo_codec()\n",
        "\n",
        "\n",
        "a = itpp.it.vec('0:10:100')  \n",
        "print(a) "
      ],
      "execution_count": 44,
      "outputs": [
        {
          "output_type": "error",
          "ename": "NameError",
          "evalue": "ignored",
          "traceback": [
            "\u001b[0;31m---------------------------------------------------------------------------\u001b[0m",
            "\u001b[0;31mNameError\u001b[0m                                 Traceback (most recent call last)",
            "\u001b[0;32m<ipython-input-44-43b5edbd7439>\u001b[0m in \u001b[0;36m<module>\u001b[0;34m()\u001b[0m\n\u001b[1;32m      1\u001b[0m \u001b[0;32mfrom\u001b[0m \u001b[0mitpp\u001b[0m \u001b[0;32mimport\u001b[0m \u001b[0;34m*\u001b[0m\u001b[0;34m\u001b[0m\u001b[0;34m\u001b[0m\u001b[0m\n\u001b[1;32m      2\u001b[0m \u001b[0;31m#from itpp import comm\u001b[0m\u001b[0;34m\u001b[0m\u001b[0;34m\u001b[0m\u001b[0;34m\u001b[0m\u001b[0m\n\u001b[0;32m----> 3\u001b[0;31m \u001b[0mturbo_codec\u001b[0m \u001b[0;34m=\u001b[0m \u001b[0mitpp\u001b[0m\u001b[0;34m.\u001b[0m\u001b[0mcomm\u001b[0m\u001b[0;34m.\u001b[0m\u001b[0mturbo_codec\u001b[0m\u001b[0;34m(\u001b[0m\u001b[0;34m)\u001b[0m\u001b[0;34m\u001b[0m\u001b[0;34m\u001b[0m\u001b[0m\n\u001b[0m\u001b[1;32m      4\u001b[0m \u001b[0;31m#turbo_codec = comm.turbo_codec()\u001b[0m\u001b[0;34m\u001b[0m\u001b[0;34m\u001b[0m\u001b[0;34m\u001b[0m\u001b[0m\n\u001b[1;32m      5\u001b[0m \u001b[0;34m\u001b[0m\u001b[0m\n",
            "\u001b[0;31mNameError\u001b[0m: name 'itpp' is not defined"
          ]
        }
      ]
    },
    {
      "cell_type": "markdown",
      "metadata": {
        "id": "SE_3k2xk7IGb"
      },
      "source": [
        "Real valued Hamming codes over AWGN channel¶\n"
      ]
    },
    {
      "cell_type": "code",
      "metadata": {
        "id": "FoC3JYws7COs"
      },
      "source": [
        "from itpp import *\n",
        "from matplotlib import pyplot as plt"
      ],
      "execution_count": null,
      "outputs": []
    },
    {
      "cell_type": "markdown",
      "metadata": {
        "id": "xmC70PD17KML"
      },
      "source": [
        "BER for uncoded over AWGN\n"
      ]
    },
    {
      "cell_type": "code",
      "metadata": {
        "id": "t9pn6BX57Ncm"
      },
      "source": [
        "def bit_error_ratio_uncoded_awgn(snr_db):\n",
        "    '''Generate random bits'''\n",
        "    nrof_bits = 3 * 100000\n",
        "    source_bits = itpp.base.randb(nrof_bits)\n",
        "    \n",
        "    '''Modulate the bits'''\n",
        "    modulator = itpp.comm.BPSK()\n",
        "    tx_signal = modulator.modulate_bits(source_bits)\n",
        "    \n",
        "    '''Add the effect of channel to the signal'''\n",
        "    #noise_variance = itpp.math.inv_dB(-snr_db)\n",
        "    noise_variance = 10 ** (-snr_db * 0.1)\n",
        "    channel = itpp.comm.AWGN_Channel(noisevar=noise_variance)\n",
        "\n",
        "    rx_signal = channel(tx_signal)\n",
        "    \n",
        "    '''Demodulate the signal'''\n",
        "    demodulated_bits = modulator.demodulate_bits(rx_signal)\n",
        "    \n",
        "    '''Calculate the bit error ratio'''\n",
        "    return itpp.comm.BERC.count_errors(source_bits, demodulated_bits, 0, 0, 0) / nrof_bits"
      ],
      "execution_count": null,
      "outputs": []
    },
    {
      "cell_type": "markdown",
      "metadata": {
        "id": "bfwe9w4O7Uhp"
      },
      "source": [
        "BER for Hamming (7, 4) coded over AWGN\n"
      ]
    },
    {
      "cell_type": "code",
      "metadata": {
        "id": "z975lPbS7SGP"
      },
      "source": [
        "def bit_error_ratio_hamming_awgn(snr_db):\n",
        "    '''Hamming encoder and decoder instance'''\n",
        "    k = 3 # (7,4) Hamming code\n",
        "    hamm = itpp.comm.Hamming_Code(k)\n",
        "    \n",
        "    '''Generate random bits'''\n",
        "    nrof_bits = k * 100000\n",
        "    source_bits = itpp.randb(nrof_bits)\n",
        "    \n",
        "    '''Encode the bits'''\n",
        "    encoded_bits = hamm.encode(source_bits)\n",
        "    \n",
        "    '''Modulate the bits'''\n",
        "    modulator = itpp.comm.BPSK()\n",
        "    tx_signal = modulator.modulate_bits(encoded_bits)\n",
        "    \n",
        "    '''Add the effect of channel to the signal'''\n",
        "    #noise_variance = itpp.math.inv_dB(-snr_db)\n",
        "    noise_variance = 10 ** (-snr_db * 0.1)\n",
        "    channel = itpp.comm.AWGN_Channel(noisevar=noise_variance)\n",
        "\n",
        "    rx_signal = channel(tx_signal)\n",
        "    \n",
        "    '''Demodulate the signal'''\n",
        "    demodulated_bits = modulator.demodulate_bits(rx_signal)\n",
        "    \n",
        "    '''Decode the received bits'''\n",
        "    decoded_bits = hamm.decode(demodulated_bits) \n",
        "    \n",
        "    '''Calculate the bit error ratio'''\n",
        "    return itpp.comm.BERC.count_errors(source_bits, decoded_bits, 0, 0, 0) / nrof_bits"
      ],
      "execution_count": null,
      "outputs": []
    },
    {
      "cell_type": "markdown",
      "metadata": {
        "id": "CmZaxQYO7Xcg"
      },
      "source": [
        "Run simulation\n"
      ]
    },
    {
      "cell_type": "code",
      "metadata": {
        "id": "siW51IXQ7W9V"
      },
      "source": [
        "'''SNR range'''\n",
        "snrs_db = range(-10, 10) \n",
        "\n",
        "print('BER for uncoded bits over AWGN channel')\n",
        "ber_unc = [bit_error_ratio_uncoded_awgn(snr) for snr in snrs_db]\n",
        "\n",
        "print('BER for Hamming (7, 4) coded  bits over AWGN channel')\n",
        "ber = [bit_error_ratio_hamming_awgn(snr) for snr in snrs_db]"
      ],
      "execution_count": null,
      "outputs": []
    },
    {
      "cell_type": "markdown",
      "metadata": {
        "id": "PQgAnAQ27ojg"
      },
      "source": [
        "Plot results\n"
      ]
    },
    {
      "cell_type": "code",
      "metadata": {
        "id": "eIodtWkx7qcA"
      },
      "source": [
        "plt.figure()\n",
        "plt.grid(True)\n",
        "plt.semilogy(snrs_db, ber)\n",
        "plt.semilogy(snrs_db, ber_unc)\n",
        "plt.xlabel('SNR [dB]')\n",
        "plt.ylabel('Bit Error Ratio')\n",
        "plt.legend(['Hamming Code', 'Uncoded'])\n",
        "plt.show()"
      ],
      "execution_count": null,
      "outputs": []
    },
    {
      "cell_type": "code",
      "metadata": {
        "id": "D3kCTeGPefw0"
      },
      "source": [
        "sys.path.append('./itpp/extras')\n",
        "!python itpp/extras/test_pyitpp.py "
      ],
      "execution_count": null,
      "outputs": []
    }
  ]
}