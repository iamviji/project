{
  "nbformat": 4,
  "nbformat_minor": 0,
  "metadata": {
    "colab": {
      "name": "ITPP-Install.ipynb",
      "provenance": [],
      "collapsed_sections": [],
      "authorship_tag": "ABX9TyNn0z4RShpeAc9eR2H+V95f",
      "include_colab_link": true
    },
    "kernelspec": {
      "name": "python3",
      "display_name": "Python 3"
    }
  },
  "cells": [
    {
      "cell_type": "markdown",
      "metadata": {
        "id": "view-in-github",
        "colab_type": "text"
      },
      "source": [
        "<a href=\"https://colab.research.google.com/github/iamviji/project/blob/master/misc/ITPP_Install.ipynb\" target=\"_parent\"><img src=\"https://colab.research.google.com/assets/colab-badge.svg\" alt=\"Open In Colab\"/></a>"
      ]
    },
    {
      "cell_type": "code",
      "metadata": {
        "id": "pG_5Axkhoz6N",
        "outputId": "2f766e24-b5ac-44c9-f4f9-4b0f62abfca3",
        "colab": {
          "base_uri": "https://localhost:8080/"
        }
      },
      "source": [
        "!sudo apt-get install autoconf"
      ],
      "execution_count": 1,
      "outputs": [
        {
          "output_type": "stream",
          "text": [
            "Reading package lists... Done\n",
            "Building dependency tree       \n",
            "Reading state information... Done\n",
            "The following additional packages will be installed:\n",
            "  automake autotools-dev libsigsegv2 m4\n",
            "Suggested packages:\n",
            "  autoconf-archive gnu-standards autoconf-doc libtool gettext m4-doc\n",
            "The following NEW packages will be installed:\n",
            "  autoconf automake autotools-dev libsigsegv2 m4\n",
            "0 upgraded, 5 newly installed, 0 to remove and 11 not upgraded.\n",
            "Need to get 1,082 kB of archives.\n",
            "After this operation, 3,994 kB of additional disk space will be used.\n",
            "Get:1 http://archive.ubuntu.com/ubuntu bionic/main amd64 libsigsegv2 amd64 2.12-1 [14.7 kB]\n",
            "Get:2 http://archive.ubuntu.com/ubuntu bionic/main amd64 m4 amd64 1.4.18-1 [197 kB]\n",
            "Get:3 http://archive.ubuntu.com/ubuntu bionic/main amd64 autoconf all 2.69-11 [322 kB]\n",
            "Get:4 http://archive.ubuntu.com/ubuntu bionic/main amd64 autotools-dev all 20180224.1 [39.6 kB]\n",
            "Get:5 http://archive.ubuntu.com/ubuntu bionic/main amd64 automake all 1:1.15.1-3ubuntu2 [509 kB]\n",
            "Fetched 1,082 kB in 1s (1,048 kB/s)\n",
            "debconf: unable to initialize frontend: Dialog\n",
            "debconf: (No usable dialog-like program is installed, so the dialog based frontend cannot be used. at /usr/share/perl5/Debconf/FrontEnd/Dialog.pm line 76, <> line 5.)\n",
            "debconf: falling back to frontend: Readline\n",
            "debconf: unable to initialize frontend: Readline\n",
            "debconf: (This frontend requires a controlling tty.)\n",
            "debconf: falling back to frontend: Teletype\n",
            "dpkg-preconfigure: unable to re-open stdin: \n",
            "Selecting previously unselected package libsigsegv2:amd64.\n",
            "(Reading database ... 144628 files and directories currently installed.)\n",
            "Preparing to unpack .../libsigsegv2_2.12-1_amd64.deb ...\n",
            "Unpacking libsigsegv2:amd64 (2.12-1) ...\n",
            "Selecting previously unselected package m4.\n",
            "Preparing to unpack .../archives/m4_1.4.18-1_amd64.deb ...\n",
            "Unpacking m4 (1.4.18-1) ...\n",
            "Selecting previously unselected package autoconf.\n",
            "Preparing to unpack .../autoconf_2.69-11_all.deb ...\n",
            "Unpacking autoconf (2.69-11) ...\n",
            "Selecting previously unselected package autotools-dev.\n",
            "Preparing to unpack .../autotools-dev_20180224.1_all.deb ...\n",
            "Unpacking autotools-dev (20180224.1) ...\n",
            "Selecting previously unselected package automake.\n",
            "Preparing to unpack .../automake_1%3a1.15.1-3ubuntu2_all.deb ...\n",
            "Unpacking automake (1:1.15.1-3ubuntu2) ...\n",
            "Setting up libsigsegv2:amd64 (2.12-1) ...\n",
            "Setting up m4 (1.4.18-1) ...\n",
            "Setting up autotools-dev (20180224.1) ...\n",
            "Setting up autoconf (2.69-11) ...\n",
            "Setting up automake (1:1.15.1-3ubuntu2) ...\n",
            "update-alternatives: using /usr/bin/automake-1.15 to provide /usr/bin/automake (automake) in auto mode\n",
            "Processing triggers for libc-bin (2.27-3ubuntu1.2) ...\n",
            "/sbin/ldconfig.real: /usr/local/lib/python3.6/dist-packages/ideep4py/lib/libmkldnn.so.0 is not a symbolic link\n",
            "\n",
            "Processing triggers for man-db (2.8.3-2ubuntu0.1) ...\n"
          ],
          "name": "stdout"
        }
      ]
    },
    {
      "cell_type": "code",
      "metadata": {
        "id": "cUQq7nsqpGvm",
        "outputId": "816a4841-29d6-4e81-9a7c-3fcc68964998",
        "colab": {
          "base_uri": "https://localhost:8080/"
        }
      },
      "source": [
        "!sudo apt-get install libtool"
      ],
      "execution_count": 2,
      "outputs": [
        {
          "output_type": "stream",
          "text": [
            "Reading package lists... Done\n",
            "Building dependency tree       \n",
            "Reading state information... Done\n",
            "The following additional packages will be installed:\n",
            "  file libmagic-mgc libmagic1\n",
            "Suggested packages:\n",
            "  libtool-doc gcj-jdk\n",
            "The following NEW packages will be installed:\n",
            "  file libmagic-mgc libmagic1 libtool\n",
            "0 upgraded, 4 newly installed, 0 to remove and 11 not upgraded.\n",
            "Need to get 468 kB of archives.\n",
            "After this operation, 6,555 kB of additional disk space will be used.\n",
            "Get:1 http://archive.ubuntu.com/ubuntu bionic-updates/main amd64 libmagic-mgc amd64 1:5.32-2ubuntu0.4 [184 kB]\n",
            "Get:2 http://archive.ubuntu.com/ubuntu bionic-updates/main amd64 libmagic1 amd64 1:5.32-2ubuntu0.4 [68.6 kB]\n",
            "Get:3 http://archive.ubuntu.com/ubuntu bionic-updates/main amd64 file amd64 1:5.32-2ubuntu0.4 [22.1 kB]\n",
            "Get:4 http://archive.ubuntu.com/ubuntu bionic/main amd64 libtool all 2.4.6-2 [194 kB]\n",
            "Fetched 468 kB in 1s (510 kB/s)\n",
            "debconf: unable to initialize frontend: Dialog\n",
            "debconf: (No usable dialog-like program is installed, so the dialog based frontend cannot be used. at /usr/share/perl5/Debconf/FrontEnd/Dialog.pm line 76, <> line 4.)\n",
            "debconf: falling back to frontend: Readline\n",
            "debconf: unable to initialize frontend: Readline\n",
            "debconf: (This frontend requires a controlling tty.)\n",
            "debconf: falling back to frontend: Teletype\n",
            "dpkg-preconfigure: unable to re-open stdin: \n",
            "Selecting previously unselected package libmagic-mgc.\n",
            "(Reading database ... 144913 files and directories currently installed.)\n",
            "Preparing to unpack .../libmagic-mgc_1%3a5.32-2ubuntu0.4_amd64.deb ...\n",
            "Unpacking libmagic-mgc (1:5.32-2ubuntu0.4) ...\n",
            "Selecting previously unselected package libmagic1:amd64.\n",
            "Preparing to unpack .../libmagic1_1%3a5.32-2ubuntu0.4_amd64.deb ...\n",
            "Unpacking libmagic1:amd64 (1:5.32-2ubuntu0.4) ...\n",
            "Selecting previously unselected package file.\n",
            "Preparing to unpack .../file_1%3a5.32-2ubuntu0.4_amd64.deb ...\n",
            "Unpacking file (1:5.32-2ubuntu0.4) ...\n",
            "Selecting previously unselected package libtool.\n",
            "Preparing to unpack .../libtool_2.4.6-2_all.deb ...\n",
            "Unpacking libtool (2.4.6-2) ...\n",
            "Setting up libmagic-mgc (1:5.32-2ubuntu0.4) ...\n",
            "Setting up libmagic1:amd64 (1:5.32-2ubuntu0.4) ...\n",
            "Setting up file (1:5.32-2ubuntu0.4) ...\n",
            "Setting up libtool (2.4.6-2) ...\n",
            "Processing triggers for man-db (2.8.3-2ubuntu0.1) ...\n",
            "Processing triggers for libc-bin (2.27-3ubuntu1.2) ...\n",
            "/sbin/ldconfig.real: /usr/local/lib/python3.6/dist-packages/ideep4py/lib/libmkldnn.so.0 is not a symbolic link\n",
            "\n"
          ],
          "name": "stdout"
        }
      ]
    },
    {
      "cell_type": "code",
      "metadata": {
        "id": "gPevRXuDzRy5",
        "outputId": "8aacac31-17e1-4666-80a7-1c24597f0a0a",
        "colab": {
          "base_uri": "https://localhost:8080/"
        }
      },
      "source": [
        "!sudo apt-get install liblapack-dev libblas-dev libfftw3-dev"
      ],
      "execution_count": 3,
      "outputs": [
        {
          "output_type": "stream",
          "text": [
            "Reading package lists... Done\n",
            "Building dependency tree       \n",
            "Reading state information... Done\n",
            "liblapack-dev is already the newest version (3.7.1-4ubuntu1).\n",
            "The following additional packages will be installed:\n",
            "  libblas3 libfftw3-bin libfftw3-long3 libfftw3-quad3 libfftw3-single3\n",
            "Suggested packages:\n",
            "  liblapack-doc libfftw3-doc\n",
            "The following NEW packages will be installed:\n",
            "  libblas-dev libblas3 libfftw3-bin libfftw3-dev libfftw3-long3 libfftw3-quad3\n",
            "  libfftw3-single3\n",
            "0 upgraded, 7 newly installed, 0 to remove and 11 not upgraded.\n",
            "Need to get 4,049 kB of archives.\n",
            "After this operation, 22.7 MB of additional disk space will be used.\n",
            "Get:1 http://archive.ubuntu.com/ubuntu bionic/main amd64 libblas3 amd64 3.7.1-4ubuntu1 [140 kB]\n",
            "Get:2 http://archive.ubuntu.com/ubuntu bionic/main amd64 libblas-dev amd64 3.7.1-4ubuntu1 [143 kB]\n",
            "Get:3 http://archive.ubuntu.com/ubuntu bionic/main amd64 libfftw3-long3 amd64 3.3.7-1 [308 kB]\n",
            "Get:4 http://archive.ubuntu.com/ubuntu bionic/main amd64 libfftw3-quad3 amd64 3.3.7-1 [552 kB]\n",
            "Get:5 http://archive.ubuntu.com/ubuntu bionic/main amd64 libfftw3-single3 amd64 3.3.7-1 [764 kB]\n",
            "Get:6 http://archive.ubuntu.com/ubuntu bionic/main amd64 libfftw3-bin amd64 3.3.7-1 [32.7 kB]\n",
            "Get:7 http://archive.ubuntu.com/ubuntu bionic/main amd64 libfftw3-dev amd64 3.3.7-1 [2,108 kB]\n",
            "Fetched 4,049 kB in 1s (3,253 kB/s)\n",
            "debconf: unable to initialize frontend: Dialog\n",
            "debconf: (No usable dialog-like program is installed, so the dialog based frontend cannot be used. at /usr/share/perl5/Debconf/FrontEnd/Dialog.pm line 76, <> line 7.)\n",
            "debconf: falling back to frontend: Readline\n",
            "debconf: unable to initialize frontend: Readline\n",
            "debconf: (This frontend requires a controlling tty.)\n",
            "debconf: falling back to frontend: Teletype\n",
            "dpkg-preconfigure: unable to re-open stdin: \n",
            "Selecting previously unselected package libblas3:amd64.\n",
            "(Reading database ... 144970 files and directories currently installed.)\n",
            "Preparing to unpack .../0-libblas3_3.7.1-4ubuntu1_amd64.deb ...\n",
            "Unpacking libblas3:amd64 (3.7.1-4ubuntu1) ...\n",
            "Selecting previously unselected package libblas-dev:amd64.\n",
            "Preparing to unpack .../1-libblas-dev_3.7.1-4ubuntu1_amd64.deb ...\n",
            "Unpacking libblas-dev:amd64 (3.7.1-4ubuntu1) ...\n",
            "Selecting previously unselected package libfftw3-long3:amd64.\n",
            "Preparing to unpack .../2-libfftw3-long3_3.3.7-1_amd64.deb ...\n",
            "Unpacking libfftw3-long3:amd64 (3.3.7-1) ...\n",
            "Selecting previously unselected package libfftw3-quad3:amd64.\n",
            "Preparing to unpack .../3-libfftw3-quad3_3.3.7-1_amd64.deb ...\n",
            "Unpacking libfftw3-quad3:amd64 (3.3.7-1) ...\n",
            "Selecting previously unselected package libfftw3-single3:amd64.\n",
            "Preparing to unpack .../4-libfftw3-single3_3.3.7-1_amd64.deb ...\n",
            "Unpacking libfftw3-single3:amd64 (3.3.7-1) ...\n",
            "Selecting previously unselected package libfftw3-bin.\n",
            "Preparing to unpack .../5-libfftw3-bin_3.3.7-1_amd64.deb ...\n",
            "Unpacking libfftw3-bin (3.3.7-1) ...\n",
            "Selecting previously unselected package libfftw3-dev:amd64.\n",
            "Preparing to unpack .../6-libfftw3-dev_3.3.7-1_amd64.deb ...\n",
            "Unpacking libfftw3-dev:amd64 (3.3.7-1) ...\n",
            "Setting up libfftw3-quad3:amd64 (3.3.7-1) ...\n",
            "Setting up libblas3:amd64 (3.7.1-4ubuntu1) ...\n",
            "Setting up libfftw3-single3:amd64 (3.3.7-1) ...\n",
            "Setting up libfftw3-long3:amd64 (3.3.7-1) ...\n",
            "Setting up libfftw3-bin (3.3.7-1) ...\n",
            "Setting up libblas-dev:amd64 (3.7.1-4ubuntu1) ...\n",
            "Setting up libfftw3-dev:amd64 (3.3.7-1) ...\n",
            "Processing triggers for libc-bin (2.27-3ubuntu1.2) ...\n",
            "/sbin/ldconfig.real: /usr/local/lib/python3.6/dist-packages/ideep4py/lib/libmkldnn.so.0 is not a symbolic link\n",
            "\n",
            "Processing triggers for man-db (2.8.3-2ubuntu0.1) ...\n"
          ],
          "name": "stdout"
        }
      ]
    },
    {
      "cell_type": "code",
      "metadata": {
        "id": "cFr7gfys2H3_",
        "outputId": "df87a762-db40-4cc7-c5f1-13a6004e09b7",
        "colab": {
          "base_uri": "https://localhost:8080/"
        }
      },
      "source": [
        "!rm -rf itpp\n",
        "!git clone https://github.com/iamviji/itpp.git # original one had compilation issue, did minor signle line change after forking"
      ],
      "execution_count": 4,
      "outputs": [
        {
          "output_type": "stream",
          "text": [
            "Cloning into 'itpp'...\n",
            "remote: Enumerating objects: 14431, done.\u001b[K\n",
            "remote: Total 14431 (delta 0), reused 0 (delta 0), pack-reused 14431\u001b[K\n",
            "Receiving objects: 100% (14431/14431), 4.88 MiB | 15.78 MiB/s, done.\n",
            "Resolving deltas: 100% (12154/12154), done.\n"
          ],
          "name": "stdout"
        }
      ]
    },
    {
      "cell_type": "code",
      "metadata": {
        "id": "xGtHRpXuzW7C",
        "outputId": "6a8f9506-a7fb-4436-ae51-261050b7688c",
        "colab": {
          "base_uri": "https://localhost:8080/"
        }
      },
      "source": [
        "!ls;cd itpp;ls;mkdir -p build1 build2; cd build1 ; cmake cmake ..;make ;make install"
      ],
      "execution_count": 5,
      "outputs": [
        {
          "output_type": "stream",
          "text": [
            "itpp  sample_data\n",
            "AUTHORS\t\tcmake\t\t\titpp-config.cmake.in  NEWS-3.10\n",
            "autogen.sh\tCMakeLists.txt\t\titpp-config.in\t      NEWS-3.9\n",
            "ChangeLog\tconfigure.ac.in\t\titpp_debug.pc.in      NEWS-3.99\n",
            "ChangeLog-2005\tCOPYING\t\t\titpp.pc.cmake.in      NEWS-4.0\n",
            "ChangeLog-2006\tdoc\t\t\titpp.pc.in\t      NEWS-4.2\n",
            "ChangeLog-2007\textras\t\t\titpp.spec.in\t      README\n",
            "ChangeLog-2008\tgtests\t\t\tm4\t\t      README.md\n",
            "ChangeLog-2009\tINSTALL\t\t\tMakefile.am\t      tests\n",
            "ChangeLog-2010\titpp\t\t\tMakefile.common       VERSION\n",
            "ChangeLog-2011\titpp-config.1.cmake.in\tMakefile.in\t      win32\n",
            "ChangeLog-2012\titpp-config.1.in\tNEWS\n",
            "-- The C compiler identification is GNU 7.5.0\n",
            "-- The CXX compiler identification is GNU 7.5.0\n",
            "-- Check for working C compiler: /usr/bin/cc\n",
            "-- Check for working C compiler: /usr/bin/cc -- works\n",
            "-- Detecting C compiler ABI info\n",
            "-- Detecting C compiler ABI info - done\n",
            "-- Detecting C compile features\n",
            "-- Detecting C compile features - done\n",
            "-- Check for working CXX compiler: /usr/bin/c++\n",
            "-- Check for working CXX compiler: /usr/bin/c++ -- works\n",
            "-- Detecting CXX compiler ABI info\n",
            "-- Detecting CXX compiler ABI info - done\n",
            "-- Detecting CXX compile features\n",
            "-- Detecting CXX compile features - done\n",
            "-- Looking for dgemm_\n",
            "-- Looking for dgemm_ - found\n",
            "-- Looking for pthread.h\n",
            "-- Looking for pthread.h - found\n",
            "-- Looking for pthread_create\n",
            "-- Looking for pthread_create - not found\n",
            "-- Looking for pthread_create in pthreads\n",
            "-- Looking for pthread_create in pthreads - not found\n",
            "-- Looking for pthread_create in pthread\n",
            "-- Looking for pthread_create in pthread - found\n",
            "-- Found Threads: TRUE  \n",
            "-- A library with BLAS API found.\n",
            "-- A library with BLAS API found.\n",
            "-- Looking for cheev_\n",
            "-- Looking for cheev_ - found\n",
            "-- A library with LAPACK API found.\n",
            "-- Found FFT: /usr/lib/x86_64-linux-gnu/libfftw3.so  \n",
            "-- A library with FFT API found.\n",
            "-- Found OpenMP_C: -fopenmp (found version \"4.5\") \n",
            "-- Found OpenMP_CXX: -fopenmp (found version \"4.5\") \n",
            "-- Found OpenMP: TRUE (found version \"4.5\")  \n",
            "-- Could NOT find Doxygen (missing: DOXYGEN_EXECUTABLE) \n",
            "-- Could NOT find LATEX (missing: LATEX_COMPILER) \n",
            "-- Looking for include files sys/time.h, time.h\n",
            "-- Looking for include files sys/time.h, time.h - found\n",
            "-- Looking for dlfcn.h\n",
            "-- Looking for dlfcn.h - found\n",
            "-- Looking for ieeefp.h\n",
            "-- Looking for ieeefp.h - not found\n",
            "-- Looking for inttypes.h\n",
            "-- Looking for inttypes.h - found\n",
            "-- Looking for memory.h\n",
            "-- Looking for memory.h - found\n",
            "-- Looking for stdint.h\n",
            "-- Looking for stdint.h - found\n",
            "-- Looking for stdlib.h\n",
            "-- Looking for stdlib.h - found\n",
            "-- Looking for strings.h\n",
            "-- Looking for strings.h - found\n",
            "-- Looking for string.h\n",
            "-- Looking for string.h - found\n",
            "-- Looking for sys/stat.h\n",
            "-- Looking for sys/stat.h - found\n",
            "-- Looking for sys/types.h\n",
            "-- Looking for sys/types.h - found\n",
            "-- Looking for unistd.h\n",
            "-- Looking for unistd.h - found\n",
            "-- Looking for C++ include cmath\n",
            "-- Looking for C++ include cmath - found\n",
            "-- Looking for C++ include complex\n",
            "-- Looking for C++ include complex - found\n",
            "-- Looking for isfinite\n",
            "-- Looking for isfinite - not found\n",
            "-- Looking for isinf\n",
            "-- Looking for isinf - not found\n",
            "-- Looking for isnan\n",
            "-- Looking for isnan - not found\n",
            "-- Looking for signgam\n",
            "-- Looking for signgam - found\n",
            "-- Looking for acosh\n",
            "-- Looking for acosh - found\n",
            "-- Looking for asinh\n",
            "-- Looking for asinh - found\n",
            "-- Looking for atanh\n",
            "-- Looking for atanh - found\n",
            "-- Looking for cbrt\n",
            "-- Looking for cbrt - found\n",
            "-- Looking for erf\n",
            "-- Looking for erf - found\n",
            "-- Looking for erfc\n",
            "-- Looking for erfc - found\n",
            "-- Looking for expm1\n",
            "-- Looking for expm1 - found\n",
            "-- Looking for finite\n",
            "-- Looking for finite - found\n",
            "-- Looking for isfinite\n",
            "-- Looking for isfinite - not found\n",
            "-- Looking for isinf\n",
            "-- Looking for isinf - found\n",
            "-- Looking for isnan\n",
            "-- Looking for isnan - found\n",
            "-- Looking for lgamma\n",
            "-- Looking for lgamma - found\n",
            "-- Looking for log1p\n",
            "-- Looking for log1p - found\n",
            "-- Looking for log2\n",
            "-- Looking for log2 - found\n",
            "-- Looking for rint\n",
            "-- Looking for rint - found\n",
            "-- Looking for tgamma\n",
            "-- Looking for tgamma - found\n",
            "-- Looking for std::isfinite\n",
            "-- Looking for std::isfinite - found\n",
            "-- Looking for std::isinf\n",
            "-- Looking for std::isinf - found\n",
            "-- Looking for std::isnan\n",
            "-- Looking for std::isnan - found\n",
            "-- BLAS vendor: All\n",
            "-- Configuring done\n",
            "-- Generating done\n",
            "-- Build files have been written to: /content/itpp/build1\n",
            "\u001b[35m\u001b[1mScanning dependencies of target itpp\u001b[0m\n",
            "[  0%] \u001b[32mBuilding CXX object itpp/CMakeFiles/itpp.dir/base/algebra/cholesky.cpp.o\u001b[0m\n",
            "[  1%] \u001b[32mBuilding CXX object itpp/CMakeFiles/itpp.dir/base/algebra/det.cpp.o\u001b[0m\n",
            "[  2%] \u001b[32mBuilding CXX object itpp/CMakeFiles/itpp.dir/base/algebra/eigen.cpp.o\u001b[0m\n",
            "[  3%] \u001b[32mBuilding CXX object itpp/CMakeFiles/itpp.dir/base/algebra/inv.cpp.o\u001b[0m\n",
            "[  4%] \u001b[32mBuilding CXX object itpp/CMakeFiles/itpp.dir/base/algebra/ls_solve.cpp.o\u001b[0m\n",
            "[  5%] \u001b[32mBuilding CXX object itpp/CMakeFiles/itpp.dir/base/algebra/lu.cpp.o\u001b[0m\n",
            "[  5%] \u001b[32mBuilding CXX object itpp/CMakeFiles/itpp.dir/base/algebra/qr.cpp.o\u001b[0m\n",
            "[  6%] \u001b[32mBuilding CXX object itpp/CMakeFiles/itpp.dir/base/algebra/schur.cpp.o\u001b[0m\n",
            "[  7%] \u001b[32mBuilding CXX object itpp/CMakeFiles/itpp.dir/base/algebra/svd.cpp.o\u001b[0m\n",
            "[  8%] \u001b[32mBuilding CXX object itpp/CMakeFiles/itpp.dir/base/bessel.cpp.o\u001b[0m\n",
            "[  9%] \u001b[32mBuilding CXX object itpp/CMakeFiles/itpp.dir/base/bessel/airy.cpp.o\u001b[0m\n",
            "[ 10%] \u001b[32mBuilding CXX object itpp/CMakeFiles/itpp.dir/base/bessel/chbevl.cpp.o\u001b[0m\n",
            "[ 11%] \u001b[32mBuilding CXX object itpp/CMakeFiles/itpp.dir/base/bessel/gamma.cpp.o\u001b[0m\n",
            "[ 11%] \u001b[32mBuilding CXX object itpp/CMakeFiles/itpp.dir/base/bessel/hyperg.cpp.o\u001b[0m\n",
            "[ 12%] \u001b[32mBuilding CXX object itpp/CMakeFiles/itpp.dir/base/bessel/i0.cpp.o\u001b[0m\n",
            "[ 13%] \u001b[32mBuilding CXX object itpp/CMakeFiles/itpp.dir/base/bessel/i1.cpp.o\u001b[0m\n",
            "[ 14%] \u001b[32mBuilding CXX object itpp/CMakeFiles/itpp.dir/base/bessel/iv.cpp.o\u001b[0m\n",
            "[ 15%] \u001b[32mBuilding CXX object itpp/CMakeFiles/itpp.dir/base/bessel/jv.cpp.o\u001b[0m\n",
            "[ 16%] \u001b[32mBuilding CXX object itpp/CMakeFiles/itpp.dir/base/bessel/k0.cpp.o\u001b[0m\n",
            "[ 17%] \u001b[32mBuilding CXX object itpp/CMakeFiles/itpp.dir/base/bessel/k1.cpp.o\u001b[0m\n",
            "[ 17%] \u001b[32mBuilding CXX object itpp/CMakeFiles/itpp.dir/base/bessel/kn.cpp.o\u001b[0m\n",
            "[ 18%] \u001b[32mBuilding CXX object itpp/CMakeFiles/itpp.dir/base/bessel/polevl.cpp.o\u001b[0m\n",
            "[ 19%] \u001b[32mBuilding CXX object itpp/CMakeFiles/itpp.dir/base/bessel/struve.cpp.o\u001b[0m\n",
            "[ 20%] \u001b[32mBuilding CXX object itpp/CMakeFiles/itpp.dir/base/binary.cpp.o\u001b[0m\n",
            "[ 21%] \u001b[32mBuilding CXX object itpp/CMakeFiles/itpp.dir/base/binfile.cpp.o\u001b[0m\n",
            "[ 22%] \u001b[32mBuilding CXX object itpp/CMakeFiles/itpp.dir/base/converters.cpp.o\u001b[0m\n",
            "[ 23%] \u001b[32mBuilding CXX object itpp/CMakeFiles/itpp.dir/base/copy_vector.cpp.o\u001b[0m\n",
            "[ 23%] \u001b[32mBuilding CXX object itpp/CMakeFiles/itpp.dir/base/fastmath.cpp.o\u001b[0m\n",
            "[ 24%] \u001b[32mBuilding CXX object itpp/CMakeFiles/itpp.dir/base/gf2mat.cpp.o\u001b[0m\n",
            "[ 25%] \u001b[32mBuilding CXX object itpp/CMakeFiles/itpp.dir/base/help_functions.cpp.o\u001b[0m\n",
            "[ 26%] \u001b[32mBuilding CXX object itpp/CMakeFiles/itpp.dir/base/itassert.cpp.o\u001b[0m\n",
            "[ 27%] \u001b[32mBuilding CXX object itpp/CMakeFiles/itpp.dir/base/itcompat.cpp.o\u001b[0m\n",
            "[ 28%] \u001b[32mBuilding CXX object itpp/CMakeFiles/itpp.dir/base/itfile.cpp.o\u001b[0m\n",
            "[ 29%] \u001b[32mBuilding CXX object itpp/CMakeFiles/itpp.dir/base/mat.cpp.o\u001b[0m\n",
            "[ 29%] \u001b[32mBuilding CXX object itpp/CMakeFiles/itpp.dir/base/matfunc.cpp.o\u001b[0m\n",
            "[ 30%] \u001b[32mBuilding CXX object itpp/CMakeFiles/itpp.dir/base/math/elem_math.cpp.o\u001b[0m\n",
            "[ 31%] \u001b[32mBuilding CXX object itpp/CMakeFiles/itpp.dir/base/math/error.cpp.o\u001b[0m\n",
            "[ 32%] \u001b[32mBuilding CXX object itpp/CMakeFiles/itpp.dir/base/math/integration.cpp.o\u001b[0m\n",
            "[ 33%] \u001b[32mBuilding CXX object itpp/CMakeFiles/itpp.dir/base/math/log_exp.cpp.o\u001b[0m\n",
            "[ 34%] \u001b[32mBuilding CXX object itpp/CMakeFiles/itpp.dir/base/math/misc.cpp.o\u001b[0m\n",
            "[ 35%] \u001b[32mBuilding CXX object itpp/CMakeFiles/itpp.dir/base/math/trig_hyp.cpp.o\u001b[0m\n",
            "[ 35%] \u001b[32mBuilding CXX object itpp/CMakeFiles/itpp.dir/base/operators.cpp.o\u001b[0m\n",
            "[ 36%] \u001b[32mBuilding CXX object itpp/CMakeFiles/itpp.dir/base/parser.cpp.o\u001b[0m\n",
            "[ 37%] \u001b[32mBuilding CXX object itpp/CMakeFiles/itpp.dir/base/random.cpp.o\u001b[0m\n",
            "[ 38%] \u001b[32mBuilding CXX object itpp/CMakeFiles/itpp.dir/base/smat.cpp.o\u001b[0m\n",
            "[ 39%] \u001b[32mBuilding CXX object itpp/CMakeFiles/itpp.dir/base/specmat.cpp.o\u001b[0m\n",
            "[ 40%] \u001b[32mBuilding CXX object itpp/CMakeFiles/itpp.dir/base/svec.cpp.o\u001b[0m\n",
            "[ 41%] \u001b[32mBuilding CXX object itpp/CMakeFiles/itpp.dir/base/timing.cpp.o\u001b[0m\n",
            "[ 41%] \u001b[32mBuilding CXX object itpp/CMakeFiles/itpp.dir/base/vec.cpp.o\u001b[0m\n",
            "[ 42%] \u001b[32mBuilding CXX object itpp/CMakeFiles/itpp.dir/comm/bch.cpp.o\u001b[0m\n",
            "[ 43%] \u001b[32mBuilding CXX object itpp/CMakeFiles/itpp.dir/comm/channel.cpp.o\u001b[0m\n",
            "[ 44%] \u001b[32mBuilding CXX object itpp/CMakeFiles/itpp.dir/comm/commfunc.cpp.o\u001b[0m\n",
            "[ 45%] \u001b[32mBuilding CXX object itpp/CMakeFiles/itpp.dir/comm/convcode.cpp.o\u001b[0m\n",
            "[ 46%] \u001b[32mBuilding CXX object itpp/CMakeFiles/itpp.dir/comm/crc.cpp.o\u001b[0m\n",
            "[ 47%] \u001b[32mBuilding CXX object itpp/CMakeFiles/itpp.dir/comm/egolay.cpp.o\u001b[0m\n",
            "[ 47%] \u001b[32mBuilding CXX object itpp/CMakeFiles/itpp.dir/comm/error_counters.cpp.o\u001b[0m\n",
            "[ 48%] \u001b[32mBuilding CXX object itpp/CMakeFiles/itpp.dir/comm/exit.cpp.o\u001b[0m\n",
            "[ 49%] \u001b[32mBuilding CXX object itpp/CMakeFiles/itpp.dir/comm/galois.cpp.o\u001b[0m\n",
            "[ 50%] \u001b[32mBuilding CXX object itpp/CMakeFiles/itpp.dir/comm/hammcode.cpp.o\u001b[0m\n",
            "[ 51%] \u001b[32mBuilding CXX object itpp/CMakeFiles/itpp.dir/comm/interleave.cpp.o\u001b[0m\n",
            "[ 52%] \u001b[32mBuilding CXX object itpp/CMakeFiles/itpp.dir/comm/ldpc.cpp.o\u001b[0m\n",
            "[ 52%] \u001b[32mBuilding CXX object itpp/CMakeFiles/itpp.dir/comm/llr.cpp.o\u001b[0m\n",
            "[ 53%] \u001b[32mBuilding CXX object itpp/CMakeFiles/itpp.dir/comm/modulator.cpp.o\u001b[0m\n",
            "[ 54%] \u001b[32mBuilding CXX object itpp/CMakeFiles/itpp.dir/comm/modulator_nd.cpp.o\u001b[0m\n",
            "[ 55%] \u001b[32mBuilding CXX object itpp/CMakeFiles/itpp.dir/comm/multilateration.cpp.o\u001b[0m\n",
            "[ 56%] \u001b[32mBuilding CXX object itpp/CMakeFiles/itpp.dir/comm/ofdm.cpp.o\u001b[0m\n",
            "[ 57%] \u001b[32mBuilding CXX object itpp/CMakeFiles/itpp.dir/comm/pulse_shape.cpp.o\u001b[0m\n",
            "[ 58%] \u001b[32mBuilding CXX object itpp/CMakeFiles/itpp.dir/comm/punct_convcode.cpp.o\u001b[0m\n",
            "[ 58%] \u001b[32mBuilding CXX object itpp/CMakeFiles/itpp.dir/comm/rec_syst_conv_code.cpp.o\u001b[0m\n",
            "[ 59%] \u001b[32mBuilding CXX object itpp/CMakeFiles/itpp.dir/comm/reedsolomon.cpp.o\u001b[0m\n",
            "[ 60%] \u001b[32mBuilding CXX object itpp/CMakeFiles/itpp.dir/comm/sequence.cpp.o\u001b[0m\n",
            "[ 61%] \u001b[32mBuilding CXX object itpp/CMakeFiles/itpp.dir/comm/siso_dem.cpp.o\u001b[0m\n",
            "[ 62%] \u001b[32mBuilding CXX object itpp/CMakeFiles/itpp.dir/comm/siso_eq.cpp.o\u001b[0m\n",
            "[ 63%] \u001b[32mBuilding CXX object itpp/CMakeFiles/itpp.dir/comm/siso_mud.cpp.o\u001b[0m\n",
            "[ 64%] \u001b[32mBuilding CXX object itpp/CMakeFiles/itpp.dir/comm/siso_nsc.cpp.o\u001b[0m\n",
            "[ 64%] \u001b[32mBuilding CXX object itpp/CMakeFiles/itpp.dir/comm/siso_rsc.cpp.o\u001b[0m\n",
            "[ 65%] \u001b[32mBuilding CXX object itpp/CMakeFiles/itpp.dir/comm/spread.cpp.o\u001b[0m\n",
            "[ 66%] \u001b[32mBuilding CXX object itpp/CMakeFiles/itpp.dir/comm/stc.cpp.o\u001b[0m\n",
            "[ 67%] \u001b[32mBuilding CXX object itpp/CMakeFiles/itpp.dir/comm/turbo.cpp.o\u001b[0m\n",
            "[ 68%] \u001b[32mBuilding CXX object itpp/CMakeFiles/itpp.dir/fixed/cfix.cpp.o\u001b[0m\n",
            "[ 69%] \u001b[32mBuilding CXX object itpp/CMakeFiles/itpp.dir/fixed/cfixed.cpp.o\u001b[0m\n",
            "[ 70%] \u001b[32mBuilding CXX object itpp/CMakeFiles/itpp.dir/fixed/fix.cpp.o\u001b[0m\n",
            "[ 70%] \u001b[32mBuilding CXX object itpp/CMakeFiles/itpp.dir/fixed/fix_base.cpp.o\u001b[0m\n",
            "[ 71%] \u001b[32mBuilding CXX object itpp/CMakeFiles/itpp.dir/fixed/fix_factory.cpp.o\u001b[0m\n",
            "[ 72%] \u001b[32mBuilding CXX object itpp/CMakeFiles/itpp.dir/fixed/fix_functions.cpp.o\u001b[0m\n",
            "[ 73%] \u001b[32mBuilding CXX object itpp/CMakeFiles/itpp.dir/fixed/fix_operators.cpp.o\u001b[0m\n",
            "[ 74%] \u001b[32mBuilding CXX object itpp/CMakeFiles/itpp.dir/fixed/fixed.cpp.o\u001b[0m\n",
            "[ 75%] \u001b[32mBuilding CXX object itpp/CMakeFiles/itpp.dir/optim/newton_search.cpp.o\u001b[0m\n",
            "[ 76%] \u001b[32mBuilding CXX object itpp/CMakeFiles/itpp.dir/protocol/events.cpp.o\u001b[0m\n",
            "[ 76%] \u001b[32mBuilding CXX object itpp/CMakeFiles/itpp.dir/protocol/front_drop_queue.cpp.o\u001b[0m\n",
            "[ 77%] \u001b[32mBuilding CXX object itpp/CMakeFiles/itpp.dir/protocol/packet_channel.cpp.o\u001b[0m\n",
            "[ 78%] \u001b[32mBuilding CXX object itpp/CMakeFiles/itpp.dir/protocol/packet_generator.cpp.o\u001b[0m\n",
            "[ 79%] \u001b[32mBuilding CXX object itpp/CMakeFiles/itpp.dir/protocol/selective_repeat.cpp.o\u001b[0m\n",
            "[ 80%] \u001b[32mBuilding CXX object itpp/CMakeFiles/itpp.dir/protocol/tcp.cpp.o\u001b[0m\n",
            "[ 81%] \u001b[32mBuilding CXX object itpp/CMakeFiles/itpp.dir/signal/fastica.cpp.o\u001b[0m\n",
            "[ 82%] \u001b[32mBuilding CXX object itpp/CMakeFiles/itpp.dir/signal/filter.cpp.o\u001b[0m\n",
            "[ 82%] \u001b[32mBuilding CXX object itpp/CMakeFiles/itpp.dir/signal/filter_design.cpp.o\u001b[0m\n",
            "[ 83%] \u001b[32mBuilding CXX object itpp/CMakeFiles/itpp.dir/signal/freq_filt.cpp.o\u001b[0m\n",
            "[ 84%] \u001b[32mBuilding CXX object itpp/CMakeFiles/itpp.dir/signal/poly.cpp.o\u001b[0m\n",
            "[ 85%] \u001b[32mBuilding CXX object itpp/CMakeFiles/itpp.dir/signal/resampling.cpp.o\u001b[0m\n",
            "[ 86%] \u001b[32mBuilding CXX object itpp/CMakeFiles/itpp.dir/signal/sigfun.cpp.o\u001b[0m\n",
            "[ 87%] \u001b[32mBuilding CXX object itpp/CMakeFiles/itpp.dir/signal/source.cpp.o\u001b[0m\n",
            "[ 88%] \u001b[32mBuilding CXX object itpp/CMakeFiles/itpp.dir/signal/transforms.cpp.o\u001b[0m\n",
            "[ 88%] \u001b[32mBuilding CXX object itpp/CMakeFiles/itpp.dir/signal/window.cpp.o\u001b[0m\n",
            "[ 89%] \u001b[32mBuilding CXX object itpp/CMakeFiles/itpp.dir/srccode/audiofile.cpp.o\u001b[0m\n",
            "[ 90%] \u001b[32mBuilding CXX object itpp/CMakeFiles/itpp.dir/srccode/g711.cpp.o\u001b[0m\n",
            "[ 91%] \u001b[32mBuilding CXX object itpp/CMakeFiles/itpp.dir/srccode/gmm.cpp.o\u001b[0m\n",
            "[ 92%] \u001b[32mBuilding CXX object itpp/CMakeFiles/itpp.dir/srccode/lpcfunc.cpp.o\u001b[0m\n",
            "[ 93%] \u001b[32mBuilding CXX object itpp/CMakeFiles/itpp.dir/srccode/pnm.cpp.o\u001b[0m\n",
            "[ 94%] \u001b[32mBuilding CXX object itpp/CMakeFiles/itpp.dir/srccode/vq.cpp.o\u001b[0m\n",
            "[ 94%] \u001b[32mBuilding CXX object itpp/CMakeFiles/itpp.dir/srccode/vqtrain.cpp.o\u001b[0m\n",
            "[ 95%] \u001b[32mBuilding CXX object itpp/CMakeFiles/itpp.dir/stat/misc_stat.cpp.o\u001b[0m\n",
            "[ 96%] \u001b[32mBuilding CXX object itpp/CMakeFiles/itpp.dir/stat/mog_diag.cpp.o\u001b[0m\n",
            "[ 97%] \u001b[32mBuilding CXX object itpp/CMakeFiles/itpp.dir/stat/mog_diag_em.cpp.o\u001b[0m\n",
            "[ 98%] \u001b[32mBuilding CXX object itpp/CMakeFiles/itpp.dir/stat/mog_diag_kmeans.cpp.o\u001b[0m\n",
            "[ 99%] \u001b[32mBuilding CXX object itpp/CMakeFiles/itpp.dir/stat/mog_generic.cpp.o\u001b[0m\n",
            "[100%] \u001b[32m\u001b[1mLinking CXX shared library libitpp.so\u001b[0m\n",
            "[100%] Built target itpp\n",
            "[100%] Built target itpp\n",
            "\u001b[36mInstall the project...\u001b[0m\n",
            "-- Install configuration: \"\"\n",
            "-- Installing: /usr/local/lib/libitpp.so.8.2.1\n",
            "-- Installing: /usr/local/lib/libitpp.so.8\n",
            "-- Installing: /usr/local/lib/libitpp.so\n",
            "-- Installing: /usr/local/include/itpp\n",
            "-- Installing: /usr/local/include/itpp/base\n",
            "-- Installing: /usr/local/include/itpp/base/random.h\n",
            "-- Installing: /usr/local/include/itpp/base/binfile.h\n",
            "-- Installing: /usr/local/include/itpp/base/base_exports.h\n",
            "-- Installing: /usr/local/include/itpp/base/random_dsfmt.h\n",
            "-- Installing: /usr/local/include/itpp/base/binary.h\n",
            "-- Installing: /usr/local/include/itpp/base/math\n",
            "-- Installing: /usr/local/include/itpp/base/math/log_exp.h\n",
            "-- Installing: /usr/local/include/itpp/base/math/min_max.h\n",
            "-- Installing: /usr/local/include/itpp/base/math/misc.h\n",
            "-- Installing: /usr/local/include/itpp/base/math/trig_hyp.h\n",
            "-- Installing: /usr/local/include/itpp/base/math/integration.h\n",
            "-- Installing: /usr/local/include/itpp/base/math/elem_math.h\n",
            "-- Installing: /usr/local/include/itpp/base/math/error.h\n",
            "-- Installing: /usr/local/include/itpp/base/circular_buffer.h\n",
            "-- Installing: /usr/local/include/itpp/base/parser.h\n",
            "-- Installing: /usr/local/include/itpp/base/specmat.h\n",
            "-- Installing: /usr/local/include/itpp/base/algebra\n",
            "-- Installing: /usr/local/include/itpp/base/algebra/ls_solve.h\n",
            "-- Installing: /usr/local/include/itpp/base/algebra/det.h\n",
            "-- Installing: /usr/local/include/itpp/base/algebra/svd.h\n",
            "-- Installing: /usr/local/include/itpp/base/algebra/inv.h\n",
            "-- Installing: /usr/local/include/itpp/base/algebra/schur.h\n",
            "-- Installing: /usr/local/include/itpp/base/algebra/lapack.h\n",
            "-- Installing: /usr/local/include/itpp/base/algebra/eigen.h\n",
            "-- Installing: /usr/local/include/itpp/base/algebra/cholesky.h\n",
            "-- Installing: /usr/local/include/itpp/base/algebra/lu.h\n",
            "-- Installing: /usr/local/include/itpp/base/algebra/qr.h\n",
            "-- Installing: /usr/local/include/itpp/base/itassert.h\n",
            "-- Installing: /usr/local/include/itpp/base/gf2mat.h\n",
            "-- Installing: /usr/local/include/itpp/base/itcompat.h\n",
            "-- Installing: /usr/local/include/itpp/base/factory.h\n",
            "-- Installing: /usr/local/include/itpp/base/stack.h\n",
            "-- Installing: /usr/local/include/itpp/base/sort.h\n",
            "-- Installing: /usr/local/include/itpp/base/converters.h\n",
            "-- Installing: /usr/local/include/itpp/base/matfunc.h\n",
            "-- Installing: /usr/local/include/itpp/base/svec.h\n",
            "-- Installing: /usr/local/include/itpp/base/mat.h\n",
            "-- Installing: /usr/local/include/itpp/base/vec.h\n",
            "-- Installing: /usr/local/include/itpp/base/smat.h\n",
            "-- Installing: /usr/local/include/itpp/base/ittypes.h\n",
            "-- Installing: /usr/local/include/itpp/base/copy_vector.h\n",
            "-- Installing: /usr/local/include/itpp/base/fastmath.h\n",
            "-- Installing: /usr/local/include/itpp/base/blas.h\n",
            "-- Installing: /usr/local/include/itpp/base/timing.h\n",
            "-- Installing: /usr/local/include/itpp/base/operators.h\n",
            "-- Installing: /usr/local/include/itpp/base/bessel\n",
            "-- Installing: /usr/local/include/itpp/base/bessel/bessel_internal.h\n",
            "-- Installing: /usr/local/include/itpp/base/help_functions.h\n",
            "-- Installing: /usr/local/include/itpp/base/array.h\n",
            "-- Installing: /usr/local/include/itpp/base/bessel.h\n",
            "-- Installing: /usr/local/include/itpp/base/itfile.h\n",
            "-- Installing: /usr/local/include/itpp/itfixed.h\n",
            "-- Installing: /usr/local/include/itpp/itsrccode.h\n",
            "-- Installing: /usr/local/include/itpp/comm\n",
            "-- Installing: /usr/local/include/itpp/comm/reedsolomon.h\n",
            "-- Installing: /usr/local/include/itpp/comm/bch.h\n",
            "-- Installing: /usr/local/include/itpp/comm/exit.h\n",
            "-- Installing: /usr/local/include/itpp/comm/egolay.h\n",
            "-- Installing: /usr/local/include/itpp/comm/rec_syst_conv_code.h\n",
            "-- Installing: /usr/local/include/itpp/comm/galois.h\n",
            "-- Installing: /usr/local/include/itpp/comm/stc.h\n",
            "-- Installing: /usr/local/include/itpp/comm/commfunc.h\n",
            "-- Installing: /usr/local/include/itpp/comm/llr.h\n",
            "-- Installing: /usr/local/include/itpp/comm/sequence.h\n",
            "-- Installing: /usr/local/include/itpp/comm/ofdm.h\n",
            "-- Installing: /usr/local/include/itpp/comm/channel_code.h\n",
            "-- Installing: /usr/local/include/itpp/comm/error_counters.h\n",
            "-- Installing: /usr/local/include/itpp/comm/spread.h\n",
            "-- Installing: /usr/local/include/itpp/comm/crc.h\n",
            "-- Installing: /usr/local/include/itpp/comm/convcode.h\n",
            "-- Installing: /usr/local/include/itpp/comm/pulse_shape.h\n",
            "-- Installing: /usr/local/include/itpp/comm/turbo.h\n",
            "-- Installing: /usr/local/include/itpp/comm/siso.h\n",
            "-- Installing: /usr/local/include/itpp/comm/interleave.h\n",
            "-- Installing: /usr/local/include/itpp/comm/hammcode.h\n",
            "-- Installing: /usr/local/include/itpp/comm/channel.h\n",
            "-- Installing: /usr/local/include/itpp/comm/punct_convcode.h\n",
            "-- Installing: /usr/local/include/itpp/comm/multilateration.h\n",
            "-- Installing: /usr/local/include/itpp/comm/modulator.h\n",
            "-- Installing: /usr/local/include/itpp/comm/ldpc.h\n",
            "-- Installing: /usr/local/include/itpp/comm/modulator_nd.h\n",
            "-- Installing: /usr/local/include/itpp/itbase.h\n",
            "-- Installing: /usr/local/include/itpp/fixed\n",
            "-- Installing: /usr/local/include/itpp/fixed/fix_operators.h\n",
            "-- Installing: /usr/local/include/itpp/fixed/fix_base.h\n",
            "-- Installing: /usr/local/include/itpp/fixed/fix_functions.h\n",
            "-- Installing: /usr/local/include/itpp/fixed/cfixed.h\n",
            "-- Installing: /usr/local/include/itpp/fixed/fix_factory.h\n",
            "-- Installing: /usr/local/include/itpp/fixed/fixed.h\n",
            "-- Installing: /usr/local/include/itpp/fixed/fix.h\n",
            "-- Installing: /usr/local/include/itpp/fixed/cfix.h\n",
            "-- Installing: /usr/local/include/itpp/itmex.h\n",
            "-- Installing: /usr/local/include/itpp/optim\n",
            "-- Installing: /usr/local/include/itpp/optim/newton_search.h\n",
            "-- Installing: /usr/local/include/itpp/srccode\n",
            "-- Installing: /usr/local/include/itpp/srccode/audiofile.h\n",
            "-- Installing: /usr/local/include/itpp/srccode/g711.h\n",
            "-- Installing: /usr/local/include/itpp/srccode/audiosample.h\n",
            "-- Installing: /usr/local/include/itpp/srccode/lpcfunc.h\n",
            "-- Installing: /usr/local/include/itpp/srccode/vq.h\n",
            "-- Installing: /usr/local/include/itpp/srccode/gmm.h\n",
            "-- Installing: /usr/local/include/itpp/srccode/vqtrain.h\n",
            "-- Installing: /usr/local/include/itpp/srccode/pnm.h\n",
            "-- Installing: /usr/local/include/itpp/config_msvc.h\n",
            "-- Installing: /usr/local/include/itpp/protocol\n",
            "-- Installing: /usr/local/include/itpp/protocol/selective_repeat.h\n",
            "-- Installing: /usr/local/include/itpp/protocol/packet.h\n",
            "-- Installing: /usr/local/include/itpp/protocol/packet_generator.h\n",
            "-- Installing: /usr/local/include/itpp/protocol/signals_slots.h\n",
            "-- Installing: /usr/local/include/itpp/protocol/events.h\n",
            "-- Installing: /usr/local/include/itpp/protocol/front_drop_queue.h\n",
            "-- Installing: /usr/local/include/itpp/protocol/tcp.h\n",
            "-- Installing: /usr/local/include/itpp/protocol/tcp_client_server.h\n",
            "-- Installing: /usr/local/include/itpp/protocol/packet_channel.h\n",
            "-- Installing: /usr/local/include/itpp/itsignal.h\n",
            "-- Installing: /usr/local/include/itpp/itcomm.h\n",
            "-- Installing: /usr/local/include/itpp/signal\n",
            "-- Installing: /usr/local/include/itpp/signal/filter.h\n",
            "-- Installing: /usr/local/include/itpp/signal/poly.h\n",
            "-- Installing: /usr/local/include/itpp/signal/resampling.h\n",
            "-- Installing: /usr/local/include/itpp/signal/freq_filt.h\n",
            "-- Installing: /usr/local/include/itpp/signal/sigfun.h\n",
            "-- Installing: /usr/local/include/itpp/signal/window.h\n",
            "-- Installing: /usr/local/include/itpp/signal/filter_design.h\n",
            "-- Installing: /usr/local/include/itpp/signal/source.h\n",
            "-- Installing: /usr/local/include/itpp/signal/fastica.h\n",
            "-- Installing: /usr/local/include/itpp/signal/transforms.h\n",
            "-- Installing: /usr/local/include/itpp/itprotocol.h\n",
            "-- Installing: /usr/local/include/itpp/itstat.h\n",
            "-- Installing: /usr/local/include/itpp/itoptim.h\n",
            "-- Installing: /usr/local/include/itpp/stat\n",
            "-- Installing: /usr/local/include/itpp/stat/histogram.h\n",
            "-- Installing: /usr/local/include/itpp/stat/mog_diag_em.h\n",
            "-- Installing: /usr/local/include/itpp/stat/misc_stat.h\n",
            "-- Installing: /usr/local/include/itpp/stat/mog_diag_kmeans.h\n",
            "-- Installing: /usr/local/include/itpp/stat/mog_diag.h\n",
            "-- Installing: /usr/local/include/itpp/stat/mog_generic.h\n",
            "-- Installing: /usr/local/include/itpp/config.h\n",
            "-- Installing: /usr/local/include/itpp/itexports.h\n",
            "-- Installing: /usr/local/share/itpp/itsave.m\n",
            "-- Installing: /usr/local/share/itpp/itload.m\n",
            "-- Installing: /usr/local/share/itpp/pyitpp.py\n",
            "-- Installing: /usr/local/bin/itpp-config\n",
            "-- Installing: /usr/local/share/man/man1/itpp-config.1\n",
            "-- Installing: /usr/local/lib/pkgconfig/itpp.pc\n"
          ],
          "name": "stdout"
        }
      ]
    },
    {
      "cell_type": "code",
      "metadata": {
        "id": "vzpRY5d-5eHp",
        "outputId": "e2c5672f-7a97-4352-b6d4-bb2456669ffe",
        "colab": {
          "base_uri": "https://localhost:8080/"
        }
      },
      "source": [
        "!rm -rf py-itpp\n",
        "!git clone https://github.com/vidits-kth/py-itpp.git\n"
      ],
      "execution_count": 6,
      "outputs": [
        {
          "output_type": "stream",
          "text": [
            "Cloning into 'py-itpp'...\n",
            "remote: Enumerating objects: 60, done.\u001b[K\n",
            "remote: Counting objects: 100% (60/60), done.\u001b[K\n",
            "remote: Compressing objects: 100% (47/47), done.\u001b[K\n",
            "remote: Total 1155 (delta 27), reused 35 (delta 13), pack-reused 1095\u001b[K\n",
            "Receiving objects: 100% (1155/1155), 1.92 MiB | 12.50 MiB/s, done.\n",
            "Resolving deltas: 100% (646/646), done.\n"
          ],
          "name": "stdout"
        }
      ]
    },
    {
      "cell_type": "code",
      "metadata": {
        "id": "UP2PG_7Z5y28",
        "outputId": "75a16350-4ad9-4750-b42c-57f8b687f621",
        "colab": {
          "base_uri": "https://localhost:8080/"
        }
      },
      "source": [
        "!pip3 install pybind11\n"
      ],
      "execution_count": 7,
      "outputs": [
        {
          "output_type": "stream",
          "text": [
            "Collecting pybind11\n",
            "\u001b[?25l  Downloading https://files.pythonhosted.org/packages/92/a5/796ccb611a92cbdf1f6eaa9b2ec9458d5784a7b909efdf8e8afaa3861783/pybind11-2.6.0-py2.py3-none-any.whl (187kB)\n",
            "\r\u001b[K     |█▊                              | 10kB 14.3MB/s eta 0:00:01\r\u001b[K     |███▌                            | 20kB 2.1MB/s eta 0:00:01\r\u001b[K     |█████▎                          | 30kB 2.6MB/s eta 0:00:01\r\u001b[K     |███████                         | 40kB 2.9MB/s eta 0:00:01\r\u001b[K     |████████▊                       | 51kB 2.4MB/s eta 0:00:01\r\u001b[K     |██████████▌                     | 61kB 2.7MB/s eta 0:00:01\r\u001b[K     |████████████▎                   | 71kB 3.0MB/s eta 0:00:01\r\u001b[K     |██████████████                  | 81kB 3.2MB/s eta 0:00:01\r\u001b[K     |███████████████▊                | 92kB 3.4MB/s eta 0:00:01\r\u001b[K     |█████████████████▌              | 102kB 3.3MB/s eta 0:00:01\r\u001b[K     |███████████████████▎            | 112kB 3.3MB/s eta 0:00:01\r\u001b[K     |█████████████████████           | 122kB 3.3MB/s eta 0:00:01\r\u001b[K     |██████████████████████▊         | 133kB 3.3MB/s eta 0:00:01\r\u001b[K     |████████████████████████▌       | 143kB 3.3MB/s eta 0:00:01\r\u001b[K     |██████████████████████████▎     | 153kB 3.3MB/s eta 0:00:01\r\u001b[K     |████████████████████████████    | 163kB 3.3MB/s eta 0:00:01\r\u001b[K     |█████████████████████████████▊  | 174kB 3.3MB/s eta 0:00:01\r\u001b[K     |███████████████████████████████▌| 184kB 3.3MB/s eta 0:00:01\r\u001b[K     |████████████████████████████████| 194kB 3.3MB/s \n",
            "\u001b[?25hInstalling collected packages: pybind11\n",
            "Successfully installed pybind11-2.6.0\n"
          ],
          "name": "stdout"
        }
      ]
    },
    {
      "cell_type": "code",
      "metadata": {
        "id": "TerNKfz45hzf",
        "outputId": "5e75b2ac-36e8-4b01-cd69-cb06c7a55253",
        "colab": {
          "base_uri": "https://localhost:8080/"
        }
      },
      "source": [
        "!cd py-itpp;./install_prerequisites_python3.sh;make install;pip3 install -e .  "
      ],
      "execution_count": 8,
      "outputs": [
        {
          "output_type": "stream",
          "text": [
            "\r0% [Working]\r            \rGet:1 http://security.ubuntu.com/ubuntu bionic-security InRelease [88.7 kB]\n",
            "Ign:2 https://developer.download.nvidia.com/compute/cuda/repos/ubuntu1804/x86_64  InRelease\n",
            "Ign:3 https://developer.download.nvidia.com/compute/machine-learning/repos/ubuntu1804/x86_64  InRelease\n",
            "Get:4 https://cloud.r-project.org/bin/linux/ubuntu bionic-cran40/ InRelease [3,626 B]\n",
            "Get:5 https://developer.download.nvidia.com/compute/cuda/repos/ubuntu1804/x86_64  Release [697 B]\n",
            "Hit:6 https://developer.download.nvidia.com/compute/machine-learning/repos/ubuntu1804/x86_64  Release\n",
            "Get:7 https://developer.download.nvidia.com/compute/cuda/repos/ubuntu1804/x86_64  Release.gpg [836 B]\n",
            "Hit:8 http://ppa.launchpad.net/c2d4u.team/c2d4u4.0+/ubuntu bionic InRelease\n",
            "Hit:9 http://archive.ubuntu.com/ubuntu bionic InRelease\n",
            "Get:10 http://archive.ubuntu.com/ubuntu bionic-updates InRelease [88.7 kB]\n",
            "Hit:11 http://ppa.launchpad.net/graphics-drivers/ppa/ubuntu bionic InRelease\n",
            "Get:12 http://security.ubuntu.com/ubuntu bionic-security/universe amd64 Packages [1,353 kB]\n",
            "Get:14 http://security.ubuntu.com/ubuntu bionic-security/main amd64 Packages [1,748 kB]\n",
            "Ign:15 https://developer.download.nvidia.com/compute/cuda/repos/ubuntu1804/x86_64  Packages\n",
            "Get:15 https://developer.download.nvidia.com/compute/cuda/repos/ubuntu1804/x86_64  Packages [405 kB]\n",
            "Get:16 http://archive.ubuntu.com/ubuntu bionic-backports InRelease [74.6 kB]\n",
            "Get:17 http://archive.ubuntu.com/ubuntu bionic-updates/universe amd64 Packages [2,118 kB]\n",
            "Get:18 http://archive.ubuntu.com/ubuntu bionic-updates/main amd64 Packages [2,165 kB]\n",
            "Fetched 8,046 kB in 2s (3,616 kB/s)\n",
            "Reading package lists... Done\n",
            "Reading package lists... Done\n",
            "Building dependency tree       \n",
            "Reading state information... Done\n",
            "g++ is already the newest version (4:7.4.0-1ubuntu2.3).\n",
            "g++ set to manually installed.\n",
            "0 upgraded, 0 newly installed, 0 to remove and 13 not upgraded.\n",
            "Reading package lists... Done\n",
            "Building dependency tree       \n",
            "Reading state information... Done\n",
            "libblas-dev is already the newest version (3.7.1-4ubuntu1).\n",
            "libfftw3-dev is already the newest version (3.3.7-1).\n",
            "liblapack-dev is already the newest version (3.7.1-4ubuntu1).\n",
            "0 upgraded, 0 newly installed, 0 to remove and 13 not upgraded.\n",
            "Reading package lists... Done\n",
            "Building dependency tree       \n",
            "Reading state information... Done\n",
            "make is already the newest version (4.1-9.1ubuntu1).\n",
            "make set to manually installed.\n",
            "cmake is already the newest version (3.10.2-1ubuntu2.18.04.1).\n",
            "0 upgraded, 0 newly installed, 0 to remove and 13 not upgraded.\n",
            "Reading package lists... Done\n",
            "Building dependency tree       \n",
            "Reading state information... Done\n",
            "python3-numpy is already the newest version (1:1.13.3-2ubuntu1).\n",
            "python3-numpy set to manually installed.\n",
            "python3-dev is already the newest version (3.6.7-1~18.04).\n",
            "0 upgraded, 0 newly installed, 0 to remove and 13 not upgraded.\n",
            "Reading package lists... Done\n",
            "Building dependency tree       \n",
            "Reading state information... Done\n",
            "The following additional packages will be installed:\n",
            "  libitpp8v5\n",
            "The following NEW packages will be installed:\n",
            "  libitpp-dev libitpp8v5\n",
            "0 upgraded, 2 newly installed, 0 to remove and 13 not upgraded.\n",
            "Need to get 1,175 kB of archives.\n",
            "After this operation, 5,463 kB of additional disk space will be used.\n",
            "Get:1 http://archive.ubuntu.com/ubuntu bionic/universe amd64 libitpp8v5 amd64 4.3.1-8 [953 kB]\n",
            "Get:2 http://archive.ubuntu.com/ubuntu bionic/universe amd64 libitpp-dev amd64 4.3.1-8 [222 kB]\n",
            "Fetched 1,175 kB in 1s (1,098 kB/s)\n",
            "debconf: unable to initialize frontend: Dialog\n",
            "debconf: (No usable dialog-like program is installed, so the dialog based frontend cannot be used. at /usr/share/perl5/Debconf/FrontEnd/Dialog.pm line 76, <> line 2.)\n",
            "debconf: falling back to frontend: Readline\n",
            "debconf: unable to initialize frontend: Readline\n",
            "debconf: (This frontend requires a controlling tty.)\n",
            "debconf: falling back to frontend: Teletype\n",
            "dpkg-preconfigure: unable to re-open stdin: \n",
            "Selecting previously unselected package libitpp8v5:amd64.\n",
            "(Reading database ... 145076 files and directories currently installed.)\n",
            "Preparing to unpack .../libitpp8v5_4.3.1-8_amd64.deb ...\n",
            "Unpacking libitpp8v5:amd64 (4.3.1-8) ...\n",
            "Selecting previously unselected package libitpp-dev.\n",
            "Preparing to unpack .../libitpp-dev_4.3.1-8_amd64.deb ...\n",
            "Unpacking libitpp-dev (4.3.1-8) ...\n",
            "Setting up libitpp8v5:amd64 (4.3.1-8) ...\n",
            "Setting up libitpp-dev (4.3.1-8) ...\n",
            "Processing triggers for man-db (2.8.3-2ubuntu0.1) ...\n",
            "Processing triggers for libc-bin (2.27-3ubuntu1.2) ...\n",
            "/sbin/ldconfig.real: /usr/local/lib/python3.6/dist-packages/ideep4py/lib/libmkldnn.so.0 is not a symbolic link\n",
            "\n",
            "------------------------------------\n",
            "Compiling py-itpp\n",
            "------------------------------------\n",
            "make[1]: Entering directory '/content/py-itpp/src'\n",
            "Create prerequisites for base/mat.cpp\n",
            "Create prerequisites for base/math/log_exp.cpp\n",
            "Create prerequisites for base/math/min_max.cpp\n",
            "Create prerequisites for base/math/elem_math.cpp\n",
            "Create prerequisites for base/vec.cpp\n",
            "Create prerequisites for base/specmat.cpp\n",
            "Create prerequisites for base/random.cpp\n",
            "Create prerequisites for base/binary.cpp\n",
            "Create prerequisites for base/matfunc.cpp\n",
            "Create prerequisites for comm/error_counters.cpp\n",
            "Create prerequisites for comm/modulator.cpp\n",
            "Create prerequisites for comm/llr.cpp\n",
            "Create prerequisites for comm/channel.cpp\n",
            "Create prerequisites for comm/modulator_nd.cpp\n",
            "Create prerequisites for comm/hammcode.cpp\n",
            "Create prerequisites for comm/interleave.cpp\n",
            "Create prerequisites for comm/turbo.cpp\n",
            "Create prerequisites for comm/convcode.cpp\n",
            "Create prerequisites for signal/transforms.cpp\n",
            "Create prerequisites for stat/misc_stat.cpp\n",
            "Compiling base/mat.cpp to Python module\n",
            "Compiling base/math/log_exp.cpp to Python module\n",
            "Compiling base/math/min_max.cpp to Python module\n",
            "Compiling base/math/elem_math.cpp to Python module\n",
            "Compiling base/vec.cpp to Python module\n",
            "Compiling base/specmat.cpp to Python module\n",
            "Compiling base/random.cpp to Python module\n",
            "Compiling base/binary.cpp to Python module\n",
            "Compiling base/matfunc.cpp to Python module\n",
            "Compiling comm/error_counters.cpp to Python module\n",
            "Compiling comm/modulator.cpp to Python module\n",
            "Compiling comm/llr.cpp to Python module\n",
            "Compiling comm/channel.cpp to Python module\n",
            "Compiling comm/modulator_nd.cpp to Python module\n",
            "Compiling comm/hammcode.cpp to Python module\n",
            "Compiling comm/interleave.cpp to Python module\n",
            "Compiling comm/turbo.cpp to Python module\n",
            "Compiling comm/convcode.cpp to Python module\n",
            "Compiling signal/transforms.cpp to Python module\n",
            "Compiling stat/misc_stat.cpp to Python module\n",
            "Copying base/math/__init__.py to Python package\n",
            "Copying base/__init__.py to Python package\n",
            "Copying comm/__init__.py to Python package\n",
            "Copying __init__.py to Python package\n",
            "Copying signal/__init__.py to Python package\n",
            "Copying stat/__init__.py to Python package\n",
            "make[1]: Leaving directory '/content/py-itpp/src'\n",
            "Obtaining file:///content/py-itpp\n",
            "Installing collected packages: itpp\n",
            "  Running setup.py develop for itpp\n",
            "Successfully installed itpp\n"
          ],
          "name": "stdout"
        }
      ]
    },
    {
      "cell_type": "code",
      "metadata": {
        "id": "SxDKHPp59Uc6",
        "outputId": "264027d2-769f-4ef3-e61b-a16729744153",
        "colab": {
          "base_uri": "https://localhost:8080/"
        }
      },
      "source": [
        "!cd py-itpp; ls ; pip3 install -e .  \n",
        "!cat py-itpp/setup.py"
      ],
      "execution_count": 9,
      "outputs": [
        {
          "output_type": "stream",
          "text": [
            "examples\t\t\t  lib\t   makefile   README.md  src\n",
            "install_prerequisites_python3.sh  LICENSE  makerules  setup.py\n",
            "Obtaining file:///content/py-itpp\n",
            "Installing collected packages: itpp\n",
            "  Found existing installation: itpp 0.0.3\n",
            "    Can't uninstall 'itpp'. No files were found to uninstall.\n",
            "  Running setup.py develop for itpp\n",
            "Successfully installed itpp\n",
            "from setuptools import setup\n",
            "\n",
            "setup(name='itpp',\n",
            "      version='0.0.3',\n",
            "      package_dir = {'': 'lib'})\n"
          ],
          "name": "stdout"
        }
      ]
    },
    {
      "cell_type": "code",
      "metadata": {
        "id": "DlnzlGuGZUF5"
      },
      "source": [
        "import sys\n",
        "sys.path.append('./py-itpp/lib')"
      ],
      "execution_count": 13,
      "outputs": []
    },
    {
      "cell_type": "code",
      "metadata": {
        "id": "Qp1Arfqj89No"
      },
      "source": [
        "!cp -rf py-itpp/lib/itpp py-itpp/lib/pyitpp # import itpp is not working, after this hack i started to work\n"
      ],
      "execution_count": 11,
      "outputs": []
    },
    {
      "cell_type": "markdown",
      "metadata": {
        "id": "SE_3k2xk7IGb"
      },
      "source": [
        "Real valued Hamming codes over AWGN channel¶\n"
      ]
    },
    {
      "cell_type": "code",
      "metadata": {
        "id": "FoC3JYws7COs"
      },
      "source": [
        "import pyitpp as itpp\n",
        "from matplotlib import pyplot as plt"
      ],
      "execution_count": 17,
      "outputs": []
    },
    {
      "cell_type": "markdown",
      "metadata": {
        "id": "xmC70PD17KML"
      },
      "source": [
        "BER for uncoded over AWGN\n"
      ]
    },
    {
      "cell_type": "code",
      "metadata": {
        "id": "t9pn6BX57Ncm"
      },
      "source": [
        "def bit_error_ratio_uncoded_awgn(snr_db):\n",
        "    '''Generate random bits'''\n",
        "    nrof_bits = 3 * 100000\n",
        "    source_bits = itpp.base.randb(nrof_bits)\n",
        "    \n",
        "    '''Modulate the bits'''\n",
        "    modulator = itpp.comm.BPSK()\n",
        "    tx_signal = modulator.modulate_bits(source_bits)\n",
        "    \n",
        "    '''Add the effect of channel to the signal'''\n",
        "    #noise_variance = itpp.math.inv_dB(-snr_db)\n",
        "    noise_variance = 10 ** (-snr_db * 0.1)\n",
        "    channel = itpp.comm.AWGN_Channel(noisevar=noise_variance)\n",
        "\n",
        "    rx_signal = channel(tx_signal)\n",
        "    \n",
        "    '''Demodulate the signal'''\n",
        "    demodulated_bits = modulator.demodulate_bits(rx_signal)\n",
        "    \n",
        "    '''Calculate the bit error ratio'''\n",
        "    return itpp.comm.BERC.count_errors(source_bits, demodulated_bits, 0, 0, 0) / nrof_bits"
      ],
      "execution_count": 18,
      "outputs": []
    },
    {
      "cell_type": "markdown",
      "metadata": {
        "id": "bfwe9w4O7Uhp"
      },
      "source": [
        "BER for Hamming (7, 4) coded over AWGN\n"
      ]
    },
    {
      "cell_type": "code",
      "metadata": {
        "id": "z975lPbS7SGP"
      },
      "source": [
        "def bit_error_ratio_hamming_awgn(snr_db):\n",
        "    '''Hamming encoder and decoder instance'''\n",
        "    k = 3 # (7,4) Hamming code\n",
        "    hamm = itpp.comm.Hamming_Code(k)\n",
        "    \n",
        "    '''Generate random bits'''\n",
        "    nrof_bits = k * 100000\n",
        "    source_bits = itpp.randb(nrof_bits)\n",
        "    \n",
        "    '''Encode the bits'''\n",
        "    encoded_bits = hamm.encode(source_bits)\n",
        "    \n",
        "    '''Modulate the bits'''\n",
        "    modulator = itpp.comm.BPSK()\n",
        "    tx_signal = modulator.modulate_bits(encoded_bits)\n",
        "    \n",
        "    '''Add the effect of channel to the signal'''\n",
        "    #noise_variance = itpp.math.inv_dB(-snr_db)\n",
        "    noise_variance = 10 ** (-snr_db * 0.1)\n",
        "    channel = itpp.comm.AWGN_Channel(noisevar=noise_variance)\n",
        "\n",
        "    rx_signal = channel(tx_signal)\n",
        "    \n",
        "    '''Demodulate the signal'''\n",
        "    demodulated_bits = modulator.demodulate_bits(rx_signal)\n",
        "    \n",
        "    '''Decode the received bits'''\n",
        "    decoded_bits = hamm.decode(demodulated_bits) \n",
        "    \n",
        "    '''Calculate the bit error ratio'''\n",
        "    return itpp.comm.BERC.count_errors(source_bits, decoded_bits, 0, 0, 0) / nrof_bits"
      ],
      "execution_count": 19,
      "outputs": []
    },
    {
      "cell_type": "markdown",
      "metadata": {
        "id": "CmZaxQYO7Xcg"
      },
      "source": [
        "Run simulation\n"
      ]
    },
    {
      "cell_type": "code",
      "metadata": {
        "id": "siW51IXQ7W9V",
        "outputId": "bbc1b8f0-7980-45df-eeca-4c9b2ce745f1",
        "colab": {
          "base_uri": "https://localhost:8080/"
        }
      },
      "source": [
        "'''SNR range'''\n",
        "snrs_db = range(-10, 10) \n",
        "\n",
        "print('BER for uncoded bits over AWGN channel')\n",
        "ber_unc = [bit_error_ratio_uncoded_awgn(snr) for snr in snrs_db]\n",
        "\n",
        "print('BER for Hamming (7, 4) coded  bits over AWGN channel')\n",
        "ber = [bit_error_ratio_hamming_awgn(snr) for snr in snrs_db]"
      ],
      "execution_count": 20,
      "outputs": [
        {
          "output_type": "stream",
          "text": [
            "BER for uncoded bits over AWGN channel\n",
            "BER for Hamming (7, 4) coded  bits over AWGN channel\n"
          ],
          "name": "stdout"
        }
      ]
    },
    {
      "cell_type": "markdown",
      "metadata": {
        "id": "PQgAnAQ27ojg"
      },
      "source": [
        "Plot results\n"
      ]
    },
    {
      "cell_type": "code",
      "metadata": {
        "id": "eIodtWkx7qcA",
        "outputId": "a12e0f52-e277-4623-a4ac-17add16b3bd0",
        "colab": {
          "base_uri": "https://localhost:8080/",
          "height": 278
        }
      },
      "source": [
        "plt.figure()\n",
        "plt.grid(True)\n",
        "plt.semilogy(snrs_db, ber)\n",
        "plt.semilogy(snrs_db, ber_unc)\n",
        "plt.xlabel('SNR [dB]')\n",
        "plt.ylabel('Bit Error Ratio')\n",
        "plt.legend(['Hamming Code', 'Uncoded'])\n",
        "plt.show()"
      ],
      "execution_count": 21,
      "outputs": [
        {
          "output_type": "display_data",
          "data": {
            "image/png": "[encoded data removed]",
            "text/plain": [
              "<Figure size 432x288 with 1 Axes>"
            ]
          },
          "metadata": {
            "tags": [],
            "needs_background": "light"
          }
        }
      ]
    }
  ]
}